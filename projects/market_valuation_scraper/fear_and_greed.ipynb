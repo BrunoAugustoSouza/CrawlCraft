{
 "cells": [
  {
   "cell_type": "code",
   "execution_count": 1,
   "id": "34f8d98d",
   "metadata": {},
   "outputs": [],
   "source": [
    "\"https://edition.cnn.com/markets/fear-and-greed\"\n",
    "\"https://www.currentmarketvaluation.com/\"\n",
    "\"https://www.oceans14.com.br/acoes/historico-pl-bovespa\"\n",
    "\n",
    "#fear and greed index\n",
    "import requests\n",
    "import json\n",
    "\n",
    "headers = {\n",
    "    'accept': '*/*',\n",
    "    'accept-language': 'pt-BR,pt;q=0.9,en;q=0.8,en-GB;q=0.7,en-US;q=0.6',\n",
    "    'if-none-match': 'W/2666142332818888819',\n",
    "    'origin': 'https://edition.cnn.com',\n",
    "    'priority': 'u=1, i',\n",
    "    'referer': 'https://edition.cnn.com/',\n",
    "    'sec-ch-ua': '\"Microsoft Edge\";v=\"141\", \"Not?A_Brand\";v=\"8\", \"Chromium\";v=\"141\"',\n",
    "    'sec-ch-ua-mobile': '?0',\n",
    "    'sec-ch-ua-platform': '\"Windows\"',\n",
    "    'sec-fetch-dest': 'empty',\n",
    "    'sec-fetch-mode': 'cors',\n",
    "    'sec-fetch-site': 'cross-site',\n",
    "    'user-agent': 'Mozilla/5.0 (Windows NT 10.0; Win64; x64) AppleWebKit/537.36 (KHTML, like Gecko) Chrome/141.0.0.0 Safari/537.36 Edg/141.0.0.0',\n",
    "}\n",
    "\n",
    "response = requests.get('https://production.dataviz.cnn.io/index/fearandgreed/graphdata', headers=headers)"
   ]
  },
  {
   "cell_type": "code",
   "execution_count": 2,
   "id": "d99ef8fa",
   "metadata": {},
   "outputs": [
    {
     "name": "stdout",
     "output_type": "stream",
     "text": [
      "{\n",
      "   \"score\": 46.8857142857143,\n",
      "   \"rating\": \"neutral\",\n",
      "   \"timestamp\": \"2025-10-10T15:07:04+00:00\",\n",
      "   \"previous_close\": 49.0571428571429,\n",
      "   \"previous_1_week\": 53.6857142857143,\n",
      "   \"previous_1_month\": 49.8571428571429,\n",
      "   \"previous_1_year\": 70.28571428571429\n",
      "}\n"
     ]
    }
   ],
   "source": [
    "overview = response.json()['fear_and_greed']\n",
    "print(json.dumps(overview, indent=3))"
   ]
  },
  {
   "cell_type": "code",
   "execution_count": 3,
   "id": "b23fad07",
   "metadata": {},
   "outputs": [
    {
     "data": {
      "text/html": [
       "<div>\n",
       "<style scoped>\n",
       "    .dataframe tbody tr th:only-of-type {\n",
       "        vertical-align: middle;\n",
       "    }\n",
       "\n",
       "    .dataframe tbody tr th {\n",
       "        vertical-align: top;\n",
       "    }\n",
       "\n",
       "    .dataframe thead th {\n",
       "        text-align: right;\n",
       "    }\n",
       "</style>\n",
       "<table border=\"1\" class=\"dataframe\">\n",
       "  <thead>\n",
       "    <tr style=\"text-align: right;\">\n",
       "      <th></th>\n",
       "      <th>score</th>\n",
       "      <th>rating</th>\n",
       "      <th>timestamp</th>\n",
       "      <th>previous_close</th>\n",
       "      <th>previous_1_week</th>\n",
       "      <th>previous_1_month</th>\n",
       "      <th>previous_1_year</th>\n",
       "    </tr>\n",
       "  </thead>\n",
       "  <tbody>\n",
       "    <tr>\n",
       "      <th>0</th>\n",
       "      <td>46.885714</td>\n",
       "      <td>neutral</td>\n",
       "      <td>2025-10-10T15:07:04+00:00</td>\n",
       "      <td>49.057143</td>\n",
       "      <td>53.685714</td>\n",
       "      <td>49.857143</td>\n",
       "      <td>70.285714</td>\n",
       "    </tr>\n",
       "  </tbody>\n",
       "</table>\n",
       "</div>"
      ],
      "text/plain": [
       "       score   rating                  timestamp  previous_close  \\\n",
       "0  46.885714  neutral  2025-10-10T15:07:04+00:00       49.057143   \n",
       "\n",
       "   previous_1_week  previous_1_month  previous_1_year  \n",
       "0        53.685714         49.857143        70.285714  "
      ]
     },
     "execution_count": 3,
     "metadata": {},
     "output_type": "execute_result"
    }
   ],
   "source": [
    "import pandas as pd\n",
    "\n",
    "df = pd.DataFrame(overview, index=[0])\n",
    "df"
   ]
  },
  {
   "cell_type": "code",
   "execution_count": 4,
   "id": "eb5954d2",
   "metadata": {},
   "outputs": [],
   "source": [
    "import pandas as pd\n",
    "import scipy.stats as stats\n",
    "\n",
    "# Função para calcular rating com média e desvio padrão\n",
    "def get_rating_with_std(value: float, mean: float, std: float) -> str:\n",
    "    if std == 0:\n",
    "        return 'Neutral'  # Evitar divisão por zero\n",
    "    z = (value - mean) / std\n",
    "    percentile = stats.norm.cdf(z) * 100\n",
    "    if percentile <= 25:\n",
    "        return 'Extreme Fear'\n",
    "    elif percentile <= 40:\n",
    "        return 'Fear'\n",
    "    elif percentile <= 60:\n",
    "        return 'Neutral'\n",
    "    elif percentile <= 75:\n",
    "        return 'Greed'\n",
    "    else:\n",
    "        return 'Extreme Greed'\n",
    "\n",
    "\n",
    "dfs = []\n",
    "\n",
    "titles = {\n",
    "    'fear_and_greed_historical': 'Fear & Greed Index Over Time',\n",
    "    'market_momentum_sp500': 'S&P 500 Market Momentum',\n",
    "    'market_momentum_sp125': 'S&P 125 Market Momentum',\n",
    "    'stock_price_strength': 'Stock Price Strength',\n",
    "    'stock_price_breadth': 'Stock Price Breadth',\n",
    "    'put_call_options': 'Put/Call Options Ratio',\n",
    "    'market_volatility_vix': 'Market Volatility (VIX)',\n",
    "    'market_volatility_vix_50': 'VIX 50-day Moving Average',\n",
    "    'junk_bond_demand': 'Junk Bond Demand',\n",
    "    'safe_haven_demand': 'Safe Haven Demand'\n",
    "}\n",
    "\n",
    "for key in titles:\n",
    "    data = response.json()[key]['data']\n",
    "    df_aux = pd.DataFrame(data)[['x', 'y']]\n",
    "    df_aux.rename(columns={'y': key}, inplace=True)\n",
    "    df_aux['date'] = pd.to_datetime(df_aux['x'], unit='ms')\n",
    "    df_aux.drop(columns=['x'], inplace=True)\n",
    "    df_aux.set_index('date', inplace=True)\n",
    "    \n",
    "    mean = df_aux[key].mean()\n",
    "    std = df_aux[key].std()\n",
    "    \n",
    "    df_aux[f'{key}_rating'] = df_aux[key].apply(lambda v: get_rating_with_std(v, mean, std))\n",
    "    \n",
    "    dfs.append(df_aux)\n",
    "\n",
    "df = pd.concat(dfs, axis=1)\n",
    "df.sort_index(inplace=True)\n"
   ]
  },
  {
   "cell_type": "code",
   "execution_count": 5,
   "id": "b748ff72",
   "metadata": {},
   "outputs": [],
   "source": [
    "import plotly.graph_objects as go\n",
    "\n",
    "def plot_data(df, key: str, title: str):\n",
    "    \"\"\"\n",
    "    Plota uma métrica do DataFrame consolidado com cores por rating.\n",
    "    \n",
    "    df: DataFrame consolidado com colunas <key> e <key>_rating\n",
    "    key: métrica que será plotada\n",
    "    title: título do gráfico\n",
    "    \"\"\"\n",
    "    # Preparar dados\n",
    "    df_plot = df[[key, f\"{key}_rating\"]].copy()\n",
    "    df_plot['color'] = df_plot[f\"{key}_rating\"].map({\n",
    "        'Extreme Fear': 'darkred',\n",
    "        'Fear': 'red',\n",
    "        'Neutral': 'gold',\n",
    "        'Greed': 'green',\n",
    "        'Extreme Greed': 'darkgreen'\n",
    "    })\n",
    "\n",
    "    # Criar figura\n",
    "    fig = go.Figure()\n",
    "\n",
    "    # Linha contínua conectando os pontos\n",
    "    fig.add_trace(go.Scatter(\n",
    "        x=df_plot.index,\n",
    "        y=df_plot[key],\n",
    "        mode='lines+markers',\n",
    "        line=dict(color='lightgray', width=2),\n",
    "        marker=dict(color=df_plot['color'], size=8),\n",
    "        text=[f\"{y:.2f} ({r})\" for y, r in zip(df_plot[key], df_plot[f\"{key}_rating\"])],\n",
    "        hoverinfo='text+x'\n",
    "    ))\n",
    "\n",
    "    # Layout\n",
    "    fig.update_layout(\n",
    "        title=title,\n",
    "        xaxis_title='Date',\n",
    "        yaxis_title='Score',\n",
    "        yaxis=dict(range=[df_plot[key].min() * 0.95, df_plot[key].max() * 1.05]),\n",
    "        template='plotly_white'\n",
    "    )\n",
    "\n",
    "    fig.show()\n"
   ]
  },
  {
   "cell_type": "code",
   "execution_count": null,
   "id": "00c3b0fc",
   "metadata": {},
   "outputs": [
    {
     "data": {
      "application/vnd.plotly.v1+json": {
       "config": {
        "plotlyServerURL": "https://plot.ly"
       },
       "data": [
        {
         "hoverinfo": "text+x",
         "line": {
          "color": "lightgray",
          "width": 2
         },
         "marker": {
          "color": [
           "darkgreen",
           "darkgreen",
           "darkgreen",
           "darkgreen",
           "darkgreen",
           "darkgreen",
           "darkgreen",
           "darkgreen",
           "darkgreen",
           "darkgreen",
           "darkgreen",
           "green",
           "green",
           "green",
           "green",
           "red",
           "gold",
           "red",
           "red",
           "gold",
           "green",
           "green",
           "darkgreen",
           "darkgreen",
           "darkgreen",
           "green",
           "gold",
           "gold",
           "gold",
           "gold",
           "green",
           "green",
           "darkgreen",
           "darkgreen",
           "darkgreen",
           "darkgreen",
           "darkgreen",
           "green",
           "green",
           "green",
           "gold",
           "gold",
           "gold",
           "gold",
           "gold",
           "gold",
           "green",
           "gold",
           "darkred",
           "darkred",
           "darkred",
           "darkred",
           "darkred",
           "darkred",
           "darkred",
           "darkred",
           "darkred",
           "darkred",
           "darkred",
           "darkred",
           "darkred",
           "darkred",
           "darkred",
           "darkred",
           "darkred",
           "darkred",
           "darkred",
           "red",
           "red",
           "red",
           "red",
           "gold",
           "red",
           "red",
           "red",
           "gold",
           "gold",
           "red",
           "red",
           "red",
           "red",
           "red",
           "gold",
           "gold",
           "red",
           "gold",
           "red",
           "gold",
           "gold",
           "gold",
           "red",
           "darkred",
           "darkred",
           "darkred",
           "darkred",
           "darkred",
           "darkred",
           "darkred",
           "darkred",
           "darkred",
           "darkred",
           "darkred",
           "darkred",
           "darkred",
           "darkred",
           "darkred",
           "darkred",
           "darkred",
           "darkred",
           "darkred",
           "darkred",
           "darkred",
           "darkred",
           "darkred",
           "darkred",
           "darkred",
           "darkred",
           "darkred",
           "darkred",
           "darkred",
           "darkred",
           "darkred",
           "darkred",
           "darkred",
           "darkred",
           "darkred",
           "darkred",
           "darkred",
           "darkred",
           "darkred",
           "darkred",
           "darkred",
           "darkred",
           "darkred",
           "darkred",
           "darkred",
           "darkred",
           "darkred",
           "red",
           "red",
           "gold",
           "green",
           "green",
           "green",
           "green",
           "darkgreen",
           "darkgreen",
           "darkgreen",
           "darkgreen",
           "darkgreen",
           "darkgreen",
           "darkgreen",
           "darkgreen",
           "darkgreen",
           "darkgreen",
           "darkgreen",
           "darkgreen",
           "darkgreen",
           "darkgreen",
           "darkgreen",
           "green",
           "green",
           "green",
           "darkgreen",
           "darkgreen",
           "darkgreen",
           "darkgreen",
           "darkgreen",
           "green",
           "green",
           "green",
           "green",
           "green",
           "green",
           "green",
           "green",
           "darkgreen",
           "darkgreen",
           "darkgreen",
           "darkgreen",
           "darkgreen",
           "darkgreen",
           "darkgreen",
           "darkgreen",
           "darkgreen",
           "darkgreen",
           "darkgreen",
           "darkgreen",
           "darkgreen",
           "darkgreen",
           "darkgreen",
           "darkgreen",
           "darkgreen",
           "darkgreen",
           "darkgreen",
           "darkgreen",
           "darkgreen",
           "darkgreen",
           "darkgreen",
           "darkgreen",
           "darkgreen",
           "gold",
           "green",
           "green",
           "green",
           "green",
           "green",
           "green",
           "darkgreen",
           "darkgreen",
           "darkgreen",
           "darkgreen",
           "darkgreen",
           "green",
           "green",
           "green",
           "darkgreen",
           "green",
           "green",
           "darkgreen",
           "darkgreen",
           "green",
           "gold",
           "gold",
           "green",
           "gold",
           "gold",
           "gold",
           "gold",
           "green",
           "green",
           "green",
           "green",
           "green",
           "green",
           "darkgreen",
           "darkgreen",
           "green",
           "green",
           "gold",
           "green",
           "gold",
           "gold",
           "gold",
           "green",
           "green",
           "green",
           "gold",
           "gold",
           "gold",
           "gold",
           null,
           null,
           null,
           null,
           null,
           "gold"
          ],
          "size": 8
         },
         "mode": "lines+markers",
         "text": [
          "70.29 (Extreme Greed)",
          "71.66 (Extreme Greed)",
          "74.23 (Extreme Greed)",
          "71.14 (Extreme Greed)",
          "69.03 (Extreme Greed)",
          "68.57 (Extreme Greed)",
          "72.43 (Extreme Greed)",
          "69.80 (Extreme Greed)",
          "70.37 (Extreme Greed)",
          "63.20 (Extreme Greed)",
          "62.94 (Extreme Greed)",
          "58.74 (Greed)",
          "60.86 (Greed)",
          "60.06 (Greed)",
          "57.20 (Greed)",
          "40.46 (Fear)",
          "50.49 (Neutral)",
          "42.43 (Fear)",
          "43.54 (Fear)",
          "44.00 (Neutral)",
          "59.06 (Greed)",
          "59.43 (Greed)",
          "66.60 (Extreme Greed)",
          "66.71 (Extreme Greed)",
          "66.31 (Extreme Greed)",
          "60.31 (Greed)",
          "51.20 (Neutral)",
          "50.29 (Neutral)",
          "49.51 (Neutral)",
          "49.51 (Neutral)",
          "56.60 (Greed)",
          "60.71 (Greed)",
          "62.89 (Extreme Greed)",
          "65.91 (Extreme Greed)",
          "64.40 (Extreme Greed)",
          "65.00 (Extreme Greed)",
          "65.31 (Extreme Greed)",
          "59.57 (Greed)",
          "57.49 (Greed)",
          "54.91 (Greed)",
          "52.14 (Neutral)",
          "49.26 (Neutral)",
          "46.97 (Neutral)",
          "49.20 (Neutral)",
          "47.11 (Neutral)",
          "49.11 (Neutral)",
          "56.06 (Greed)",
          "51.40 (Neutral)",
          "33.13 (Extreme Fear)",
          "19.51 (Extreme Fear)",
          "27.60 (Extreme Fear)",
          "30.14 (Extreme Fear)",
          "34.51 (Extreme Fear)",
          "34.17 (Extreme Fear)",
          "33.83 (Extreme Fear)",
          "28.60 (Extreme Fear)",
          "26.31 (Extreme Fear)",
          "24.31 (Extreme Fear)",
          "28.89 (Extreme Fear)",
          "33.77 (Extreme Fear)",
          "34.31 (Extreme Fear)",
          "31.91 (Extreme Fear)",
          "25.63 (Extreme Fear)",
          "25.34 (Extreme Fear)",
          "25.14 (Extreme Fear)",
          "27.43 (Extreme Fear)",
          "27.34 (Extreme Fear)",
          "36.03 (Fear)",
          "39.91 (Fear)",
          "41.63 (Fear)",
          "43.69 (Fear)",
          "45.80 (Neutral)",
          "37.97 (Fear)",
          "40.63 (Fear)",
          "42.40 (Fear)",
          "45.91 (Neutral)",
          "43.77 (Neutral)",
          "37.40 (Fear)",
          "37.14 (Fear)",
          "38.63 (Fear)",
          "39.69 (Fear)",
          "38.37 (Fear)",
          "44.71 (Neutral)",
          "45.40 (Neutral)",
          "41.37 (Fear)",
          "46.60 (Neutral)",
          "43.69 (Fear)",
          "46.80 (Neutral)",
          "47.63 (Neutral)",
          "44.23 (Neutral)",
          "36.97 (Fear)",
          "29.54 (Extreme Fear)",
          "24.20 (Extreme Fear)",
          "21.26 (Extreme Fear)",
          "12.76 (Extreme Fear)",
          "20.66 (Extreme Fear)",
          "12.34 (Extreme Fear)",
          "11.04 (Extreme Fear)",
          "11.51 (Extreme Fear)",
          "17.20 (Extreme Fear)",
          "17.64 (Extreme Fear)",
          "17.07 (Extreme Fear)",
          "15.11 (Extreme Fear)",
          "15.91 (Extreme Fear)",
          "15.19 (Extreme Fear)",
          "22.06 (Extreme Fear)",
          "22.57 (Extreme Fear)",
          "22.23 (Extreme Fear)",
          "21.60 (Extreme Fear)",
          "21.69 (Extreme Fear)",
          "22.69 (Extreme Fear)",
          "25.40 (Extreme Fear)",
          "29.29 (Extreme Fear)",
          "28.89 (Extreme Fear)",
          "28.34 (Extreme Fear)",
          "26.37 (Extreme Fear)",
          "21.11 (Extreme Fear)",
          "19.57 (Extreme Fear)",
          "22.60 (Extreme Fear)",
          "12.14 (Extreme Fear)",
          "5.39 (Extreme Fear)",
          "4.00 (Extreme Fear)",
          "2.90 (Extreme Fear)",
          "9.50 (Extreme Fear)",
          "5.61 (Extreme Fear)",
          "8.39 (Extreme Fear)",
          "12.34 (Extreme Fear)",
          "13.11 (Extreme Fear)",
          "11.14 (Extreme Fear)",
          "16.06 (Extreme Fear)",
          "12.37 (Extreme Fear)",
          "13.60 (Extreme Fear)",
          "21.54 (Extreme Fear)",
          "24.09 (Extreme Fear)",
          "34.51 (Extreme Fear)",
          "32.14 (Extreme Fear)",
          "32.74 (Extreme Fear)",
          "32.37 (Extreme Fear)",
          "41.26 (Fear)",
          "38.29 (Fear)",
          "53.06 (Neutral)",
          "54.66 (Greed)",
          "54.14 (Greed)",
          "57.66 (Greed)",
          "60.03 (Greed)",
          "64.49 (Extreme Greed)",
          "68.20 (Extreme Greed)",
          "70.40 (Extreme Greed)",
          "69.14 (Extreme Greed)",
          "70.60 (Extreme Greed)",
          "69.74 (Extreme Greed)",
          "69.17 (Extreme Greed)",
          "66.23 (Extreme Greed)",
          "66.80 (Extreme Greed)",
          "64.09 (Extreme Greed)",
          "65.74 (Extreme Greed)",
          "64.74 (Extreme Greed)",
          "64.46 (Extreme Greed)",
          "61.91 (Extreme Greed)",
          "62.43 (Extreme Greed)",
          "54.57 (Greed)",
          "54.89 (Greed)",
          "57.97 (Greed)",
          "61.77 (Extreme Greed)",
          "63.43 (Extreme Greed)",
          "64.00 (Extreme Greed)",
          "64.20 (Extreme Greed)",
          "64.60 (Extreme Greed)",
          "59.54 (Greed)",
          "61.11 (Greed)",
          "57.43 (Greed)",
          "54.29 (Greed)",
          "54.51 (Greed)",
          "56.60 (Greed)",
          "57.89 (Greed)",
          "59.26 (Greed)",
          "63.00 (Extreme Greed)",
          "64.80 (Extreme Greed)",
          "69.23 (Extreme Greed)",
          "67.54 (Extreme Greed)",
          "63.71 (Extreme Greed)",
          "77.63 (Extreme Greed)",
          "75.09 (Extreme Greed)",
          "74.63 (Extreme Greed)",
          "75.91 (Extreme Greed)",
          "76.97 (Extreme Greed)",
          "75.26 (Extreme Greed)",
          "76.11 (Extreme Greed)",
          "73.49 (Extreme Greed)",
          "72.94 (Extreme Greed)",
          "74.17 (Extreme Greed)",
          "73.94 (Extreme Greed)",
          "73.29 (Extreme Greed)",
          "73.89 (Extreme Greed)",
          "76.37 (Extreme Greed)",
          "75.26 (Extreme Greed)",
          "74.66 (Extreme Greed)",
          "73.80 (Extreme Greed)",
          "70.63 (Extreme Greed)",
          "68.03 (Extreme Greed)",
          "63.71 (Extreme Greed)",
          "49.80 (Neutral)",
          "56.89 (Greed)",
          "55.03 (Greed)",
          "55.31 (Greed)",
          "54.71 (Greed)",
          "58.37 (Greed)",
          "57.63 (Greed)",
          "62.26 (Extreme Greed)",
          "63.34 (Extreme Greed)",
          "63.26 (Extreme Greed)",
          "63.54 (Extreme Greed)",
          "64.20 (Extreme Greed)",
          "59.89 (Greed)",
          "55.91 (Greed)",
          "55.11 (Greed)",
          "61.66 (Extreme Greed)",
          "58.43 (Greed)",
          "60.86 (Greed)",
          "64.89 (Extreme Greed)",
          "65.69 (Extreme Greed)",
          "60.90 (Greed)",
          "52.20 (Neutral)",
          "51.60 (Neutral)",
          "55.54 (Greed)",
          "53.09 (Neutral)",
          "50.23 (Neutral)",
          "51.06 (Neutral)",
          "49.86 (Neutral)",
          "54.54 (Greed)",
          "54.40 (Greed)",
          "58.31 (Greed)",
          "57.46 (Greed)",
          "58.46 (Greed)",
          "61.06 (Greed)",
          "62.23 (Extreme Greed)",
          "62.29 (Extreme Greed)",
          "58.46 (Greed)",
          "55.29 (Greed)",
          "51.86 (Neutral)",
          "53.60 (Greed)",
          "51.31 (Neutral)",
          "50.17 (Neutral)",
          "50.26 (Neutral)",
          "53.74 (Greed)",
          "53.69 (Greed)",
          "56.69 (Greed)",
          "50.40 (Neutral)",
          "52.14 (Neutral)",
          "46.63 (Neutral)",
          "46.89 (Neutral)",
          "nan (nan)",
          "nan (nan)",
          "nan (nan)",
          "nan (nan)",
          "nan (nan)",
          "46.89 (Neutral)"
         ],
         "type": "scatter",
         "x": [
          "2024-10-10T00:00:00.000000000",
          "2024-10-11T00:00:00.000000000",
          "2024-10-14T00:00:00.000000000",
          "2024-10-15T00:00:00.000000000",
          "2024-10-16T00:00:00.000000000",
          "2024-10-17T00:00:00.000000000",
          "2024-10-18T00:00:00.000000000",
          "2024-10-21T00:00:00.000000000",
          "2024-10-22T00:00:00.000000000",
          "2024-10-23T00:00:00.000000000",
          "2024-10-24T00:00:00.000000000",
          "2024-10-25T00:00:00.000000000",
          "2024-10-28T00:00:00.000000000",
          "2024-10-29T00:00:00.000000000",
          "2024-10-30T00:00:00.000000000",
          "2024-10-31T00:00:00.000000000",
          "2024-11-01T00:00:00.000000000",
          "2024-11-04T00:00:00.000000000",
          "2024-11-05T00:00:00.000000000",
          "2024-11-06T00:00:00.000000000",
          "2024-11-07T00:00:00.000000000",
          "2024-11-08T00:00:00.000000000",
          "2024-11-11T00:00:00.000000000",
          "2024-11-12T00:00:00.000000000",
          "2024-11-13T00:00:00.000000000",
          "2024-11-14T00:00:00.000000000",
          "2024-11-15T00:00:00.000000000",
          "2024-11-18T00:00:00.000000000",
          "2024-11-19T00:00:00.000000000",
          "2024-11-20T00:00:00.000000000",
          "2024-11-21T00:00:00.000000000",
          "2024-11-22T00:00:00.000000000",
          "2024-11-25T00:00:00.000000000",
          "2024-11-26T00:00:00.000000000",
          "2024-11-27T00:00:00.000000000",
          "2024-11-29T00:00:00.000000000",
          "2024-12-02T00:00:00.000000000",
          "2024-12-03T00:00:00.000000000",
          "2024-12-04T00:00:00.000000000",
          "2024-12-05T00:00:00.000000000",
          "2024-12-06T00:00:00.000000000",
          "2024-12-09T00:00:00.000000000",
          "2024-12-10T00:00:00.000000000",
          "2024-12-11T00:00:00.000000000",
          "2024-12-12T00:00:00.000000000",
          "2024-12-13T00:00:00.000000000",
          "2024-12-16T00:00:00.000000000",
          "2024-12-17T00:00:00.000000000",
          "2024-12-18T00:00:00.000000000",
          "2024-12-19T00:00:00.000000000",
          "2024-12-20T00:00:00.000000000",
          "2024-12-23T00:00:00.000000000",
          "2024-12-24T00:00:00.000000000",
          "2024-12-26T00:00:00.000000000",
          "2024-12-27T00:00:00.000000000",
          "2024-12-30T00:00:00.000000000",
          "2024-12-31T00:00:00.000000000",
          "2025-01-02T00:00:00.000000000",
          "2025-01-03T00:00:00.000000000",
          "2025-01-06T00:00:00.000000000",
          "2025-01-07T00:00:00.000000000",
          "2025-01-08T00:00:00.000000000",
          "2025-01-10T00:00:00.000000000",
          "2025-01-13T00:00:00.000000000",
          "2025-01-14T00:00:00.000000000",
          "2025-01-15T00:00:00.000000000",
          "2025-01-16T00:00:00.000000000",
          "2025-01-17T00:00:00.000000000",
          "2025-01-21T00:00:00.000000000",
          "2025-01-22T00:00:00.000000000",
          "2025-01-23T00:00:00.000000000",
          "2025-01-24T00:00:00.000000000",
          "2025-01-27T00:00:00.000000000",
          "2025-01-28T00:00:00.000000000",
          "2025-01-29T00:00:00.000000000",
          "2025-01-30T00:00:00.000000000",
          "2025-01-31T00:00:00.000000000",
          "2025-02-03T00:00:00.000000000",
          "2025-02-04T00:00:00.000000000",
          "2025-02-05T00:00:00.000000000",
          "2025-02-06T00:00:00.000000000",
          "2025-02-07T00:00:00.000000000",
          "2025-02-10T00:00:00.000000000",
          "2025-02-11T00:00:00.000000000",
          "2025-02-12T00:00:00.000000000",
          "2025-02-13T00:00:00.000000000",
          "2025-02-14T00:00:00.000000000",
          "2025-02-18T00:00:00.000000000",
          "2025-02-19T00:00:00.000000000",
          "2025-02-20T00:00:00.000000000",
          "2025-02-21T00:00:00.000000000",
          "2025-02-24T00:00:00.000000000",
          "2025-02-25T00:00:00.000000000",
          "2025-02-26T00:00:00.000000000",
          "2025-02-27T00:00:00.000000000",
          "2025-02-28T00:00:00.000000000",
          "2025-03-03T00:00:00.000000000",
          "2025-03-04T00:00:00.000000000",
          "2025-03-05T00:00:00.000000000",
          "2025-03-06T00:00:00.000000000",
          "2025-03-07T00:00:00.000000000",
          "2025-03-10T00:00:00.000000000",
          "2025-03-11T00:00:00.000000000",
          "2025-03-12T00:00:00.000000000",
          "2025-03-13T00:00:00.000000000",
          "2025-03-14T00:00:00.000000000",
          "2025-03-17T00:00:00.000000000",
          "2025-03-18T00:00:00.000000000",
          "2025-03-19T00:00:00.000000000",
          "2025-03-20T00:00:00.000000000",
          "2025-03-21T00:00:00.000000000",
          "2025-03-24T00:00:00.000000000",
          "2025-03-25T00:00:00.000000000",
          "2025-03-26T00:00:00.000000000",
          "2025-03-27T00:00:00.000000000",
          "2025-03-28T00:00:00.000000000",
          "2025-03-31T00:00:00.000000000",
          "2025-04-01T00:00:00.000000000",
          "2025-04-02T00:00:00.000000000",
          "2025-04-03T00:00:00.000000000",
          "2025-04-04T00:00:00.000000000",
          "2025-04-07T00:00:00.000000000",
          "2025-04-08T00:00:00.000000000",
          "2025-04-09T00:00:00.000000000",
          "2025-04-10T00:00:00.000000000",
          "2025-04-11T00:00:00.000000000",
          "2025-04-14T00:00:00.000000000",
          "2025-04-15T00:00:00.000000000",
          "2025-04-16T00:00:00.000000000",
          "2025-04-17T00:00:00.000000000",
          "2025-04-21T00:00:00.000000000",
          "2025-04-22T00:00:00.000000000",
          "2025-04-23T00:00:00.000000000",
          "2025-04-24T00:00:00.000000000",
          "2025-04-25T00:00:00.000000000",
          "2025-04-28T00:00:00.000000000",
          "2025-04-29T00:00:00.000000000",
          "2025-04-30T00:00:00.000000000",
          "2025-05-01T00:00:00.000000000",
          "2025-05-02T00:00:00.000000000",
          "2025-05-05T00:00:00.000000000",
          "2025-05-06T00:00:00.000000000",
          "2025-05-07T00:00:00.000000000",
          "2025-05-08T00:00:00.000000000",
          "2025-05-09T00:00:00.000000000",
          "2025-05-12T00:00:00.000000000",
          "2025-05-13T00:00:00.000000000",
          "2025-05-14T00:00:00.000000000",
          "2025-05-15T00:00:00.000000000",
          "2025-05-16T00:00:00.000000000",
          "2025-05-19T00:00:00.000000000",
          "2025-05-20T00:00:00.000000000",
          "2025-05-21T00:00:00.000000000",
          "2025-05-22T00:00:00.000000000",
          "2025-05-23T00:00:00.000000000",
          "2025-05-27T00:00:00.000000000",
          "2025-05-28T00:00:00.000000000",
          "2025-05-29T00:00:00.000000000",
          "2025-05-30T00:00:00.000000000",
          "2025-06-02T00:00:00.000000000",
          "2025-06-03T00:00:00.000000000",
          "2025-06-04T00:00:00.000000000",
          "2025-06-05T00:00:00.000000000",
          "2025-06-06T00:00:00.000000000",
          "2025-06-09T00:00:00.000000000",
          "2025-06-10T00:00:00.000000000",
          "2025-06-11T00:00:00.000000000",
          "2025-06-12T00:00:00.000000000",
          "2025-06-13T00:00:00.000000000",
          "2025-06-16T00:00:00.000000000",
          "2025-06-17T00:00:00.000000000",
          "2025-06-18T00:00:00.000000000",
          "2025-06-20T00:00:00.000000000",
          "2025-06-23T00:00:00.000000000",
          "2025-06-24T00:00:00.000000000",
          "2025-06-25T00:00:00.000000000",
          "2025-06-26T00:00:00.000000000",
          "2025-06-27T00:00:00.000000000",
          "2025-06-30T00:00:00.000000000",
          "2025-07-01T00:00:00.000000000",
          "2025-07-02T00:00:00.000000000",
          "2025-07-03T00:00:00.000000000",
          "2025-07-07T00:00:00.000000000",
          "2025-07-08T00:00:00.000000000",
          "2025-07-09T00:00:00.000000000",
          "2025-07-10T00:00:00.000000000",
          "2025-07-11T00:00:00.000000000",
          "2025-07-14T00:00:00.000000000",
          "2025-07-15T00:00:00.000000000",
          "2025-07-16T00:00:00.000000000",
          "2025-07-17T00:00:00.000000000",
          "2025-07-18T00:00:00.000000000",
          "2025-07-21T00:00:00.000000000",
          "2025-07-22T00:00:00.000000000",
          "2025-07-23T00:00:00.000000000",
          "2025-07-24T00:00:00.000000000",
          "2025-07-25T00:00:00.000000000",
          "2025-07-28T00:00:00.000000000",
          "2025-07-29T00:00:00.000000000",
          "2025-07-30T00:00:00.000000000",
          "2025-07-31T00:00:00.000000000",
          "2025-08-01T00:00:00.000000000",
          "2025-08-04T00:00:00.000000000",
          "2025-08-05T00:00:00.000000000",
          "2025-08-06T00:00:00.000000000",
          "2025-08-07T00:00:00.000000000",
          "2025-08-08T00:00:00.000000000",
          "2025-08-11T00:00:00.000000000",
          "2025-08-12T00:00:00.000000000",
          "2025-08-13T00:00:00.000000000",
          "2025-08-14T00:00:00.000000000",
          "2025-08-15T00:00:00.000000000",
          "2025-08-18T00:00:00.000000000",
          "2025-08-19T00:00:00.000000000",
          "2025-08-20T00:00:00.000000000",
          "2025-08-21T00:00:00.000000000",
          "2025-08-22T00:00:00.000000000",
          "2025-08-25T00:00:00.000000000",
          "2025-08-26T00:00:00.000000000",
          "2025-08-27T00:00:00.000000000",
          "2025-08-28T00:00:00.000000000",
          "2025-08-29T00:00:00.000000000",
          "2025-09-02T00:00:00.000000000",
          "2025-09-03T00:00:00.000000000",
          "2025-09-04T00:00:00.000000000",
          "2025-09-05T00:00:00.000000000",
          "2025-09-08T00:00:00.000000000",
          "2025-09-09T00:00:00.000000000",
          "2025-09-10T00:00:00.000000000",
          "2025-09-11T00:00:00.000000000",
          "2025-09-12T00:00:00.000000000",
          "2025-09-15T00:00:00.000000000",
          "2025-09-16T00:00:00.000000000",
          "2025-09-17T00:00:00.000000000",
          "2025-09-18T00:00:00.000000000",
          "2025-09-19T00:00:00.000000000",
          "2025-09-22T00:00:00.000000000",
          "2025-09-23T00:00:00.000000000",
          "2025-09-24T00:00:00.000000000",
          "2025-09-25T00:00:00.000000000",
          "2025-09-26T00:00:00.000000000",
          "2025-09-29T00:00:00.000000000",
          "2025-09-30T00:00:00.000000000",
          "2025-10-01T00:00:00.000000000",
          "2025-10-02T00:00:00.000000000",
          "2025-10-03T00:00:00.000000000",
          "2025-10-06T00:00:00.000000000",
          "2025-10-07T00:00:00.000000000",
          "2025-10-08T00:00:00.000000000",
          "2025-10-09T00:00:00.000000000",
          "2025-10-10T00:00:00.000000000",
          "2025-10-10T14:52:03.000000000",
          "2025-10-10T14:52:05.000000000",
          "2025-10-10T14:52:12.000000000",
          "2025-10-10T14:52:16.000000000",
          "2025-10-10T14:57:12.000000000",
          "2025-10-10T15:07:04.000000000"
         ],
         "y": {
          "bdata": "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",
          "dtype": "f8"
         }
        }
       ],
       "layout": {
        "template": {
         "data": {
          "bar": [
           {
            "error_x": {
             "color": "#2a3f5f"
            },
            "error_y": {
             "color": "#2a3f5f"
            },
            "marker": {
             "line": {
              "color": "white",
              "width": 0.5
             },
             "pattern": {
              "fillmode": "overlay",
              "size": 10,
              "solidity": 0.2
             }
            },
            "type": "bar"
           }
          ],
          "barpolar": [
           {
            "marker": {
             "line": {
              "color": "white",
              "width": 0.5
             },
             "pattern": {
              "fillmode": "overlay",
              "size": 10,
              "solidity": 0.2
             }
            },
            "type": "barpolar"
           }
          ],
          "carpet": [
           {
            "aaxis": {
             "endlinecolor": "#2a3f5f",
             "gridcolor": "#C8D4E3",
             "linecolor": "#C8D4E3",
             "minorgridcolor": "#C8D4E3",
             "startlinecolor": "#2a3f5f"
            },
            "baxis": {
             "endlinecolor": "#2a3f5f",
             "gridcolor": "#C8D4E3",
             "linecolor": "#C8D4E3",
             "minorgridcolor": "#C8D4E3",
             "startlinecolor": "#2a3f5f"
            },
            "type": "carpet"
           }
          ],
          "choropleth": [
           {
            "colorbar": {
             "outlinewidth": 0,
             "ticks": ""
            },
            "type": "choropleth"
           }
          ],
          "contour": [
           {
            "colorbar": {
             "outlinewidth": 0,
             "ticks": ""
            },
            "colorscale": [
             [
              0,
              "#0d0887"
             ],
             [
              0.1111111111111111,
              "#46039f"
             ],
             [
              0.2222222222222222,
              "#7201a8"
             ],
             [
              0.3333333333333333,
              "#9c179e"
             ],
             [
              0.4444444444444444,
              "#bd3786"
             ],
             [
              0.5555555555555556,
              "#d8576b"
             ],
             [
              0.6666666666666666,
              "#ed7953"
             ],
             [
              0.7777777777777778,
              "#fb9f3a"
             ],
             [
              0.8888888888888888,
              "#fdca26"
             ],
             [
              1,
              "#f0f921"
             ]
            ],
            "type": "contour"
           }
          ],
          "contourcarpet": [
           {
            "colorbar": {
             "outlinewidth": 0,
             "ticks": ""
            },
            "type": "contourcarpet"
           }
          ],
          "heatmap": [
           {
            "colorbar": {
             "outlinewidth": 0,
             "ticks": ""
            },
            "colorscale": [
             [
              0,
              "#0d0887"
             ],
             [
              0.1111111111111111,
              "#46039f"
             ],
             [
              0.2222222222222222,
              "#7201a8"
             ],
             [
              0.3333333333333333,
              "#9c179e"
             ],
             [
              0.4444444444444444,
              "#bd3786"
             ],
             [
              0.5555555555555556,
              "#d8576b"
             ],
             [
              0.6666666666666666,
              "#ed7953"
             ],
             [
              0.7777777777777778,
              "#fb9f3a"
             ],
             [
              0.8888888888888888,
              "#fdca26"
             ],
             [
              1,
              "#f0f921"
             ]
            ],
            "type": "heatmap"
           }
          ],
          "histogram": [
           {
            "marker": {
             "pattern": {
              "fillmode": "overlay",
              "size": 10,
              "solidity": 0.2
             }
            },
            "type": "histogram"
           }
          ],
          "histogram2d": [
           {
            "colorbar": {
             "outlinewidth": 0,
             "ticks": ""
            },
            "colorscale": [
             [
              0,
              "#0d0887"
             ],
             [
              0.1111111111111111,
              "#46039f"
             ],
             [
              0.2222222222222222,
              "#7201a8"
             ],
             [
              0.3333333333333333,
              "#9c179e"
             ],
             [
              0.4444444444444444,
              "#bd3786"
             ],
             [
              0.5555555555555556,
              "#d8576b"
             ],
             [
              0.6666666666666666,
              "#ed7953"
             ],
             [
              0.7777777777777778,
              "#fb9f3a"
             ],
             [
              0.8888888888888888,
              "#fdca26"
             ],
             [
              1,
              "#f0f921"
             ]
            ],
            "type": "histogram2d"
           }
          ],
          "histogram2dcontour": [
           {
            "colorbar": {
             "outlinewidth": 0,
             "ticks": ""
            },
            "colorscale": [
             [
              0,
              "#0d0887"
             ],
             [
              0.1111111111111111,
              "#46039f"
             ],
             [
              0.2222222222222222,
              "#7201a8"
             ],
             [
              0.3333333333333333,
              "#9c179e"
             ],
             [
              0.4444444444444444,
              "#bd3786"
             ],
             [
              0.5555555555555556,
              "#d8576b"
             ],
             [
              0.6666666666666666,
              "#ed7953"
             ],
             [
              0.7777777777777778,
              "#fb9f3a"
             ],
             [
              0.8888888888888888,
              "#fdca26"
             ],
             [
              1,
              "#f0f921"
             ]
            ],
            "type": "histogram2dcontour"
           }
          ],
          "mesh3d": [
           {
            "colorbar": {
             "outlinewidth": 0,
             "ticks": ""
            },
            "type": "mesh3d"
           }
          ],
          "parcoords": [
           {
            "line": {
             "colorbar": {
              "outlinewidth": 0,
              "ticks": ""
             }
            },
            "type": "parcoords"
           }
          ],
          "pie": [
           {
            "automargin": true,
            "type": "pie"
           }
          ],
          "scatter": [
           {
            "fillpattern": {
             "fillmode": "overlay",
             "size": 10,
             "solidity": 0.2
            },
            "type": "scatter"
           }
          ],
          "scatter3d": [
           {
            "line": {
             "colorbar": {
              "outlinewidth": 0,
              "ticks": ""
             }
            },
            "marker": {
             "colorbar": {
              "outlinewidth": 0,
              "ticks": ""
             }
            },
            "type": "scatter3d"
           }
          ],
          "scattercarpet": [
           {
            "marker": {
             "colorbar": {
              "outlinewidth": 0,
              "ticks": ""
             }
            },
            "type": "scattercarpet"
           }
          ],
          "scattergeo": [
           {
            "marker": {
             "colorbar": {
              "outlinewidth": 0,
              "ticks": ""
             }
            },
            "type": "scattergeo"
           }
          ],
          "scattergl": [
           {
            "marker": {
             "colorbar": {
              "outlinewidth": 0,
              "ticks": ""
             }
            },
            "type": "scattergl"
           }
          ],
          "scattermap": [
           {
            "marker": {
             "colorbar": {
              "outlinewidth": 0,
              "ticks": ""
             }
            },
            "type": "scattermap"
           }
          ],
          "scattermapbox": [
           {
            "marker": {
             "colorbar": {
              "outlinewidth": 0,
              "ticks": ""
             }
            },
            "type": "scattermapbox"
           }
          ],
          "scatterpolar": [
           {
            "marker": {
             "colorbar": {
              "outlinewidth": 0,
              "ticks": ""
             }
            },
            "type": "scatterpolar"
           }
          ],
          "scatterpolargl": [
           {
            "marker": {
             "colorbar": {
              "outlinewidth": 0,
              "ticks": ""
             }
            },
            "type": "scatterpolargl"
           }
          ],
          "scatterternary": [
           {
            "marker": {
             "colorbar": {
              "outlinewidth": 0,
              "ticks": ""
             }
            },
            "type": "scatterternary"
           }
          ],
          "surface": [
           {
            "colorbar": {
             "outlinewidth": 0,
             "ticks": ""
            },
            "colorscale": [
             [
              0,
              "#0d0887"
             ],
             [
              0.1111111111111111,
              "#46039f"
             ],
             [
              0.2222222222222222,
              "#7201a8"
             ],
             [
              0.3333333333333333,
              "#9c179e"
             ],
             [
              0.4444444444444444,
              "#bd3786"
             ],
             [
              0.5555555555555556,
              "#d8576b"
             ],
             [
              0.6666666666666666,
              "#ed7953"
             ],
             [
              0.7777777777777778,
              "#fb9f3a"
             ],
             [
              0.8888888888888888,
              "#fdca26"
             ],
             [
              1,
              "#f0f921"
             ]
            ],
            "type": "surface"
           }
          ],
          "table": [
           {
            "cells": {
             "fill": {
              "color": "#EBF0F8"
             },
             "line": {
              "color": "white"
             }
            },
            "header": {
             "fill": {
              "color": "#C8D4E3"
             },
             "line": {
              "color": "white"
             }
            },
            "type": "table"
           }
          ]
         },
         "layout": {
          "annotationdefaults": {
           "arrowcolor": "#2a3f5f",
           "arrowhead": 0,
           "arrowwidth": 1
          },
          "autotypenumbers": "strict",
          "coloraxis": {
           "colorbar": {
            "outlinewidth": 0,
            "ticks": ""
           }
          },
          "colorscale": {
           "diverging": [
            [
             0,
             "#8e0152"
            ],
            [
             0.1,
             "#c51b7d"
            ],
            [
             0.2,
             "#de77ae"
            ],
            [
             0.3,
             "#f1b6da"
            ],
            [
             0.4,
             "#fde0ef"
            ],
            [
             0.5,
             "#f7f7f7"
            ],
            [
             0.6,
             "#e6f5d0"
            ],
            [
             0.7,
             "#b8e186"
            ],
            [
             0.8,
             "#7fbc41"
            ],
            [
             0.9,
             "#4d9221"
            ],
            [
             1,
             "#276419"
            ]
           ],
           "sequential": [
            [
             0,
             "#0d0887"
            ],
            [
             0.1111111111111111,
             "#46039f"
            ],
            [
             0.2222222222222222,
             "#7201a8"
            ],
            [
             0.3333333333333333,
             "#9c179e"
            ],
            [
             0.4444444444444444,
             "#bd3786"
            ],
            [
             0.5555555555555556,
             "#d8576b"
            ],
            [
             0.6666666666666666,
             "#ed7953"
            ],
            [
             0.7777777777777778,
             "#fb9f3a"
            ],
            [
             0.8888888888888888,
             "#fdca26"
            ],
            [
             1,
             "#f0f921"
            ]
           ],
           "sequentialminus": [
            [
             0,
             "#0d0887"
            ],
            [
             0.1111111111111111,
             "#46039f"
            ],
            [
             0.2222222222222222,
             "#7201a8"
            ],
            [
             0.3333333333333333,
             "#9c179e"
            ],
            [
             0.4444444444444444,
             "#bd3786"
            ],
            [
             0.5555555555555556,
             "#d8576b"
            ],
            [
             0.6666666666666666,
             "#ed7953"
            ],
            [
             0.7777777777777778,
             "#fb9f3a"
            ],
            [
             0.8888888888888888,
             "#fdca26"
            ],
            [
             1,
             "#f0f921"
            ]
           ]
          },
          "colorway": [
           "#636efa",
           "#EF553B",
           "#00cc96",
           "#ab63fa",
           "#FFA15A",
           "#19d3f3",
           "#FF6692",
           "#B6E880",
           "#FF97FF",
           "#FECB52"
          ],
          "font": {
           "color": "#2a3f5f"
          },
          "geo": {
           "bgcolor": "white",
           "lakecolor": "white",
           "landcolor": "white",
           "showlakes": true,
           "showland": true,
           "subunitcolor": "#C8D4E3"
          },
          "hoverlabel": {
           "align": "left"
          },
          "hovermode": "closest",
          "mapbox": {
           "style": "light"
          },
          "paper_bgcolor": "white",
          "plot_bgcolor": "white",
          "polar": {
           "angularaxis": {
            "gridcolor": "#EBF0F8",
            "linecolor": "#EBF0F8",
            "ticks": ""
           },
           "bgcolor": "white",
           "radialaxis": {
            "gridcolor": "#EBF0F8",
            "linecolor": "#EBF0F8",
            "ticks": ""
           }
          },
          "scene": {
           "xaxis": {
            "backgroundcolor": "white",
            "gridcolor": "#DFE8F3",
            "gridwidth": 2,
            "linecolor": "#EBF0F8",
            "showbackground": true,
            "ticks": "",
            "zerolinecolor": "#EBF0F8"
           },
           "yaxis": {
            "backgroundcolor": "white",
            "gridcolor": "#DFE8F3",
            "gridwidth": 2,
            "linecolor": "#EBF0F8",
            "showbackground": true,
            "ticks": "",
            "zerolinecolor": "#EBF0F8"
           },
           "zaxis": {
            "backgroundcolor": "white",
            "gridcolor": "#DFE8F3",
            "gridwidth": 2,
            "linecolor": "#EBF0F8",
            "showbackground": true,
            "ticks": "",
            "zerolinecolor": "#EBF0F8"
           }
          },
          "shapedefaults": {
           "line": {
            "color": "#2a3f5f"
           }
          },
          "ternary": {
           "aaxis": {
            "gridcolor": "#DFE8F3",
            "linecolor": "#A2B1C6",
            "ticks": ""
           },
           "baxis": {
            "gridcolor": "#DFE8F3",
            "linecolor": "#A2B1C6",
            "ticks": ""
           },
           "bgcolor": "white",
           "caxis": {
            "gridcolor": "#DFE8F3",
            "linecolor": "#A2B1C6",
            "ticks": ""
           }
          },
          "title": {
           "x": 0.05
          },
          "xaxis": {
           "automargin": true,
           "gridcolor": "#EBF0F8",
           "linecolor": "#EBF0F8",
           "ticks": "",
           "title": {
            "standoff": 15
           },
           "zerolinecolor": "#EBF0F8",
           "zerolinewidth": 2
          },
          "yaxis": {
           "automargin": true,
           "gridcolor": "#EBF0F8",
           "linecolor": "#EBF0F8",
           "ticks": "",
           "title": {
            "standoff": 15
           },
           "zerolinecolor": "#EBF0F8",
           "zerolinewidth": 2
          }
         }
        },
        "title": {
         "text": "Fear & Greed Index Over Time"
        },
        "xaxis": {
         "title": {
          "text": "Date"
         }
        },
        "yaxis": {
         "range": [
          2.755,
          81.51000000000002
         ],
         "title": {
          "text": "Score"
         }
        }
       }
      }
     },
     "metadata": {},
     "output_type": "display_data"
    },
    {
     "data": {
      "application/vnd.plotly.v1+json": {
       "config": {
        "plotlyServerURL": "https://plot.ly"
       },
       "data": [
        {
         "hoverinfo": "text+x",
         "line": {
          "color": "lightgray",
          "width": 2
         },
         "marker": {
          "color": [
           "darkred",
           "red",
           "red",
           "red",
           "red",
           "red",
           "red",
           "red",
           "red",
           "red",
           "red",
           "red",
           "red",
           "red",
           "red",
           "darkred",
           "darkred",
           "darkred",
           "darkred",
           "red",
           "gold",
           "gold",
           "gold",
           "gold",
           "gold",
           "gold",
           "red",
           "red",
           "red",
           "red",
           "gold",
           "gold",
           "gold",
           "gold",
           "gold",
           "gold",
           "gold",
           "gold",
           "gold",
           "gold",
           "gold",
           "gold",
           "gold",
           "gold",
           "gold",
           "gold",
           "gold",
           "gold",
           "red",
           "red",
           "red",
           "gold",
           "gold",
           "gold",
           "gold",
           "red",
           "red",
           "red",
           "gold",
           "gold",
           "red",
           "red",
           "red",
           "red",
           "red",
           "gold",
           "red",
           "gold",
           "gold",
           "gold",
           "green",
           "gold",
           "gold",
           "gold",
           "gold",
           "gold",
           "gold",
           "gold",
           "gold",
           "gold",
           "gold",
           "gold",
           "gold",
           "gold",
           "gold",
           "gold",
           "gold",
           "green",
           "green",
           "green",
           "gold",
           "gold",
           "gold",
           "gold",
           "red",
           "gold",
           "red",
           "darkred",
           "red",
           "darkred",
           "darkred",
           "darkred",
           "darkred",
           "darkred",
           "darkred",
           "darkred",
           "darkred",
           "darkred",
           "darkred",
           "darkred",
           "darkred",
           "darkred",
           "darkred",
           "darkred",
           "darkred",
           "darkred",
           "darkred",
           "darkred",
           "darkred",
           "darkred",
           "darkred",
           "darkred",
           "darkred",
           "darkred",
           "darkred",
           "darkred",
           "darkred",
           "darkred",
           "darkred",
           "darkred",
           "darkred",
           "darkred",
           "darkred",
           "darkred",
           "darkred",
           "darkred",
           "darkred",
           "darkred",
           "darkred",
           "darkred",
           "darkred",
           "darkred",
           "darkred",
           "darkred",
           "darkred",
           "red",
           "red",
           "red",
           "red",
           "gold",
           "gold",
           "gold",
           "red",
           "red",
           "red",
           "red",
           "red",
           "red",
           "red",
           "red",
           "gold",
           "gold",
           "gold",
           "gold",
           "gold",
           "gold",
           "gold",
           "gold",
           "gold",
           "gold",
           "gold",
           "gold",
           "gold",
           "gold",
           "gold",
           "gold",
           "green",
           "green",
           "green",
           "green",
           "green",
           "darkgreen",
           "green",
           "green",
           "green",
           "darkgreen",
           "green",
           "darkgreen",
           "green",
           "green",
           "darkgreen",
           "darkgreen",
           "darkgreen",
           "darkgreen",
           "darkgreen",
           "darkgreen",
           "darkgreen",
           "darkgreen",
           "darkgreen",
           "darkgreen",
           "darkgreen",
           "green",
           "darkgreen",
           "darkgreen",
           "darkgreen",
           "darkgreen",
           "darkgreen",
           "darkgreen",
           "darkgreen",
           "darkgreen",
           "darkgreen",
           "darkgreen",
           "darkgreen",
           "darkgreen",
           "darkgreen",
           "darkgreen",
           "darkgreen",
           "darkgreen",
           "darkgreen",
           "darkgreen",
           "darkgreen",
           "darkgreen",
           "darkgreen",
           "darkgreen",
           "darkgreen",
           "darkgreen",
           "darkgreen",
           "darkgreen",
           "darkgreen",
           "darkgreen",
           "darkgreen",
           "darkgreen",
           "darkgreen",
           "darkgreen",
           "darkgreen",
           "darkgreen",
           "darkgreen",
           "darkgreen",
           "darkgreen",
           "darkgreen",
           "darkgreen",
           "darkgreen",
           "darkgreen",
           "darkgreen",
           "darkgreen",
           "darkgreen",
           "darkgreen",
           "darkgreen",
           "darkgreen",
           "darkgreen",
           "darkgreen",
           null,
           null,
           null,
           null,
           "darkgreen",
           null
          ],
          "size": 8
         },
         "mode": "lines+markers",
         "text": [
          "5780.05 (Extreme Fear)",
          "5815.03 (Fear)",
          "5859.85 (Fear)",
          "5815.26 (Fear)",
          "5842.47 (Fear)",
          "5841.47 (Fear)",
          "5864.67 (Fear)",
          "5853.98 (Fear)",
          "5851.20 (Fear)",
          "5797.42 (Fear)",
          "5809.86 (Fear)",
          "5808.12 (Fear)",
          "5823.52 (Fear)",
          "5832.92 (Fear)",
          "5813.67 (Fear)",
          "5705.45 (Extreme Fear)",
          "5728.80 (Extreme Fear)",
          "5712.69 (Extreme Fear)",
          "5782.76 (Extreme Fear)",
          "5929.04 (Fear)",
          "5973.10 (Neutral)",
          "5995.54 (Neutral)",
          "6001.35 (Neutral)",
          "5983.99 (Neutral)",
          "5985.38 (Neutral)",
          "5949.17 (Neutral)",
          "5870.62 (Fear)",
          "5893.62 (Fear)",
          "5916.98 (Fear)",
          "5917.11 (Fear)",
          "5948.71 (Neutral)",
          "5969.34 (Neutral)",
          "5987.37 (Neutral)",
          "6021.63 (Neutral)",
          "5998.74 (Neutral)",
          "6032.38 (Neutral)",
          "6047.15 (Neutral)",
          "6049.88 (Neutral)",
          "6086.49 (Neutral)",
          "6075.11 (Neutral)",
          "6090.27 (Neutral)",
          "6052.85 (Neutral)",
          "6034.91 (Neutral)",
          "6084.19 (Neutral)",
          "6051.25 (Neutral)",
          "6051.09 (Neutral)",
          "6074.08 (Neutral)",
          "6050.61 (Neutral)",
          "5872.16 (Fear)",
          "5867.08 (Fear)",
          "5930.85 (Fear)",
          "5974.07 (Neutral)",
          "6040.04 (Neutral)",
          "6037.59 (Neutral)",
          "5970.84 (Neutral)",
          "5906.94 (Fear)",
          "5881.63 (Fear)",
          "5868.55 (Fear)",
          "5942.47 (Neutral)",
          "5975.38 (Neutral)",
          "5909.03 (Fear)",
          "5918.25 (Fear)",
          "5827.04 (Fear)",
          "5836.22 (Fear)",
          "5842.91 (Fear)",
          "5949.91 (Neutral)",
          "5937.34 (Fear)",
          "5996.66 (Neutral)",
          "6049.24 (Neutral)",
          "6086.37 (Neutral)",
          "6118.71 (Greed)",
          "6101.24 (Neutral)",
          "6012.28 (Neutral)",
          "6067.70 (Neutral)",
          "6039.31 (Neutral)",
          "6071.17 (Neutral)",
          "6040.53 (Neutral)",
          "5994.57 (Neutral)",
          "6037.88 (Neutral)",
          "6061.48 (Neutral)",
          "6083.57 (Neutral)",
          "6025.99 (Neutral)",
          "6066.44 (Neutral)",
          "6068.50 (Neutral)",
          "6051.97 (Neutral)",
          "6115.07 (Neutral)",
          "6114.63 (Neutral)",
          "6129.58 (Greed)",
          "6144.15 (Greed)",
          "6117.52 (Greed)",
          "6013.13 (Neutral)",
          "5983.25 (Neutral)",
          "5955.25 (Neutral)",
          "5956.06 (Neutral)",
          "5861.57 (Fear)",
          "5954.50 (Neutral)",
          "5849.72 (Fear)",
          "5778.15 (Extreme Fear)",
          "5842.63 (Fear)",
          "5738.52 (Extreme Fear)",
          "5770.20 (Extreme Fear)",
          "5614.56 (Extreme Fear)",
          "5572.07 (Extreme Fear)",
          "5599.30 (Extreme Fear)",
          "5521.52 (Extreme Fear)",
          "5638.94 (Extreme Fear)",
          "5675.12 (Extreme Fear)",
          "5614.66 (Extreme Fear)",
          "5675.29 (Extreme Fear)",
          "5662.89 (Extreme Fear)",
          "5667.56 (Extreme Fear)",
          "5767.57 (Extreme Fear)",
          "5776.65 (Extreme Fear)",
          "5712.20 (Extreme Fear)",
          "5693.31 (Extreme Fear)",
          "5580.94 (Extreme Fear)",
          "5611.85 (Extreme Fear)",
          "5633.07 (Extreme Fear)",
          "5670.97 (Extreme Fear)",
          "5396.52 (Extreme Fear)",
          "5074.08 (Extreme Fear)",
          "5062.25 (Extreme Fear)",
          "4982.77 (Extreme Fear)",
          "5456.90 (Extreme Fear)",
          "5268.05 (Extreme Fear)",
          "5363.36 (Extreme Fear)",
          "5405.97 (Extreme Fear)",
          "5396.63 (Extreme Fear)",
          "5275.70 (Extreme Fear)",
          "5282.70 (Extreme Fear)",
          "5158.20 (Extreme Fear)",
          "5287.76 (Extreme Fear)",
          "5375.86 (Extreme Fear)",
          "5484.77 (Extreme Fear)",
          "5525.21 (Extreme Fear)",
          "5528.75 (Extreme Fear)",
          "5560.83 (Extreme Fear)",
          "5569.06 (Extreme Fear)",
          "5604.14 (Extreme Fear)",
          "5686.67 (Extreme Fear)",
          "5650.38 (Extreme Fear)",
          "5606.91 (Extreme Fear)",
          "5631.28 (Extreme Fear)",
          "5663.94 (Extreme Fear)",
          "5659.91 (Extreme Fear)",
          "5844.19 (Fear)",
          "5886.55 (Fear)",
          "5892.58 (Fear)",
          "5916.93 (Fear)",
          "5958.38 (Neutral)",
          "5963.60 (Neutral)",
          "5940.46 (Neutral)",
          "5844.61 (Fear)",
          "5842.01 (Fear)",
          "5802.82 (Fear)",
          "5921.54 (Fear)",
          "5888.55 (Fear)",
          "5912.17 (Fear)",
          "5911.69 (Fear)",
          "5935.94 (Fear)",
          "5970.37 (Neutral)",
          "5970.81 (Neutral)",
          "5939.30 (Neutral)",
          "6000.36 (Neutral)",
          "6005.88 (Neutral)",
          "6038.81 (Neutral)",
          "6022.24 (Neutral)",
          "6045.26 (Neutral)",
          "5976.97 (Neutral)",
          "6033.11 (Neutral)",
          "5982.72 (Neutral)",
          "5980.87 (Neutral)",
          "5967.84 (Neutral)",
          "6025.17 (Neutral)",
          "6092.18 (Neutral)",
          "6092.16 (Neutral)",
          "6141.02 (Greed)",
          "6173.07 (Greed)",
          "6204.95 (Greed)",
          "6198.01 (Greed)",
          "6227.42 (Greed)",
          "6279.35 (Extreme Greed)",
          "6229.98 (Greed)",
          "6225.52 (Greed)",
          "6263.26 (Greed)",
          "6280.46 (Extreme Greed)",
          "6259.75 (Greed)",
          "6268.56 (Extreme Greed)",
          "6243.76 (Greed)",
          "6263.70 (Greed)",
          "6297.36 (Extreme Greed)",
          "6296.79 (Extreme Greed)",
          "6305.60 (Extreme Greed)",
          "6309.62 (Extreme Greed)",
          "6358.91 (Extreme Greed)",
          "6363.35 (Extreme Greed)",
          "6388.64 (Extreme Greed)",
          "6389.77 (Extreme Greed)",
          "6370.86 (Extreme Greed)",
          "6362.90 (Extreme Greed)",
          "6339.39 (Extreme Greed)",
          "6238.01 (Greed)",
          "6329.94 (Extreme Greed)",
          "6299.19 (Extreme Greed)",
          "6345.06 (Extreme Greed)",
          "6340.00 (Extreme Greed)",
          "6389.45 (Extreme Greed)",
          "6373.45 (Extreme Greed)",
          "6445.76 (Extreme Greed)",
          "6466.58 (Extreme Greed)",
          "6468.54 (Extreme Greed)",
          "6449.80 (Extreme Greed)",
          "6449.15 (Extreme Greed)",
          "6411.37 (Extreme Greed)",
          "6395.78 (Extreme Greed)",
          "6370.17 (Extreme Greed)",
          "6466.91 (Extreme Greed)",
          "6439.32 (Extreme Greed)",
          "6465.94 (Extreme Greed)",
          "6481.40 (Extreme Greed)",
          "6501.86 (Extreme Greed)",
          "6460.26 (Extreme Greed)",
          "6415.54 (Extreme Greed)",
          "6448.26 (Extreme Greed)",
          "6502.08 (Extreme Greed)",
          "6481.50 (Extreme Greed)",
          "6495.15 (Extreme Greed)",
          "6512.61 (Extreme Greed)",
          "6532.04 (Extreme Greed)",
          "6587.47 (Extreme Greed)",
          "6584.29 (Extreme Greed)",
          "6615.28 (Extreme Greed)",
          "6606.76 (Extreme Greed)",
          "6600.35 (Extreme Greed)",
          "6631.96 (Extreme Greed)",
          "6664.36 (Extreme Greed)",
          "6693.75 (Extreme Greed)",
          "6656.92 (Extreme Greed)",
          "6637.97 (Extreme Greed)",
          "6604.72 (Extreme Greed)",
          "6643.70 (Extreme Greed)",
          "6661.21 (Extreme Greed)",
          "6688.46 (Extreme Greed)",
          "6711.20 (Extreme Greed)",
          "6715.35 (Extreme Greed)",
          "6715.79 (Extreme Greed)",
          "6740.28 (Extreme Greed)",
          "6714.59 (Extreme Greed)",
          "6753.72 (Extreme Greed)",
          "6735.11 (Extreme Greed)",
          "6751.55 (Extreme Greed)",
          "nan (nan)",
          "nan (nan)",
          "nan (nan)",
          "nan (nan)",
          "6751.55 (Extreme Greed)",
          "nan (nan)"
         ],
         "type": "scatter",
         "x": [
          "2024-10-10T00:00:00.000000000",
          "2024-10-11T00:00:00.000000000",
          "2024-10-14T00:00:00.000000000",
          "2024-10-15T00:00:00.000000000",
          "2024-10-16T00:00:00.000000000",
          "2024-10-17T00:00:00.000000000",
          "2024-10-18T00:00:00.000000000",
          "2024-10-21T00:00:00.000000000",
          "2024-10-22T00:00:00.000000000",
          "2024-10-23T00:00:00.000000000",
          "2024-10-24T00:00:00.000000000",
          "2024-10-25T00:00:00.000000000",
          "2024-10-28T00:00:00.000000000",
          "2024-10-29T00:00:00.000000000",
          "2024-10-30T00:00:00.000000000",
          "2024-10-31T00:00:00.000000000",
          "2024-11-01T00:00:00.000000000",
          "2024-11-04T00:00:00.000000000",
          "2024-11-05T00:00:00.000000000",
          "2024-11-06T00:00:00.000000000",
          "2024-11-07T00:00:00.000000000",
          "2024-11-08T00:00:00.000000000",
          "2024-11-11T00:00:00.000000000",
          "2024-11-12T00:00:00.000000000",
          "2024-11-13T00:00:00.000000000",
          "2024-11-14T00:00:00.000000000",
          "2024-11-15T00:00:00.000000000",
          "2024-11-18T00:00:00.000000000",
          "2024-11-19T00:00:00.000000000",
          "2024-11-20T00:00:00.000000000",
          "2024-11-21T00:00:00.000000000",
          "2024-11-22T00:00:00.000000000",
          "2024-11-25T00:00:00.000000000",
          "2024-11-26T00:00:00.000000000",
          "2024-11-27T00:00:00.000000000",
          "2024-11-29T00:00:00.000000000",
          "2024-12-02T00:00:00.000000000",
          "2024-12-03T00:00:00.000000000",
          "2024-12-04T00:00:00.000000000",
          "2024-12-05T00:00:00.000000000",
          "2024-12-06T00:00:00.000000000",
          "2024-12-09T00:00:00.000000000",
          "2024-12-10T00:00:00.000000000",
          "2024-12-11T00:00:00.000000000",
          "2024-12-12T00:00:00.000000000",
          "2024-12-13T00:00:00.000000000",
          "2024-12-16T00:00:00.000000000",
          "2024-12-17T00:00:00.000000000",
          "2024-12-18T00:00:00.000000000",
          "2024-12-19T00:00:00.000000000",
          "2024-12-20T00:00:00.000000000",
          "2024-12-23T00:00:00.000000000",
          "2024-12-24T00:00:00.000000000",
          "2024-12-26T00:00:00.000000000",
          "2024-12-27T00:00:00.000000000",
          "2024-12-30T00:00:00.000000000",
          "2024-12-31T00:00:00.000000000",
          "2025-01-02T00:00:00.000000000",
          "2025-01-03T00:00:00.000000000",
          "2025-01-06T00:00:00.000000000",
          "2025-01-07T00:00:00.000000000",
          "2025-01-08T00:00:00.000000000",
          "2025-01-10T00:00:00.000000000",
          "2025-01-13T00:00:00.000000000",
          "2025-01-14T00:00:00.000000000",
          "2025-01-15T00:00:00.000000000",
          "2025-01-16T00:00:00.000000000",
          "2025-01-17T00:00:00.000000000",
          "2025-01-21T00:00:00.000000000",
          "2025-01-22T00:00:00.000000000",
          "2025-01-23T00:00:00.000000000",
          "2025-01-24T00:00:00.000000000",
          "2025-01-27T00:00:00.000000000",
          "2025-01-28T00:00:00.000000000",
          "2025-01-29T00:00:00.000000000",
          "2025-01-30T00:00:00.000000000",
          "2025-01-31T00:00:00.000000000",
          "2025-02-03T00:00:00.000000000",
          "2025-02-04T00:00:00.000000000",
          "2025-02-05T00:00:00.000000000",
          "2025-02-06T00:00:00.000000000",
          "2025-02-07T00:00:00.000000000",
          "2025-02-10T00:00:00.000000000",
          "2025-02-11T00:00:00.000000000",
          "2025-02-12T00:00:00.000000000",
          "2025-02-13T00:00:00.000000000",
          "2025-02-14T00:00:00.000000000",
          "2025-02-18T00:00:00.000000000",
          "2025-02-19T00:00:00.000000000",
          "2025-02-20T00:00:00.000000000",
          "2025-02-21T00:00:00.000000000",
          "2025-02-24T00:00:00.000000000",
          "2025-02-25T00:00:00.000000000",
          "2025-02-26T00:00:00.000000000",
          "2025-02-27T00:00:00.000000000",
          "2025-02-28T00:00:00.000000000",
          "2025-03-03T00:00:00.000000000",
          "2025-03-04T00:00:00.000000000",
          "2025-03-05T00:00:00.000000000",
          "2025-03-06T00:00:00.000000000",
          "2025-03-07T00:00:00.000000000",
          "2025-03-10T00:00:00.000000000",
          "2025-03-11T00:00:00.000000000",
          "2025-03-12T00:00:00.000000000",
          "2025-03-13T00:00:00.000000000",
          "2025-03-14T00:00:00.000000000",
          "2025-03-17T00:00:00.000000000",
          "2025-03-18T00:00:00.000000000",
          "2025-03-19T00:00:00.000000000",
          "2025-03-20T00:00:00.000000000",
          "2025-03-21T00:00:00.000000000",
          "2025-03-24T00:00:00.000000000",
          "2025-03-25T00:00:00.000000000",
          "2025-03-26T00:00:00.000000000",
          "2025-03-27T00:00:00.000000000",
          "2025-03-28T00:00:00.000000000",
          "2025-03-31T00:00:00.000000000",
          "2025-04-01T00:00:00.000000000",
          "2025-04-02T00:00:00.000000000",
          "2025-04-03T00:00:00.000000000",
          "2025-04-04T00:00:00.000000000",
          "2025-04-07T00:00:00.000000000",
          "2025-04-08T00:00:00.000000000",
          "2025-04-09T00:00:00.000000000",
          "2025-04-10T00:00:00.000000000",
          "2025-04-11T00:00:00.000000000",
          "2025-04-14T00:00:00.000000000",
          "2025-04-15T00:00:00.000000000",
          "2025-04-16T00:00:00.000000000",
          "2025-04-17T00:00:00.000000000",
          "2025-04-21T00:00:00.000000000",
          "2025-04-22T00:00:00.000000000",
          "2025-04-23T00:00:00.000000000",
          "2025-04-24T00:00:00.000000000",
          "2025-04-25T00:00:00.000000000",
          "2025-04-28T00:00:00.000000000",
          "2025-04-29T00:00:00.000000000",
          "2025-04-30T00:00:00.000000000",
          "2025-05-01T00:00:00.000000000",
          "2025-05-02T00:00:00.000000000",
          "2025-05-05T00:00:00.000000000",
          "2025-05-06T00:00:00.000000000",
          "2025-05-07T00:00:00.000000000",
          "2025-05-08T00:00:00.000000000",
          "2025-05-09T00:00:00.000000000",
          "2025-05-12T00:00:00.000000000",
          "2025-05-13T00:00:00.000000000",
          "2025-05-14T00:00:00.000000000",
          "2025-05-15T00:00:00.000000000",
          "2025-05-16T00:00:00.000000000",
          "2025-05-19T00:00:00.000000000",
          "2025-05-20T00:00:00.000000000",
          "2025-05-21T00:00:00.000000000",
          "2025-05-22T00:00:00.000000000",
          "2025-05-23T00:00:00.000000000",
          "2025-05-27T00:00:00.000000000",
          "2025-05-28T00:00:00.000000000",
          "2025-05-29T00:00:00.000000000",
          "2025-05-30T00:00:00.000000000",
          "2025-06-02T00:00:00.000000000",
          "2025-06-03T00:00:00.000000000",
          "2025-06-04T00:00:00.000000000",
          "2025-06-05T00:00:00.000000000",
          "2025-06-06T00:00:00.000000000",
          "2025-06-09T00:00:00.000000000",
          "2025-06-10T00:00:00.000000000",
          "2025-06-11T00:00:00.000000000",
          "2025-06-12T00:00:00.000000000",
          "2025-06-13T00:00:00.000000000",
          "2025-06-16T00:00:00.000000000",
          "2025-06-17T00:00:00.000000000",
          "2025-06-18T00:00:00.000000000",
          "2025-06-20T00:00:00.000000000",
          "2025-06-23T00:00:00.000000000",
          "2025-06-24T00:00:00.000000000",
          "2025-06-25T00:00:00.000000000",
          "2025-06-26T00:00:00.000000000",
          "2025-06-27T00:00:00.000000000",
          "2025-06-30T00:00:00.000000000",
          "2025-07-01T00:00:00.000000000",
          "2025-07-02T00:00:00.000000000",
          "2025-07-03T00:00:00.000000000",
          "2025-07-07T00:00:00.000000000",
          "2025-07-08T00:00:00.000000000",
          "2025-07-09T00:00:00.000000000",
          "2025-07-10T00:00:00.000000000",
          "2025-07-11T00:00:00.000000000",
          "2025-07-14T00:00:00.000000000",
          "2025-07-15T00:00:00.000000000",
          "2025-07-16T00:00:00.000000000",
          "2025-07-17T00:00:00.000000000",
          "2025-07-18T00:00:00.000000000",
          "2025-07-21T00:00:00.000000000",
          "2025-07-22T00:00:00.000000000",
          "2025-07-23T00:00:00.000000000",
          "2025-07-24T00:00:00.000000000",
          "2025-07-25T00:00:00.000000000",
          "2025-07-28T00:00:00.000000000",
          "2025-07-29T00:00:00.000000000",
          "2025-07-30T00:00:00.000000000",
          "2025-07-31T00:00:00.000000000",
          "2025-08-01T00:00:00.000000000",
          "2025-08-04T00:00:00.000000000",
          "2025-08-05T00:00:00.000000000",
          "2025-08-06T00:00:00.000000000",
          "2025-08-07T00:00:00.000000000",
          "2025-08-08T00:00:00.000000000",
          "2025-08-11T00:00:00.000000000",
          "2025-08-12T00:00:00.000000000",
          "2025-08-13T00:00:00.000000000",
          "2025-08-14T00:00:00.000000000",
          "2025-08-15T00:00:00.000000000",
          "2025-08-18T00:00:00.000000000",
          "2025-08-19T00:00:00.000000000",
          "2025-08-20T00:00:00.000000000",
          "2025-08-21T00:00:00.000000000",
          "2025-08-22T00:00:00.000000000",
          "2025-08-25T00:00:00.000000000",
          "2025-08-26T00:00:00.000000000",
          "2025-08-27T00:00:00.000000000",
          "2025-08-28T00:00:00.000000000",
          "2025-08-29T00:00:00.000000000",
          "2025-09-02T00:00:00.000000000",
          "2025-09-03T00:00:00.000000000",
          "2025-09-04T00:00:00.000000000",
          "2025-09-05T00:00:00.000000000",
          "2025-09-08T00:00:00.000000000",
          "2025-09-09T00:00:00.000000000",
          "2025-09-10T00:00:00.000000000",
          "2025-09-11T00:00:00.000000000",
          "2025-09-12T00:00:00.000000000",
          "2025-09-15T00:00:00.000000000",
          "2025-09-16T00:00:00.000000000",
          "2025-09-17T00:00:00.000000000",
          "2025-09-18T00:00:00.000000000",
          "2025-09-19T00:00:00.000000000",
          "2025-09-22T00:00:00.000000000",
          "2025-09-23T00:00:00.000000000",
          "2025-09-24T00:00:00.000000000",
          "2025-09-25T00:00:00.000000000",
          "2025-09-26T00:00:00.000000000",
          "2025-09-29T00:00:00.000000000",
          "2025-09-30T00:00:00.000000000",
          "2025-10-01T00:00:00.000000000",
          "2025-10-02T00:00:00.000000000",
          "2025-10-03T00:00:00.000000000",
          "2025-10-06T00:00:00.000000000",
          "2025-10-07T00:00:00.000000000",
          "2025-10-08T00:00:00.000000000",
          "2025-10-09T00:00:00.000000000",
          "2025-10-10T00:00:00.000000000",
          "2025-10-10T14:52:03.000000000",
          "2025-10-10T14:52:05.000000000",
          "2025-10-10T14:52:12.000000000",
          "2025-10-10T14:52:16.000000000",
          "2025-10-10T14:57:12.000000000",
          "2025-10-10T15:07:04.000000000"
         ],
         "y": {
          "bdata": "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",
          "dtype": "f8"
         }
        }
       ],
       "layout": {
        "template": {
         "data": {
          "bar": [
           {
            "error_x": {
             "color": "#2a3f5f"
            },
            "error_y": {
             "color": "#2a3f5f"
            },
            "marker": {
             "line": {
              "color": "white",
              "width": 0.5
             },
             "pattern": {
              "fillmode": "overlay",
              "size": 10,
              "solidity": 0.2
             }
            },
            "type": "bar"
           }
          ],
          "barpolar": [
           {
            "marker": {
             "line": {
              "color": "white",
              "width": 0.5
             },
             "pattern": {
              "fillmode": "overlay",
              "size": 10,
              "solidity": 0.2
             }
            },
            "type": "barpolar"
           }
          ],
          "carpet": [
           {
            "aaxis": {
             "endlinecolor": "#2a3f5f",
             "gridcolor": "#C8D4E3",
             "linecolor": "#C8D4E3",
             "minorgridcolor": "#C8D4E3",
             "startlinecolor": "#2a3f5f"
            },
            "baxis": {
             "endlinecolor": "#2a3f5f",
             "gridcolor": "#C8D4E3",
             "linecolor": "#C8D4E3",
             "minorgridcolor": "#C8D4E3",
             "startlinecolor": "#2a3f5f"
            },
            "type": "carpet"
           }
          ],
          "choropleth": [
           {
            "colorbar": {
             "outlinewidth": 0,
             "ticks": ""
            },
            "type": "choropleth"
           }
          ],
          "contour": [
           {
            "colorbar": {
             "outlinewidth": 0,
             "ticks": ""
            },
            "colorscale": [
             [
              0,
              "#0d0887"
             ],
             [
              0.1111111111111111,
              "#46039f"
             ],
             [
              0.2222222222222222,
              "#7201a8"
             ],
             [
              0.3333333333333333,
              "#9c179e"
             ],
             [
              0.4444444444444444,
              "#bd3786"
             ],
             [
              0.5555555555555556,
              "#d8576b"
             ],
             [
              0.6666666666666666,
              "#ed7953"
             ],
             [
              0.7777777777777778,
              "#fb9f3a"
             ],
             [
              0.8888888888888888,
              "#fdca26"
             ],
             [
              1,
              "#f0f921"
             ]
            ],
            "type": "contour"
           }
          ],
          "contourcarpet": [
           {
            "colorbar": {
             "outlinewidth": 0,
             "ticks": ""
            },
            "type": "contourcarpet"
           }
          ],
          "heatmap": [
           {
            "colorbar": {
             "outlinewidth": 0,
             "ticks": ""
            },
            "colorscale": [
             [
              0,
              "#0d0887"
             ],
             [
              0.1111111111111111,
              "#46039f"
             ],
             [
              0.2222222222222222,
              "#7201a8"
             ],
             [
              0.3333333333333333,
              "#9c179e"
             ],
             [
              0.4444444444444444,
              "#bd3786"
             ],
             [
              0.5555555555555556,
              "#d8576b"
             ],
             [
              0.6666666666666666,
              "#ed7953"
             ],
             [
              0.7777777777777778,
              "#fb9f3a"
             ],
             [
              0.8888888888888888,
              "#fdca26"
             ],
             [
              1,
              "#f0f921"
             ]
            ],
            "type": "heatmap"
           }
          ],
          "histogram": [
           {
            "marker": {
             "pattern": {
              "fillmode": "overlay",
              "size": 10,
              "solidity": 0.2
             }
            },
            "type": "histogram"
           }
          ],
          "histogram2d": [
           {
            "colorbar": {
             "outlinewidth": 0,
             "ticks": ""
            },
            "colorscale": [
             [
              0,
              "#0d0887"
             ],
             [
              0.1111111111111111,
              "#46039f"
             ],
             [
              0.2222222222222222,
              "#7201a8"
             ],
             [
              0.3333333333333333,
              "#9c179e"
             ],
             [
              0.4444444444444444,
              "#bd3786"
             ],
             [
              0.5555555555555556,
              "#d8576b"
             ],
             [
              0.6666666666666666,
              "#ed7953"
             ],
             [
              0.7777777777777778,
              "#fb9f3a"
             ],
             [
              0.8888888888888888,
              "#fdca26"
             ],
             [
              1,
              "#f0f921"
             ]
            ],
            "type": "histogram2d"
           }
          ],
          "histogram2dcontour": [
           {
            "colorbar": {
             "outlinewidth": 0,
             "ticks": ""
            },
            "colorscale": [
             [
              0,
              "#0d0887"
             ],
             [
              0.1111111111111111,
              "#46039f"
             ],
             [
              0.2222222222222222,
              "#7201a8"
             ],
             [
              0.3333333333333333,
              "#9c179e"
             ],
             [
              0.4444444444444444,
              "#bd3786"
             ],
             [
              0.5555555555555556,
              "#d8576b"
             ],
             [
              0.6666666666666666,
              "#ed7953"
             ],
             [
              0.7777777777777778,
              "#fb9f3a"
             ],
             [
              0.8888888888888888,
              "#fdca26"
             ],
             [
              1,
              "#f0f921"
             ]
            ],
            "type": "histogram2dcontour"
           }
          ],
          "mesh3d": [
           {
            "colorbar": {
             "outlinewidth": 0,
             "ticks": ""
            },
            "type": "mesh3d"
           }
          ],
          "parcoords": [
           {
            "line": {
             "colorbar": {
              "outlinewidth": 0,
              "ticks": ""
             }
            },
            "type": "parcoords"
           }
          ],
          "pie": [
           {
            "automargin": true,
            "type": "pie"
           }
          ],
          "scatter": [
           {
            "fillpattern": {
             "fillmode": "overlay",
             "size": 10,
             "solidity": 0.2
            },
            "type": "scatter"
           }
          ],
          "scatter3d": [
           {
            "line": {
             "colorbar": {
              "outlinewidth": 0,
              "ticks": ""
             }
            },
            "marker": {
             "colorbar": {
              "outlinewidth": 0,
              "ticks": ""
             }
            },
            "type": "scatter3d"
           }
          ],
          "scattercarpet": [
           {
            "marker": {
             "colorbar": {
              "outlinewidth": 0,
              "ticks": ""
             }
            },
            "type": "scattercarpet"
           }
          ],
          "scattergeo": [
           {
            "marker": {
             "colorbar": {
              "outlinewidth": 0,
              "ticks": ""
             }
            },
            "type": "scattergeo"
           }
          ],
          "scattergl": [
           {
            "marker": {
             "colorbar": {
              "outlinewidth": 0,
              "ticks": ""
             }
            },
            "type": "scattergl"
           }
          ],
          "scattermap": [
           {
            "marker": {
             "colorbar": {
              "outlinewidth": 0,
              "ticks": ""
             }
            },
            "type": "scattermap"
           }
          ],
          "scattermapbox": [
           {
            "marker": {
             "colorbar": {
              "outlinewidth": 0,
              "ticks": ""
             }
            },
            "type": "scattermapbox"
           }
          ],
          "scatterpolar": [
           {
            "marker": {
             "colorbar": {
              "outlinewidth": 0,
              "ticks": ""
             }
            },
            "type": "scatterpolar"
           }
          ],
          "scatterpolargl": [
           {
            "marker": {
             "colorbar": {
              "outlinewidth": 0,
              "ticks": ""
             }
            },
            "type": "scatterpolargl"
           }
          ],
          "scatterternary": [
           {
            "marker": {
             "colorbar": {
              "outlinewidth": 0,
              "ticks": ""
             }
            },
            "type": "scatterternary"
           }
          ],
          "surface": [
           {
            "colorbar": {
             "outlinewidth": 0,
             "ticks": ""
            },
            "colorscale": [
             [
              0,
              "#0d0887"
             ],
             [
              0.1111111111111111,
              "#46039f"
             ],
             [
              0.2222222222222222,
              "#7201a8"
             ],
             [
              0.3333333333333333,
              "#9c179e"
             ],
             [
              0.4444444444444444,
              "#bd3786"
             ],
             [
              0.5555555555555556,
              "#d8576b"
             ],
             [
              0.6666666666666666,
              "#ed7953"
             ],
             [
              0.7777777777777778,
              "#fb9f3a"
             ],
             [
              0.8888888888888888,
              "#fdca26"
             ],
             [
              1,
              "#f0f921"
             ]
            ],
            "type": "surface"
           }
          ],
          "table": [
           {
            "cells": {
             "fill": {
              "color": "#EBF0F8"
             },
             "line": {
              "color": "white"
             }
            },
            "header": {
             "fill": {
              "color": "#C8D4E3"
             },
             "line": {
              "color": "white"
             }
            },
            "type": "table"
           }
          ]
         },
         "layout": {
          "annotationdefaults": {
           "arrowcolor": "#2a3f5f",
           "arrowhead": 0,
           "arrowwidth": 1
          },
          "autotypenumbers": "strict",
          "coloraxis": {
           "colorbar": {
            "outlinewidth": 0,
            "ticks": ""
           }
          },
          "colorscale": {
           "diverging": [
            [
             0,
             "#8e0152"
            ],
            [
             0.1,
             "#c51b7d"
            ],
            [
             0.2,
             "#de77ae"
            ],
            [
             0.3,
             "#f1b6da"
            ],
            [
             0.4,
             "#fde0ef"
            ],
            [
             0.5,
             "#f7f7f7"
            ],
            [
             0.6,
             "#e6f5d0"
            ],
            [
             0.7,
             "#b8e186"
            ],
            [
             0.8,
             "#7fbc41"
            ],
            [
             0.9,
             "#4d9221"
            ],
            [
             1,
             "#276419"
            ]
           ],
           "sequential": [
            [
             0,
             "#0d0887"
            ],
            [
             0.1111111111111111,
             "#46039f"
            ],
            [
             0.2222222222222222,
             "#7201a8"
            ],
            [
             0.3333333333333333,
             "#9c179e"
            ],
            [
             0.4444444444444444,
             "#bd3786"
            ],
            [
             0.5555555555555556,
             "#d8576b"
            ],
            [
             0.6666666666666666,
             "#ed7953"
            ],
            [
             0.7777777777777778,
             "#fb9f3a"
            ],
            [
             0.8888888888888888,
             "#fdca26"
            ],
            [
             1,
             "#f0f921"
            ]
           ],
           "sequentialminus": [
            [
             0,
             "#0d0887"
            ],
            [
             0.1111111111111111,
             "#46039f"
            ],
            [
             0.2222222222222222,
             "#7201a8"
            ],
            [
             0.3333333333333333,
             "#9c179e"
            ],
            [
             0.4444444444444444,
             "#bd3786"
            ],
            [
             0.5555555555555556,
             "#d8576b"
            ],
            [
             0.6666666666666666,
             "#ed7953"
            ],
            [
             0.7777777777777778,
             "#fb9f3a"
            ],
            [
             0.8888888888888888,
             "#fdca26"
            ],
            [
             1,
             "#f0f921"
            ]
           ]
          },
          "colorway": [
           "#636efa",
           "#EF553B",
           "#00cc96",
           "#ab63fa",
           "#FFA15A",
           "#19d3f3",
           "#FF6692",
           "#B6E880",
           "#FF97FF",
           "#FECB52"
          ],
          "font": {
           "color": "#2a3f5f"
          },
          "geo": {
           "bgcolor": "white",
           "lakecolor": "white",
           "landcolor": "white",
           "showlakes": true,
           "showland": true,
           "subunitcolor": "#C8D4E3"
          },
          "hoverlabel": {
           "align": "left"
          },
          "hovermode": "closest",
          "mapbox": {
           "style": "light"
          },
          "paper_bgcolor": "white",
          "plot_bgcolor": "white",
          "polar": {
           "angularaxis": {
            "gridcolor": "#EBF0F8",
            "linecolor": "#EBF0F8",
            "ticks": ""
           },
           "bgcolor": "white",
           "radialaxis": {
            "gridcolor": "#EBF0F8",
            "linecolor": "#EBF0F8",
            "ticks": ""
           }
          },
          "scene": {
           "xaxis": {
            "backgroundcolor": "white",
            "gridcolor": "#DFE8F3",
            "gridwidth": 2,
            "linecolor": "#EBF0F8",
            "showbackground": true,
            "ticks": "",
            "zerolinecolor": "#EBF0F8"
           },
           "yaxis": {
            "backgroundcolor": "white",
            "gridcolor": "#DFE8F3",
            "gridwidth": 2,
            "linecolor": "#EBF0F8",
            "showbackground": true,
            "ticks": "",
            "zerolinecolor": "#EBF0F8"
           },
           "zaxis": {
            "backgroundcolor": "white",
            "gridcolor": "#DFE8F3",
            "gridwidth": 2,
            "linecolor": "#EBF0F8",
            "showbackground": true,
            "ticks": "",
            "zerolinecolor": "#EBF0F8"
           }
          },
          "shapedefaults": {
           "line": {
            "color": "#2a3f5f"
           }
          },
          "ternary": {
           "aaxis": {
            "gridcolor": "#DFE8F3",
            "linecolor": "#A2B1C6",
            "ticks": ""
           },
           "baxis": {
            "gridcolor": "#DFE8F3",
            "linecolor": "#A2B1C6",
            "ticks": ""
           },
           "bgcolor": "white",
           "caxis": {
            "gridcolor": "#DFE8F3",
            "linecolor": "#A2B1C6",
            "ticks": ""
           }
          },
          "title": {
           "x": 0.05
          },
          "xaxis": {
           "automargin": true,
           "gridcolor": "#EBF0F8",
           "linecolor": "#EBF0F8",
           "ticks": "",
           "title": {
            "standoff": 15
           },
           "zerolinecolor": "#EBF0F8",
           "zerolinewidth": 2
          },
          "yaxis": {
           "automargin": true,
           "gridcolor": "#EBF0F8",
           "linecolor": "#EBF0F8",
           "ticks": "",
           "title": {
            "standoff": 15
           },
           "zerolinecolor": "#EBF0F8",
           "zerolinewidth": 2
          }
         }
        },
        "title": {
         "text": "S&P 500 Market Momentum"
        },
        "xaxis": {
         "title": {
          "text": "Date"
         }
        },
        "yaxis": {
         "range": [
          4733.6315,
          7091.406000000001
         ],
         "title": {
          "text": "Score"
         }
        }
       }
      }
     },
     "metadata": {},
     "output_type": "display_data"
    },
    {
     "data": {
      "application/vnd.plotly.v1+json": {
       "config": {
        "plotlyServerURL": "https://plot.ly"
       },
       "data": [
        {
         "hoverinfo": "text+x",
         "line": {
          "color": "lightgray",
          "width": 2
         },
         "marker": {
          "color": [
           "darkred",
           "darkred",
           "darkred",
           "darkred",
           "darkred",
           "darkred",
           "darkred",
           "darkred",
           "darkred",
           "darkred",
           "darkred",
           "darkred",
           "darkred",
           "darkred",
           "darkred",
           "darkred",
           "darkred",
           "darkred",
           "darkred",
           "darkred",
           "darkred",
           "darkred",
           "darkred",
           "darkred",
           "darkred",
           "darkred",
           "darkred",
           "darkred",
           "darkred",
           "darkred",
           "darkred",
           "darkred",
           "darkred",
           "darkred",
           "darkred",
           "darkred",
           "darkred",
           "darkred",
           "darkred",
           "darkred",
           "darkred",
           "darkred",
           "darkred",
           "darkred",
           "darkred",
           "darkred",
           "darkred",
           "darkred",
           "darkred",
           "darkred",
           "darkred",
           "darkred",
           "red",
           "red",
           "red",
           "red",
           "red",
           "red",
           "red",
           "red",
           "red",
           "red",
           "red",
           "red",
           "red",
           "red",
           "red",
           "red",
           "red",
           "red",
           "red",
           "gold",
           "gold",
           "gold",
           "gold",
           "gold",
           "gold",
           "gold",
           "gold",
           "gold",
           "gold",
           "gold",
           "gold",
           "gold",
           "gold",
           "green",
           "green",
           "green",
           "green",
           "green",
           "green",
           "green",
           "green",
           "green",
           "green",
           "green",
           "green",
           "green",
           "green",
           "green",
           "green",
           "green",
           "green",
           "green",
           "green",
           "green",
           "green",
           "green",
           "green",
           "green",
           "green",
           "green",
           "green",
           "green",
           "green",
           "green",
           "green",
           "green",
           "green",
           "green",
           "green",
           "green",
           "green",
           "green",
           "green",
           "green",
           "green",
           "green",
           "green",
           "green",
           "gold",
           "gold",
           "gold",
           "gold",
           "gold",
           "gold",
           "gold",
           "gold",
           "gold",
           "gold",
           "gold",
           "gold",
           "gold",
           "gold",
           "gold",
           "gold",
           "gold",
           "gold",
           "gold",
           "gold",
           "gold",
           "gold",
           "gold",
           "gold",
           "gold",
           "gold",
           "gold",
           "gold",
           "gold",
           "gold",
           "gold",
           "gold",
           "gold",
           "gold",
           "gold",
           "gold",
           "gold",
           "gold",
           "gold",
           "gold",
           "gold",
           "gold",
           "gold",
           "gold",
           "gold",
           "gold",
           "gold",
           "gold",
           "gold",
           "gold",
           "gold",
           "gold",
           "gold",
           "gold",
           "gold",
           "gold",
           "gold",
           "gold",
           "gold",
           "gold",
           "gold",
           "green",
           "green",
           "green",
           "green",
           "green",
           "green",
           "green",
           "green",
           "green",
           "green",
           "green",
           "green",
           "green",
           "green",
           "green",
           "green",
           "green",
           "green",
           "green",
           "green",
           "green",
           "green",
           "green",
           "green",
           "green",
           "darkgreen",
           "darkgreen",
           "darkgreen",
           "darkgreen",
           "darkgreen",
           "darkgreen",
           "darkgreen",
           "darkgreen",
           "darkgreen",
           "darkgreen",
           "darkgreen",
           "darkgreen",
           "darkgreen",
           "darkgreen",
           "darkgreen",
           "darkgreen",
           "darkgreen",
           "darkgreen",
           "darkgreen",
           "darkgreen",
           "darkgreen",
           "darkgreen",
           "darkgreen",
           "darkgreen",
           "darkgreen",
           "darkgreen",
           "darkgreen",
           "darkgreen",
           "darkgreen",
           "darkgreen",
           "darkgreen",
           "darkgreen",
           "darkgreen",
           "darkgreen",
           "darkgreen",
           null,
           null,
           null,
           null,
           "darkgreen",
           null
          ],
          "size": 8
         },
         "mode": "lines+markers",
         "text": [
          "5434.40 (Extreme Fear)",
          "5440.43 (Extreme Fear)",
          "5446.89 (Extreme Fear)",
          "5453.24 (Extreme Fear)",
          "5459.89 (Extreme Fear)",
          "5466.88 (Extreme Fear)",
          "5473.71 (Extreme Fear)",
          "5479.98 (Extreme Fear)",
          "5486.22 (Extreme Fear)",
          "5492.21 (Extreme Fear)",
          "5497.89 (Extreme Fear)",
          "5503.43 (Extreme Fear)",
          "5509.73 (Extreme Fear)",
          "5516.24 (Extreme Fear)",
          "5522.24 (Extreme Fear)",
          "5526.86 (Extreme Fear)",
          "5531.25 (Extreme Fear)",
          "5535.45 (Extreme Fear)",
          "5540.21 (Extreme Fear)",
          "5545.93 (Extreme Fear)",
          "5551.93 (Extreme Fear)",
          "5558.12 (Extreme Fear)",
          "5564.16 (Extreme Fear)",
          "5569.57 (Extreme Fear)",
          "5575.07 (Extreme Fear)",
          "5580.24 (Extreme Fear)",
          "5584.74 (Extreme Fear)",
          "5589.32 (Extreme Fear)",
          "5594.20 (Extreme Fear)",
          "5599.39 (Extreme Fear)",
          "5604.54 (Extreme Fear)",
          "5609.85 (Extreme Fear)",
          "5615.61 (Extreme Fear)",
          "5621.90 (Extreme Fear)",
          "5627.67 (Extreme Fear)",
          "5633.66 (Extreme Fear)",
          "5639.71 (Extreme Fear)",
          "5645.28 (Extreme Fear)",
          "5651.15 (Extreme Fear)",
          "5656.97 (Extreme Fear)",
          "5662.81 (Extreme Fear)",
          "5668.23 (Extreme Fear)",
          "5673.14 (Extreme Fear)",
          "5678.34 (Extreme Fear)",
          "5683.30 (Extreme Fear)",
          "5687.92 (Extreme Fear)",
          "5692.62 (Extreme Fear)",
          "5697.24 (Extreme Fear)",
          "5700.50 (Extreme Fear)",
          "5703.85 (Extreme Fear)",
          "5707.54 (Extreme Fear)",
          "5711.51 (Extreme Fear)",
          "5715.97 (Fear)",
          "5720.59 (Fear)",
          "5724.55 (Fear)",
          "5727.74 (Fear)",
          "5730.49 (Fear)",
          "5732.90 (Fear)",
          "5735.86 (Fear)",
          "5739.05 (Fear)",
          "5741.25 (Fear)",
          "5743.92 (Fear)",
          "5745.61 (Fear)",
          "5747.25 (Fear)",
          "5748.66 (Fear)",
          "5751.55 (Fear)",
          "5754.69 (Fear)",
          "5758.63 (Fear)",
          "5762.51 (Fear)",
          "5766.75 (Fear)",
          "5772.28 (Fear)",
          "5777.90 (Neutral)",
          "5782.32 (Neutral)",
          "5787.16 (Neutral)",
          "5791.98 (Neutral)",
          "5796.37 (Neutral)",
          "5801.12 (Neutral)",
          "5806.31 (Neutral)",
          "5813.12 (Neutral)",
          "5819.69 (Neutral)",
          "5826.76 (Neutral)",
          "5832.42 (Neutral)",
          "5838.19 (Neutral)",
          "5843.99 (Neutral)",
          "5848.93 (Neutral)",
          "5854.21 (Greed)",
          "5858.78 (Greed)",
          "5863.38 (Greed)",
          "5867.67 (Greed)",
          "5871.83 (Greed)",
          "5874.97 (Greed)",
          "5878.27 (Greed)",
          "5880.84 (Greed)",
          "5883.55 (Greed)",
          "5885.44 (Greed)",
          "5888.33 (Greed)",
          "5890.40 (Greed)",
          "5891.43 (Greed)",
          "5893.94 (Greed)",
          "5895.69 (Greed)",
          "5897.83 (Greed)",
          "5899.47 (Greed)",
          "5900.28 (Greed)",
          "5901.11 (Greed)",
          "5900.85 (Greed)",
          "5901.20 (Greed)",
          "5901.59 (Greed)",
          "5901.44 (Greed)",
          "5901.77 (Greed)",
          "5902.13 (Greed)",
          "5901.76 (Greed)",
          "5902.28 (Greed)",
          "5902.74 (Greed)",
          "5902.58 (Greed)",
          "5902.34 (Greed)",
          "5901.03 (Greed)",
          "5900.02 (Greed)",
          "5898.98 (Greed)",
          "5898.68 (Greed)",
          "5896.18 (Greed)",
          "5891.17 (Greed)",
          "5885.66 (Greed)",
          "5879.95 (Greed)",
          "5877.60 (Greed)",
          "5873.41 (Greed)",
          "5870.07 (Greed)",
          "5866.80 (Greed)",
          "5863.10 (Greed)",
          "5858.78 (Greed)",
          "5854.30 (Greed)",
          "5848.84 (Neutral)",
          "5844.22 (Neutral)",
          "5840.40 (Neutral)",
          "5837.46 (Neutral)",
          "5835.29 (Neutral)",
          "5833.04 (Neutral)",
          "5831.06 (Neutral)",
          "5829.02 (Neutral)",
          "5827.19 (Neutral)",
          "5826.18 (Neutral)",
          "5825.74 (Neutral)",
          "5824.76 (Neutral)",
          "5824.11 (Neutral)",
          "5823.16 (Neutral)",
          "5821.01 (Neutral)",
          "5819.98 (Neutral)",
          "5819.10 (Neutral)",
          "5818.23 (Neutral)",
          "5817.70 (Neutral)",
          "5817.48 (Neutral)",
          "5817.60 (Neutral)",
          "5818.15 (Neutral)",
          "5817.76 (Neutral)",
          "5817.16 (Neutral)",
          "5816.25 (Neutral)",
          "5816.03 (Neutral)",
          "5815.39 (Neutral)",
          "5814.78 (Neutral)",
          "5813.90 (Neutral)",
          "5813.40 (Neutral)",
          "5812.91 (Neutral)",
          "5812.29 (Neutral)",
          "5811.41 (Neutral)",
          "5810.72 (Neutral)",
          "5810.17 (Neutral)",
          "5809.76 (Neutral)",
          "5809.51 (Neutral)",
          "5809.59 (Neutral)",
          "5808.74 (Neutral)",
          "5808.59 (Neutral)",
          "5808.04 (Neutral)",
          "5807.30 (Neutral)",
          "5806.64 (Neutral)",
          "5807.86 (Neutral)",
          "5809.66 (Neutral)",
          "5810.95 (Neutral)",
          "5812.29 (Neutral)",
          "5813.35 (Neutral)",
          "5814.69 (Neutral)",
          "5816.51 (Neutral)",
          "5819.07 (Neutral)",
          "5822.25 (Neutral)",
          "5825.14 (Neutral)",
          "5827.41 (Neutral)",
          "5829.71 (Neutral)",
          "5832.68 (Neutral)",
          "5835.42 (Neutral)",
          "5838.95 (Neutral)",
          "5842.21 (Neutral)",
          "5845.57 (Neutral)",
          "5848.35 (Neutral)",
          "5851.23 (Greed)",
          "5853.70 (Greed)",
          "5855.78 (Greed)",
          "5857.96 (Greed)",
          "5859.92 (Greed)",
          "5862.22 (Greed)",
          "5865.24 (Greed)",
          "5867.67 (Greed)",
          "5870.25 (Greed)",
          "5872.40 (Greed)",
          "5873.98 (Greed)",
          "5876.66 (Greed)",
          "5878.75 (Greed)",
          "5881.02 (Greed)",
          "5883.07 (Greed)",
          "5885.98 (Greed)",
          "5888.44 (Greed)",
          "5891.46 (Greed)",
          "5894.77 (Greed)",
          "5897.60 (Greed)",
          "5900.28 (Greed)",
          "5902.84 (Greed)",
          "5904.98 (Greed)",
          "5907.20 (Greed)",
          "5910.06 (Greed)",
          "5913.93 (Extreme Greed)",
          "5917.80 (Extreme Greed)",
          "5921.88 (Extreme Greed)",
          "5926.84 (Extreme Greed)",
          "5931.22 (Extreme Greed)",
          "5936.10 (Extreme Greed)",
          "5941.20 (Extreme Greed)",
          "5946.04 (Extreme Greed)",
          "5952.15 (Extreme Greed)",
          "5957.84 (Extreme Greed)",
          "5964.89 (Extreme Greed)",
          "5972.41 (Extreme Greed)",
          "5979.87 (Extreme Greed)",
          "5988.40 (Extreme Greed)",
          "5995.97 (Extreme Greed)",
          "6003.49 (Extreme Greed)",
          "6011.42 (Extreme Greed)",
          "6018.82 (Extreme Greed)",
          "6026.58 (Extreme Greed)",
          "6034.55 (Extreme Greed)",
          "6041.96 (Extreme Greed)",
          "6049.00 (Extreme Greed)",
          "6056.41 (Extreme Greed)",
          "6063.70 (Extreme Greed)",
          "6072.20 (Extreme Greed)",
          "6080.60 (Extreme Greed)",
          "6089.04 (Extreme Greed)",
          "6097.36 (Extreme Greed)",
          "6107.91 (Extreme Greed)",
          "6121.05 (Extreme Greed)",
          "6134.47 (Extreme Greed)",
          "6148.32 (Extreme Greed)",
          "6158.70 (Extreme Greed)",
          "6170.44 (Extreme Greed)",
          "6181.54 (Extreme Greed)",
          "nan (nan)",
          "nan (nan)",
          "nan (nan)",
          "nan (nan)",
          "6181.54 (Extreme Greed)",
          "nan (nan)"
         ],
         "type": "scatter",
         "x": [
          "2024-10-10T00:00:00.000000000",
          "2024-10-11T00:00:00.000000000",
          "2024-10-14T00:00:00.000000000",
          "2024-10-15T00:00:00.000000000",
          "2024-10-16T00:00:00.000000000",
          "2024-10-17T00:00:00.000000000",
          "2024-10-18T00:00:00.000000000",
          "2024-10-21T00:00:00.000000000",
          "2024-10-22T00:00:00.000000000",
          "2024-10-23T00:00:00.000000000",
          "2024-10-24T00:00:00.000000000",
          "2024-10-25T00:00:00.000000000",
          "2024-10-28T00:00:00.000000000",
          "2024-10-29T00:00:00.000000000",
          "2024-10-30T00:00:00.000000000",
          "2024-10-31T00:00:00.000000000",
          "2024-11-01T00:00:00.000000000",
          "2024-11-04T00:00:00.000000000",
          "2024-11-05T00:00:00.000000000",
          "2024-11-06T00:00:00.000000000",
          "2024-11-07T00:00:00.000000000",
          "2024-11-08T00:00:00.000000000",
          "2024-11-11T00:00:00.000000000",
          "2024-11-12T00:00:00.000000000",
          "2024-11-13T00:00:00.000000000",
          "2024-11-14T00:00:00.000000000",
          "2024-11-15T00:00:00.000000000",
          "2024-11-18T00:00:00.000000000",
          "2024-11-19T00:00:00.000000000",
          "2024-11-20T00:00:00.000000000",
          "2024-11-21T00:00:00.000000000",
          "2024-11-22T00:00:00.000000000",
          "2024-11-25T00:00:00.000000000",
          "2024-11-26T00:00:00.000000000",
          "2024-11-27T00:00:00.000000000",
          "2024-11-29T00:00:00.000000000",
          "2024-12-02T00:00:00.000000000",
          "2024-12-03T00:00:00.000000000",
          "2024-12-04T00:00:00.000000000",
          "2024-12-05T00:00:00.000000000",
          "2024-12-06T00:00:00.000000000",
          "2024-12-09T00:00:00.000000000",
          "2024-12-10T00:00:00.000000000",
          "2024-12-11T00:00:00.000000000",
          "2024-12-12T00:00:00.000000000",
          "2024-12-13T00:00:00.000000000",
          "2024-12-16T00:00:00.000000000",
          "2024-12-17T00:00:00.000000000",
          "2024-12-18T00:00:00.000000000",
          "2024-12-19T00:00:00.000000000",
          "2024-12-20T00:00:00.000000000",
          "2024-12-23T00:00:00.000000000",
          "2024-12-24T00:00:00.000000000",
          "2024-12-26T00:00:00.000000000",
          "2024-12-27T00:00:00.000000000",
          "2024-12-30T00:00:00.000000000",
          "2024-12-31T00:00:00.000000000",
          "2025-01-02T00:00:00.000000000",
          "2025-01-03T00:00:00.000000000",
          "2025-01-06T00:00:00.000000000",
          "2025-01-07T00:00:00.000000000",
          "2025-01-08T00:00:00.000000000",
          "2025-01-10T00:00:00.000000000",
          "2025-01-13T00:00:00.000000000",
          "2025-01-14T00:00:00.000000000",
          "2025-01-15T00:00:00.000000000",
          "2025-01-16T00:00:00.000000000",
          "2025-01-17T00:00:00.000000000",
          "2025-01-21T00:00:00.000000000",
          "2025-01-22T00:00:00.000000000",
          "2025-01-23T00:00:00.000000000",
          "2025-01-24T00:00:00.000000000",
          "2025-01-27T00:00:00.000000000",
          "2025-01-28T00:00:00.000000000",
          "2025-01-29T00:00:00.000000000",
          "2025-01-30T00:00:00.000000000",
          "2025-01-31T00:00:00.000000000",
          "2025-02-03T00:00:00.000000000",
          "2025-02-04T00:00:00.000000000",
          "2025-02-05T00:00:00.000000000",
          "2025-02-06T00:00:00.000000000",
          "2025-02-07T00:00:00.000000000",
          "2025-02-10T00:00:00.000000000",
          "2025-02-11T00:00:00.000000000",
          "2025-02-12T00:00:00.000000000",
          "2025-02-13T00:00:00.000000000",
          "2025-02-14T00:00:00.000000000",
          "2025-02-18T00:00:00.000000000",
          "2025-02-19T00:00:00.000000000",
          "2025-02-20T00:00:00.000000000",
          "2025-02-21T00:00:00.000000000",
          "2025-02-24T00:00:00.000000000",
          "2025-02-25T00:00:00.000000000",
          "2025-02-26T00:00:00.000000000",
          "2025-02-27T00:00:00.000000000",
          "2025-02-28T00:00:00.000000000",
          "2025-03-03T00:00:00.000000000",
          "2025-03-04T00:00:00.000000000",
          "2025-03-05T00:00:00.000000000",
          "2025-03-06T00:00:00.000000000",
          "2025-03-07T00:00:00.000000000",
          "2025-03-10T00:00:00.000000000",
          "2025-03-11T00:00:00.000000000",
          "2025-03-12T00:00:00.000000000",
          "2025-03-13T00:00:00.000000000",
          "2025-03-14T00:00:00.000000000",
          "2025-03-17T00:00:00.000000000",
          "2025-03-18T00:00:00.000000000",
          "2025-03-19T00:00:00.000000000",
          "2025-03-20T00:00:00.000000000",
          "2025-03-21T00:00:00.000000000",
          "2025-03-24T00:00:00.000000000",
          "2025-03-25T00:00:00.000000000",
          "2025-03-26T00:00:00.000000000",
          "2025-03-27T00:00:00.000000000",
          "2025-03-28T00:00:00.000000000",
          "2025-03-31T00:00:00.000000000",
          "2025-04-01T00:00:00.000000000",
          "2025-04-02T00:00:00.000000000",
          "2025-04-03T00:00:00.000000000",
          "2025-04-04T00:00:00.000000000",
          "2025-04-07T00:00:00.000000000",
          "2025-04-08T00:00:00.000000000",
          "2025-04-09T00:00:00.000000000",
          "2025-04-10T00:00:00.000000000",
          "2025-04-11T00:00:00.000000000",
          "2025-04-14T00:00:00.000000000",
          "2025-04-15T00:00:00.000000000",
          "2025-04-16T00:00:00.000000000",
          "2025-04-17T00:00:00.000000000",
          "2025-04-21T00:00:00.000000000",
          "2025-04-22T00:00:00.000000000",
          "2025-04-23T00:00:00.000000000",
          "2025-04-24T00:00:00.000000000",
          "2025-04-25T00:00:00.000000000",
          "2025-04-28T00:00:00.000000000",
          "2025-04-29T00:00:00.000000000",
          "2025-04-30T00:00:00.000000000",
          "2025-05-01T00:00:00.000000000",
          "2025-05-02T00:00:00.000000000",
          "2025-05-05T00:00:00.000000000",
          "2025-05-06T00:00:00.000000000",
          "2025-05-07T00:00:00.000000000",
          "2025-05-08T00:00:00.000000000",
          "2025-05-09T00:00:00.000000000",
          "2025-05-12T00:00:00.000000000",
          "2025-05-13T00:00:00.000000000",
          "2025-05-14T00:00:00.000000000",
          "2025-05-15T00:00:00.000000000",
          "2025-05-16T00:00:00.000000000",
          "2025-05-19T00:00:00.000000000",
          "2025-05-20T00:00:00.000000000",
          "2025-05-21T00:00:00.000000000",
          "2025-05-22T00:00:00.000000000",
          "2025-05-23T00:00:00.000000000",
          "2025-05-27T00:00:00.000000000",
          "2025-05-28T00:00:00.000000000",
          "2025-05-29T00:00:00.000000000",
          "2025-05-30T00:00:00.000000000",
          "2025-06-02T00:00:00.000000000",
          "2025-06-03T00:00:00.000000000",
          "2025-06-04T00:00:00.000000000",
          "2025-06-05T00:00:00.000000000",
          "2025-06-06T00:00:00.000000000",
          "2025-06-09T00:00:00.000000000",
          "2025-06-10T00:00:00.000000000",
          "2025-06-11T00:00:00.000000000",
          "2025-06-12T00:00:00.000000000",
          "2025-06-13T00:00:00.000000000",
          "2025-06-16T00:00:00.000000000",
          "2025-06-17T00:00:00.000000000",
          "2025-06-18T00:00:00.000000000",
          "2025-06-20T00:00:00.000000000",
          "2025-06-23T00:00:00.000000000",
          "2025-06-24T00:00:00.000000000",
          "2025-06-25T00:00:00.000000000",
          "2025-06-26T00:00:00.000000000",
          "2025-06-27T00:00:00.000000000",
          "2025-06-30T00:00:00.000000000",
          "2025-07-01T00:00:00.000000000",
          "2025-07-02T00:00:00.000000000",
          "2025-07-03T00:00:00.000000000",
          "2025-07-07T00:00:00.000000000",
          "2025-07-08T00:00:00.000000000",
          "2025-07-09T00:00:00.000000000",
          "2025-07-10T00:00:00.000000000",
          "2025-07-11T00:00:00.000000000",
          "2025-07-14T00:00:00.000000000",
          "2025-07-15T00:00:00.000000000",
          "2025-07-16T00:00:00.000000000",
          "2025-07-17T00:00:00.000000000",
          "2025-07-18T00:00:00.000000000",
          "2025-07-21T00:00:00.000000000",
          "2025-07-22T00:00:00.000000000",
          "2025-07-23T00:00:00.000000000",
          "2025-07-24T00:00:00.000000000",
          "2025-07-25T00:00:00.000000000",
          "2025-07-28T00:00:00.000000000",
          "2025-07-29T00:00:00.000000000",
          "2025-07-30T00:00:00.000000000",
          "2025-07-31T00:00:00.000000000",
          "2025-08-01T00:00:00.000000000",
          "2025-08-04T00:00:00.000000000",
          "2025-08-05T00:00:00.000000000",
          "2025-08-06T00:00:00.000000000",
          "2025-08-07T00:00:00.000000000",
          "2025-08-08T00:00:00.000000000",
          "2025-08-11T00:00:00.000000000",
          "2025-08-12T00:00:00.000000000",
          "2025-08-13T00:00:00.000000000",
          "2025-08-14T00:00:00.000000000",
          "2025-08-15T00:00:00.000000000",
          "2025-08-18T00:00:00.000000000",
          "2025-08-19T00:00:00.000000000",
          "2025-08-20T00:00:00.000000000",
          "2025-08-21T00:00:00.000000000",
          "2025-08-22T00:00:00.000000000",
          "2025-08-25T00:00:00.000000000",
          "2025-08-26T00:00:00.000000000",
          "2025-08-27T00:00:00.000000000",
          "2025-08-28T00:00:00.000000000",
          "2025-08-29T00:00:00.000000000",
          "2025-09-02T00:00:00.000000000",
          "2025-09-03T00:00:00.000000000",
          "2025-09-04T00:00:00.000000000",
          "2025-09-05T00:00:00.000000000",
          "2025-09-08T00:00:00.000000000",
          "2025-09-09T00:00:00.000000000",
          "2025-09-10T00:00:00.000000000",
          "2025-09-11T00:00:00.000000000",
          "2025-09-12T00:00:00.000000000",
          "2025-09-15T00:00:00.000000000",
          "2025-09-16T00:00:00.000000000",
          "2025-09-17T00:00:00.000000000",
          "2025-09-18T00:00:00.000000000",
          "2025-09-19T00:00:00.000000000",
          "2025-09-22T00:00:00.000000000",
          "2025-09-23T00:00:00.000000000",
          "2025-09-24T00:00:00.000000000",
          "2025-09-25T00:00:00.000000000",
          "2025-09-26T00:00:00.000000000",
          "2025-09-29T00:00:00.000000000",
          "2025-09-30T00:00:00.000000000",
          "2025-10-01T00:00:00.000000000",
          "2025-10-02T00:00:00.000000000",
          "2025-10-03T00:00:00.000000000",
          "2025-10-06T00:00:00.000000000",
          "2025-10-07T00:00:00.000000000",
          "2025-10-08T00:00:00.000000000",
          "2025-10-09T00:00:00.000000000",
          "2025-10-10T00:00:00.000000000",
          "2025-10-10T14:52:03.000000000",
          "2025-10-10T14:52:05.000000000",
          "2025-10-10T14:52:12.000000000",
          "2025-10-10T14:52:16.000000000",
          "2025-10-10T14:57:12.000000000",
          "2025-10-10T15:07:04.000000000"
         ],
         "y": {
          "bdata": "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",
          "dtype": "f8"
         }
        }
       ],
       "layout": {
        "template": {
         "data": {
          "bar": [
           {
            "error_x": {
             "color": "#2a3f5f"
            },
            "error_y": {
             "color": "#2a3f5f"
            },
            "marker": {
             "line": {
              "color": "white",
              "width": 0.5
             },
             "pattern": {
              "fillmode": "overlay",
              "size": 10,
              "solidity": 0.2
             }
            },
            "type": "bar"
           }
          ],
          "barpolar": [
           {
            "marker": {
             "line": {
              "color": "white",
              "width": 0.5
             },
             "pattern": {
              "fillmode": "overlay",
              "size": 10,
              "solidity": 0.2
             }
            },
            "type": "barpolar"
           }
          ],
          "carpet": [
           {
            "aaxis": {
             "endlinecolor": "#2a3f5f",
             "gridcolor": "#C8D4E3",
             "linecolor": "#C8D4E3",
             "minorgridcolor": "#C8D4E3",
             "startlinecolor": "#2a3f5f"
            },
            "baxis": {
             "endlinecolor": "#2a3f5f",
             "gridcolor": "#C8D4E3",
             "linecolor": "#C8D4E3",
             "minorgridcolor": "#C8D4E3",
             "startlinecolor": "#2a3f5f"
            },
            "type": "carpet"
           }
          ],
          "choropleth": [
           {
            "colorbar": {
             "outlinewidth": 0,
             "ticks": ""
            },
            "type": "choropleth"
           }
          ],
          "contour": [
           {
            "colorbar": {
             "outlinewidth": 0,
             "ticks": ""
            },
            "colorscale": [
             [
              0,
              "#0d0887"
             ],
             [
              0.1111111111111111,
              "#46039f"
             ],
             [
              0.2222222222222222,
              "#7201a8"
             ],
             [
              0.3333333333333333,
              "#9c179e"
             ],
             [
              0.4444444444444444,
              "#bd3786"
             ],
             [
              0.5555555555555556,
              "#d8576b"
             ],
             [
              0.6666666666666666,
              "#ed7953"
             ],
             [
              0.7777777777777778,
              "#fb9f3a"
             ],
             [
              0.8888888888888888,
              "#fdca26"
             ],
             [
              1,
              "#f0f921"
             ]
            ],
            "type": "contour"
           }
          ],
          "contourcarpet": [
           {
            "colorbar": {
             "outlinewidth": 0,
             "ticks": ""
            },
            "type": "contourcarpet"
           }
          ],
          "heatmap": [
           {
            "colorbar": {
             "outlinewidth": 0,
             "ticks": ""
            },
            "colorscale": [
             [
              0,
              "#0d0887"
             ],
             [
              0.1111111111111111,
              "#46039f"
             ],
             [
              0.2222222222222222,
              "#7201a8"
             ],
             [
              0.3333333333333333,
              "#9c179e"
             ],
             [
              0.4444444444444444,
              "#bd3786"
             ],
             [
              0.5555555555555556,
              "#d8576b"
             ],
             [
              0.6666666666666666,
              "#ed7953"
             ],
             [
              0.7777777777777778,
              "#fb9f3a"
             ],
             [
              0.8888888888888888,
              "#fdca26"
             ],
             [
              1,
              "#f0f921"
             ]
            ],
            "type": "heatmap"
           }
          ],
          "histogram": [
           {
            "marker": {
             "pattern": {
              "fillmode": "overlay",
              "size": 10,
              "solidity": 0.2
             }
            },
            "type": "histogram"
           }
          ],
          "histogram2d": [
           {
            "colorbar": {
             "outlinewidth": 0,
             "ticks": ""
            },
            "colorscale": [
             [
              0,
              "#0d0887"
             ],
             [
              0.1111111111111111,
              "#46039f"
             ],
             [
              0.2222222222222222,
              "#7201a8"
             ],
             [
              0.3333333333333333,
              "#9c179e"
             ],
             [
              0.4444444444444444,
              "#bd3786"
             ],
             [
              0.5555555555555556,
              "#d8576b"
             ],
             [
              0.6666666666666666,
              "#ed7953"
             ],
             [
              0.7777777777777778,
              "#fb9f3a"
             ],
             [
              0.8888888888888888,
              "#fdca26"
             ],
             [
              1,
              "#f0f921"
             ]
            ],
            "type": "histogram2d"
           }
          ],
          "histogram2dcontour": [
           {
            "colorbar": {
             "outlinewidth": 0,
             "ticks": ""
            },
            "colorscale": [
             [
              0,
              "#0d0887"
             ],
             [
              0.1111111111111111,
              "#46039f"
             ],
             [
              0.2222222222222222,
              "#7201a8"
             ],
             [
              0.3333333333333333,
              "#9c179e"
             ],
             [
              0.4444444444444444,
              "#bd3786"
             ],
             [
              0.5555555555555556,
              "#d8576b"
             ],
             [
              0.6666666666666666,
              "#ed7953"
             ],
             [
              0.7777777777777778,
              "#fb9f3a"
             ],
             [
              0.8888888888888888,
              "#fdca26"
             ],
             [
              1,
              "#f0f921"
             ]
            ],
            "type": "histogram2dcontour"
           }
          ],
          "mesh3d": [
           {
            "colorbar": {
             "outlinewidth": 0,
             "ticks": ""
            },
            "type": "mesh3d"
           }
          ],
          "parcoords": [
           {
            "line": {
             "colorbar": {
              "outlinewidth": 0,
              "ticks": ""
             }
            },
            "type": "parcoords"
           }
          ],
          "pie": [
           {
            "automargin": true,
            "type": "pie"
           }
          ],
          "scatter": [
           {
            "fillpattern": {
             "fillmode": "overlay",
             "size": 10,
             "solidity": 0.2
            },
            "type": "scatter"
           }
          ],
          "scatter3d": [
           {
            "line": {
             "colorbar": {
              "outlinewidth": 0,
              "ticks": ""
             }
            },
            "marker": {
             "colorbar": {
              "outlinewidth": 0,
              "ticks": ""
             }
            },
            "type": "scatter3d"
           }
          ],
          "scattercarpet": [
           {
            "marker": {
             "colorbar": {
              "outlinewidth": 0,
              "ticks": ""
             }
            },
            "type": "scattercarpet"
           }
          ],
          "scattergeo": [
           {
            "marker": {
             "colorbar": {
              "outlinewidth": 0,
              "ticks": ""
             }
            },
            "type": "scattergeo"
           }
          ],
          "scattergl": [
           {
            "marker": {
             "colorbar": {
              "outlinewidth": 0,
              "ticks": ""
             }
            },
            "type": "scattergl"
           }
          ],
          "scattermap": [
           {
            "marker": {
             "colorbar": {
              "outlinewidth": 0,
              "ticks": ""
             }
            },
            "type": "scattermap"
           }
          ],
          "scattermapbox": [
           {
            "marker": {
             "colorbar": {
              "outlinewidth": 0,
              "ticks": ""
             }
            },
            "type": "scattermapbox"
           }
          ],
          "scatterpolar": [
           {
            "marker": {
             "colorbar": {
              "outlinewidth": 0,
              "ticks": ""
             }
            },
            "type": "scatterpolar"
           }
          ],
          "scatterpolargl": [
           {
            "marker": {
             "colorbar": {
              "outlinewidth": 0,
              "ticks": ""
             }
            },
            "type": "scatterpolargl"
           }
          ],
          "scatterternary": [
           {
            "marker": {
             "colorbar": {
              "outlinewidth": 0,
              "ticks": ""
             }
            },
            "type": "scatterternary"
           }
          ],
          "surface": [
           {
            "colorbar": {
             "outlinewidth": 0,
             "ticks": ""
            },
            "colorscale": [
             [
              0,
              "#0d0887"
             ],
             [
              0.1111111111111111,
              "#46039f"
             ],
             [
              0.2222222222222222,
              "#7201a8"
             ],
             [
              0.3333333333333333,
              "#9c179e"
             ],
             [
              0.4444444444444444,
              "#bd3786"
             ],
             [
              0.5555555555555556,
              "#d8576b"
             ],
             [
              0.6666666666666666,
              "#ed7953"
             ],
             [
              0.7777777777777778,
              "#fb9f3a"
             ],
             [
              0.8888888888888888,
              "#fdca26"
             ],
             [
              1,
              "#f0f921"
             ]
            ],
            "type": "surface"
           }
          ],
          "table": [
           {
            "cells": {
             "fill": {
              "color": "#EBF0F8"
             },
             "line": {
              "color": "white"
             }
            },
            "header": {
             "fill": {
              "color": "#C8D4E3"
             },
             "line": {
              "color": "white"
             }
            },
            "type": "table"
           }
          ]
         },
         "layout": {
          "annotationdefaults": {
           "arrowcolor": "#2a3f5f",
           "arrowhead": 0,
           "arrowwidth": 1
          },
          "autotypenumbers": "strict",
          "coloraxis": {
           "colorbar": {
            "outlinewidth": 0,
            "ticks": ""
           }
          },
          "colorscale": {
           "diverging": [
            [
             0,
             "#8e0152"
            ],
            [
             0.1,
             "#c51b7d"
            ],
            [
             0.2,
             "#de77ae"
            ],
            [
             0.3,
             "#f1b6da"
            ],
            [
             0.4,
             "#fde0ef"
            ],
            [
             0.5,
             "#f7f7f7"
            ],
            [
             0.6,
             "#e6f5d0"
            ],
            [
             0.7,
             "#b8e186"
            ],
            [
             0.8,
             "#7fbc41"
            ],
            [
             0.9,
             "#4d9221"
            ],
            [
             1,
             "#276419"
            ]
           ],
           "sequential": [
            [
             0,
             "#0d0887"
            ],
            [
             0.1111111111111111,
             "#46039f"
            ],
            [
             0.2222222222222222,
             "#7201a8"
            ],
            [
             0.3333333333333333,
             "#9c179e"
            ],
            [
             0.4444444444444444,
             "#bd3786"
            ],
            [
             0.5555555555555556,
             "#d8576b"
            ],
            [
             0.6666666666666666,
             "#ed7953"
            ],
            [
             0.7777777777777778,
             "#fb9f3a"
            ],
            [
             0.8888888888888888,
             "#fdca26"
            ],
            [
             1,
             "#f0f921"
            ]
           ],
           "sequentialminus": [
            [
             0,
             "#0d0887"
            ],
            [
             0.1111111111111111,
             "#46039f"
            ],
            [
             0.2222222222222222,
             "#7201a8"
            ],
            [
             0.3333333333333333,
             "#9c179e"
            ],
            [
             0.4444444444444444,
             "#bd3786"
            ],
            [
             0.5555555555555556,
             "#d8576b"
            ],
            [
             0.6666666666666666,
             "#ed7953"
            ],
            [
             0.7777777777777778,
             "#fb9f3a"
            ],
            [
             0.8888888888888888,
             "#fdca26"
            ],
            [
             1,
             "#f0f921"
            ]
           ]
          },
          "colorway": [
           "#636efa",
           "#EF553B",
           "#00cc96",
           "#ab63fa",
           "#FFA15A",
           "#19d3f3",
           "#FF6692",
           "#B6E880",
           "#FF97FF",
           "#FECB52"
          ],
          "font": {
           "color": "#2a3f5f"
          },
          "geo": {
           "bgcolor": "white",
           "lakecolor": "white",
           "landcolor": "white",
           "showlakes": true,
           "showland": true,
           "subunitcolor": "#C8D4E3"
          },
          "hoverlabel": {
           "align": "left"
          },
          "hovermode": "closest",
          "mapbox": {
           "style": "light"
          },
          "paper_bgcolor": "white",
          "plot_bgcolor": "white",
          "polar": {
           "angularaxis": {
            "gridcolor": "#EBF0F8",
            "linecolor": "#EBF0F8",
            "ticks": ""
           },
           "bgcolor": "white",
           "radialaxis": {
            "gridcolor": "#EBF0F8",
            "linecolor": "#EBF0F8",
            "ticks": ""
           }
          },
          "scene": {
           "xaxis": {
            "backgroundcolor": "white",
            "gridcolor": "#DFE8F3",
            "gridwidth": 2,
            "linecolor": "#EBF0F8",
            "showbackground": true,
            "ticks": "",
            "zerolinecolor": "#EBF0F8"
           },
           "yaxis": {
            "backgroundcolor": "white",
            "gridcolor": "#DFE8F3",
            "gridwidth": 2,
            "linecolor": "#EBF0F8",
            "showbackground": true,
            "ticks": "",
            "zerolinecolor": "#EBF0F8"
           },
           "zaxis": {
            "backgroundcolor": "white",
            "gridcolor": "#DFE8F3",
            "gridwidth": 2,
            "linecolor": "#EBF0F8",
            "showbackground": true,
            "ticks": "",
            "zerolinecolor": "#EBF0F8"
           }
          },
          "shapedefaults": {
           "line": {
            "color": "#2a3f5f"
           }
          },
          "ternary": {
           "aaxis": {
            "gridcolor": "#DFE8F3",
            "linecolor": "#A2B1C6",
            "ticks": ""
           },
           "baxis": {
            "gridcolor": "#DFE8F3",
            "linecolor": "#A2B1C6",
            "ticks": ""
           },
           "bgcolor": "white",
           "caxis": {
            "gridcolor": "#DFE8F3",
            "linecolor": "#A2B1C6",
            "ticks": ""
           }
          },
          "title": {
           "x": 0.05
          },
          "xaxis": {
           "automargin": true,
           "gridcolor": "#EBF0F8",
           "linecolor": "#EBF0F8",
           "ticks": "",
           "title": {
            "standoff": 15
           },
           "zerolinecolor": "#EBF0F8",
           "zerolinewidth": 2
          },
          "yaxis": {
           "automargin": true,
           "gridcolor": "#EBF0F8",
           "linecolor": "#EBF0F8",
           "ticks": "",
           "title": {
            "standoff": 15
           },
           "zerolinecolor": "#EBF0F8",
           "zerolinewidth": 2
          }
         }
        },
        "title": {
         "text": "S&P 125 Market Momentum"
        },
        "xaxis": {
         "title": {
          "text": "Date"
         }
        },
        "yaxis": {
         "range": [
          5162.679468,
          6490.61826
         ],
         "title": {
          "text": "Score"
         }
        }
       }
      }
     },
     "metadata": {},
     "output_type": "display_data"
    },
    {
     "data": {
      "application/vnd.plotly.v1+json": {
       "config": {
        "plotlyServerURL": "https://plot.ly"
       },
       "data": [
        {
         "hoverinfo": "text+x",
         "line": {
          "color": "lightgray",
          "width": 2
         },
         "marker": {
          "color": [
           "darkgreen",
           "darkgreen",
           "darkgreen",
           "darkgreen",
           "darkgreen",
           "darkgreen",
           "darkgreen",
           "darkgreen",
           "darkgreen",
           "darkgreen",
           "darkgreen",
           "darkgreen",
           "darkgreen",
           "darkgreen",
           "darkgreen",
           "darkgreen",
           "darkgreen",
           "darkgreen",
           "darkgreen",
           "darkgreen",
           "darkgreen",
           "darkgreen",
           "darkgreen",
           "darkgreen",
           "darkgreen",
           "darkgreen",
           "darkgreen",
           "darkgreen",
           "darkgreen",
           "darkgreen",
           "darkgreen",
           "darkgreen",
           "darkgreen",
           "darkgreen",
           "darkgreen",
           "darkgreen",
           "darkgreen",
           "darkgreen",
           "darkgreen",
           "darkgreen",
           "darkgreen",
           "darkgreen",
           "darkgreen",
           "darkgreen",
           "darkgreen",
           "darkgreen",
           "darkgreen",
           "green",
           "green",
           "green",
           "gold",
           "gold",
           "gold",
           "red",
           "red",
           "red",
           "red",
           "darkred",
           "darkred",
           "darkred",
           "darkred",
           "darkred",
           "darkred",
           "darkred",
           "darkred",
           "darkred",
           "darkred",
           "darkred",
           "darkred",
           "red",
           "red",
           "red",
           "red",
           "red",
           "red",
           "gold",
           "gold",
           "gold",
           "gold",
           "gold",
           "gold",
           "gold",
           "gold",
           "green",
           "gold",
           "gold",
           "green",
           "gold",
           "gold",
           "gold",
           "gold",
           "gold",
           "gold",
           "gold",
           "gold",
           "red",
           "red",
           "red",
           "red",
           "red",
           "red",
           "red",
           "darkred",
           "darkred",
           "darkred",
           "darkred",
           "darkred",
           "darkred",
           "darkred",
           "darkred",
           "darkred",
           "darkred",
           "darkred",
           "darkred",
           "darkred",
           "darkred",
           "darkred",
           "darkred",
           "darkred",
           "darkred",
           "darkred",
           "darkred",
           "darkred",
           "darkred",
           "darkred",
           "darkred",
           "darkred",
           "darkred",
           "darkred",
           "darkred",
           "darkred",
           "darkred",
           "darkred",
           "darkred",
           "darkred",
           "darkred",
           "darkred",
           "darkred",
           "darkred",
           "darkred",
           "darkred",
           "darkred",
           "darkred",
           "red",
           "red",
           "gold",
           "gold",
           "gold",
           "gold",
           "gold",
           "gold",
           "gold",
           "gold",
           "gold",
           "gold",
           "gold",
           "gold",
           "gold",
           "gold",
           "gold",
           "gold",
           "gold",
           "gold",
           "gold",
           "gold",
           "gold",
           "gold",
           "gold",
           "gold",
           "gold",
           "gold",
           "gold",
           "gold",
           "gold",
           "gold",
           "gold",
           "gold",
           "gold",
           "gold",
           "gold",
           "gold",
           "green",
           "green",
           "green",
           "green",
           "green",
           "green",
           "green",
           "green",
           "green",
           "green",
           "green",
           "green",
           "green",
           "green",
           "green",
           "green",
           "green",
           "green",
           "green",
           "green",
           "green",
           "green",
           "green",
           "green",
           "gold",
           "gold",
           "gold",
           "gold",
           "green",
           "green",
           "green",
           "green",
           "green",
           "gold",
           "gold",
           "green",
           "green",
           "green",
           "green",
           "green",
           "green",
           "green",
           "green",
           "green",
           "green",
           "green",
           "green",
           "green",
           "darkgreen",
           "darkgreen",
           "darkgreen",
           "darkgreen",
           "darkgreen",
           "darkgreen",
           "darkgreen",
           "darkgreen",
           "darkgreen",
           "darkgreen",
           "darkgreen",
           "darkgreen",
           "darkgreen",
           "darkgreen",
           "darkgreen",
           "darkgreen",
           "darkgreen",
           "darkgreen",
           "darkgreen",
           "darkgreen",
           "green",
           null,
           null,
           "green",
           null,
           null,
           null,
           null
          ],
          "size": 8
         },
         "mode": "lines+markers",
         "text": [
          "8.04 (Extreme Greed)",
          "7.74 (Extreme Greed)",
          "7.43 (Extreme Greed)",
          "7.21 (Extreme Greed)",
          "6.98 (Extreme Greed)",
          "6.65 (Extreme Greed)",
          "6.58 (Extreme Greed)",
          "6.30 (Extreme Greed)",
          "5.91 (Extreme Greed)",
          "5.59 (Extreme Greed)",
          "5.26 (Extreme Greed)",
          "4.96 (Extreme Greed)",
          "4.75 (Extreme Greed)",
          "4.48 (Extreme Greed)",
          "4.41 (Extreme Greed)",
          "4.25 (Extreme Greed)",
          "3.95 (Extreme Greed)",
          "3.82 (Extreme Greed)",
          "3.85 (Extreme Greed)",
          "4.35 (Extreme Greed)",
          "4.70 (Extreme Greed)",
          "4.81 (Extreme Greed)",
          "5.11 (Extreme Greed)",
          "4.82 (Extreme Greed)",
          "4.59 (Extreme Greed)",
          "4.26 (Extreme Greed)",
          "3.89 (Extreme Greed)",
          "3.79 (Extreme Greed)",
          "3.80 (Extreme Greed)",
          "3.86 (Extreme Greed)",
          "4.07 (Extreme Greed)",
          "4.41 (Extreme Greed)",
          "5.05 (Extreme Greed)",
          "5.25 (Extreme Greed)",
          "5.47 (Extreme Greed)",
          "5.72 (Extreme Greed)",
          "5.92 (Extreme Greed)",
          "6.05 (Extreme Greed)",
          "6.02 (Extreme Greed)",
          "5.49 (Extreme Greed)",
          "5.16 (Extreme Greed)",
          "4.90 (Extreme Greed)",
          "4.24 (Extreme Greed)",
          "4.16 (Extreme Greed)",
          "3.94 (Extreme Greed)",
          "3.73 (Extreme Greed)",
          "3.63 (Extreme Greed)",
          "3.34 (Greed)",
          "2.94 (Greed)",
          "2.41 (Greed)",
          "1.83 (Neutral)",
          "1.16 (Neutral)",
          "0.29 (Neutral)",
          "0.01 (Fear)",
          "-0.55 (Fear)",
          "-1.08 (Fear)",
          "-1.32 (Fear)",
          "-1.53 (Extreme Fear)",
          "-1.69 (Extreme Fear)",
          "-1.83 (Extreme Fear)",
          "-1.98 (Extreme Fear)",
          "-2.36 (Extreme Fear)",
          "-2.79 (Extreme Fear)",
          "-3.31 (Extreme Fear)",
          "-3.32 (Extreme Fear)",
          "-3.09 (Extreme Fear)",
          "-2.89 (Extreme Fear)",
          "-2.52 (Extreme Fear)",
          "-1.95 (Extreme Fear)",
          "-1.34 (Fear)",
          "-0.95 (Fear)",
          "-0.57 (Fear)",
          "-0.36 (Fear)",
          "-0.18 (Fear)",
          "0.13 (Fear)",
          "0.62 (Neutral)",
          "0.80 (Neutral)",
          "0.73 (Neutral)",
          "0.79 (Neutral)",
          "0.86 (Neutral)",
          "1.01 (Neutral)",
          "1.22 (Neutral)",
          "1.61 (Neutral)",
          "2.04 (Greed)",
          "2.01 (Neutral)",
          "2.00 (Neutral)",
          "2.05 (Greed)",
          "1.99 (Neutral)",
          "1.77 (Neutral)",
          "1.59 (Neutral)",
          "1.41 (Neutral)",
          "1.15 (Neutral)",
          "0.98 (Neutral)",
          "0.77 (Neutral)",
          "0.49 (Neutral)",
          "0.13 (Fear)",
          "-0.16 (Fear)",
          "-0.49 (Fear)",
          "-0.64 (Fear)",
          "-0.85 (Fear)",
          "-1.03 (Fear)",
          "-1.22 (Fear)",
          "-1.49 (Extreme Fear)",
          "-1.70 (Extreme Fear)",
          "-1.97 (Extreme Fear)",
          "-2.13 (Extreme Fear)",
          "-2.20 (Extreme Fear)",
          "-2.27 (Extreme Fear)",
          "-2.30 (Extreme Fear)",
          "-2.32 (Extreme Fear)",
          "-2.39 (Extreme Fear)",
          "-2.28 (Extreme Fear)",
          "-2.19 (Extreme Fear)",
          "-2.16 (Extreme Fear)",
          "-2.08 (Extreme Fear)",
          "-2.13 (Extreme Fear)",
          "-2.38 (Extreme Fear)",
          "-2.16 (Extreme Fear)",
          "-2.18 (Extreme Fear)",
          "-2.99 (Extreme Fear)",
          "-4.77 (Extreme Fear)",
          "-6.67 (Extreme Fear)",
          "-7.56 (Extreme Fear)",
          "-8.73 (Extreme Fear)",
          "-8.62 (Extreme Fear)",
          "-8.98 (Extreme Fear)",
          "-9.09 (Extreme Fear)",
          "-9.12 (Extreme Fear)",
          "-9.18 (Extreme Fear)",
          "-9.22 (Extreme Fear)",
          "-9.25 (Extreme Fear)",
          "-9.26 (Extreme Fear)",
          "-9.27 (Extreme Fear)",
          "-9.23 (Extreme Fear)",
          "-9.11 (Extreme Fear)",
          "-8.89 (Extreme Fear)",
          "-8.44 (Extreme Fear)",
          "-8.21 (Extreme Fear)",
          "-8.06 (Extreme Fear)",
          "-7.10 (Extreme Fear)",
          "-5.21 (Extreme Fear)",
          "-3.15 (Extreme Fear)",
          "-1.98 (Extreme Fear)",
          "-0.56 (Fear)",
          "-0.30 (Fear)",
          "0.26 (Neutral)",
          "0.39 (Neutral)",
          "0.46 (Neutral)",
          "0.62 (Neutral)",
          "0.81 (Neutral)",
          "1.07 (Neutral)",
          "1.19 (Neutral)",
          "1.16 (Neutral)",
          "1.08 (Neutral)",
          "1.05 (Neutral)",
          "1.17 (Neutral)",
          "1.22 (Neutral)",
          "1.29 (Neutral)",
          "1.29 (Neutral)",
          "1.30 (Neutral)",
          "1.36 (Neutral)",
          "1.50 (Neutral)",
          "1.59 (Neutral)",
          "1.65 (Neutral)",
          "1.72 (Neutral)",
          "1.64 (Neutral)",
          "1.63 (Neutral)",
          "1.66 (Neutral)",
          "1.55 (Neutral)",
          "1.48 (Neutral)",
          "1.36 (Neutral)",
          "1.25 (Neutral)",
          "1.28 (Neutral)",
          "1.38 (Neutral)",
          "1.50 (Neutral)",
          "1.40 (Neutral)",
          "1.47 (Neutral)",
          "1.59 (Neutral)",
          "1.73 (Neutral)",
          "1.85 (Neutral)",
          "1.96 (Neutral)",
          "2.16 (Greed)",
          "2.21 (Greed)",
          "2.22 (Greed)",
          "2.24 (Greed)",
          "2.38 (Greed)",
          "2.39 (Greed)",
          "2.42 (Greed)",
          "2.52 (Greed)",
          "2.47 (Greed)",
          "2.66 (Greed)",
          "2.77 (Greed)",
          "2.86 (Greed)",
          "2.96 (Greed)",
          "3.10 (Greed)",
          "3.24 (Greed)",
          "3.24 (Greed)",
          "3.17 (Greed)",
          "3.12 (Greed)",
          "2.98 (Greed)",
          "2.80 (Greed)",
          "2.34 (Greed)",
          "2.23 (Greed)",
          "2.18 (Greed)",
          "2.10 (Greed)",
          "1.98 (Neutral)",
          "1.97 (Neutral)",
          "1.89 (Neutral)",
          "2.02 (Neutral)",
          "2.37 (Greed)",
          "2.31 (Greed)",
          "2.24 (Greed)",
          "2.21 (Greed)",
          "2.17 (Greed)",
          "1.98 (Neutral)",
          "1.84 (Neutral)",
          "2.03 (Greed)",
          "2.08 (Greed)",
          "2.20 (Greed)",
          "2.37 (Greed)",
          "2.60 (Greed)",
          "2.90 (Greed)",
          "2.93 (Greed)",
          "2.95 (Greed)",
          "3.05 (Greed)",
          "3.30 (Greed)",
          "3.43 (Greed)",
          "3.58 (Greed)",
          "3.57 (Greed)",
          "3.60 (Extreme Greed)",
          "3.68 (Extreme Greed)",
          "3.85 (Extreme Greed)",
          "3.93 (Extreme Greed)",
          "4.08 (Extreme Greed)",
          "4.24 (Extreme Greed)",
          "4.39 (Extreme Greed)",
          "4.22 (Extreme Greed)",
          "4.32 (Extreme Greed)",
          "4.15 (Extreme Greed)",
          "3.87 (Extreme Greed)",
          "3.75 (Extreme Greed)",
          "3.72 (Extreme Greed)",
          "3.78 (Extreme Greed)",
          "3.87 (Extreme Greed)",
          "3.87 (Extreme Greed)",
          "3.80 (Extreme Greed)",
          "3.87 (Extreme Greed)",
          "3.82 (Extreme Greed)",
          "3.79 (Extreme Greed)",
          "3.49 (Greed)",
          "nan (nan)",
          "nan (nan)",
          "3.34 (Greed)",
          "nan (nan)",
          "nan (nan)",
          "nan (nan)",
          "nan (nan)"
         ],
         "type": "scatter",
         "x": [
          "2024-10-10T00:00:00.000000000",
          "2024-10-11T00:00:00.000000000",
          "2024-10-14T00:00:00.000000000",
          "2024-10-15T00:00:00.000000000",
          "2024-10-16T00:00:00.000000000",
          "2024-10-17T00:00:00.000000000",
          "2024-10-18T00:00:00.000000000",
          "2024-10-21T00:00:00.000000000",
          "2024-10-22T00:00:00.000000000",
          "2024-10-23T00:00:00.000000000",
          "2024-10-24T00:00:00.000000000",
          "2024-10-25T00:00:00.000000000",
          "2024-10-28T00:00:00.000000000",
          "2024-10-29T00:00:00.000000000",
          "2024-10-30T00:00:00.000000000",
          "2024-10-31T00:00:00.000000000",
          "2024-11-01T00:00:00.000000000",
          "2024-11-04T00:00:00.000000000",
          "2024-11-05T00:00:00.000000000",
          "2024-11-06T00:00:00.000000000",
          "2024-11-07T00:00:00.000000000",
          "2024-11-08T00:00:00.000000000",
          "2024-11-11T00:00:00.000000000",
          "2024-11-12T00:00:00.000000000",
          "2024-11-13T00:00:00.000000000",
          "2024-11-14T00:00:00.000000000",
          "2024-11-15T00:00:00.000000000",
          "2024-11-18T00:00:00.000000000",
          "2024-11-19T00:00:00.000000000",
          "2024-11-20T00:00:00.000000000",
          "2024-11-21T00:00:00.000000000",
          "2024-11-22T00:00:00.000000000",
          "2024-11-25T00:00:00.000000000",
          "2024-11-26T00:00:00.000000000",
          "2024-11-27T00:00:00.000000000",
          "2024-11-29T00:00:00.000000000",
          "2024-12-02T00:00:00.000000000",
          "2024-12-03T00:00:00.000000000",
          "2024-12-04T00:00:00.000000000",
          "2024-12-05T00:00:00.000000000",
          "2024-12-06T00:00:00.000000000",
          "2024-12-09T00:00:00.000000000",
          "2024-12-10T00:00:00.000000000",
          "2024-12-11T00:00:00.000000000",
          "2024-12-12T00:00:00.000000000",
          "2024-12-13T00:00:00.000000000",
          "2024-12-16T00:00:00.000000000",
          "2024-12-17T00:00:00.000000000",
          "2024-12-18T00:00:00.000000000",
          "2024-12-19T00:00:00.000000000",
          "2024-12-20T00:00:00.000000000",
          "2024-12-23T00:00:00.000000000",
          "2024-12-24T00:00:00.000000000",
          "2024-12-26T00:00:00.000000000",
          "2024-12-27T00:00:00.000000000",
          "2024-12-30T00:00:00.000000000",
          "2024-12-31T00:00:00.000000000",
          "2025-01-02T00:00:00.000000000",
          "2025-01-03T00:00:00.000000000",
          "2025-01-06T00:00:00.000000000",
          "2025-01-07T00:00:00.000000000",
          "2025-01-08T00:00:00.000000000",
          "2025-01-10T00:00:00.000000000",
          "2025-01-13T00:00:00.000000000",
          "2025-01-14T00:00:00.000000000",
          "2025-01-15T00:00:00.000000000",
          "2025-01-16T00:00:00.000000000",
          "2025-01-17T00:00:00.000000000",
          "2025-01-21T00:00:00.000000000",
          "2025-01-22T00:00:00.000000000",
          "2025-01-23T00:00:00.000000000",
          "2025-01-24T00:00:00.000000000",
          "2025-01-27T00:00:00.000000000",
          "2025-01-28T00:00:00.000000000",
          "2025-01-29T00:00:00.000000000",
          "2025-01-30T00:00:00.000000000",
          "2025-01-31T00:00:00.000000000",
          "2025-02-03T00:00:00.000000000",
          "2025-02-04T00:00:00.000000000",
          "2025-02-05T00:00:00.000000000",
          "2025-02-06T00:00:00.000000000",
          "2025-02-07T00:00:00.000000000",
          "2025-02-10T00:00:00.000000000",
          "2025-02-11T00:00:00.000000000",
          "2025-02-12T00:00:00.000000000",
          "2025-02-13T00:00:00.000000000",
          "2025-02-14T00:00:00.000000000",
          "2025-02-18T00:00:00.000000000",
          "2025-02-19T00:00:00.000000000",
          "2025-02-20T00:00:00.000000000",
          "2025-02-21T00:00:00.000000000",
          "2025-02-24T00:00:00.000000000",
          "2025-02-25T00:00:00.000000000",
          "2025-02-26T00:00:00.000000000",
          "2025-02-27T00:00:00.000000000",
          "2025-02-28T00:00:00.000000000",
          "2025-03-03T00:00:00.000000000",
          "2025-03-04T00:00:00.000000000",
          "2025-03-05T00:00:00.000000000",
          "2025-03-06T00:00:00.000000000",
          "2025-03-07T00:00:00.000000000",
          "2025-03-10T00:00:00.000000000",
          "2025-03-11T00:00:00.000000000",
          "2025-03-12T00:00:00.000000000",
          "2025-03-13T00:00:00.000000000",
          "2025-03-14T00:00:00.000000000",
          "2025-03-17T00:00:00.000000000",
          "2025-03-18T00:00:00.000000000",
          "2025-03-19T00:00:00.000000000",
          "2025-03-20T00:00:00.000000000",
          "2025-03-21T00:00:00.000000000",
          "2025-03-24T00:00:00.000000000",
          "2025-03-25T00:00:00.000000000",
          "2025-03-26T00:00:00.000000000",
          "2025-03-27T00:00:00.000000000",
          "2025-03-28T00:00:00.000000000",
          "2025-03-31T00:00:00.000000000",
          "2025-04-01T00:00:00.000000000",
          "2025-04-02T00:00:00.000000000",
          "2025-04-03T00:00:00.000000000",
          "2025-04-04T00:00:00.000000000",
          "2025-04-07T00:00:00.000000000",
          "2025-04-08T00:00:00.000000000",
          "2025-04-09T00:00:00.000000000",
          "2025-04-10T00:00:00.000000000",
          "2025-04-11T00:00:00.000000000",
          "2025-04-14T00:00:00.000000000",
          "2025-04-15T00:00:00.000000000",
          "2025-04-16T00:00:00.000000000",
          "2025-04-17T00:00:00.000000000",
          "2025-04-21T00:00:00.000000000",
          "2025-04-22T00:00:00.000000000",
          "2025-04-23T00:00:00.000000000",
          "2025-04-24T00:00:00.000000000",
          "2025-04-25T00:00:00.000000000",
          "2025-04-28T00:00:00.000000000",
          "2025-04-29T00:00:00.000000000",
          "2025-04-30T00:00:00.000000000",
          "2025-05-01T00:00:00.000000000",
          "2025-05-02T00:00:00.000000000",
          "2025-05-05T00:00:00.000000000",
          "2025-05-06T00:00:00.000000000",
          "2025-05-07T00:00:00.000000000",
          "2025-05-08T00:00:00.000000000",
          "2025-05-09T00:00:00.000000000",
          "2025-05-12T00:00:00.000000000",
          "2025-05-13T00:00:00.000000000",
          "2025-05-14T00:00:00.000000000",
          "2025-05-15T00:00:00.000000000",
          "2025-05-16T00:00:00.000000000",
          "2025-05-19T00:00:00.000000000",
          "2025-05-20T00:00:00.000000000",
          "2025-05-21T00:00:00.000000000",
          "2025-05-22T00:00:00.000000000",
          "2025-05-23T00:00:00.000000000",
          "2025-05-27T00:00:00.000000000",
          "2025-05-28T00:00:00.000000000",
          "2025-05-29T00:00:00.000000000",
          "2025-05-30T00:00:00.000000000",
          "2025-06-02T00:00:00.000000000",
          "2025-06-03T00:00:00.000000000",
          "2025-06-04T00:00:00.000000000",
          "2025-06-05T00:00:00.000000000",
          "2025-06-06T00:00:00.000000000",
          "2025-06-09T00:00:00.000000000",
          "2025-06-10T00:00:00.000000000",
          "2025-06-11T00:00:00.000000000",
          "2025-06-12T00:00:00.000000000",
          "2025-06-13T00:00:00.000000000",
          "2025-06-16T00:00:00.000000000",
          "2025-06-17T00:00:00.000000000",
          "2025-06-18T00:00:00.000000000",
          "2025-06-20T00:00:00.000000000",
          "2025-06-23T00:00:00.000000000",
          "2025-06-24T00:00:00.000000000",
          "2025-06-25T00:00:00.000000000",
          "2025-06-26T00:00:00.000000000",
          "2025-06-27T00:00:00.000000000",
          "2025-06-30T00:00:00.000000000",
          "2025-07-01T00:00:00.000000000",
          "2025-07-02T00:00:00.000000000",
          "2025-07-03T00:00:00.000000000",
          "2025-07-07T00:00:00.000000000",
          "2025-07-08T00:00:00.000000000",
          "2025-07-09T00:00:00.000000000",
          "2025-07-10T00:00:00.000000000",
          "2025-07-11T00:00:00.000000000",
          "2025-07-14T00:00:00.000000000",
          "2025-07-15T00:00:00.000000000",
          "2025-07-16T00:00:00.000000000",
          "2025-07-17T00:00:00.000000000",
          "2025-07-18T00:00:00.000000000",
          "2025-07-21T00:00:00.000000000",
          "2025-07-22T00:00:00.000000000",
          "2025-07-23T00:00:00.000000000",
          "2025-07-24T00:00:00.000000000",
          "2025-07-25T00:00:00.000000000",
          "2025-07-28T00:00:00.000000000",
          "2025-07-29T00:00:00.000000000",
          "2025-07-30T00:00:00.000000000",
          "2025-07-31T00:00:00.000000000",
          "2025-08-01T00:00:00.000000000",
          "2025-08-04T00:00:00.000000000",
          "2025-08-05T00:00:00.000000000",
          "2025-08-06T00:00:00.000000000",
          "2025-08-07T00:00:00.000000000",
          "2025-08-08T00:00:00.000000000",
          "2025-08-11T00:00:00.000000000",
          "2025-08-12T00:00:00.000000000",
          "2025-08-13T00:00:00.000000000",
          "2025-08-14T00:00:00.000000000",
          "2025-08-15T00:00:00.000000000",
          "2025-08-18T00:00:00.000000000",
          "2025-08-19T00:00:00.000000000",
          "2025-08-20T00:00:00.000000000",
          "2025-08-21T00:00:00.000000000",
          "2025-08-22T00:00:00.000000000",
          "2025-08-25T00:00:00.000000000",
          "2025-08-26T00:00:00.000000000",
          "2025-08-27T00:00:00.000000000",
          "2025-08-28T00:00:00.000000000",
          "2025-08-29T00:00:00.000000000",
          "2025-09-02T00:00:00.000000000",
          "2025-09-03T00:00:00.000000000",
          "2025-09-04T00:00:00.000000000",
          "2025-09-05T00:00:00.000000000",
          "2025-09-08T00:00:00.000000000",
          "2025-09-09T00:00:00.000000000",
          "2025-09-10T00:00:00.000000000",
          "2025-09-11T00:00:00.000000000",
          "2025-09-12T00:00:00.000000000",
          "2025-09-15T00:00:00.000000000",
          "2025-09-16T00:00:00.000000000",
          "2025-09-17T00:00:00.000000000",
          "2025-09-18T00:00:00.000000000",
          "2025-09-19T00:00:00.000000000",
          "2025-09-22T00:00:00.000000000",
          "2025-09-23T00:00:00.000000000",
          "2025-09-24T00:00:00.000000000",
          "2025-09-25T00:00:00.000000000",
          "2025-09-26T00:00:00.000000000",
          "2025-09-29T00:00:00.000000000",
          "2025-09-30T00:00:00.000000000",
          "2025-10-01T00:00:00.000000000",
          "2025-10-02T00:00:00.000000000",
          "2025-10-03T00:00:00.000000000",
          "2025-10-06T00:00:00.000000000",
          "2025-10-07T00:00:00.000000000",
          "2025-10-08T00:00:00.000000000",
          "2025-10-09T00:00:00.000000000",
          "2025-10-10T00:00:00.000000000",
          "2025-10-10T14:52:03.000000000",
          "2025-10-10T14:52:05.000000000",
          "2025-10-10T14:52:12.000000000",
          "2025-10-10T14:52:16.000000000",
          "2025-10-10T14:57:12.000000000",
          "2025-10-10T15:07:04.000000000"
         ],
         "y": {
          "bdata": "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",
          "dtype": "f8"
         }
        }
       ],
       "layout": {
        "template": {
         "data": {
          "bar": [
           {
            "error_x": {
             "color": "#2a3f5f"
            },
            "error_y": {
             "color": "#2a3f5f"
            },
            "marker": {
             "line": {
              "color": "white",
              "width": 0.5
             },
             "pattern": {
              "fillmode": "overlay",
              "size": 10,
              "solidity": 0.2
             }
            },
            "type": "bar"
           }
          ],
          "barpolar": [
           {
            "marker": {
             "line": {
              "color": "white",
              "width": 0.5
             },
             "pattern": {
              "fillmode": "overlay",
              "size": 10,
              "solidity": 0.2
             }
            },
            "type": "barpolar"
           }
          ],
          "carpet": [
           {
            "aaxis": {
             "endlinecolor": "#2a3f5f",
             "gridcolor": "#C8D4E3",
             "linecolor": "#C8D4E3",
             "minorgridcolor": "#C8D4E3",
             "startlinecolor": "#2a3f5f"
            },
            "baxis": {
             "endlinecolor": "#2a3f5f",
             "gridcolor": "#C8D4E3",
             "linecolor": "#C8D4E3",
             "minorgridcolor": "#C8D4E3",
             "startlinecolor": "#2a3f5f"
            },
            "type": "carpet"
           }
          ],
          "choropleth": [
           {
            "colorbar": {
             "outlinewidth": 0,
             "ticks": ""
            },
            "type": "choropleth"
           }
          ],
          "contour": [
           {
            "colorbar": {
             "outlinewidth": 0,
             "ticks": ""
            },
            "colorscale": [
             [
              0,
              "#0d0887"
             ],
             [
              0.1111111111111111,
              "#46039f"
             ],
             [
              0.2222222222222222,
              "#7201a8"
             ],
             [
              0.3333333333333333,
              "#9c179e"
             ],
             [
              0.4444444444444444,
              "#bd3786"
             ],
             [
              0.5555555555555556,
              "#d8576b"
             ],
             [
              0.6666666666666666,
              "#ed7953"
             ],
             [
              0.7777777777777778,
              "#fb9f3a"
             ],
             [
              0.8888888888888888,
              "#fdca26"
             ],
             [
              1,
              "#f0f921"
             ]
            ],
            "type": "contour"
           }
          ],
          "contourcarpet": [
           {
            "colorbar": {
             "outlinewidth": 0,
             "ticks": ""
            },
            "type": "contourcarpet"
           }
          ],
          "heatmap": [
           {
            "colorbar": {
             "outlinewidth": 0,
             "ticks": ""
            },
            "colorscale": [
             [
              0,
              "#0d0887"
             ],
             [
              0.1111111111111111,
              "#46039f"
             ],
             [
              0.2222222222222222,
              "#7201a8"
             ],
             [
              0.3333333333333333,
              "#9c179e"
             ],
             [
              0.4444444444444444,
              "#bd3786"
             ],
             [
              0.5555555555555556,
              "#d8576b"
             ],
             [
              0.6666666666666666,
              "#ed7953"
             ],
             [
              0.7777777777777778,
              "#fb9f3a"
             ],
             [
              0.8888888888888888,
              "#fdca26"
             ],
             [
              1,
              "#f0f921"
             ]
            ],
            "type": "heatmap"
           }
          ],
          "histogram": [
           {
            "marker": {
             "pattern": {
              "fillmode": "overlay",
              "size": 10,
              "solidity": 0.2
             }
            },
            "type": "histogram"
           }
          ],
          "histogram2d": [
           {
            "colorbar": {
             "outlinewidth": 0,
             "ticks": ""
            },
            "colorscale": [
             [
              0,
              "#0d0887"
             ],
             [
              0.1111111111111111,
              "#46039f"
             ],
             [
              0.2222222222222222,
              "#7201a8"
             ],
             [
              0.3333333333333333,
              "#9c179e"
             ],
             [
              0.4444444444444444,
              "#bd3786"
             ],
             [
              0.5555555555555556,
              "#d8576b"
             ],
             [
              0.6666666666666666,
              "#ed7953"
             ],
             [
              0.7777777777777778,
              "#fb9f3a"
             ],
             [
              0.8888888888888888,
              "#fdca26"
             ],
             [
              1,
              "#f0f921"
             ]
            ],
            "type": "histogram2d"
           }
          ],
          "histogram2dcontour": [
           {
            "colorbar": {
             "outlinewidth": 0,
             "ticks": ""
            },
            "colorscale": [
             [
              0,
              "#0d0887"
             ],
             [
              0.1111111111111111,
              "#46039f"
             ],
             [
              0.2222222222222222,
              "#7201a8"
             ],
             [
              0.3333333333333333,
              "#9c179e"
             ],
             [
              0.4444444444444444,
              "#bd3786"
             ],
             [
              0.5555555555555556,
              "#d8576b"
             ],
             [
              0.6666666666666666,
              "#ed7953"
             ],
             [
              0.7777777777777778,
              "#fb9f3a"
             ],
             [
              0.8888888888888888,
              "#fdca26"
             ],
             [
              1,
              "#f0f921"
             ]
            ],
            "type": "histogram2dcontour"
           }
          ],
          "mesh3d": [
           {
            "colorbar": {
             "outlinewidth": 0,
             "ticks": ""
            },
            "type": "mesh3d"
           }
          ],
          "parcoords": [
           {
            "line": {
             "colorbar": {
              "outlinewidth": 0,
              "ticks": ""
             }
            },
            "type": "parcoords"
           }
          ],
          "pie": [
           {
            "automargin": true,
            "type": "pie"
           }
          ],
          "scatter": [
           {
            "fillpattern": {
             "fillmode": "overlay",
             "size": 10,
             "solidity": 0.2
            },
            "type": "scatter"
           }
          ],
          "scatter3d": [
           {
            "line": {
             "colorbar": {
              "outlinewidth": 0,
              "ticks": ""
             }
            },
            "marker": {
             "colorbar": {
              "outlinewidth": 0,
              "ticks": ""
             }
            },
            "type": "scatter3d"
           }
          ],
          "scattercarpet": [
           {
            "marker": {
             "colorbar": {
              "outlinewidth": 0,
              "ticks": ""
             }
            },
            "type": "scattercarpet"
           }
          ],
          "scattergeo": [
           {
            "marker": {
             "colorbar": {
              "outlinewidth": 0,
              "ticks": ""
             }
            },
            "type": "scattergeo"
           }
          ],
          "scattergl": [
           {
            "marker": {
             "colorbar": {
              "outlinewidth": 0,
              "ticks": ""
             }
            },
            "type": "scattergl"
           }
          ],
          "scattermap": [
           {
            "marker": {
             "colorbar": {
              "outlinewidth": 0,
              "ticks": ""
             }
            },
            "type": "scattermap"
           }
          ],
          "scattermapbox": [
           {
            "marker": {
             "colorbar": {
              "outlinewidth": 0,
              "ticks": ""
             }
            },
            "type": "scattermapbox"
           }
          ],
          "scatterpolar": [
           {
            "marker": {
             "colorbar": {
              "outlinewidth": 0,
              "ticks": ""
             }
            },
            "type": "scatterpolar"
           }
          ],
          "scatterpolargl": [
           {
            "marker": {
             "colorbar": {
              "outlinewidth": 0,
              "ticks": ""
             }
            },
            "type": "scatterpolargl"
           }
          ],
          "scatterternary": [
           {
            "marker": {
             "colorbar": {
              "outlinewidth": 0,
              "ticks": ""
             }
            },
            "type": "scatterternary"
           }
          ],
          "surface": [
           {
            "colorbar": {
             "outlinewidth": 0,
             "ticks": ""
            },
            "colorscale": [
             [
              0,
              "#0d0887"
             ],
             [
              0.1111111111111111,
              "#46039f"
             ],
             [
              0.2222222222222222,
              "#7201a8"
             ],
             [
              0.3333333333333333,
              "#9c179e"
             ],
             [
              0.4444444444444444,
              "#bd3786"
             ],
             [
              0.5555555555555556,
              "#d8576b"
             ],
             [
              0.6666666666666666,
              "#ed7953"
             ],
             [
              0.7777777777777778,
              "#fb9f3a"
             ],
             [
              0.8888888888888888,
              "#fdca26"
             ],
             [
              1,
              "#f0f921"
             ]
            ],
            "type": "surface"
           }
          ],
          "table": [
           {
            "cells": {
             "fill": {
              "color": "#EBF0F8"
             },
             "line": {
              "color": "white"
             }
            },
            "header": {
             "fill": {
              "color": "#C8D4E3"
             },
             "line": {
              "color": "white"
             }
            },
            "type": "table"
           }
          ]
         },
         "layout": {
          "annotationdefaults": {
           "arrowcolor": "#2a3f5f",
           "arrowhead": 0,
           "arrowwidth": 1
          },
          "autotypenumbers": "strict",
          "coloraxis": {
           "colorbar": {
            "outlinewidth": 0,
            "ticks": ""
           }
          },
          "colorscale": {
           "diverging": [
            [
             0,
             "#8e0152"
            ],
            [
             0.1,
             "#c51b7d"
            ],
            [
             0.2,
             "#de77ae"
            ],
            [
             0.3,
             "#f1b6da"
            ],
            [
             0.4,
             "#fde0ef"
            ],
            [
             0.5,
             "#f7f7f7"
            ],
            [
             0.6,
             "#e6f5d0"
            ],
            [
             0.7,
             "#b8e186"
            ],
            [
             0.8,
             "#7fbc41"
            ],
            [
             0.9,
             "#4d9221"
            ],
            [
             1,
             "#276419"
            ]
           ],
           "sequential": [
            [
             0,
             "#0d0887"
            ],
            [
             0.1111111111111111,
             "#46039f"
            ],
            [
             0.2222222222222222,
             "#7201a8"
            ],
            [
             0.3333333333333333,
             "#9c179e"
            ],
            [
             0.4444444444444444,
             "#bd3786"
            ],
            [
             0.5555555555555556,
             "#d8576b"
            ],
            [
             0.6666666666666666,
             "#ed7953"
            ],
            [
             0.7777777777777778,
             "#fb9f3a"
            ],
            [
             0.8888888888888888,
             "#fdca26"
            ],
            [
             1,
             "#f0f921"
            ]
           ],
           "sequentialminus": [
            [
             0,
             "#0d0887"
            ],
            [
             0.1111111111111111,
             "#46039f"
            ],
            [
             0.2222222222222222,
             "#7201a8"
            ],
            [
             0.3333333333333333,
             "#9c179e"
            ],
            [
             0.4444444444444444,
             "#bd3786"
            ],
            [
             0.5555555555555556,
             "#d8576b"
            ],
            [
             0.6666666666666666,
             "#ed7953"
            ],
            [
             0.7777777777777778,
             "#fb9f3a"
            ],
            [
             0.8888888888888888,
             "#fdca26"
            ],
            [
             1,
             "#f0f921"
            ]
           ]
          },
          "colorway": [
           "#636efa",
           "#EF553B",
           "#00cc96",
           "#ab63fa",
           "#FFA15A",
           "#19d3f3",
           "#FF6692",
           "#B6E880",
           "#FF97FF",
           "#FECB52"
          ],
          "font": {
           "color": "#2a3f5f"
          },
          "geo": {
           "bgcolor": "white",
           "lakecolor": "white",
           "landcolor": "white",
           "showlakes": true,
           "showland": true,
           "subunitcolor": "#C8D4E3"
          },
          "hoverlabel": {
           "align": "left"
          },
          "hovermode": "closest",
          "mapbox": {
           "style": "light"
          },
          "paper_bgcolor": "white",
          "plot_bgcolor": "white",
          "polar": {
           "angularaxis": {
            "gridcolor": "#EBF0F8",
            "linecolor": "#EBF0F8",
            "ticks": ""
           },
           "bgcolor": "white",
           "radialaxis": {
            "gridcolor": "#EBF0F8",
            "linecolor": "#EBF0F8",
            "ticks": ""
           }
          },
          "scene": {
           "xaxis": {
            "backgroundcolor": "white",
            "gridcolor": "#DFE8F3",
            "gridwidth": 2,
            "linecolor": "#EBF0F8",
            "showbackground": true,
            "ticks": "",
            "zerolinecolor": "#EBF0F8"
           },
           "yaxis": {
            "backgroundcolor": "white",
            "gridcolor": "#DFE8F3",
            "gridwidth": 2,
            "linecolor": "#EBF0F8",
            "showbackground": true,
            "ticks": "",
            "zerolinecolor": "#EBF0F8"
           },
           "zaxis": {
            "backgroundcolor": "white",
            "gridcolor": "#DFE8F3",
            "gridwidth": 2,
            "linecolor": "#EBF0F8",
            "showbackground": true,
            "ticks": "",
            "zerolinecolor": "#EBF0F8"
           }
          },
          "shapedefaults": {
           "line": {
            "color": "#2a3f5f"
           }
          },
          "ternary": {
           "aaxis": {
            "gridcolor": "#DFE8F3",
            "linecolor": "#A2B1C6",
            "ticks": ""
           },
           "baxis": {
            "gridcolor": "#DFE8F3",
            "linecolor": "#A2B1C6",
            "ticks": ""
           },
           "bgcolor": "white",
           "caxis": {
            "gridcolor": "#DFE8F3",
            "linecolor": "#A2B1C6",
            "ticks": ""
           }
          },
          "title": {
           "x": 0.05
          },
          "xaxis": {
           "automargin": true,
           "gridcolor": "#EBF0F8",
           "linecolor": "#EBF0F8",
           "ticks": "",
           "title": {
            "standoff": 15
           },
           "zerolinecolor": "#EBF0F8",
           "zerolinewidth": 2
          },
          "yaxis": {
           "automargin": true,
           "gridcolor": "#EBF0F8",
           "linecolor": "#EBF0F8",
           "ticks": "",
           "title": {
            "standoff": 15
           },
           "zerolinecolor": "#EBF0F8",
           "zerolinewidth": 2
          }
         }
        },
        "title": {
         "text": "Stock Price Strength"
        },
        "xaxis": {
         "title": {
          "text": "Date"
         }
        },
        "yaxis": {
         "range": [
          -8.802898184570266,
          8.447164606207687
         ],
         "title": {
          "text": "Score"
         }
        }
       }
      }
     },
     "metadata": {},
     "output_type": "display_data"
    },
    {
     "data": {
      "application/vnd.plotly.v1+json": {
       "config": {
        "plotlyServerURL": "https://plot.ly"
       },
       "data": [
        {
         "hoverinfo": "text+x",
         "line": {
          "color": "lightgray",
          "width": 2
         },
         "marker": {
          "color": [
           "darkgreen",
           "darkgreen",
           "darkgreen",
           "darkgreen",
           "darkgreen",
           "darkgreen",
           "darkgreen",
           "darkgreen",
           "darkgreen",
           "darkgreen",
           "darkgreen",
           "darkgreen",
           "darkgreen",
           "darkgreen",
           "darkgreen",
           "green",
           "green",
           "gold",
           "gold",
           "gold",
           "gold",
           "green",
           "green",
           "gold",
           "gold",
           "gold",
           "gold",
           "gold",
           "gold",
           "gold",
           "gold",
           "gold",
           "gold",
           "green",
           "green",
           "green",
           "green",
           "green",
           "green",
           "green",
           "green",
           "green",
           "gold",
           "gold",
           "gold",
           "gold",
           "red",
           "red",
           "darkred",
           "darkred",
           "darkred",
           "darkred",
           "darkred",
           "darkred",
           "darkred",
           "darkred",
           "darkred",
           "darkred",
           "darkred",
           "darkred",
           "darkred",
           "darkred",
           "darkred",
           "darkred",
           "darkred",
           "darkred",
           "darkred",
           "darkred",
           "darkred",
           "darkred",
           "darkred",
           "red",
           "red",
           "red",
           "red",
           "gold",
           "gold",
           "gold",
           "gold",
           "gold",
           "gold",
           "gold",
           "gold",
           "gold",
           "gold",
           "gold",
           "gold",
           "gold",
           "gold",
           "gold",
           "gold",
           "gold",
           "red",
           "red",
           "red",
           "red",
           "red",
           "darkred",
           "darkred",
           "darkred",
           "darkred",
           "darkred",
           "darkred",
           "darkred",
           "darkred",
           "darkred",
           "darkred",
           "darkred",
           "darkred",
           "darkred",
           "darkred",
           "darkred",
           "darkred",
           "darkred",
           "darkred",
           "darkred",
           "darkred",
           "darkred",
           "darkred",
           "darkred",
           "darkred",
           "darkred",
           "darkred",
           "darkred",
           "darkred",
           "darkred",
           "darkred",
           "darkred",
           "darkred",
           "darkred",
           "darkred",
           "darkred",
           "darkred",
           "darkred",
           "darkred",
           "darkred",
           "darkred",
           "darkred",
           "darkred",
           "red",
           "red",
           "red",
           "gold",
           "gold",
           "gold",
           "green",
           "green",
           "green",
           "darkgreen",
           "darkgreen",
           "darkgreen",
           "darkgreen",
           "darkgreen",
           "darkgreen",
           "darkgreen",
           "darkgreen",
           "darkgreen",
           "darkgreen",
           "darkgreen",
           "darkgreen",
           "darkgreen",
           "darkgreen",
           "darkgreen",
           "darkgreen",
           "darkgreen",
           "darkgreen",
           "darkgreen",
           "darkgreen",
           "darkgreen",
           "darkgreen",
           "darkgreen",
           "darkgreen",
           "darkgreen",
           "darkgreen",
           "darkgreen",
           "darkgreen",
           "darkgreen",
           "darkgreen",
           "darkgreen",
           "darkgreen",
           "darkgreen",
           "darkgreen",
           "darkgreen",
           "darkgreen",
           "darkgreen",
           "darkgreen",
           "darkgreen",
           "darkgreen",
           "darkgreen",
           "darkgreen",
           "darkgreen",
           "darkgreen",
           "darkgreen",
           "darkgreen",
           "darkgreen",
           "darkgreen",
           "darkgreen",
           "darkgreen",
           "darkgreen",
           "darkgreen",
           "darkgreen",
           "darkgreen",
           "green",
           "green",
           "green",
           "green",
           "green",
           "gold",
           "gold",
           "gold",
           "gold",
           "gold",
           "gold",
           "gold",
           "gold",
           "gold",
           "gold",
           "green",
           "green",
           "green",
           "green",
           "green",
           "green",
           "green",
           "green",
           "green",
           "green",
           "green",
           "green",
           "green",
           "green",
           "green",
           "green",
           "green",
           "green",
           "green",
           "green",
           "green",
           "green",
           "green",
           "green",
           "green",
           "green",
           "green",
           "green",
           "green",
           "green",
           "green",
           "gold",
           "gold",
           null,
           "gold",
           null,
           null,
           null,
           null,
           null
          ],
          "size": 8
         },
         "mode": "lines+markers",
         "text": [
          "1672.14 (Extreme Greed)",
          "1675.10 (Extreme Greed)",
          "1684.49 (Extreme Greed)",
          "1684.46 (Extreme Greed)",
          "1706.19 (Extreme Greed)",
          "1714.71 (Extreme Greed)",
          "1724.59 (Extreme Greed)",
          "1700.45 (Extreme Greed)",
          "1673.32 (Extreme Greed)",
          "1628.70 (Extreme Greed)",
          "1590.02 (Extreme Greed)",
          "1536.80 (Extreme Greed)",
          "1510.13 (Extreme Greed)",
          "1465.70 (Extreme Greed)",
          "1425.50 (Extreme Greed)",
          "1365.56 (Greed)",
          "1302.44 (Greed)",
          "1250.69 (Neutral)",
          "1236.60 (Neutral)",
          "1240.30 (Neutral)",
          "1247.72 (Neutral)",
          "1253.25 (Greed)",
          "1268.15 (Greed)",
          "1252.16 (Neutral)",
          "1232.67 (Neutral)",
          "1202.08 (Neutral)",
          "1165.07 (Neutral)",
          "1145.07 (Neutral)",
          "1125.77 (Neutral)",
          "1112.11 (Neutral)",
          "1129.75 (Neutral)",
          "1171.80 (Neutral)",
          "1225.62 (Neutral)",
          "1256.44 (Greed)",
          "1289.26 (Greed)",
          "1323.63 (Greed)",
          "1337.45 (Greed)",
          "1338.79 (Greed)",
          "1329.45 (Greed)",
          "1314.08 (Greed)",
          "1295.33 (Greed)",
          "1279.06 (Greed)",
          "1244.68 (Neutral)",
          "1211.89 (Neutral)",
          "1158.86 (Neutral)",
          "1095.84 (Neutral)",
          "1027.92 (Fear)",
          "952.51 (Fear)",
          "844.27 (Extreme Fear)",
          "741.77 (Extreme Fear)",
          "687.14 (Extreme Fear)",
          "649.13 (Extreme Fear)",
          "650.80 (Extreme Fear)",
          "667.34 (Extreme Fear)",
          "650.13 (Extreme Fear)",
          "611.20 (Extreme Fear)",
          "592.07 (Extreme Fear)",
          "580.74 (Extreme Fear)",
          "592.89 (Extreme Fear)",
          "609.46 (Extreme Fear)",
          "619.57 (Extreme Fear)",
          "619.14 (Extreme Fear)",
          "592.67 (Extreme Fear)",
          "578.71 (Extreme Fear)",
          "591.09 (Extreme Fear)",
          "633.27 (Extreme Fear)",
          "685.32 (Extreme Fear)",
          "741.49 (Extreme Fear)",
          "815.89 (Extreme Fear)",
          "861.05 (Extreme Fear)",
          "916.61 (Extreme Fear)",
          "970.37 (Fear)",
          "1018.77 (Fear)",
          "1053.52 (Fear)",
          "1076.98 (Fear)",
          "1117.96 (Neutral)",
          "1123.23 (Neutral)",
          "1107.28 (Neutral)",
          "1108.25 (Neutral)",
          "1119.12 (Neutral)",
          "1124.77 (Neutral)",
          "1110.24 (Neutral)",
          "1109.41 (Neutral)",
          "1107.40 (Neutral)",
          "1094.07 (Neutral)",
          "1104.11 (Neutral)",
          "1109.92 (Neutral)",
          "1132.63 (Neutral)",
          "1146.94 (Neutral)",
          "1154.49 (Neutral)",
          "1132.88 (Neutral)",
          "1108.32 (Neutral)",
          "1081.24 (Fear)",
          "1058.01 (Fear)",
          "1020.62 (Fear)",
          "1009.79 (Fear)",
          "971.48 (Fear)",
          "911.03 (Extreme Fear)",
          "883.81 (Extreme Fear)",
          "840.95 (Extreme Fear)",
          "820.48 (Extreme Fear)",
          "775.81 (Extreme Fear)",
          "730.60 (Extreme Fear)",
          "692.91 (Extreme Fear)",
          "638.71 (Extreme Fear)",
          "633.76 (Extreme Fear)",
          "667.63 (Extreme Fear)",
          "689.10 (Extreme Fear)",
          "732.95 (Extreme Fear)",
          "758.27 (Extreme Fear)",
          "764.84 (Extreme Fear)",
          "800.22 (Extreme Fear)",
          "824.75 (Extreme Fear)",
          "836.92 (Extreme Fear)",
          "836.30 (Extreme Fear)",
          "799.77 (Extreme Fear)",
          "780.05 (Extreme Fear)",
          "772.04 (Extreme Fear)",
          "788.96 (Extreme Fear)",
          "765.34 (Extreme Fear)",
          "702.34 (Extreme Fear)",
          "632.04 (Extreme Fear)",
          "535.16 (Extreme Fear)",
          "502.23 (Extreme Fear)",
          "439.46 (Extreme Fear)",
          "419.10 (Extreme Fear)",
          "432.78 (Extreme Fear)",
          "444.32 (Extreme Fear)",
          "434.44 (Extreme Fear)",
          "456.45 (Extreme Fear)",
          "441.18 (Extreme Fear)",
          "470.68 (Extreme Fear)",
          "518.17 (Extreme Fear)",
          "591.86 (Extreme Fear)",
          "654.28 (Extreme Fear)",
          "728.99 (Extreme Fear)",
          "805.68 (Extreme Fear)",
          "862.20 (Extreme Fear)",
          "912.29 (Extreme Fear)",
          "989.71 (Fear)",
          "1040.61 (Fear)",
          "1074.60 (Fear)",
          "1107.24 (Neutral)",
          "1156.20 (Neutral)",
          "1206.12 (Neutral)",
          "1276.64 (Greed)",
          "1347.08 (Greed)",
          "1393.88 (Greed)",
          "1438.33 (Extreme Greed)",
          "1499.35 (Extreme Greed)",
          "1541.67 (Extreme Greed)",
          "1565.37 (Extreme Greed)",
          "1541.09 (Extreme Greed)",
          "1513.77 (Extreme Greed)",
          "1483.36 (Extreme Greed)",
          "1489.05 (Extreme Greed)",
          "1467.70 (Extreme Greed)",
          "1457.87 (Extreme Greed)",
          "1442.39 (Extreme Greed)",
          "1426.88 (Extreme Greed)",
          "1430.94 (Extreme Greed)",
          "1424.41 (Extreme Greed)",
          "1412.88 (Extreme Greed)",
          "1428.42 (Extreme Greed)",
          "1449.00 (Extreme Greed)",
          "1478.77 (Extreme Greed)",
          "1498.20 (Extreme Greed)",
          "1511.69 (Extreme Greed)",
          "1494.06 (Extreme Greed)",
          "1494.95 (Extreme Greed)",
          "1467.86 (Extreme Greed)",
          "1445.45 (Extreme Greed)",
          "1423.25 (Extreme Greed)",
          "1413.37 (Extreme Greed)",
          "1422.52 (Extreme Greed)",
          "1400.47 (Extreme Greed)",
          "1408.51 (Extreme Greed)",
          "1415.51 (Extreme Greed)",
          "1429.36 (Extreme Greed)",
          "1459.07 (Extreme Greed)",
          "1502.78 (Extreme Greed)",
          "1556.80 (Extreme Greed)",
          "1575.01 (Extreme Greed)",
          "1597.93 (Extreme Greed)",
          "1617.01 (Extreme Greed)",
          "1646.90 (Extreme Greed)",
          "1649.76 (Extreme Greed)",
          "1654.04 (Extreme Greed)",
          "1625.03 (Extreme Greed)",
          "1608.62 (Extreme Greed)",
          "1611.02 (Extreme Greed)",
          "1605.90 (Extreme Greed)",
          "1594.22 (Extreme Greed)",
          "1608.42 (Extreme Greed)",
          "1640.49 (Extreme Greed)",
          "1647.08 (Extreme Greed)",
          "1658.80 (Extreme Greed)",
          "1645.34 (Extreme Greed)",
          "1621.40 (Extreme Greed)",
          "1574.31 (Extreme Greed)",
          "1512.09 (Extreme Greed)",
          "1433.19 (Extreme Greed)",
          "1393.46 (Greed)",
          "1361.09 (Greed)",
          "1325.77 (Greed)",
          "1293.42 (Greed)",
          "1263.85 (Greed)",
          "1225.23 (Neutral)",
          "1222.26 (Neutral)",
          "1246.03 (Neutral)",
          "1242.62 (Neutral)",
          "1234.88 (Neutral)",
          "1230.94 (Neutral)",
          "1225.80 (Neutral)",
          "1221.48 (Neutral)",
          "1215.05 (Neutral)",
          "1248.37 (Neutral)",
          "1258.02 (Greed)",
          "1267.37 (Greed)",
          "1290.91 (Greed)",
          "1309.15 (Greed)",
          "1325.29 (Greed)",
          "1323.19 (Greed)",
          "1313.78 (Greed)",
          "1319.90 (Greed)",
          "1330.74 (Greed)",
          "1334.80 (Greed)",
          "1331.44 (Greed)",
          "1321.29 (Greed)",
          "1340.32 (Greed)",
          "1338.48 (Greed)",
          "1339.85 (Greed)",
          "1332.76 (Greed)",
          "1329.86 (Greed)",
          "1340.74 (Greed)",
          "1333.95 (Greed)",
          "1326.64 (Greed)",
          "1323.20 (Greed)",
          "1308.34 (Greed)",
          "1275.35 (Greed)",
          "1270.17 (Greed)",
          "1265.48 (Greed)",
          "1260.02 (Greed)",
          "1260.61 (Greed)",
          "1256.56 (Greed)",
          "1265.20 (Greed)",
          "1270.99 (Greed)",
          "1255.62 (Greed)",
          "1245.36 (Neutral)",
          "1215.62 (Neutral)",
          "nan (nan)",
          "1188.01 (Neutral)",
          "nan (nan)",
          "nan (nan)",
          "nan (nan)",
          "nan (nan)",
          "nan (nan)"
         ],
         "type": "scatter",
         "x": [
          "2024-10-10T00:00:00.000000000",
          "2024-10-11T00:00:00.000000000",
          "2024-10-14T00:00:00.000000000",
          "2024-10-15T00:00:00.000000000",
          "2024-10-16T00:00:00.000000000",
          "2024-10-17T00:00:00.000000000",
          "2024-10-18T00:00:00.000000000",
          "2024-10-21T00:00:00.000000000",
          "2024-10-22T00:00:00.000000000",
          "2024-10-23T00:00:00.000000000",
          "2024-10-24T00:00:00.000000000",
          "2024-10-25T00:00:00.000000000",
          "2024-10-28T00:00:00.000000000",
          "2024-10-29T00:00:00.000000000",
          "2024-10-30T00:00:00.000000000",
          "2024-10-31T00:00:00.000000000",
          "2024-11-01T00:00:00.000000000",
          "2024-11-04T00:00:00.000000000",
          "2024-11-05T00:00:00.000000000",
          "2024-11-06T00:00:00.000000000",
          "2024-11-07T00:00:00.000000000",
          "2024-11-08T00:00:00.000000000",
          "2024-11-11T00:00:00.000000000",
          "2024-11-12T00:00:00.000000000",
          "2024-11-13T00:00:00.000000000",
          "2024-11-14T00:00:00.000000000",
          "2024-11-15T00:00:00.000000000",
          "2024-11-18T00:00:00.000000000",
          "2024-11-19T00:00:00.000000000",
          "2024-11-20T00:00:00.000000000",
          "2024-11-21T00:00:00.000000000",
          "2024-11-22T00:00:00.000000000",
          "2024-11-25T00:00:00.000000000",
          "2024-11-26T00:00:00.000000000",
          "2024-11-27T00:00:00.000000000",
          "2024-11-29T00:00:00.000000000",
          "2024-12-02T00:00:00.000000000",
          "2024-12-03T00:00:00.000000000",
          "2024-12-04T00:00:00.000000000",
          "2024-12-05T00:00:00.000000000",
          "2024-12-06T00:00:00.000000000",
          "2024-12-09T00:00:00.000000000",
          "2024-12-10T00:00:00.000000000",
          "2024-12-11T00:00:00.000000000",
          "2024-12-12T00:00:00.000000000",
          "2024-12-13T00:00:00.000000000",
          "2024-12-16T00:00:00.000000000",
          "2024-12-17T00:00:00.000000000",
          "2024-12-18T00:00:00.000000000",
          "2024-12-19T00:00:00.000000000",
          "2024-12-20T00:00:00.000000000",
          "2024-12-23T00:00:00.000000000",
          "2024-12-24T00:00:00.000000000",
          "2024-12-26T00:00:00.000000000",
          "2024-12-27T00:00:00.000000000",
          "2024-12-30T00:00:00.000000000",
          "2024-12-31T00:00:00.000000000",
          "2025-01-02T00:00:00.000000000",
          "2025-01-03T00:00:00.000000000",
          "2025-01-06T00:00:00.000000000",
          "2025-01-07T00:00:00.000000000",
          "2025-01-08T00:00:00.000000000",
          "2025-01-10T00:00:00.000000000",
          "2025-01-13T00:00:00.000000000",
          "2025-01-14T00:00:00.000000000",
          "2025-01-15T00:00:00.000000000",
          "2025-01-16T00:00:00.000000000",
          "2025-01-17T00:00:00.000000000",
          "2025-01-21T00:00:00.000000000",
          "2025-01-22T00:00:00.000000000",
          "2025-01-23T00:00:00.000000000",
          "2025-01-24T00:00:00.000000000",
          "2025-01-27T00:00:00.000000000",
          "2025-01-28T00:00:00.000000000",
          "2025-01-29T00:00:00.000000000",
          "2025-01-30T00:00:00.000000000",
          "2025-01-31T00:00:00.000000000",
          "2025-02-03T00:00:00.000000000",
          "2025-02-04T00:00:00.000000000",
          "2025-02-05T00:00:00.000000000",
          "2025-02-06T00:00:00.000000000",
          "2025-02-07T00:00:00.000000000",
          "2025-02-10T00:00:00.000000000",
          "2025-02-11T00:00:00.000000000",
          "2025-02-12T00:00:00.000000000",
          "2025-02-13T00:00:00.000000000",
          "2025-02-14T00:00:00.000000000",
          "2025-02-18T00:00:00.000000000",
          "2025-02-19T00:00:00.000000000",
          "2025-02-20T00:00:00.000000000",
          "2025-02-21T00:00:00.000000000",
          "2025-02-24T00:00:00.000000000",
          "2025-02-25T00:00:00.000000000",
          "2025-02-26T00:00:00.000000000",
          "2025-02-27T00:00:00.000000000",
          "2025-02-28T00:00:00.000000000",
          "2025-03-03T00:00:00.000000000",
          "2025-03-04T00:00:00.000000000",
          "2025-03-05T00:00:00.000000000",
          "2025-03-06T00:00:00.000000000",
          "2025-03-07T00:00:00.000000000",
          "2025-03-10T00:00:00.000000000",
          "2025-03-11T00:00:00.000000000",
          "2025-03-12T00:00:00.000000000",
          "2025-03-13T00:00:00.000000000",
          "2025-03-14T00:00:00.000000000",
          "2025-03-17T00:00:00.000000000",
          "2025-03-18T00:00:00.000000000",
          "2025-03-19T00:00:00.000000000",
          "2025-03-20T00:00:00.000000000",
          "2025-03-21T00:00:00.000000000",
          "2025-03-24T00:00:00.000000000",
          "2025-03-25T00:00:00.000000000",
          "2025-03-26T00:00:00.000000000",
          "2025-03-27T00:00:00.000000000",
          "2025-03-28T00:00:00.000000000",
          "2025-03-31T00:00:00.000000000",
          "2025-04-01T00:00:00.000000000",
          "2025-04-02T00:00:00.000000000",
          "2025-04-03T00:00:00.000000000",
          "2025-04-04T00:00:00.000000000",
          "2025-04-07T00:00:00.000000000",
          "2025-04-08T00:00:00.000000000",
          "2025-04-09T00:00:00.000000000",
          "2025-04-10T00:00:00.000000000",
          "2025-04-11T00:00:00.000000000",
          "2025-04-14T00:00:00.000000000",
          "2025-04-15T00:00:00.000000000",
          "2025-04-16T00:00:00.000000000",
          "2025-04-17T00:00:00.000000000",
          "2025-04-21T00:00:00.000000000",
          "2025-04-22T00:00:00.000000000",
          "2025-04-23T00:00:00.000000000",
          "2025-04-24T00:00:00.000000000",
          "2025-04-25T00:00:00.000000000",
          "2025-04-28T00:00:00.000000000",
          "2025-04-29T00:00:00.000000000",
          "2025-04-30T00:00:00.000000000",
          "2025-05-01T00:00:00.000000000",
          "2025-05-02T00:00:00.000000000",
          "2025-05-05T00:00:00.000000000",
          "2025-05-06T00:00:00.000000000",
          "2025-05-07T00:00:00.000000000",
          "2025-05-08T00:00:00.000000000",
          "2025-05-09T00:00:00.000000000",
          "2025-05-12T00:00:00.000000000",
          "2025-05-13T00:00:00.000000000",
          "2025-05-14T00:00:00.000000000",
          "2025-05-15T00:00:00.000000000",
          "2025-05-16T00:00:00.000000000",
          "2025-05-19T00:00:00.000000000",
          "2025-05-20T00:00:00.000000000",
          "2025-05-21T00:00:00.000000000",
          "2025-05-22T00:00:00.000000000",
          "2025-05-23T00:00:00.000000000",
          "2025-05-27T00:00:00.000000000",
          "2025-05-28T00:00:00.000000000",
          "2025-05-29T00:00:00.000000000",
          "2025-05-30T00:00:00.000000000",
          "2025-06-02T00:00:00.000000000",
          "2025-06-03T00:00:00.000000000",
          "2025-06-04T00:00:00.000000000",
          "2025-06-05T00:00:00.000000000",
          "2025-06-06T00:00:00.000000000",
          "2025-06-09T00:00:00.000000000",
          "2025-06-10T00:00:00.000000000",
          "2025-06-11T00:00:00.000000000",
          "2025-06-12T00:00:00.000000000",
          "2025-06-13T00:00:00.000000000",
          "2025-06-16T00:00:00.000000000",
          "2025-06-17T00:00:00.000000000",
          "2025-06-18T00:00:00.000000000",
          "2025-06-20T00:00:00.000000000",
          "2025-06-23T00:00:00.000000000",
          "2025-06-24T00:00:00.000000000",
          "2025-06-25T00:00:00.000000000",
          "2025-06-26T00:00:00.000000000",
          "2025-06-27T00:00:00.000000000",
          "2025-06-30T00:00:00.000000000",
          "2025-07-01T00:00:00.000000000",
          "2025-07-02T00:00:00.000000000",
          "2025-07-03T00:00:00.000000000",
          "2025-07-07T00:00:00.000000000",
          "2025-07-08T00:00:00.000000000",
          "2025-07-09T00:00:00.000000000",
          "2025-07-10T00:00:00.000000000",
          "2025-07-11T00:00:00.000000000",
          "2025-07-14T00:00:00.000000000",
          "2025-07-15T00:00:00.000000000",
          "2025-07-16T00:00:00.000000000",
          "2025-07-17T00:00:00.000000000",
          "2025-07-18T00:00:00.000000000",
          "2025-07-21T00:00:00.000000000",
          "2025-07-22T00:00:00.000000000",
          "2025-07-23T00:00:00.000000000",
          "2025-07-24T00:00:00.000000000",
          "2025-07-25T00:00:00.000000000",
          "2025-07-28T00:00:00.000000000",
          "2025-07-29T00:00:00.000000000",
          "2025-07-30T00:00:00.000000000",
          "2025-07-31T00:00:00.000000000",
          "2025-08-01T00:00:00.000000000",
          "2025-08-04T00:00:00.000000000",
          "2025-08-05T00:00:00.000000000",
          "2025-08-06T00:00:00.000000000",
          "2025-08-07T00:00:00.000000000",
          "2025-08-08T00:00:00.000000000",
          "2025-08-11T00:00:00.000000000",
          "2025-08-12T00:00:00.000000000",
          "2025-08-13T00:00:00.000000000",
          "2025-08-14T00:00:00.000000000",
          "2025-08-15T00:00:00.000000000",
          "2025-08-18T00:00:00.000000000",
          "2025-08-19T00:00:00.000000000",
          "2025-08-20T00:00:00.000000000",
          "2025-08-21T00:00:00.000000000",
          "2025-08-22T00:00:00.000000000",
          "2025-08-25T00:00:00.000000000",
          "2025-08-26T00:00:00.000000000",
          "2025-08-27T00:00:00.000000000",
          "2025-08-28T00:00:00.000000000",
          "2025-08-29T00:00:00.000000000",
          "2025-09-02T00:00:00.000000000",
          "2025-09-03T00:00:00.000000000",
          "2025-09-04T00:00:00.000000000",
          "2025-09-05T00:00:00.000000000",
          "2025-09-08T00:00:00.000000000",
          "2025-09-09T00:00:00.000000000",
          "2025-09-10T00:00:00.000000000",
          "2025-09-11T00:00:00.000000000",
          "2025-09-12T00:00:00.000000000",
          "2025-09-15T00:00:00.000000000",
          "2025-09-16T00:00:00.000000000",
          "2025-09-17T00:00:00.000000000",
          "2025-09-18T00:00:00.000000000",
          "2025-09-19T00:00:00.000000000",
          "2025-09-22T00:00:00.000000000",
          "2025-09-23T00:00:00.000000000",
          "2025-09-24T00:00:00.000000000",
          "2025-09-25T00:00:00.000000000",
          "2025-09-26T00:00:00.000000000",
          "2025-09-29T00:00:00.000000000",
          "2025-09-30T00:00:00.000000000",
          "2025-10-01T00:00:00.000000000",
          "2025-10-02T00:00:00.000000000",
          "2025-10-03T00:00:00.000000000",
          "2025-10-06T00:00:00.000000000",
          "2025-10-07T00:00:00.000000000",
          "2025-10-08T00:00:00.000000000",
          "2025-10-09T00:00:00.000000000",
          "2025-10-10T00:00:00.000000000",
          "2025-10-10T14:52:03.000000000",
          "2025-10-10T14:52:05.000000000",
          "2025-10-10T14:52:12.000000000",
          "2025-10-10T14:52:16.000000000",
          "2025-10-10T14:57:12.000000000",
          "2025-10-10T15:07:04.000000000"
         ],
         "y": {
          "bdata": "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",
          "dtype": "f8"
         }
        }
       ],
       "layout": {
        "template": {
         "data": {
          "bar": [
           {
            "error_x": {
             "color": "#2a3f5f"
            },
            "error_y": {
             "color": "#2a3f5f"
            },
            "marker": {
             "line": {
              "color": "white",
              "width": 0.5
             },
             "pattern": {
              "fillmode": "overlay",
              "size": 10,
              "solidity": 0.2
             }
            },
            "type": "bar"
           }
          ],
          "barpolar": [
           {
            "marker": {
             "line": {
              "color": "white",
              "width": 0.5
             },
             "pattern": {
              "fillmode": "overlay",
              "size": 10,
              "solidity": 0.2
             }
            },
            "type": "barpolar"
           }
          ],
          "carpet": [
           {
            "aaxis": {
             "endlinecolor": "#2a3f5f",
             "gridcolor": "#C8D4E3",
             "linecolor": "#C8D4E3",
             "minorgridcolor": "#C8D4E3",
             "startlinecolor": "#2a3f5f"
            },
            "baxis": {
             "endlinecolor": "#2a3f5f",
             "gridcolor": "#C8D4E3",
             "linecolor": "#C8D4E3",
             "minorgridcolor": "#C8D4E3",
             "startlinecolor": "#2a3f5f"
            },
            "type": "carpet"
           }
          ],
          "choropleth": [
           {
            "colorbar": {
             "outlinewidth": 0,
             "ticks": ""
            },
            "type": "choropleth"
           }
          ],
          "contour": [
           {
            "colorbar": {
             "outlinewidth": 0,
             "ticks": ""
            },
            "colorscale": [
             [
              0,
              "#0d0887"
             ],
             [
              0.1111111111111111,
              "#46039f"
             ],
             [
              0.2222222222222222,
              "#7201a8"
             ],
             [
              0.3333333333333333,
              "#9c179e"
             ],
             [
              0.4444444444444444,
              "#bd3786"
             ],
             [
              0.5555555555555556,
              "#d8576b"
             ],
             [
              0.6666666666666666,
              "#ed7953"
             ],
             [
              0.7777777777777778,
              "#fb9f3a"
             ],
             [
              0.8888888888888888,
              "#fdca26"
             ],
             [
              1,
              "#f0f921"
             ]
            ],
            "type": "contour"
           }
          ],
          "contourcarpet": [
           {
            "colorbar": {
             "outlinewidth": 0,
             "ticks": ""
            },
            "type": "contourcarpet"
           }
          ],
          "heatmap": [
           {
            "colorbar": {
             "outlinewidth": 0,
             "ticks": ""
            },
            "colorscale": [
             [
              0,
              "#0d0887"
             ],
             [
              0.1111111111111111,
              "#46039f"
             ],
             [
              0.2222222222222222,
              "#7201a8"
             ],
             [
              0.3333333333333333,
              "#9c179e"
             ],
             [
              0.4444444444444444,
              "#bd3786"
             ],
             [
              0.5555555555555556,
              "#d8576b"
             ],
             [
              0.6666666666666666,
              "#ed7953"
             ],
             [
              0.7777777777777778,
              "#fb9f3a"
             ],
             [
              0.8888888888888888,
              "#fdca26"
             ],
             [
              1,
              "#f0f921"
             ]
            ],
            "type": "heatmap"
           }
          ],
          "histogram": [
           {
            "marker": {
             "pattern": {
              "fillmode": "overlay",
              "size": 10,
              "solidity": 0.2
             }
            },
            "type": "histogram"
           }
          ],
          "histogram2d": [
           {
            "colorbar": {
             "outlinewidth": 0,
             "ticks": ""
            },
            "colorscale": [
             [
              0,
              "#0d0887"
             ],
             [
              0.1111111111111111,
              "#46039f"
             ],
             [
              0.2222222222222222,
              "#7201a8"
             ],
             [
              0.3333333333333333,
              "#9c179e"
             ],
             [
              0.4444444444444444,
              "#bd3786"
             ],
             [
              0.5555555555555556,
              "#d8576b"
             ],
             [
              0.6666666666666666,
              "#ed7953"
             ],
             [
              0.7777777777777778,
              "#fb9f3a"
             ],
             [
              0.8888888888888888,
              "#fdca26"
             ],
             [
              1,
              "#f0f921"
             ]
            ],
            "type": "histogram2d"
           }
          ],
          "histogram2dcontour": [
           {
            "colorbar": {
             "outlinewidth": 0,
             "ticks": ""
            },
            "colorscale": [
             [
              0,
              "#0d0887"
             ],
             [
              0.1111111111111111,
              "#46039f"
             ],
             [
              0.2222222222222222,
              "#7201a8"
             ],
             [
              0.3333333333333333,
              "#9c179e"
             ],
             [
              0.4444444444444444,
              "#bd3786"
             ],
             [
              0.5555555555555556,
              "#d8576b"
             ],
             [
              0.6666666666666666,
              "#ed7953"
             ],
             [
              0.7777777777777778,
              "#fb9f3a"
             ],
             [
              0.8888888888888888,
              "#fdca26"
             ],
             [
              1,
              "#f0f921"
             ]
            ],
            "type": "histogram2dcontour"
           }
          ],
          "mesh3d": [
           {
            "colorbar": {
             "outlinewidth": 0,
             "ticks": ""
            },
            "type": "mesh3d"
           }
          ],
          "parcoords": [
           {
            "line": {
             "colorbar": {
              "outlinewidth": 0,
              "ticks": ""
             }
            },
            "type": "parcoords"
           }
          ],
          "pie": [
           {
            "automargin": true,
            "type": "pie"
           }
          ],
          "scatter": [
           {
            "fillpattern": {
             "fillmode": "overlay",
             "size": 10,
             "solidity": 0.2
            },
            "type": "scatter"
           }
          ],
          "scatter3d": [
           {
            "line": {
             "colorbar": {
              "outlinewidth": 0,
              "ticks": ""
             }
            },
            "marker": {
             "colorbar": {
              "outlinewidth": 0,
              "ticks": ""
             }
            },
            "type": "scatter3d"
           }
          ],
          "scattercarpet": [
           {
            "marker": {
             "colorbar": {
              "outlinewidth": 0,
              "ticks": ""
             }
            },
            "type": "scattercarpet"
           }
          ],
          "scattergeo": [
           {
            "marker": {
             "colorbar": {
              "outlinewidth": 0,
              "ticks": ""
             }
            },
            "type": "scattergeo"
           }
          ],
          "scattergl": [
           {
            "marker": {
             "colorbar": {
              "outlinewidth": 0,
              "ticks": ""
             }
            },
            "type": "scattergl"
           }
          ],
          "scattermap": [
           {
            "marker": {
             "colorbar": {
              "outlinewidth": 0,
              "ticks": ""
             }
            },
            "type": "scattermap"
           }
          ],
          "scattermapbox": [
           {
            "marker": {
             "colorbar": {
              "outlinewidth": 0,
              "ticks": ""
             }
            },
            "type": "scattermapbox"
           }
          ],
          "scatterpolar": [
           {
            "marker": {
             "colorbar": {
              "outlinewidth": 0,
              "ticks": ""
             }
            },
            "type": "scatterpolar"
           }
          ],
          "scatterpolargl": [
           {
            "marker": {
             "colorbar": {
              "outlinewidth": 0,
              "ticks": ""
             }
            },
            "type": "scatterpolargl"
           }
          ],
          "scatterternary": [
           {
            "marker": {
             "colorbar": {
              "outlinewidth": 0,
              "ticks": ""
             }
            },
            "type": "scatterternary"
           }
          ],
          "surface": [
           {
            "colorbar": {
             "outlinewidth": 0,
             "ticks": ""
            },
            "colorscale": [
             [
              0,
              "#0d0887"
             ],
             [
              0.1111111111111111,
              "#46039f"
             ],
             [
              0.2222222222222222,
              "#7201a8"
             ],
             [
              0.3333333333333333,
              "#9c179e"
             ],
             [
              0.4444444444444444,
              "#bd3786"
             ],
             [
              0.5555555555555556,
              "#d8576b"
             ],
             [
              0.6666666666666666,
              "#ed7953"
             ],
             [
              0.7777777777777778,
              "#fb9f3a"
             ],
             [
              0.8888888888888888,
              "#fdca26"
             ],
             [
              1,
              "#f0f921"
             ]
            ],
            "type": "surface"
           }
          ],
          "table": [
           {
            "cells": {
             "fill": {
              "color": "#EBF0F8"
             },
             "line": {
              "color": "white"
             }
            },
            "header": {
             "fill": {
              "color": "#C8D4E3"
             },
             "line": {
              "color": "white"
             }
            },
            "type": "table"
           }
          ]
         },
         "layout": {
          "annotationdefaults": {
           "arrowcolor": "#2a3f5f",
           "arrowhead": 0,
           "arrowwidth": 1
          },
          "autotypenumbers": "strict",
          "coloraxis": {
           "colorbar": {
            "outlinewidth": 0,
            "ticks": ""
           }
          },
          "colorscale": {
           "diverging": [
            [
             0,
             "#8e0152"
            ],
            [
             0.1,
             "#c51b7d"
            ],
            [
             0.2,
             "#de77ae"
            ],
            [
             0.3,
             "#f1b6da"
            ],
            [
             0.4,
             "#fde0ef"
            ],
            [
             0.5,
             "#f7f7f7"
            ],
            [
             0.6,
             "#e6f5d0"
            ],
            [
             0.7,
             "#b8e186"
            ],
            [
             0.8,
             "#7fbc41"
            ],
            [
             0.9,
             "#4d9221"
            ],
            [
             1,
             "#276419"
            ]
           ],
           "sequential": [
            [
             0,
             "#0d0887"
            ],
            [
             0.1111111111111111,
             "#46039f"
            ],
            [
             0.2222222222222222,
             "#7201a8"
            ],
            [
             0.3333333333333333,
             "#9c179e"
            ],
            [
             0.4444444444444444,
             "#bd3786"
            ],
            [
             0.5555555555555556,
             "#d8576b"
            ],
            [
             0.6666666666666666,
             "#ed7953"
            ],
            [
             0.7777777777777778,
             "#fb9f3a"
            ],
            [
             0.8888888888888888,
             "#fdca26"
            ],
            [
             1,
             "#f0f921"
            ]
           ],
           "sequentialminus": [
            [
             0,
             "#0d0887"
            ],
            [
             0.1111111111111111,
             "#46039f"
            ],
            [
             0.2222222222222222,
             "#7201a8"
            ],
            [
             0.3333333333333333,
             "#9c179e"
            ],
            [
             0.4444444444444444,
             "#bd3786"
            ],
            [
             0.5555555555555556,
             "#d8576b"
            ],
            [
             0.6666666666666666,
             "#ed7953"
            ],
            [
             0.7777777777777778,
             "#fb9f3a"
            ],
            [
             0.8888888888888888,
             "#fdca26"
            ],
            [
             1,
             "#f0f921"
            ]
           ]
          },
          "colorway": [
           "#636efa",
           "#EF553B",
           "#00cc96",
           "#ab63fa",
           "#FFA15A",
           "#19d3f3",
           "#FF6692",
           "#B6E880",
           "#FF97FF",
           "#FECB52"
          ],
          "font": {
           "color": "#2a3f5f"
          },
          "geo": {
           "bgcolor": "white",
           "lakecolor": "white",
           "landcolor": "white",
           "showlakes": true,
           "showland": true,
           "subunitcolor": "#C8D4E3"
          },
          "hoverlabel": {
           "align": "left"
          },
          "hovermode": "closest",
          "mapbox": {
           "style": "light"
          },
          "paper_bgcolor": "white",
          "plot_bgcolor": "white",
          "polar": {
           "angularaxis": {
            "gridcolor": "#EBF0F8",
            "linecolor": "#EBF0F8",
            "ticks": ""
           },
           "bgcolor": "white",
           "radialaxis": {
            "gridcolor": "#EBF0F8",
            "linecolor": "#EBF0F8",
            "ticks": ""
           }
          },
          "scene": {
           "xaxis": {
            "backgroundcolor": "white",
            "gridcolor": "#DFE8F3",
            "gridwidth": 2,
            "linecolor": "#EBF0F8",
            "showbackground": true,
            "ticks": "",
            "zerolinecolor": "#EBF0F8"
           },
           "yaxis": {
            "backgroundcolor": "white",
            "gridcolor": "#DFE8F3",
            "gridwidth": 2,
            "linecolor": "#EBF0F8",
            "showbackground": true,
            "ticks": "",
            "zerolinecolor": "#EBF0F8"
           },
           "zaxis": {
            "backgroundcolor": "white",
            "gridcolor": "#DFE8F3",
            "gridwidth": 2,
            "linecolor": "#EBF0F8",
            "showbackground": true,
            "ticks": "",
            "zerolinecolor": "#EBF0F8"
           }
          },
          "shapedefaults": {
           "line": {
            "color": "#2a3f5f"
           }
          },
          "ternary": {
           "aaxis": {
            "gridcolor": "#DFE8F3",
            "linecolor": "#A2B1C6",
            "ticks": ""
           },
           "baxis": {
            "gridcolor": "#DFE8F3",
            "linecolor": "#A2B1C6",
            "ticks": ""
           },
           "bgcolor": "white",
           "caxis": {
            "gridcolor": "#DFE8F3",
            "linecolor": "#A2B1C6",
            "ticks": ""
           }
          },
          "title": {
           "x": 0.05
          },
          "xaxis": {
           "automargin": true,
           "gridcolor": "#EBF0F8",
           "linecolor": "#EBF0F8",
           "ticks": "",
           "title": {
            "standoff": 15
           },
           "zerolinecolor": "#EBF0F8",
           "zerolinewidth": 2
          },
          "yaxis": {
           "automargin": true,
           "gridcolor": "#EBF0F8",
           "linecolor": "#EBF0F8",
           "ticks": "",
           "title": {
            "standoff": 15
           },
           "zerolinecolor": "#EBF0F8",
           "zerolinewidth": 2
          }
         }
        },
        "title": {
         "text": "Stock Price Breadth"
        },
        "xaxis": {
         "title": {
          "text": "Date"
         }
        },
        "yaxis": {
         "range": [
          398.14312195643936,
          1810.8219325348707
         ],
         "title": {
          "text": "Score"
         }
        }
       }
      }
     },
     "metadata": {},
     "output_type": "display_data"
    },
    {
     "data": {
      "application/vnd.plotly.v1+json": {
       "config": {
        "plotlyServerURL": "https://plot.ly"
       },
       "data": [
        {
         "hoverinfo": "text+x",
         "line": {
          "color": "lightgray",
          "width": 2
         },
         "marker": {
          "color": [
           "gold",
           "gold",
           "gold",
           "gold",
           "gold",
           "red",
           "red",
           "gold",
           "gold",
           "gold",
           "gold",
           "gold",
           "gold",
           "gold",
           "gold",
           "gold",
           "green",
           "green",
           "darkgreen",
           "green",
           "green",
           "gold",
           "red",
           "darkred",
           "darkred",
           "red",
           "gold",
           "gold",
           "gold",
           "gold",
           "red",
           "darkred",
           "darkred",
           "darkred",
           "darkred",
           "darkred",
           "darkred",
           "darkred",
           "darkred",
           "darkred",
           "darkred",
           "darkred",
           "darkred",
           "darkred",
           "darkred",
           "darkred",
           "darkred",
           "darkred",
           "darkred",
           "gold",
           "gold",
           "gold",
           "gold",
           "gold",
           "red",
           "red",
           "red",
           "gold",
           "red",
           "red",
           "red",
           "gold",
           "gold",
           "green",
           "green",
           "green",
           "darkgreen",
           "green",
           "gold",
           "gold",
           "red",
           "darkred",
           "red",
           "red",
           "red",
           "red",
           "red",
           "gold",
           "gold",
           "gold",
           "gold",
           "gold",
           "red",
           "red",
           "red",
           "red",
           "red",
           "darkred",
           "darkred",
           "darkred",
           "darkred",
           "gold",
           "green",
           "green",
           "darkgreen",
           "darkgreen",
           "darkgreen",
           "darkgreen",
           "darkgreen",
           "darkgreen",
           "darkgreen",
           "darkgreen",
           "darkgreen",
           "darkgreen",
           "darkgreen",
           "darkgreen",
           "darkgreen",
           "darkgreen",
           "darkgreen",
           "darkgreen",
           "darkgreen",
           "darkgreen",
           "darkgreen",
           "darkgreen",
           "darkgreen",
           "darkgreen",
           "darkgreen",
           "darkgreen",
           "darkgreen",
           "darkgreen",
           "darkgreen",
           "darkgreen",
           "darkgreen",
           "darkgreen",
           "darkgreen",
           "darkgreen",
           "darkgreen",
           "darkgreen",
           "darkgreen",
           "darkgreen",
           "darkgreen",
           "darkgreen",
           "darkgreen",
           "darkgreen",
           "darkgreen",
           "darkgreen",
           "darkgreen",
           "darkgreen",
           "darkgreen",
           "darkgreen",
           "darkgreen",
           "darkgreen",
           "darkgreen",
           "green",
           "green",
           "gold",
           "red",
           "red",
           "red",
           "red",
           "red",
           "red",
           "gold",
           "gold",
           "gold",
           "gold",
           "gold",
           "gold",
           "gold",
           "gold",
           "gold",
           "gold",
           "gold",
           "gold",
           "gold",
           "red",
           "red",
           "red",
           "darkred",
           "red",
           "gold",
           "green",
           "green",
           "green",
           "green",
           "gold",
           "gold",
           "gold",
           "darkred",
           "darkred",
           "darkred",
           "darkred",
           "darkred",
           "darkred",
           "darkred",
           "darkred",
           "darkred",
           "darkred",
           "darkred",
           "darkred",
           "red",
           "darkred",
           "darkred",
           "darkred",
           "darkred",
           "darkred",
           "red",
           "red",
           "red",
           "red",
           "red",
           "gold",
           "green",
           "green",
           "green",
           "green",
           "gold",
           "gold",
           "red",
           "red",
           "red",
           "darkred",
           "darkred",
           "darkred",
           "red",
           null,
           "red",
           "red",
           "red",
           "red",
           "darkred",
           "darkred",
           "red",
           "red",
           "red",
           "red",
           "red",
           "red",
           "red",
           "red",
           "darkred",
           "darkred",
           "darkred",
           "darkred",
           "darkred",
           "darkred",
           "darkred",
           "darkred",
           "darkred",
           "darkred",
           "darkred",
           "darkred",
           "darkred",
           "darkred",
           "darkred",
           "darkred",
           "darkred",
           "darkred",
           "darkred",
           "darkred",
           null,
           null,
           null,
           null,
           "darkred",
           null,
           null
          ],
          "size": 8
         },
         "mode": "lines+markers",
         "text": [
          "0.72 (Neutral)",
          "0.70 (Neutral)",
          "0.70 (Neutral)",
          "0.70 (Neutral)",
          "0.68 (Neutral)",
          "0.68 (Fear)",
          "0.66 (Fear)",
          "0.69 (Neutral)",
          "0.69 (Neutral)",
          "0.70 (Neutral)",
          "0.69 (Neutral)",
          "0.72 (Neutral)",
          "0.71 (Neutral)",
          "0.71 (Neutral)",
          "0.71 (Neutral)",
          "0.71 (Neutral)",
          "0.72 (Greed)",
          "0.74 (Greed)",
          "0.76 (Extreme Greed)",
          "0.75 (Greed)",
          "0.73 (Greed)",
          "0.70 (Neutral)",
          "0.65 (Fear)",
          "0.62 (Extreme Fear)",
          "0.61 (Extreme Fear)",
          "0.67 (Fear)",
          "0.69 (Neutral)",
          "0.70 (Neutral)",
          "0.71 (Neutral)",
          "0.72 (Neutral)",
          "0.67 (Fear)",
          "0.64 (Extreme Fear)",
          "0.62 (Extreme Fear)",
          "0.63 (Extreme Fear)",
          "0.64 (Extreme Fear)",
          "0.61 (Extreme Fear)",
          "0.62 (Extreme Fear)",
          "0.64 (Extreme Fear)",
          "0.63 (Extreme Fear)",
          "0.61 (Extreme Fear)",
          "0.63 (Extreme Fear)",
          "0.63 (Extreme Fear)",
          "0.62 (Extreme Fear)",
          "0.62 (Extreme Fear)",
          "0.63 (Extreme Fear)",
          "0.64 (Extreme Fear)",
          "0.62 (Extreme Fear)",
          "0.63 (Extreme Fear)",
          "0.64 (Extreme Fear)",
          "0.69 (Neutral)",
          "0.69 (Neutral)",
          "0.72 (Neutral)",
          "0.70 (Neutral)",
          "0.69 (Neutral)",
          "0.65 (Fear)",
          "0.66 (Fear)",
          "0.65 (Fear)",
          "0.68 (Neutral)",
          "0.67 (Fear)",
          "0.66 (Fear)",
          "0.65 (Fear)",
          "0.69 (Neutral)",
          "0.71 (Neutral)",
          "0.74 (Greed)",
          "0.74 (Greed)",
          "0.75 (Greed)",
          "0.76 (Extreme Greed)",
          "0.72 (Greed)",
          "0.69 (Neutral)",
          "0.68 (Neutral)",
          "0.68 (Fear)",
          "0.63 (Extreme Fear)",
          "0.65 (Fear)",
          "0.64 (Fear)",
          "0.65 (Fear)",
          "0.65 (Fear)",
          "0.66 (Fear)",
          "0.68 (Neutral)",
          "0.69 (Neutral)",
          "0.68 (Neutral)",
          "0.68 (Neutral)",
          "0.68 (Neutral)",
          "0.65 (Fear)",
          "0.66 (Fear)",
          "0.67 (Fear)",
          "0.67 (Fear)",
          "0.65 (Fear)",
          "0.64 (Extreme Fear)",
          "0.63 (Extreme Fear)",
          "0.62 (Extreme Fear)",
          "0.64 (Extreme Fear)",
          "0.69 (Neutral)",
          "0.73 (Greed)",
          "0.74 (Greed)",
          "0.78 (Extreme Greed)",
          "0.80 (Extreme Greed)",
          "0.81 (Extreme Greed)",
          "0.82 (Extreme Greed)",
          "0.83 (Extreme Greed)",
          "0.82 (Extreme Greed)",
          "0.81 (Extreme Greed)",
          "0.81 (Extreme Greed)",
          "0.80 (Extreme Greed)",
          "0.82 (Extreme Greed)",
          "0.83 (Extreme Greed)",
          "0.83 (Extreme Greed)",
          "0.82 (Extreme Greed)",
          "0.80 (Extreme Greed)",
          "0.78 (Extreme Greed)",
          "0.78 (Extreme Greed)",
          "0.78 (Extreme Greed)",
          "0.76 (Extreme Greed)",
          "0.77 (Extreme Greed)",
          "0.78 (Extreme Greed)",
          "0.76 (Extreme Greed)",
          "0.79 (Extreme Greed)",
          "0.84 (Extreme Greed)",
          "0.85 (Extreme Greed)",
          "0.86 (Extreme Greed)",
          "0.91 (Extreme Greed)",
          "0.95 (Extreme Greed)",
          "0.95 (Extreme Greed)",
          "0.99 (Extreme Greed)",
          "1.00 (Extreme Greed)",
          "0.99 (Extreme Greed)",
          "0.92 (Extreme Greed)",
          "0.89 (Extreme Greed)",
          "0.86 (Extreme Greed)",
          "0.90 (Extreme Greed)",
          "0.86 (Extreme Greed)",
          "0.90 (Extreme Greed)",
          "0.88 (Extreme Greed)",
          "0.86 (Extreme Greed)",
          "0.82 (Extreme Greed)",
          "0.80 (Extreme Greed)",
          "0.78 (Extreme Greed)",
          "0.79 (Extreme Greed)",
          "0.80 (Extreme Greed)",
          "0.78 (Extreme Greed)",
          "0.78 (Extreme Greed)",
          "0.79 (Extreme Greed)",
          "0.79 (Extreme Greed)",
          "0.75 (Extreme Greed)",
          "0.74 (Greed)",
          "0.73 (Greed)",
          "0.70 (Neutral)",
          "0.67 (Fear)",
          "0.65 (Fear)",
          "0.67 (Fear)",
          "0.66 (Fear)",
          "0.67 (Fear)",
          "0.67 (Fear)",
          "0.70 (Neutral)",
          "0.69 (Neutral)",
          "0.72 (Neutral)",
          "0.70 (Neutral)",
          "0.71 (Neutral)",
          "0.70 (Neutral)",
          "0.71 (Neutral)",
          "0.70 (Neutral)",
          "0.71 (Neutral)",
          "0.71 (Neutral)",
          "0.72 (Neutral)",
          "0.71 (Neutral)",
          "0.69 (Neutral)",
          "0.68 (Fear)",
          "0.66 (Fear)",
          "0.66 (Fear)",
          "0.64 (Extreme Fear)",
          "0.66 (Fear)",
          "0.71 (Neutral)",
          "0.73 (Greed)",
          "0.72 (Greed)",
          "0.75 (Greed)",
          "0.75 (Greed)",
          "0.70 (Neutral)",
          "0.69 (Neutral)",
          "0.68 (Neutral)",
          "0.64 (Extreme Fear)",
          "0.62 (Extreme Fear)",
          "0.62 (Extreme Fear)",
          "0.61 (Extreme Fear)",
          "0.62 (Extreme Fear)",
          "0.63 (Extreme Fear)",
          "0.63 (Extreme Fear)",
          "0.63 (Extreme Fear)",
          "0.64 (Extreme Fear)",
          "0.63 (Extreme Fear)",
          "0.63 (Extreme Fear)",
          "0.64 (Extreme Fear)",
          "0.64 (Fear)",
          "0.64 (Extreme Fear)",
          "0.64 (Extreme Fear)",
          "0.63 (Extreme Fear)",
          "0.63 (Extreme Fear)",
          "0.64 (Extreme Fear)",
          "0.65 (Fear)",
          "0.65 (Fear)",
          "0.65 (Fear)",
          "0.66 (Fear)",
          "0.68 (Fear)",
          "0.71 (Neutral)",
          "0.73 (Greed)",
          "0.74 (Greed)",
          "0.74 (Greed)",
          "0.73 (Greed)",
          "0.70 (Neutral)",
          "0.68 (Neutral)",
          "0.67 (Fear)",
          "0.65 (Fear)",
          "0.66 (Fear)",
          "0.64 (Extreme Fear)",
          "0.63 (Extreme Fear)",
          "0.63 (Extreme Fear)",
          "0.67 (Fear)",
          "nan (nan)",
          "0.66 (Fear)",
          "0.67 (Fear)",
          "0.67 (Fear)",
          "0.66 (Fear)",
          "0.64 (Extreme Fear)",
          "0.64 (Extreme Fear)",
          "0.65 (Fear)",
          "0.65 (Fear)",
          "0.67 (Fear)",
          "0.67 (Fear)",
          "0.68 (Fear)",
          "0.67 (Fear)",
          "0.66 (Fear)",
          "0.65 (Fear)",
          "0.63 (Extreme Fear)",
          "0.60 (Extreme Fear)",
          "0.58 (Extreme Fear)",
          "0.59 (Extreme Fear)",
          "0.57 (Extreme Fear)",
          "0.57 (Extreme Fear)",
          "0.58 (Extreme Fear)",
          "0.59 (Extreme Fear)",
          "0.59 (Extreme Fear)",
          "0.61 (Extreme Fear)",
          "0.63 (Extreme Fear)",
          "0.63 (Extreme Fear)",
          "0.63 (Extreme Fear)",
          "0.62 (Extreme Fear)",
          "0.60 (Extreme Fear)",
          "0.59 (Extreme Fear)",
          "0.59 (Extreme Fear)",
          "0.58 (Extreme Fear)",
          "0.58 (Extreme Fear)",
          "0.59 (Extreme Fear)",
          "nan (nan)",
          "nan (nan)",
          "nan (nan)",
          "nan (nan)",
          "0.57 (Extreme Fear)",
          "nan (nan)",
          "nan (nan)"
         ],
         "type": "scatter",
         "x": [
          "2024-10-10T00:00:00.000000000",
          "2024-10-11T00:00:00.000000000",
          "2024-10-14T00:00:00.000000000",
          "2024-10-15T00:00:00.000000000",
          "2024-10-16T00:00:00.000000000",
          "2024-10-17T00:00:00.000000000",
          "2024-10-18T00:00:00.000000000",
          "2024-10-21T00:00:00.000000000",
          "2024-10-22T00:00:00.000000000",
          "2024-10-23T00:00:00.000000000",
          "2024-10-24T00:00:00.000000000",
          "2024-10-25T00:00:00.000000000",
          "2024-10-28T00:00:00.000000000",
          "2024-10-29T00:00:00.000000000",
          "2024-10-30T00:00:00.000000000",
          "2024-10-31T00:00:00.000000000",
          "2024-11-01T00:00:00.000000000",
          "2024-11-04T00:00:00.000000000",
          "2024-11-05T00:00:00.000000000",
          "2024-11-06T00:00:00.000000000",
          "2024-11-07T00:00:00.000000000",
          "2024-11-08T00:00:00.000000000",
          "2024-11-11T00:00:00.000000000",
          "2024-11-12T00:00:00.000000000",
          "2024-11-13T00:00:00.000000000",
          "2024-11-14T00:00:00.000000000",
          "2024-11-15T00:00:00.000000000",
          "2024-11-18T00:00:00.000000000",
          "2024-11-19T00:00:00.000000000",
          "2024-11-20T00:00:00.000000000",
          "2024-11-21T00:00:00.000000000",
          "2024-11-22T00:00:00.000000000",
          "2024-11-25T00:00:00.000000000",
          "2024-11-26T00:00:00.000000000",
          "2024-11-27T00:00:00.000000000",
          "2024-11-29T00:00:00.000000000",
          "2024-12-02T00:00:00.000000000",
          "2024-12-03T00:00:00.000000000",
          "2024-12-04T00:00:00.000000000",
          "2024-12-05T00:00:00.000000000",
          "2024-12-06T00:00:00.000000000",
          "2024-12-09T00:00:00.000000000",
          "2024-12-10T00:00:00.000000000",
          "2024-12-11T00:00:00.000000000",
          "2024-12-12T00:00:00.000000000",
          "2024-12-13T00:00:00.000000000",
          "2024-12-16T00:00:00.000000000",
          "2024-12-17T00:00:00.000000000",
          "2024-12-18T00:00:00.000000000",
          "2024-12-19T00:00:00.000000000",
          "2024-12-20T00:00:00.000000000",
          "2024-12-23T00:00:00.000000000",
          "2024-12-24T00:00:00.000000000",
          "2024-12-26T00:00:00.000000000",
          "2024-12-27T00:00:00.000000000",
          "2024-12-30T00:00:00.000000000",
          "2024-12-31T00:00:00.000000000",
          "2025-01-02T00:00:00.000000000",
          "2025-01-03T00:00:00.000000000",
          "2025-01-06T00:00:00.000000000",
          "2025-01-07T00:00:00.000000000",
          "2025-01-08T00:00:00.000000000",
          "2025-01-10T00:00:00.000000000",
          "2025-01-13T00:00:00.000000000",
          "2025-01-14T00:00:00.000000000",
          "2025-01-15T00:00:00.000000000",
          "2025-01-16T00:00:00.000000000",
          "2025-01-17T00:00:00.000000000",
          "2025-01-21T00:00:00.000000000",
          "2025-01-22T00:00:00.000000000",
          "2025-01-23T00:00:00.000000000",
          "2025-01-24T00:00:00.000000000",
          "2025-01-27T00:00:00.000000000",
          "2025-01-28T00:00:00.000000000",
          "2025-01-29T00:00:00.000000000",
          "2025-01-30T00:00:00.000000000",
          "2025-01-31T00:00:00.000000000",
          "2025-02-03T00:00:00.000000000",
          "2025-02-04T00:00:00.000000000",
          "2025-02-05T00:00:00.000000000",
          "2025-02-06T00:00:00.000000000",
          "2025-02-07T00:00:00.000000000",
          "2025-02-10T00:00:00.000000000",
          "2025-02-11T00:00:00.000000000",
          "2025-02-12T00:00:00.000000000",
          "2025-02-13T00:00:00.000000000",
          "2025-02-14T00:00:00.000000000",
          "2025-02-18T00:00:00.000000000",
          "2025-02-19T00:00:00.000000000",
          "2025-02-20T00:00:00.000000000",
          "2025-02-21T00:00:00.000000000",
          "2025-02-24T00:00:00.000000000",
          "2025-02-25T00:00:00.000000000",
          "2025-02-26T00:00:00.000000000",
          "2025-02-27T00:00:00.000000000",
          "2025-02-28T00:00:00.000000000",
          "2025-03-03T00:00:00.000000000",
          "2025-03-04T00:00:00.000000000",
          "2025-03-05T00:00:00.000000000",
          "2025-03-06T00:00:00.000000000",
          "2025-03-07T00:00:00.000000000",
          "2025-03-10T00:00:00.000000000",
          "2025-03-11T00:00:00.000000000",
          "2025-03-12T00:00:00.000000000",
          "2025-03-13T00:00:00.000000000",
          "2025-03-14T00:00:00.000000000",
          "2025-03-17T00:00:00.000000000",
          "2025-03-18T00:00:00.000000000",
          "2025-03-19T00:00:00.000000000",
          "2025-03-20T00:00:00.000000000",
          "2025-03-21T00:00:00.000000000",
          "2025-03-24T00:00:00.000000000",
          "2025-03-25T00:00:00.000000000",
          "2025-03-26T00:00:00.000000000",
          "2025-03-27T00:00:00.000000000",
          "2025-03-28T00:00:00.000000000",
          "2025-03-31T00:00:00.000000000",
          "2025-04-01T00:00:00.000000000",
          "2025-04-02T00:00:00.000000000",
          "2025-04-03T00:00:00.000000000",
          "2025-04-04T00:00:00.000000000",
          "2025-04-07T00:00:00.000000000",
          "2025-04-08T00:00:00.000000000",
          "2025-04-09T00:00:00.000000000",
          "2025-04-10T00:00:00.000000000",
          "2025-04-11T00:00:00.000000000",
          "2025-04-14T00:00:00.000000000",
          "2025-04-15T00:00:00.000000000",
          "2025-04-16T00:00:00.000000000",
          "2025-04-17T00:00:00.000000000",
          "2025-04-21T00:00:00.000000000",
          "2025-04-22T00:00:00.000000000",
          "2025-04-23T00:00:00.000000000",
          "2025-04-24T00:00:00.000000000",
          "2025-04-25T00:00:00.000000000",
          "2025-04-28T00:00:00.000000000",
          "2025-04-29T00:00:00.000000000",
          "2025-04-30T00:00:00.000000000",
          "2025-05-01T00:00:00.000000000",
          "2025-05-02T00:00:00.000000000",
          "2025-05-05T00:00:00.000000000",
          "2025-05-06T00:00:00.000000000",
          "2025-05-07T00:00:00.000000000",
          "2025-05-08T00:00:00.000000000",
          "2025-05-09T00:00:00.000000000",
          "2025-05-12T00:00:00.000000000",
          "2025-05-13T00:00:00.000000000",
          "2025-05-14T00:00:00.000000000",
          "2025-05-15T00:00:00.000000000",
          "2025-05-16T00:00:00.000000000",
          "2025-05-19T00:00:00.000000000",
          "2025-05-20T00:00:00.000000000",
          "2025-05-21T00:00:00.000000000",
          "2025-05-22T00:00:00.000000000",
          "2025-05-23T00:00:00.000000000",
          "2025-05-27T00:00:00.000000000",
          "2025-05-28T00:00:00.000000000",
          "2025-05-29T00:00:00.000000000",
          "2025-05-30T00:00:00.000000000",
          "2025-06-02T00:00:00.000000000",
          "2025-06-03T00:00:00.000000000",
          "2025-06-04T00:00:00.000000000",
          "2025-06-05T00:00:00.000000000",
          "2025-06-06T00:00:00.000000000",
          "2025-06-09T00:00:00.000000000",
          "2025-06-10T00:00:00.000000000",
          "2025-06-11T00:00:00.000000000",
          "2025-06-12T00:00:00.000000000",
          "2025-06-13T00:00:00.000000000",
          "2025-06-16T00:00:00.000000000",
          "2025-06-17T00:00:00.000000000",
          "2025-06-18T00:00:00.000000000",
          "2025-06-20T00:00:00.000000000",
          "2025-06-23T00:00:00.000000000",
          "2025-06-24T00:00:00.000000000",
          "2025-06-25T00:00:00.000000000",
          "2025-06-26T00:00:00.000000000",
          "2025-06-27T00:00:00.000000000",
          "2025-06-30T00:00:00.000000000",
          "2025-07-01T00:00:00.000000000",
          "2025-07-02T00:00:00.000000000",
          "2025-07-03T00:00:00.000000000",
          "2025-07-07T00:00:00.000000000",
          "2025-07-08T00:00:00.000000000",
          "2025-07-09T00:00:00.000000000",
          "2025-07-10T00:00:00.000000000",
          "2025-07-11T00:00:00.000000000",
          "2025-07-14T00:00:00.000000000",
          "2025-07-15T00:00:00.000000000",
          "2025-07-16T00:00:00.000000000",
          "2025-07-17T00:00:00.000000000",
          "2025-07-18T00:00:00.000000000",
          "2025-07-21T00:00:00.000000000",
          "2025-07-22T00:00:00.000000000",
          "2025-07-23T00:00:00.000000000",
          "2025-07-24T00:00:00.000000000",
          "2025-07-25T00:00:00.000000000",
          "2025-07-28T00:00:00.000000000",
          "2025-07-29T00:00:00.000000000",
          "2025-07-30T00:00:00.000000000",
          "2025-07-31T00:00:00.000000000",
          "2025-08-01T00:00:00.000000000",
          "2025-08-04T00:00:00.000000000",
          "2025-08-05T00:00:00.000000000",
          "2025-08-06T00:00:00.000000000",
          "2025-08-07T00:00:00.000000000",
          "2025-08-08T00:00:00.000000000",
          "2025-08-11T00:00:00.000000000",
          "2025-08-12T00:00:00.000000000",
          "2025-08-13T00:00:00.000000000",
          "2025-08-14T00:00:00.000000000",
          "2025-08-15T00:00:00.000000000",
          "2025-08-18T00:00:00.000000000",
          "2025-08-19T00:00:00.000000000",
          "2025-08-20T00:00:00.000000000",
          "2025-08-21T00:00:00.000000000",
          "2025-08-22T00:00:00.000000000",
          "2025-08-25T00:00:00.000000000",
          "2025-08-26T00:00:00.000000000",
          "2025-08-27T00:00:00.000000000",
          "2025-08-28T00:00:00.000000000",
          "2025-08-29T00:00:00.000000000",
          "2025-09-02T00:00:00.000000000",
          "2025-09-03T00:00:00.000000000",
          "2025-09-04T00:00:00.000000000",
          "2025-09-05T00:00:00.000000000",
          "2025-09-08T00:00:00.000000000",
          "2025-09-09T00:00:00.000000000",
          "2025-09-10T00:00:00.000000000",
          "2025-09-11T00:00:00.000000000",
          "2025-09-12T00:00:00.000000000",
          "2025-09-15T00:00:00.000000000",
          "2025-09-16T00:00:00.000000000",
          "2025-09-17T00:00:00.000000000",
          "2025-09-18T00:00:00.000000000",
          "2025-09-19T00:00:00.000000000",
          "2025-09-22T00:00:00.000000000",
          "2025-09-23T00:00:00.000000000",
          "2025-09-24T00:00:00.000000000",
          "2025-09-25T00:00:00.000000000",
          "2025-09-26T00:00:00.000000000",
          "2025-09-29T00:00:00.000000000",
          "2025-09-30T00:00:00.000000000",
          "2025-10-01T00:00:00.000000000",
          "2025-10-02T00:00:00.000000000",
          "2025-10-03T00:00:00.000000000",
          "2025-10-06T00:00:00.000000000",
          "2025-10-07T00:00:00.000000000",
          "2025-10-08T00:00:00.000000000",
          "2025-10-09T00:00:00.000000000",
          "2025-10-10T00:00:00.000000000",
          "2025-10-10T14:52:03.000000000",
          "2025-10-10T14:52:05.000000000",
          "2025-10-10T14:52:12.000000000",
          "2025-10-10T14:52:16.000000000",
          "2025-10-10T14:57:12.000000000",
          "2025-10-10T15:07:04.000000000"
         ],
         "y": {
          "bdata": "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",
          "dtype": "f8"
         }
        }
       ],
       "layout": {
        "template": {
         "data": {
          "bar": [
           {
            "error_x": {
             "color": "#2a3f5f"
            },
            "error_y": {
             "color": "#2a3f5f"
            },
            "marker": {
             "line": {
              "color": "white",
              "width": 0.5
             },
             "pattern": {
              "fillmode": "overlay",
              "size": 10,
              "solidity": 0.2
             }
            },
            "type": "bar"
           }
          ],
          "barpolar": [
           {
            "marker": {
             "line": {
              "color": "white",
              "width": 0.5
             },
             "pattern": {
              "fillmode": "overlay",
              "size": 10,
              "solidity": 0.2
             }
            },
            "type": "barpolar"
           }
          ],
          "carpet": [
           {
            "aaxis": {
             "endlinecolor": "#2a3f5f",
             "gridcolor": "#C8D4E3",
             "linecolor": "#C8D4E3",
             "minorgridcolor": "#C8D4E3",
             "startlinecolor": "#2a3f5f"
            },
            "baxis": {
             "endlinecolor": "#2a3f5f",
             "gridcolor": "#C8D4E3",
             "linecolor": "#C8D4E3",
             "minorgridcolor": "#C8D4E3",
             "startlinecolor": "#2a3f5f"
            },
            "type": "carpet"
           }
          ],
          "choropleth": [
           {
            "colorbar": {
             "outlinewidth": 0,
             "ticks": ""
            },
            "type": "choropleth"
           }
          ],
          "contour": [
           {
            "colorbar": {
             "outlinewidth": 0,
             "ticks": ""
            },
            "colorscale": [
             [
              0,
              "#0d0887"
             ],
             [
              0.1111111111111111,
              "#46039f"
             ],
             [
              0.2222222222222222,
              "#7201a8"
             ],
             [
              0.3333333333333333,
              "#9c179e"
             ],
             [
              0.4444444444444444,
              "#bd3786"
             ],
             [
              0.5555555555555556,
              "#d8576b"
             ],
             [
              0.6666666666666666,
              "#ed7953"
             ],
             [
              0.7777777777777778,
              "#fb9f3a"
             ],
             [
              0.8888888888888888,
              "#fdca26"
             ],
             [
              1,
              "#f0f921"
             ]
            ],
            "type": "contour"
           }
          ],
          "contourcarpet": [
           {
            "colorbar": {
             "outlinewidth": 0,
             "ticks": ""
            },
            "type": "contourcarpet"
           }
          ],
          "heatmap": [
           {
            "colorbar": {
             "outlinewidth": 0,
             "ticks": ""
            },
            "colorscale": [
             [
              0,
              "#0d0887"
             ],
             [
              0.1111111111111111,
              "#46039f"
             ],
             [
              0.2222222222222222,
              "#7201a8"
             ],
             [
              0.3333333333333333,
              "#9c179e"
             ],
             [
              0.4444444444444444,
              "#bd3786"
             ],
             [
              0.5555555555555556,
              "#d8576b"
             ],
             [
              0.6666666666666666,
              "#ed7953"
             ],
             [
              0.7777777777777778,
              "#fb9f3a"
             ],
             [
              0.8888888888888888,
              "#fdca26"
             ],
             [
              1,
              "#f0f921"
             ]
            ],
            "type": "heatmap"
           }
          ],
          "histogram": [
           {
            "marker": {
             "pattern": {
              "fillmode": "overlay",
              "size": 10,
              "solidity": 0.2
             }
            },
            "type": "histogram"
           }
          ],
          "histogram2d": [
           {
            "colorbar": {
             "outlinewidth": 0,
             "ticks": ""
            },
            "colorscale": [
             [
              0,
              "#0d0887"
             ],
             [
              0.1111111111111111,
              "#46039f"
             ],
             [
              0.2222222222222222,
              "#7201a8"
             ],
             [
              0.3333333333333333,
              "#9c179e"
             ],
             [
              0.4444444444444444,
              "#bd3786"
             ],
             [
              0.5555555555555556,
              "#d8576b"
             ],
             [
              0.6666666666666666,
              "#ed7953"
             ],
             [
              0.7777777777777778,
              "#fb9f3a"
             ],
             [
              0.8888888888888888,
              "#fdca26"
             ],
             [
              1,
              "#f0f921"
             ]
            ],
            "type": "histogram2d"
           }
          ],
          "histogram2dcontour": [
           {
            "colorbar": {
             "outlinewidth": 0,
             "ticks": ""
            },
            "colorscale": [
             [
              0,
              "#0d0887"
             ],
             [
              0.1111111111111111,
              "#46039f"
             ],
             [
              0.2222222222222222,
              "#7201a8"
             ],
             [
              0.3333333333333333,
              "#9c179e"
             ],
             [
              0.4444444444444444,
              "#bd3786"
             ],
             [
              0.5555555555555556,
              "#d8576b"
             ],
             [
              0.6666666666666666,
              "#ed7953"
             ],
             [
              0.7777777777777778,
              "#fb9f3a"
             ],
             [
              0.8888888888888888,
              "#fdca26"
             ],
             [
              1,
              "#f0f921"
             ]
            ],
            "type": "histogram2dcontour"
           }
          ],
          "mesh3d": [
           {
            "colorbar": {
             "outlinewidth": 0,
             "ticks": ""
            },
            "type": "mesh3d"
           }
          ],
          "parcoords": [
           {
            "line": {
             "colorbar": {
              "outlinewidth": 0,
              "ticks": ""
             }
            },
            "type": "parcoords"
           }
          ],
          "pie": [
           {
            "automargin": true,
            "type": "pie"
           }
          ],
          "scatter": [
           {
            "fillpattern": {
             "fillmode": "overlay",
             "size": 10,
             "solidity": 0.2
            },
            "type": "scatter"
           }
          ],
          "scatter3d": [
           {
            "line": {
             "colorbar": {
              "outlinewidth": 0,
              "ticks": ""
             }
            },
            "marker": {
             "colorbar": {
              "outlinewidth": 0,
              "ticks": ""
             }
            },
            "type": "scatter3d"
           }
          ],
          "scattercarpet": [
           {
            "marker": {
             "colorbar": {
              "outlinewidth": 0,
              "ticks": ""
             }
            },
            "type": "scattercarpet"
           }
          ],
          "scattergeo": [
           {
            "marker": {
             "colorbar": {
              "outlinewidth": 0,
              "ticks": ""
             }
            },
            "type": "scattergeo"
           }
          ],
          "scattergl": [
           {
            "marker": {
             "colorbar": {
              "outlinewidth": 0,
              "ticks": ""
             }
            },
            "type": "scattergl"
           }
          ],
          "scattermap": [
           {
            "marker": {
             "colorbar": {
              "outlinewidth": 0,
              "ticks": ""
             }
            },
            "type": "scattermap"
           }
          ],
          "scattermapbox": [
           {
            "marker": {
             "colorbar": {
              "outlinewidth": 0,
              "ticks": ""
             }
            },
            "type": "scattermapbox"
           }
          ],
          "scatterpolar": [
           {
            "marker": {
             "colorbar": {
              "outlinewidth": 0,
              "ticks": ""
             }
            },
            "type": "scatterpolar"
           }
          ],
          "scatterpolargl": [
           {
            "marker": {
             "colorbar": {
              "outlinewidth": 0,
              "ticks": ""
             }
            },
            "type": "scatterpolargl"
           }
          ],
          "scatterternary": [
           {
            "marker": {
             "colorbar": {
              "outlinewidth": 0,
              "ticks": ""
             }
            },
            "type": "scatterternary"
           }
          ],
          "surface": [
           {
            "colorbar": {
             "outlinewidth": 0,
             "ticks": ""
            },
            "colorscale": [
             [
              0,
              "#0d0887"
             ],
             [
              0.1111111111111111,
              "#46039f"
             ],
             [
              0.2222222222222222,
              "#7201a8"
             ],
             [
              0.3333333333333333,
              "#9c179e"
             ],
             [
              0.4444444444444444,
              "#bd3786"
             ],
             [
              0.5555555555555556,
              "#d8576b"
             ],
             [
              0.6666666666666666,
              "#ed7953"
             ],
             [
              0.7777777777777778,
              "#fb9f3a"
             ],
             [
              0.8888888888888888,
              "#fdca26"
             ],
             [
              1,
              "#f0f921"
             ]
            ],
            "type": "surface"
           }
          ],
          "table": [
           {
            "cells": {
             "fill": {
              "color": "#EBF0F8"
             },
             "line": {
              "color": "white"
             }
            },
            "header": {
             "fill": {
              "color": "#C8D4E3"
             },
             "line": {
              "color": "white"
             }
            },
            "type": "table"
           }
          ]
         },
         "layout": {
          "annotationdefaults": {
           "arrowcolor": "#2a3f5f",
           "arrowhead": 0,
           "arrowwidth": 1
          },
          "autotypenumbers": "strict",
          "coloraxis": {
           "colorbar": {
            "outlinewidth": 0,
            "ticks": ""
           }
          },
          "colorscale": {
           "diverging": [
            [
             0,
             "#8e0152"
            ],
            [
             0.1,
             "#c51b7d"
            ],
            [
             0.2,
             "#de77ae"
            ],
            [
             0.3,
             "#f1b6da"
            ],
            [
             0.4,
             "#fde0ef"
            ],
            [
             0.5,
             "#f7f7f7"
            ],
            [
             0.6,
             "#e6f5d0"
            ],
            [
             0.7,
             "#b8e186"
            ],
            [
             0.8,
             "#7fbc41"
            ],
            [
             0.9,
             "#4d9221"
            ],
            [
             1,
             "#276419"
            ]
           ],
           "sequential": [
            [
             0,
             "#0d0887"
            ],
            [
             0.1111111111111111,
             "#46039f"
            ],
            [
             0.2222222222222222,
             "#7201a8"
            ],
            [
             0.3333333333333333,
             "#9c179e"
            ],
            [
             0.4444444444444444,
             "#bd3786"
            ],
            [
             0.5555555555555556,
             "#d8576b"
            ],
            [
             0.6666666666666666,
             "#ed7953"
            ],
            [
             0.7777777777777778,
             "#fb9f3a"
            ],
            [
             0.8888888888888888,
             "#fdca26"
            ],
            [
             1,
             "#f0f921"
            ]
           ],
           "sequentialminus": [
            [
             0,
             "#0d0887"
            ],
            [
             0.1111111111111111,
             "#46039f"
            ],
            [
             0.2222222222222222,
             "#7201a8"
            ],
            [
             0.3333333333333333,
             "#9c179e"
            ],
            [
             0.4444444444444444,
             "#bd3786"
            ],
            [
             0.5555555555555556,
             "#d8576b"
            ],
            [
             0.6666666666666666,
             "#ed7953"
            ],
            [
             0.7777777777777778,
             "#fb9f3a"
            ],
            [
             0.8888888888888888,
             "#fdca26"
            ],
            [
             1,
             "#f0f921"
            ]
           ]
          },
          "colorway": [
           "#636efa",
           "#EF553B",
           "#00cc96",
           "#ab63fa",
           "#FFA15A",
           "#19d3f3",
           "#FF6692",
           "#B6E880",
           "#FF97FF",
           "#FECB52"
          ],
          "font": {
           "color": "#2a3f5f"
          },
          "geo": {
           "bgcolor": "white",
           "lakecolor": "white",
           "landcolor": "white",
           "showlakes": true,
           "showland": true,
           "subunitcolor": "#C8D4E3"
          },
          "hoverlabel": {
           "align": "left"
          },
          "hovermode": "closest",
          "mapbox": {
           "style": "light"
          },
          "paper_bgcolor": "white",
          "plot_bgcolor": "white",
          "polar": {
           "angularaxis": {
            "gridcolor": "#EBF0F8",
            "linecolor": "#EBF0F8",
            "ticks": ""
           },
           "bgcolor": "white",
           "radialaxis": {
            "gridcolor": "#EBF0F8",
            "linecolor": "#EBF0F8",
            "ticks": ""
           }
          },
          "scene": {
           "xaxis": {
            "backgroundcolor": "white",
            "gridcolor": "#DFE8F3",
            "gridwidth": 2,
            "linecolor": "#EBF0F8",
            "showbackground": true,
            "ticks": "",
            "zerolinecolor": "#EBF0F8"
           },
           "yaxis": {
            "backgroundcolor": "white",
            "gridcolor": "#DFE8F3",
            "gridwidth": 2,
            "linecolor": "#EBF0F8",
            "showbackground": true,
            "ticks": "",
            "zerolinecolor": "#EBF0F8"
           },
           "zaxis": {
            "backgroundcolor": "white",
            "gridcolor": "#DFE8F3",
            "gridwidth": 2,
            "linecolor": "#EBF0F8",
            "showbackground": true,
            "ticks": "",
            "zerolinecolor": "#EBF0F8"
           }
          },
          "shapedefaults": {
           "line": {
            "color": "#2a3f5f"
           }
          },
          "ternary": {
           "aaxis": {
            "gridcolor": "#DFE8F3",
            "linecolor": "#A2B1C6",
            "ticks": ""
           },
           "baxis": {
            "gridcolor": "#DFE8F3",
            "linecolor": "#A2B1C6",
            "ticks": ""
           },
           "bgcolor": "white",
           "caxis": {
            "gridcolor": "#DFE8F3",
            "linecolor": "#A2B1C6",
            "ticks": ""
           }
          },
          "title": {
           "x": 0.05
          },
          "xaxis": {
           "automargin": true,
           "gridcolor": "#EBF0F8",
           "linecolor": "#EBF0F8",
           "ticks": "",
           "title": {
            "standoff": 15
           },
           "zerolinecolor": "#EBF0F8",
           "zerolinewidth": 2
          },
          "yaxis": {
           "automargin": true,
           "gridcolor": "#EBF0F8",
           "linecolor": "#EBF0F8",
           "ticks": "",
           "title": {
            "standoff": 15
           },
           "zerolinecolor": "#EBF0F8",
           "zerolinewidth": 2
          }
         }
        },
        "title": {
         "text": "Put/Call Options Ratio"
        },
        "xaxis": {
         "title": {
          "text": "Date"
         }
        },
        "yaxis": {
         "range": [
          0.5403248778154851,
          1.0467843598608138
         ],
         "title": {
          "text": "Score"
         }
        }
       }
      }
     },
     "metadata": {},
     "output_type": "display_data"
    },
    {
     "data": {
      "application/vnd.plotly.v1+json": {
       "config": {
        "plotlyServerURL": "https://plot.ly"
       },
       "data": [
        {
         "hoverinfo": "text+x",
         "line": {
          "color": "lightgray",
          "width": 2
         },
         "marker": {
          "color": [
           "green",
           "green",
           "gold",
           "green",
           "gold",
           "gold",
           "gold",
           "gold",
           "gold",
           "gold",
           "gold",
           "green",
           "gold",
           "gold",
           "green",
           "darkgreen",
           "green",
           "green",
           "green",
           "red",
           "red",
           "darkred",
           "darkred",
           "darkred",
           "darkred",
           "darkred",
           "red",
           "red",
           "red",
           "red",
           "red",
           "red",
           "darkred",
           "darkred",
           "darkred",
           "darkred",
           "darkred",
           "darkred",
           "darkred",
           "darkred",
           "darkred",
           "darkred",
           "darkred",
           "darkred",
           "darkred",
           "darkred",
           "darkred",
           "red",
           "darkgreen",
           "darkgreen",
           "gold",
           "red",
           "darkred",
           "darkred",
           "red",
           "gold",
           "red",
           "gold",
           "red",
           "red",
           "gold",
           "gold",
           "gold",
           "gold",
           "gold",
           "red",
           "red",
           "red",
           "darkred",
           "darkred",
           "darkred",
           "darkred",
           "gold",
           "red",
           "red",
           "red",
           "red",
           "gold",
           "red",
           "red",
           "red",
           "red",
           "red",
           "red",
           "red",
           "darkred",
           "darkred",
           "red",
           "red",
           "red",
           "gold",
           "gold",
           "gold",
           "gold",
           "green",
           "gold",
           "darkgreen",
           "darkgreen",
           "green",
           "darkgreen",
           "darkgreen",
           "darkgreen",
           "darkgreen",
           "darkgreen",
           "darkgreen",
           "green",
           "green",
           "green",
           "gold",
           "gold",
           "gold",
           "gold",
           "red",
           "gold",
           "gold",
           "green",
           "green",
           "green",
           "green",
           "darkgreen",
           "darkgreen",
           "darkgreen",
           "darkgreen",
           "darkgreen",
           "darkgreen",
           "darkgreen",
           "darkgreen",
           "darkgreen",
           "darkgreen",
           "darkgreen",
           "darkgreen",
           "darkgreen",
           "darkgreen",
           "darkgreen",
           "darkgreen",
           "darkgreen",
           "darkgreen",
           "darkgreen",
           "darkgreen",
           "darkgreen",
           "darkgreen",
           "darkgreen",
           "darkgreen",
           "darkgreen",
           "green",
           "gold",
           "gold",
           "gold",
           "gold",
           "red",
           "gold",
           "gold",
           "green",
           "green",
           "green",
           "gold",
           "gold",
           "gold",
           "gold",
           "gold",
           "gold",
           "gold",
           "gold",
           "red",
           "red",
           "red",
           "red",
           "gold",
           "green",
           "gold",
           "green",
           "green",
           "green",
           "gold",
           "gold",
           "red",
           "red",
           "red",
           "red",
           "red",
           "red",
           "red",
           "gold",
           "red",
           "red",
           "red",
           "red",
           "red",
           "red",
           "red",
           "red",
           "red",
           "red",
           "red",
           "red",
           "red",
           "darkred",
           "darkred",
           "red",
           "red",
           "red",
           "green",
           "gold",
           "gold",
           "red",
           "red",
           "red",
           "red",
           "darkred",
           "darkred",
           "darkred",
           "darkred",
           "darkred",
           "red",
           "red",
           "red",
           "darkred",
           "darkred",
           "darkred",
           "darkred",
           "darkred",
           "red",
           "red",
           "red",
           "red",
           "red",
           "darkred",
           "darkred",
           "red",
           "darkred",
           "darkred",
           "red",
           "red",
           "red",
           "red",
           "red",
           "red",
           "red",
           "red",
           "red",
           "red",
           "red",
           "red",
           "red",
           "red",
           "red",
           "red",
           "red",
           "red",
           "red",
           "red",
           null,
           null,
           null,
           "red",
           null,
           null
          ],
          "size": 8
         },
         "mode": "lines+markers",
         "text": [
          "20.93 (Greed)",
          "20.46 (Greed)",
          "19.70 (Neutral)",
          "20.64 (Greed)",
          "19.58 (Neutral)",
          "19.11 (Neutral)",
          "18.03 (Neutral)",
          "18.37 (Neutral)",
          "18.20 (Neutral)",
          "19.24 (Neutral)",
          "19.08 (Neutral)",
          "20.33 (Greed)",
          "19.80 (Neutral)",
          "19.34 (Neutral)",
          "20.35 (Greed)",
          "23.16 (Extreme Greed)",
          "21.88 (Greed)",
          "21.98 (Greed)",
          "20.49 (Greed)",
          "16.27 (Fear)",
          "15.20 (Fear)",
          "14.94 (Extreme Fear)",
          "14.97 (Extreme Fear)",
          "14.71 (Extreme Fear)",
          "14.02 (Extreme Fear)",
          "14.31 (Extreme Fear)",
          "16.14 (Fear)",
          "15.58 (Fear)",
          "16.35 (Fear)",
          "17.16 (Fear)",
          "16.87 (Fear)",
          "15.24 (Fear)",
          "14.60 (Extreme Fear)",
          "14.10 (Extreme Fear)",
          "14.10 (Extreme Fear)",
          "13.51 (Extreme Fear)",
          "13.34 (Extreme Fear)",
          "13.30 (Extreme Fear)",
          "13.45 (Extreme Fear)",
          "13.54 (Extreme Fear)",
          "12.77 (Extreme Fear)",
          "14.19 (Extreme Fear)",
          "14.18 (Extreme Fear)",
          "13.58 (Extreme Fear)",
          "13.92 (Extreme Fear)",
          "13.81 (Extreme Fear)",
          "14.69 (Extreme Fear)",
          "15.87 (Fear)",
          "27.62 (Extreme Greed)",
          "24.09 (Extreme Greed)",
          "18.36 (Neutral)",
          "16.78 (Fear)",
          "14.27 (Extreme Fear)",
          "14.73 (Extreme Fear)",
          "15.95 (Fear)",
          "17.40 (Neutral)",
          "17.35 (Fear)",
          "17.93 (Neutral)",
          "16.13 (Fear)",
          "16.04 (Fear)",
          "17.82 (Neutral)",
          "17.70 (Neutral)",
          "19.54 (Neutral)",
          "19.19 (Neutral)",
          "18.71 (Neutral)",
          "16.12 (Fear)",
          "16.60 (Fear)",
          "15.97 (Fear)",
          "15.06 (Extreme Fear)",
          "15.10 (Extreme Fear)",
          "15.02 (Extreme Fear)",
          "14.85 (Extreme Fear)",
          "17.90 (Neutral)",
          "16.41 (Fear)",
          "16.56 (Fear)",
          "15.84 (Fear)",
          "16.43 (Fear)",
          "18.62 (Neutral)",
          "17.21 (Fear)",
          "15.77 (Fear)",
          "15.50 (Fear)",
          "16.54 (Fear)",
          "15.81 (Fear)",
          "16.02 (Fear)",
          "15.89 (Fear)",
          "15.10 (Extreme Fear)",
          "14.77 (Extreme Fear)",
          "15.35 (Fear)",
          "15.27 (Fear)",
          "15.66 (Fear)",
          "18.21 (Neutral)",
          "18.98 (Neutral)",
          "19.43 (Neutral)",
          "19.10 (Neutral)",
          "21.13 (Greed)",
          "19.63 (Neutral)",
          "22.78 (Extreme Greed)",
          "23.51 (Extreme Greed)",
          "21.93 (Greed)",
          "24.87 (Extreme Greed)",
          "23.37 (Extreme Greed)",
          "27.86 (Extreme Greed)",
          "26.92 (Extreme Greed)",
          "24.23 (Extreme Greed)",
          "24.66 (Extreme Greed)",
          "21.77 (Greed)",
          "20.51 (Greed)",
          "21.70 (Greed)",
          "19.90 (Neutral)",
          "19.80 (Neutral)",
          "19.28 (Neutral)",
          "17.48 (Neutral)",
          "17.15 (Fear)",
          "18.33 (Neutral)",
          "18.69 (Neutral)",
          "21.65 (Greed)",
          "22.28 (Greed)",
          "21.77 (Greed)",
          "21.51 (Greed)",
          "30.02 (Extreme Greed)",
          "45.31 (Extreme Greed)",
          "46.98 (Extreme Greed)",
          "52.33 (Extreme Greed)",
          "33.62 (Extreme Greed)",
          "40.72 (Extreme Greed)",
          "37.56 (Extreme Greed)",
          "30.89 (Extreme Greed)",
          "30.12 (Extreme Greed)",
          "32.64 (Extreme Greed)",
          "29.65 (Extreme Greed)",
          "33.82 (Extreme Greed)",
          "30.57 (Extreme Greed)",
          "28.45 (Extreme Greed)",
          "26.47 (Extreme Greed)",
          "24.84 (Extreme Greed)",
          "25.15 (Extreme Greed)",
          "24.17 (Extreme Greed)",
          "24.70 (Extreme Greed)",
          "24.60 (Extreme Greed)",
          "22.68 (Extreme Greed)",
          "23.64 (Extreme Greed)",
          "24.76 (Extreme Greed)",
          "23.55 (Extreme Greed)",
          "22.48 (Extreme Greed)",
          "21.90 (Greed)",
          "18.39 (Neutral)",
          "18.22 (Neutral)",
          "18.62 (Neutral)",
          "17.83 (Neutral)",
          "17.24 (Fear)",
          "18.14 (Neutral)",
          "18.09 (Neutral)",
          "20.87 (Greed)",
          "20.28 (Greed)",
          "22.29 (Greed)",
          "18.96 (Neutral)",
          "19.31 (Neutral)",
          "19.18 (Neutral)",
          "18.57 (Neutral)",
          "18.36 (Neutral)",
          "17.69 (Neutral)",
          "17.61 (Neutral)",
          "18.48 (Neutral)",
          "16.77 (Fear)",
          "17.16 (Fear)",
          "16.95 (Fear)",
          "17.26 (Fear)",
          "18.02 (Neutral)",
          "20.82 (Greed)",
          "19.11 (Neutral)",
          "21.60 (Greed)",
          "20.14 (Greed)",
          "20.62 (Greed)",
          "19.83 (Neutral)",
          "17.48 (Neutral)",
          "16.76 (Fear)",
          "16.59 (Fear)",
          "16.32 (Fear)",
          "16.73 (Fear)",
          "16.83 (Fear)",
          "16.64 (Fear)",
          "16.38 (Fear)",
          "17.79 (Neutral)",
          "16.81 (Fear)",
          "15.94 (Fear)",
          "15.78 (Fear)",
          "16.40 (Fear)",
          "17.20 (Fear)",
          "17.38 (Fear)",
          "17.16 (Fear)",
          "16.52 (Fear)",
          "16.41 (Fear)",
          "16.65 (Fear)",
          "16.50 (Fear)",
          "15.37 (Fear)",
          "15.39 (Fear)",
          "14.93 (Extreme Fear)",
          "15.03 (Extreme Fear)",
          "15.98 (Fear)",
          "15.48 (Fear)",
          "16.72 (Fear)",
          "20.38 (Greed)",
          "17.52 (Neutral)",
          "17.85 (Neutral)",
          "16.77 (Fear)",
          "16.57 (Fear)",
          "15.15 (Fear)",
          "16.25 (Fear)",
          "14.73 (Extreme Fear)",
          "14.49 (Extreme Fear)",
          "14.83 (Extreme Fear)",
          "15.09 (Extreme Fear)",
          "14.99 (Extreme Fear)",
          "15.57 (Fear)",
          "15.69 (Fear)",
          "16.60 (Fear)",
          "14.22 (Extreme Fear)",
          "14.79 (Extreme Fear)",
          "14.62 (Extreme Fear)",
          "14.85 (Extreme Fear)",
          "14.43 (Extreme Fear)",
          "15.36 (Fear)",
          "17.17 (Fear)",
          "16.35 (Fear)",
          "15.30 (Fear)",
          "15.18 (Fear)",
          "15.11 (Extreme Fear)",
          "15.04 (Extreme Fear)",
          "15.35 (Fear)",
          "14.71 (Extreme Fear)",
          "14.76 (Extreme Fear)",
          "15.69 (Fear)",
          "16.36 (Fear)",
          "15.72 (Fear)",
          "15.70 (Fear)",
          "15.45 (Fear)",
          "16.10 (Fear)",
          "16.64 (Fear)",
          "16.18 (Fear)",
          "16.74 (Fear)",
          "15.29 (Fear)",
          "16.12 (Fear)",
          "16.28 (Fear)",
          "16.29 (Fear)",
          "16.63 (Fear)",
          "16.65 (Fear)",
          "16.37 (Fear)",
          "17.24 (Fear)",
          "16.30 (Fear)",
          "16.43 (Fear)",
          "16.26 (Fear)",
          "nan (nan)",
          "nan (nan)",
          "nan (nan)",
          "16.26 (Fear)",
          "nan (nan)",
          "nan (nan)"
         ],
         "type": "scatter",
         "x": [
          "2024-10-10T00:00:00.000000000",
          "2024-10-11T00:00:00.000000000",
          "2024-10-14T00:00:00.000000000",
          "2024-10-15T00:00:00.000000000",
          "2024-10-16T00:00:00.000000000",
          "2024-10-17T00:00:00.000000000",
          "2024-10-18T00:00:00.000000000",
          "2024-10-21T00:00:00.000000000",
          "2024-10-22T00:00:00.000000000",
          "2024-10-23T00:00:00.000000000",
          "2024-10-24T00:00:00.000000000",
          "2024-10-25T00:00:00.000000000",
          "2024-10-28T00:00:00.000000000",
          "2024-10-29T00:00:00.000000000",
          "2024-10-30T00:00:00.000000000",
          "2024-10-31T00:00:00.000000000",
          "2024-11-01T00:00:00.000000000",
          "2024-11-04T00:00:00.000000000",
          "2024-11-05T00:00:00.000000000",
          "2024-11-06T00:00:00.000000000",
          "2024-11-07T00:00:00.000000000",
          "2024-11-08T00:00:00.000000000",
          "2024-11-11T00:00:00.000000000",
          "2024-11-12T00:00:00.000000000",
          "2024-11-13T00:00:00.000000000",
          "2024-11-14T00:00:00.000000000",
          "2024-11-15T00:00:00.000000000",
          "2024-11-18T00:00:00.000000000",
          "2024-11-19T00:00:00.000000000",
          "2024-11-20T00:00:00.000000000",
          "2024-11-21T00:00:00.000000000",
          "2024-11-22T00:00:00.000000000",
          "2024-11-25T00:00:00.000000000",
          "2024-11-26T00:00:00.000000000",
          "2024-11-27T00:00:00.000000000",
          "2024-11-29T00:00:00.000000000",
          "2024-12-02T00:00:00.000000000",
          "2024-12-03T00:00:00.000000000",
          "2024-12-04T00:00:00.000000000",
          "2024-12-05T00:00:00.000000000",
          "2024-12-06T00:00:00.000000000",
          "2024-12-09T00:00:00.000000000",
          "2024-12-10T00:00:00.000000000",
          "2024-12-11T00:00:00.000000000",
          "2024-12-12T00:00:00.000000000",
          "2024-12-13T00:00:00.000000000",
          "2024-12-16T00:00:00.000000000",
          "2024-12-17T00:00:00.000000000",
          "2024-12-18T00:00:00.000000000",
          "2024-12-19T00:00:00.000000000",
          "2024-12-20T00:00:00.000000000",
          "2024-12-23T00:00:00.000000000",
          "2024-12-24T00:00:00.000000000",
          "2024-12-26T00:00:00.000000000",
          "2024-12-27T00:00:00.000000000",
          "2024-12-30T00:00:00.000000000",
          "2024-12-31T00:00:00.000000000",
          "2025-01-02T00:00:00.000000000",
          "2025-01-03T00:00:00.000000000",
          "2025-01-06T00:00:00.000000000",
          "2025-01-07T00:00:00.000000000",
          "2025-01-08T00:00:00.000000000",
          "2025-01-10T00:00:00.000000000",
          "2025-01-13T00:00:00.000000000",
          "2025-01-14T00:00:00.000000000",
          "2025-01-15T00:00:00.000000000",
          "2025-01-16T00:00:00.000000000",
          "2025-01-17T00:00:00.000000000",
          "2025-01-21T00:00:00.000000000",
          "2025-01-22T00:00:00.000000000",
          "2025-01-23T00:00:00.000000000",
          "2025-01-24T00:00:00.000000000",
          "2025-01-27T00:00:00.000000000",
          "2025-01-28T00:00:00.000000000",
          "2025-01-29T00:00:00.000000000",
          "2025-01-30T00:00:00.000000000",
          "2025-01-31T00:00:00.000000000",
          "2025-02-03T00:00:00.000000000",
          "2025-02-04T00:00:00.000000000",
          "2025-02-05T00:00:00.000000000",
          "2025-02-06T00:00:00.000000000",
          "2025-02-07T00:00:00.000000000",
          "2025-02-10T00:00:00.000000000",
          "2025-02-11T00:00:00.000000000",
          "2025-02-12T00:00:00.000000000",
          "2025-02-13T00:00:00.000000000",
          "2025-02-14T00:00:00.000000000",
          "2025-02-18T00:00:00.000000000",
          "2025-02-19T00:00:00.000000000",
          "2025-02-20T00:00:00.000000000",
          "2025-02-21T00:00:00.000000000",
          "2025-02-24T00:00:00.000000000",
          "2025-02-25T00:00:00.000000000",
          "2025-02-26T00:00:00.000000000",
          "2025-02-27T00:00:00.000000000",
          "2025-02-28T00:00:00.000000000",
          "2025-03-03T00:00:00.000000000",
          "2025-03-04T00:00:00.000000000",
          "2025-03-05T00:00:00.000000000",
          "2025-03-06T00:00:00.000000000",
          "2025-03-07T00:00:00.000000000",
          "2025-03-10T00:00:00.000000000",
          "2025-03-11T00:00:00.000000000",
          "2025-03-12T00:00:00.000000000",
          "2025-03-13T00:00:00.000000000",
          "2025-03-14T00:00:00.000000000",
          "2025-03-17T00:00:00.000000000",
          "2025-03-18T00:00:00.000000000",
          "2025-03-19T00:00:00.000000000",
          "2025-03-20T00:00:00.000000000",
          "2025-03-21T00:00:00.000000000",
          "2025-03-24T00:00:00.000000000",
          "2025-03-25T00:00:00.000000000",
          "2025-03-26T00:00:00.000000000",
          "2025-03-27T00:00:00.000000000",
          "2025-03-28T00:00:00.000000000",
          "2025-03-31T00:00:00.000000000",
          "2025-04-01T00:00:00.000000000",
          "2025-04-02T00:00:00.000000000",
          "2025-04-03T00:00:00.000000000",
          "2025-04-04T00:00:00.000000000",
          "2025-04-07T00:00:00.000000000",
          "2025-04-08T00:00:00.000000000",
          "2025-04-09T00:00:00.000000000",
          "2025-04-10T00:00:00.000000000",
          "2025-04-11T00:00:00.000000000",
          "2025-04-14T00:00:00.000000000",
          "2025-04-15T00:00:00.000000000",
          "2025-04-16T00:00:00.000000000",
          "2025-04-17T00:00:00.000000000",
          "2025-04-21T00:00:00.000000000",
          "2025-04-22T00:00:00.000000000",
          "2025-04-23T00:00:00.000000000",
          "2025-04-24T00:00:00.000000000",
          "2025-04-25T00:00:00.000000000",
          "2025-04-28T00:00:00.000000000",
          "2025-04-29T00:00:00.000000000",
          "2025-04-30T00:00:00.000000000",
          "2025-05-01T00:00:00.000000000",
          "2025-05-02T00:00:00.000000000",
          "2025-05-05T00:00:00.000000000",
          "2025-05-06T00:00:00.000000000",
          "2025-05-07T00:00:00.000000000",
          "2025-05-08T00:00:00.000000000",
          "2025-05-09T00:00:00.000000000",
          "2025-05-12T00:00:00.000000000",
          "2025-05-13T00:00:00.000000000",
          "2025-05-14T00:00:00.000000000",
          "2025-05-15T00:00:00.000000000",
          "2025-05-16T00:00:00.000000000",
          "2025-05-19T00:00:00.000000000",
          "2025-05-20T00:00:00.000000000",
          "2025-05-21T00:00:00.000000000",
          "2025-05-22T00:00:00.000000000",
          "2025-05-23T00:00:00.000000000",
          "2025-05-27T00:00:00.000000000",
          "2025-05-28T00:00:00.000000000",
          "2025-05-29T00:00:00.000000000",
          "2025-05-30T00:00:00.000000000",
          "2025-06-02T00:00:00.000000000",
          "2025-06-03T00:00:00.000000000",
          "2025-06-04T00:00:00.000000000",
          "2025-06-05T00:00:00.000000000",
          "2025-06-06T00:00:00.000000000",
          "2025-06-09T00:00:00.000000000",
          "2025-06-10T00:00:00.000000000",
          "2025-06-11T00:00:00.000000000",
          "2025-06-12T00:00:00.000000000",
          "2025-06-13T00:00:00.000000000",
          "2025-06-16T00:00:00.000000000",
          "2025-06-17T00:00:00.000000000",
          "2025-06-18T00:00:00.000000000",
          "2025-06-20T00:00:00.000000000",
          "2025-06-23T00:00:00.000000000",
          "2025-06-24T00:00:00.000000000",
          "2025-06-25T00:00:00.000000000",
          "2025-06-26T00:00:00.000000000",
          "2025-06-27T00:00:00.000000000",
          "2025-06-30T00:00:00.000000000",
          "2025-07-01T00:00:00.000000000",
          "2025-07-02T00:00:00.000000000",
          "2025-07-03T00:00:00.000000000",
          "2025-07-07T00:00:00.000000000",
          "2025-07-08T00:00:00.000000000",
          "2025-07-09T00:00:00.000000000",
          "2025-07-10T00:00:00.000000000",
          "2025-07-11T00:00:00.000000000",
          "2025-07-14T00:00:00.000000000",
          "2025-07-15T00:00:00.000000000",
          "2025-07-16T00:00:00.000000000",
          "2025-07-17T00:00:00.000000000",
          "2025-07-18T00:00:00.000000000",
          "2025-07-21T00:00:00.000000000",
          "2025-07-22T00:00:00.000000000",
          "2025-07-23T00:00:00.000000000",
          "2025-07-24T00:00:00.000000000",
          "2025-07-25T00:00:00.000000000",
          "2025-07-28T00:00:00.000000000",
          "2025-07-29T00:00:00.000000000",
          "2025-07-30T00:00:00.000000000",
          "2025-07-31T00:00:00.000000000",
          "2025-08-01T00:00:00.000000000",
          "2025-08-04T00:00:00.000000000",
          "2025-08-05T00:00:00.000000000",
          "2025-08-06T00:00:00.000000000",
          "2025-08-07T00:00:00.000000000",
          "2025-08-08T00:00:00.000000000",
          "2025-08-11T00:00:00.000000000",
          "2025-08-12T00:00:00.000000000",
          "2025-08-13T00:00:00.000000000",
          "2025-08-14T00:00:00.000000000",
          "2025-08-15T00:00:00.000000000",
          "2025-08-18T00:00:00.000000000",
          "2025-08-19T00:00:00.000000000",
          "2025-08-20T00:00:00.000000000",
          "2025-08-21T00:00:00.000000000",
          "2025-08-22T00:00:00.000000000",
          "2025-08-25T00:00:00.000000000",
          "2025-08-26T00:00:00.000000000",
          "2025-08-27T00:00:00.000000000",
          "2025-08-28T00:00:00.000000000",
          "2025-08-29T00:00:00.000000000",
          "2025-09-02T00:00:00.000000000",
          "2025-09-03T00:00:00.000000000",
          "2025-09-04T00:00:00.000000000",
          "2025-09-05T00:00:00.000000000",
          "2025-09-08T00:00:00.000000000",
          "2025-09-09T00:00:00.000000000",
          "2025-09-10T00:00:00.000000000",
          "2025-09-11T00:00:00.000000000",
          "2025-09-12T00:00:00.000000000",
          "2025-09-15T00:00:00.000000000",
          "2025-09-16T00:00:00.000000000",
          "2025-09-17T00:00:00.000000000",
          "2025-09-18T00:00:00.000000000",
          "2025-09-19T00:00:00.000000000",
          "2025-09-22T00:00:00.000000000",
          "2025-09-23T00:00:00.000000000",
          "2025-09-24T00:00:00.000000000",
          "2025-09-25T00:00:00.000000000",
          "2025-09-26T00:00:00.000000000",
          "2025-09-29T00:00:00.000000000",
          "2025-09-30T00:00:00.000000000",
          "2025-10-01T00:00:00.000000000",
          "2025-10-02T00:00:00.000000000",
          "2025-10-03T00:00:00.000000000",
          "2025-10-06T00:00:00.000000000",
          "2025-10-07T00:00:00.000000000",
          "2025-10-08T00:00:00.000000000",
          "2025-10-09T00:00:00.000000000",
          "2025-10-10T00:00:00.000000000",
          "2025-10-10T14:52:03.000000000",
          "2025-10-10T14:52:05.000000000",
          "2025-10-10T14:52:12.000000000",
          "2025-10-10T14:52:16.000000000",
          "2025-10-10T14:57:12.000000000",
          "2025-10-10T15:07:04.000000000"
         ],
         "y": {
          "bdata": "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",
          "dtype": "f8"
         }
        }
       ],
       "layout": {
        "template": {
         "data": {
          "bar": [
           {
            "error_x": {
             "color": "#2a3f5f"
            },
            "error_y": {
             "color": "#2a3f5f"
            },
            "marker": {
             "line": {
              "color": "white",
              "width": 0.5
             },
             "pattern": {
              "fillmode": "overlay",
              "size": 10,
              "solidity": 0.2
             }
            },
            "type": "bar"
           }
          ],
          "barpolar": [
           {
            "marker": {
             "line": {
              "color": "white",
              "width": 0.5
             },
             "pattern": {
              "fillmode": "overlay",
              "size": 10,
              "solidity": 0.2
             }
            },
            "type": "barpolar"
           }
          ],
          "carpet": [
           {
            "aaxis": {
             "endlinecolor": "#2a3f5f",
             "gridcolor": "#C8D4E3",
             "linecolor": "#C8D4E3",
             "minorgridcolor": "#C8D4E3",
             "startlinecolor": "#2a3f5f"
            },
            "baxis": {
             "endlinecolor": "#2a3f5f",
             "gridcolor": "#C8D4E3",
             "linecolor": "#C8D4E3",
             "minorgridcolor": "#C8D4E3",
             "startlinecolor": "#2a3f5f"
            },
            "type": "carpet"
           }
          ],
          "choropleth": [
           {
            "colorbar": {
             "outlinewidth": 0,
             "ticks": ""
            },
            "type": "choropleth"
           }
          ],
          "contour": [
           {
            "colorbar": {
             "outlinewidth": 0,
             "ticks": ""
            },
            "colorscale": [
             [
              0,
              "#0d0887"
             ],
             [
              0.1111111111111111,
              "#46039f"
             ],
             [
              0.2222222222222222,
              "#7201a8"
             ],
             [
              0.3333333333333333,
              "#9c179e"
             ],
             [
              0.4444444444444444,
              "#bd3786"
             ],
             [
              0.5555555555555556,
              "#d8576b"
             ],
             [
              0.6666666666666666,
              "#ed7953"
             ],
             [
              0.7777777777777778,
              "#fb9f3a"
             ],
             [
              0.8888888888888888,
              "#fdca26"
             ],
             [
              1,
              "#f0f921"
             ]
            ],
            "type": "contour"
           }
          ],
          "contourcarpet": [
           {
            "colorbar": {
             "outlinewidth": 0,
             "ticks": ""
            },
            "type": "contourcarpet"
           }
          ],
          "heatmap": [
           {
            "colorbar": {
             "outlinewidth": 0,
             "ticks": ""
            },
            "colorscale": [
             [
              0,
              "#0d0887"
             ],
             [
              0.1111111111111111,
              "#46039f"
             ],
             [
              0.2222222222222222,
              "#7201a8"
             ],
             [
              0.3333333333333333,
              "#9c179e"
             ],
             [
              0.4444444444444444,
              "#bd3786"
             ],
             [
              0.5555555555555556,
              "#d8576b"
             ],
             [
              0.6666666666666666,
              "#ed7953"
             ],
             [
              0.7777777777777778,
              "#fb9f3a"
             ],
             [
              0.8888888888888888,
              "#fdca26"
             ],
             [
              1,
              "#f0f921"
             ]
            ],
            "type": "heatmap"
           }
          ],
          "histogram": [
           {
            "marker": {
             "pattern": {
              "fillmode": "overlay",
              "size": 10,
              "solidity": 0.2
             }
            },
            "type": "histogram"
           }
          ],
          "histogram2d": [
           {
            "colorbar": {
             "outlinewidth": 0,
             "ticks": ""
            },
            "colorscale": [
             [
              0,
              "#0d0887"
             ],
             [
              0.1111111111111111,
              "#46039f"
             ],
             [
              0.2222222222222222,
              "#7201a8"
             ],
             [
              0.3333333333333333,
              "#9c179e"
             ],
             [
              0.4444444444444444,
              "#bd3786"
             ],
             [
              0.5555555555555556,
              "#d8576b"
             ],
             [
              0.6666666666666666,
              "#ed7953"
             ],
             [
              0.7777777777777778,
              "#fb9f3a"
             ],
             [
              0.8888888888888888,
              "#fdca26"
             ],
             [
              1,
              "#f0f921"
             ]
            ],
            "type": "histogram2d"
           }
          ],
          "histogram2dcontour": [
           {
            "colorbar": {
             "outlinewidth": 0,
             "ticks": ""
            },
            "colorscale": [
             [
              0,
              "#0d0887"
             ],
             [
              0.1111111111111111,
              "#46039f"
             ],
             [
              0.2222222222222222,
              "#7201a8"
             ],
             [
              0.3333333333333333,
              "#9c179e"
             ],
             [
              0.4444444444444444,
              "#bd3786"
             ],
             [
              0.5555555555555556,
              "#d8576b"
             ],
             [
              0.6666666666666666,
              "#ed7953"
             ],
             [
              0.7777777777777778,
              "#fb9f3a"
             ],
             [
              0.8888888888888888,
              "#fdca26"
             ],
             [
              1,
              "#f0f921"
             ]
            ],
            "type": "histogram2dcontour"
           }
          ],
          "mesh3d": [
           {
            "colorbar": {
             "outlinewidth": 0,
             "ticks": ""
            },
            "type": "mesh3d"
           }
          ],
          "parcoords": [
           {
            "line": {
             "colorbar": {
              "outlinewidth": 0,
              "ticks": ""
             }
            },
            "type": "parcoords"
           }
          ],
          "pie": [
           {
            "automargin": true,
            "type": "pie"
           }
          ],
          "scatter": [
           {
            "fillpattern": {
             "fillmode": "overlay",
             "size": 10,
             "solidity": 0.2
            },
            "type": "scatter"
           }
          ],
          "scatter3d": [
           {
            "line": {
             "colorbar": {
              "outlinewidth": 0,
              "ticks": ""
             }
            },
            "marker": {
             "colorbar": {
              "outlinewidth": 0,
              "ticks": ""
             }
            },
            "type": "scatter3d"
           }
          ],
          "scattercarpet": [
           {
            "marker": {
             "colorbar": {
              "outlinewidth": 0,
              "ticks": ""
             }
            },
            "type": "scattercarpet"
           }
          ],
          "scattergeo": [
           {
            "marker": {
             "colorbar": {
              "outlinewidth": 0,
              "ticks": ""
             }
            },
            "type": "scattergeo"
           }
          ],
          "scattergl": [
           {
            "marker": {
             "colorbar": {
              "outlinewidth": 0,
              "ticks": ""
             }
            },
            "type": "scattergl"
           }
          ],
          "scattermap": [
           {
            "marker": {
             "colorbar": {
              "outlinewidth": 0,
              "ticks": ""
             }
            },
            "type": "scattermap"
           }
          ],
          "scattermapbox": [
           {
            "marker": {
             "colorbar": {
              "outlinewidth": 0,
              "ticks": ""
             }
            },
            "type": "scattermapbox"
           }
          ],
          "scatterpolar": [
           {
            "marker": {
             "colorbar": {
              "outlinewidth": 0,
              "ticks": ""
             }
            },
            "type": "scatterpolar"
           }
          ],
          "scatterpolargl": [
           {
            "marker": {
             "colorbar": {
              "outlinewidth": 0,
              "ticks": ""
             }
            },
            "type": "scatterpolargl"
           }
          ],
          "scatterternary": [
           {
            "marker": {
             "colorbar": {
              "outlinewidth": 0,
              "ticks": ""
             }
            },
            "type": "scatterternary"
           }
          ],
          "surface": [
           {
            "colorbar": {
             "outlinewidth": 0,
             "ticks": ""
            },
            "colorscale": [
             [
              0,
              "#0d0887"
             ],
             [
              0.1111111111111111,
              "#46039f"
             ],
             [
              0.2222222222222222,
              "#7201a8"
             ],
             [
              0.3333333333333333,
              "#9c179e"
             ],
             [
              0.4444444444444444,
              "#bd3786"
             ],
             [
              0.5555555555555556,
              "#d8576b"
             ],
             [
              0.6666666666666666,
              "#ed7953"
             ],
             [
              0.7777777777777778,
              "#fb9f3a"
             ],
             [
              0.8888888888888888,
              "#fdca26"
             ],
             [
              1,
              "#f0f921"
             ]
            ],
            "type": "surface"
           }
          ],
          "table": [
           {
            "cells": {
             "fill": {
              "color": "#EBF0F8"
             },
             "line": {
              "color": "white"
             }
            },
            "header": {
             "fill": {
              "color": "#C8D4E3"
             },
             "line": {
              "color": "white"
             }
            },
            "type": "table"
           }
          ]
         },
         "layout": {
          "annotationdefaults": {
           "arrowcolor": "#2a3f5f",
           "arrowhead": 0,
           "arrowwidth": 1
          },
          "autotypenumbers": "strict",
          "coloraxis": {
           "colorbar": {
            "outlinewidth": 0,
            "ticks": ""
           }
          },
          "colorscale": {
           "diverging": [
            [
             0,
             "#8e0152"
            ],
            [
             0.1,
             "#c51b7d"
            ],
            [
             0.2,
             "#de77ae"
            ],
            [
             0.3,
             "#f1b6da"
            ],
            [
             0.4,
             "#fde0ef"
            ],
            [
             0.5,
             "#f7f7f7"
            ],
            [
             0.6,
             "#e6f5d0"
            ],
            [
             0.7,
             "#b8e186"
            ],
            [
             0.8,
             "#7fbc41"
            ],
            [
             0.9,
             "#4d9221"
            ],
            [
             1,
             "#276419"
            ]
           ],
           "sequential": [
            [
             0,
             "#0d0887"
            ],
            [
             0.1111111111111111,
             "#46039f"
            ],
            [
             0.2222222222222222,
             "#7201a8"
            ],
            [
             0.3333333333333333,
             "#9c179e"
            ],
            [
             0.4444444444444444,
             "#bd3786"
            ],
            [
             0.5555555555555556,
             "#d8576b"
            ],
            [
             0.6666666666666666,
             "#ed7953"
            ],
            [
             0.7777777777777778,
             "#fb9f3a"
            ],
            [
             0.8888888888888888,
             "#fdca26"
            ],
            [
             1,
             "#f0f921"
            ]
           ],
           "sequentialminus": [
            [
             0,
             "#0d0887"
            ],
            [
             0.1111111111111111,
             "#46039f"
            ],
            [
             0.2222222222222222,
             "#7201a8"
            ],
            [
             0.3333333333333333,
             "#9c179e"
            ],
            [
             0.4444444444444444,
             "#bd3786"
            ],
            [
             0.5555555555555556,
             "#d8576b"
            ],
            [
             0.6666666666666666,
             "#ed7953"
            ],
            [
             0.7777777777777778,
             "#fb9f3a"
            ],
            [
             0.8888888888888888,
             "#fdca26"
            ],
            [
             1,
             "#f0f921"
            ]
           ]
          },
          "colorway": [
           "#636efa",
           "#EF553B",
           "#00cc96",
           "#ab63fa",
           "#FFA15A",
           "#19d3f3",
           "#FF6692",
           "#B6E880",
           "#FF97FF",
           "#FECB52"
          ],
          "font": {
           "color": "#2a3f5f"
          },
          "geo": {
           "bgcolor": "white",
           "lakecolor": "white",
           "landcolor": "white",
           "showlakes": true,
           "showland": true,
           "subunitcolor": "#C8D4E3"
          },
          "hoverlabel": {
           "align": "left"
          },
          "hovermode": "closest",
          "mapbox": {
           "style": "light"
          },
          "paper_bgcolor": "white",
          "plot_bgcolor": "white",
          "polar": {
           "angularaxis": {
            "gridcolor": "#EBF0F8",
            "linecolor": "#EBF0F8",
            "ticks": ""
           },
           "bgcolor": "white",
           "radialaxis": {
            "gridcolor": "#EBF0F8",
            "linecolor": "#EBF0F8",
            "ticks": ""
           }
          },
          "scene": {
           "xaxis": {
            "backgroundcolor": "white",
            "gridcolor": "#DFE8F3",
            "gridwidth": 2,
            "linecolor": "#EBF0F8",
            "showbackground": true,
            "ticks": "",
            "zerolinecolor": "#EBF0F8"
           },
           "yaxis": {
            "backgroundcolor": "white",
            "gridcolor": "#DFE8F3",
            "gridwidth": 2,
            "linecolor": "#EBF0F8",
            "showbackground": true,
            "ticks": "",
            "zerolinecolor": "#EBF0F8"
           },
           "zaxis": {
            "backgroundcolor": "white",
            "gridcolor": "#DFE8F3",
            "gridwidth": 2,
            "linecolor": "#EBF0F8",
            "showbackground": true,
            "ticks": "",
            "zerolinecolor": "#EBF0F8"
           }
          },
          "shapedefaults": {
           "line": {
            "color": "#2a3f5f"
           }
          },
          "ternary": {
           "aaxis": {
            "gridcolor": "#DFE8F3",
            "linecolor": "#A2B1C6",
            "ticks": ""
           },
           "baxis": {
            "gridcolor": "#DFE8F3",
            "linecolor": "#A2B1C6",
            "ticks": ""
           },
           "bgcolor": "white",
           "caxis": {
            "gridcolor": "#DFE8F3",
            "linecolor": "#A2B1C6",
            "ticks": ""
           }
          },
          "title": {
           "x": 0.05
          },
          "xaxis": {
           "automargin": true,
           "gridcolor": "#EBF0F8",
           "linecolor": "#EBF0F8",
           "ticks": "",
           "title": {
            "standoff": 15
           },
           "zerolinecolor": "#EBF0F8",
           "zerolinewidth": 2
          },
          "yaxis": {
           "automargin": true,
           "gridcolor": "#EBF0F8",
           "linecolor": "#EBF0F8",
           "ticks": "",
           "title": {
            "standoff": 15
           },
           "zerolinecolor": "#EBF0F8",
           "zerolinewidth": 2
          }
         }
        },
        "title": {
         "text": "Market Volatility (VIX)"
        },
        "xaxis": {
         "title": {
          "text": "Date"
         }
        },
        "yaxis": {
         "range": [
          12.131499999999999,
          54.9465
         ],
         "title": {
          "text": "Score"
         }
        }
       }
      }
     },
     "metadata": {},
     "output_type": "display_data"
    },
    {
     "data": {
      "application/vnd.plotly.v1+json": {
       "config": {
        "plotlyServerURL": "https://plot.ly"
       },
       "data": [
        {
         "hoverinfo": "text+x",
         "line": {
          "color": "lightgray",
          "width": 2
         },
         "marker": {
          "color": [
           "gold",
           "gold",
           "gold",
           "gold",
           "gold",
           "red",
           "red",
           "red",
           "red",
           "red",
           "red",
           "red",
           "gold",
           "gold",
           "gold",
           "gold",
           "gold",
           "gold",
           "gold",
           "gold",
           "gold",
           "gold",
           "gold",
           "gold",
           "gold",
           "gold",
           "gold",
           "gold",
           "gold",
           "gold",
           "gold",
           "red",
           "red",
           "red",
           "red",
           "red",
           "red",
           "red",
           "red",
           "red",
           "red",
           "red",
           "red",
           "red",
           "red",
           "red",
           "red",
           "red",
           "red",
           "red",
           "red",
           "red",
           "red",
           "darkred",
           "darkred",
           "darkred",
           "darkred",
           "darkred",
           "darkred",
           "darkred",
           "darkred",
           "darkred",
           "darkred",
           "darkred",
           "darkred",
           "darkred",
           "darkred",
           "darkred",
           "darkred",
           "darkred",
           "darkred",
           "darkred",
           "darkred",
           "darkred",
           "darkred",
           "darkred",
           "darkred",
           "darkred",
           "darkred",
           "darkred",
           "darkred",
           "darkred",
           "darkred",
           "darkred",
           "darkred",
           "darkred",
           "darkred",
           "darkred",
           "darkred",
           "darkred",
           "darkred",
           "darkred",
           "darkred",
           "red",
           "red",
           "red",
           "red",
           "red",
           "red",
           "red",
           "red",
           "red",
           "red",
           "red",
           "gold",
           "gold",
           "gold",
           "gold",
           "gold",
           "gold",
           "gold",
           "gold",
           "gold",
           "gold",
           "gold",
           "gold",
           "gold",
           "gold",
           "gold",
           "gold",
           "green",
           "green",
           "darkgreen",
           "darkgreen",
           "darkgreen",
           "darkgreen",
           "darkgreen",
           "darkgreen",
           "darkgreen",
           "darkgreen",
           "darkgreen",
           "darkgreen",
           "darkgreen",
           "darkgreen",
           "darkgreen",
           "darkgreen",
           "darkgreen",
           "darkgreen",
           "darkgreen",
           "darkgreen",
           "darkgreen",
           "darkgreen",
           "darkgreen",
           "darkgreen",
           "darkgreen",
           "darkgreen",
           "darkgreen",
           "darkgreen",
           "darkgreen",
           "darkgreen",
           "darkgreen",
           "darkgreen",
           "darkgreen",
           "darkgreen",
           "darkgreen",
           "darkgreen",
           "darkgreen",
           "darkgreen",
           "darkgreen",
           "darkgreen",
           "darkgreen",
           "darkgreen",
           "darkgreen",
           "darkgreen",
           "darkgreen",
           "darkgreen",
           "darkgreen",
           "darkgreen",
           "darkgreen",
           "darkgreen",
           "darkgreen",
           "darkgreen",
           "darkgreen",
           "darkgreen",
           "darkgreen",
           "darkgreen",
           "darkgreen",
           "darkgreen",
           "green",
           "green",
           "green",
           "green",
           "gold",
           "gold",
           "gold",
           "gold",
           "gold",
           "gold",
           "gold",
           "gold",
           "gold",
           "gold",
           "gold",
           "red",
           "red",
           "red",
           "red",
           "red",
           "red",
           "red",
           "red",
           "red",
           "red",
           "red",
           "red",
           "red",
           "red",
           "red",
           "red",
           "red",
           "red",
           "red",
           "red",
           "red",
           "red",
           "red",
           "red",
           "darkred",
           "darkred",
           "darkred",
           "darkred",
           "darkred",
           "darkred",
           "darkred",
           "darkred",
           "darkred",
           "darkred",
           "darkred",
           "darkred",
           "darkred",
           "darkred",
           "darkred",
           "darkred",
           "darkred",
           "darkred",
           "darkred",
           "darkred",
           "darkred",
           "darkred",
           "darkred",
           "darkred",
           "darkred",
           "darkred",
           "darkred",
           "darkred",
           "darkred",
           "darkred",
           "darkred",
           "darkred",
           "darkred",
           "darkred",
           null,
           null,
           null,
           "darkred",
           null,
           null
          ],
          "size": 8
         },
         "mode": "lines+markers",
         "text": [
          "18.88 (Neutral)",
          "18.92 (Neutral)",
          "18.84 (Neutral)",
          "18.48 (Neutral)",
          "18.32 (Neutral)",
          "18.15 (Fear)",
          "18.03 (Fear)",
          "17.99 (Fear)",
          "17.94 (Fear)",
          "17.96 (Fear)",
          "18.02 (Fear)",
          "18.12 (Fear)",
          "18.22 (Neutral)",
          "18.32 (Neutral)",
          "18.41 (Neutral)",
          "18.54 (Neutral)",
          "18.63 (Neutral)",
          "18.75 (Neutral)",
          "18.84 (Neutral)",
          "18.86 (Neutral)",
          "18.82 (Neutral)",
          "18.80 (Neutral)",
          "18.80 (Neutral)",
          "18.68 (Neutral)",
          "18.54 (Neutral)",
          "18.43 (Neutral)",
          "18.30 (Neutral)",
          "18.22 (Neutral)",
          "18.17 (Neutral)",
          "18.16 (Neutral)",
          "18.15 (Neutral)",
          "18.13 (Fear)",
          "18.08 (Fear)",
          "18.01 (Fear)",
          "17.92 (Fear)",
          "17.87 (Fear)",
          "17.81 (Fear)",
          "17.76 (Fear)",
          "17.72 (Fear)",
          "17.68 (Fear)",
          "17.63 (Fear)",
          "17.58 (Fear)",
          "17.53 (Fear)",
          "17.41 (Fear)",
          "17.31 (Fear)",
          "17.18 (Fear)",
          "17.09 (Fear)",
          "16.95 (Fear)",
          "17.08 (Fear)",
          "17.14 (Fear)",
          "17.09 (Fear)",
          "17.02 (Fear)",
          "16.91 (Fear)",
          "16.79 (Extreme Fear)",
          "16.72 (Extreme Fear)",
          "16.68 (Extreme Fear)",
          "16.67 (Extreme Fear)",
          "16.66 (Extreme Fear)",
          "16.62 (Extreme Fear)",
          "16.56 (Extreme Fear)",
          "16.53 (Extreme Fear)",
          "16.48 (Extreme Fear)",
          "16.47 (Extreme Fear)",
          "16.47 (Extreme Fear)",
          "16.44 (Extreme Fear)",
          "16.30 (Extreme Fear)",
          "16.19 (Extreme Fear)",
          "16.07 (Extreme Fear)",
          "15.96 (Extreme Fear)",
          "15.94 (Extreme Fear)",
          "15.93 (Extreme Fear)",
          "15.93 (Extreme Fear)",
          "15.99 (Extreme Fear)",
          "16.03 (Extreme Fear)",
          "16.08 (Extreme Fear)",
          "16.11 (Extreme Fear)",
          "16.11 (Extreme Fear)",
          "16.17 (Extreme Fear)",
          "16.19 (Extreme Fear)",
          "16.16 (Extreme Fear)",
          "16.14 (Extreme Fear)",
          "16.16 (Extreme Fear)",
          "16.19 (Extreme Fear)",
          "16.22 (Extreme Fear)",
          "16.26 (Extreme Fear)",
          "16.29 (Extreme Fear)",
          "16.32 (Extreme Fear)",
          "16.36 (Extreme Fear)",
          "16.40 (Extreme Fear)",
          "16.44 (Extreme Fear)",
          "16.55 (Extreme Fear)",
          "16.64 (Extreme Fear)",
          "16.75 (Extreme Fear)",
          "16.86 (Fear)",
          "17.00 (Fear)",
          "17.12 (Fear)",
          "17.28 (Fear)",
          "17.43 (Fear)",
          "17.32 (Fear)",
          "17.34 (Fear)",
          "17.44 (Fear)",
          "17.66 (Fear)",
          "17.91 (Fear)",
          "18.10 (Fear)",
          "18.28 (Neutral)",
          "18.36 (Neutral)",
          "18.43 (Neutral)",
          "18.50 (Neutral)",
          "18.58 (Neutral)",
          "18.65 (Neutral)",
          "18.68 (Neutral)",
          "18.68 (Neutral)",
          "18.63 (Neutral)",
          "18.61 (Neutral)",
          "18.61 (Neutral)",
          "18.72 (Neutral)",
          "18.84 (Neutral)",
          "18.95 (Neutral)",
          "19.08 (Neutral)",
          "19.38 (Neutral)",
          "19.99 (Greed)",
          "20.63 (Greed)",
          "21.32 (Extreme Greed)",
          "21.66 (Extreme Greed)",
          "22.14 (Extreme Greed)",
          "22.58 (Extreme Greed)",
          "22.87 (Extreme Greed)",
          "23.10 (Extreme Greed)",
          "23.41 (Extreme Greed)",
          "23.68 (Extreme Greed)",
          "24.05 (Extreme Greed)",
          "24.33 (Extreme Greed)",
          "24.58 (Extreme Greed)",
          "24.79 (Extreme Greed)",
          "24.97 (Extreme Greed)",
          "25.17 (Extreme Greed)",
          "25.36 (Extreme Greed)",
          "25.55 (Extreme Greed)",
          "25.73 (Extreme Greed)",
          "25.87 (Extreme Greed)",
          "25.98 (Extreme Greed)",
          "26.10 (Extreme Greed)",
          "26.18 (Extreme Greed)",
          "26.25 (Extreme Greed)",
          "26.26 (Extreme Greed)",
          "26.24 (Extreme Greed)",
          "26.15 (Extreme Greed)",
          "26.05 (Extreme Greed)",
          "25.97 (Extreme Greed)",
          "25.82 (Extreme Greed)",
          "25.71 (Extreme Greed)",
          "25.52 (Extreme Greed)",
          "25.39 (Extreme Greed)",
          "25.32 (Extreme Greed)",
          "25.27 (Extreme Greed)",
          "25.21 (Extreme Greed)",
          "25.19 (Extreme Greed)",
          "25.14 (Extreme Greed)",
          "25.11 (Extreme Greed)",
          "25.08 (Extreme Greed)",
          "25.05 (Extreme Greed)",
          "25.05 (Extreme Greed)",
          "25.08 (Extreme Greed)",
          "25.05 (Extreme Greed)",
          "25.02 (Extreme Greed)",
          "24.92 (Extreme Greed)",
          "24.82 (Extreme Greed)",
          "24.75 (Extreme Greed)",
          "24.73 (Extreme Greed)",
          "24.52 (Extreme Greed)",
          "24.04 (Extreme Greed)",
          "23.51 (Extreme Greed)",
          "22.87 (Extreme Greed)",
          "22.60 (Extreme Greed)",
          "22.13 (Extreme Greed)",
          "21.71 (Extreme Greed)",
          "21.43 (Extreme Greed)",
          "21.15 (Extreme Greed)",
          "20.83 (Greed)",
          "20.58 (Greed)",
          "20.23 (Greed)",
          "19.95 (Greed)",
          "19.74 (Neutral)",
          "19.54 (Neutral)",
          "19.37 (Neutral)",
          "19.18 (Neutral)",
          "19.02 (Neutral)",
          "18.87 (Neutral)",
          "18.73 (Neutral)",
          "18.62 (Neutral)",
          "18.48 (Neutral)",
          "18.31 (Neutral)",
          "18.17 (Neutral)",
          "18.05 (Fear)",
          "17.92 (Fear)",
          "17.86 (Fear)",
          "17.80 (Fear)",
          "17.72 (Fear)",
          "17.69 (Fear)",
          "17.65 (Fear)",
          "17.62 (Fear)",
          "17.67 (Fear)",
          "17.60 (Fear)",
          "17.55 (Fear)",
          "17.44 (Fear)",
          "17.39 (Fear)",
          "17.31 (Fear)",
          "17.25 (Fear)",
          "17.18 (Fear)",
          "17.10 (Fear)",
          "17.04 (Fear)",
          "16.99 (Fear)",
          "16.92 (Fear)",
          "16.90 (Fear)",
          "16.87 (Fear)",
          "16.86 (Fear)",
          "16.80 (Fear)",
          "16.74 (Extreme Fear)",
          "16.61 (Extreme Fear)",
          "16.53 (Extreme Fear)",
          "16.38 (Extreme Fear)",
          "16.29 (Extreme Fear)",
          "16.22 (Extreme Fear)",
          "16.15 (Extreme Fear)",
          "16.11 (Extreme Fear)",
          "16.07 (Extreme Fear)",
          "16.04 (Extreme Fear)",
          "16.02 (Extreme Fear)",
          "15.99 (Extreme Fear)",
          "15.95 (Extreme Fear)",
          "15.91 (Extreme Fear)",
          "15.90 (Extreme Fear)",
          "15.87 (Extreme Fear)",
          "15.85 (Extreme Fear)",
          "15.84 (Extreme Fear)",
          "15.84 (Extreme Fear)",
          "15.83 (Extreme Fear)",
          "15.82 (Extreme Fear)",
          "15.79 (Extreme Fear)",
          "15.79 (Extreme Fear)",
          "15.76 (Extreme Fear)",
          "15.76 (Extreme Fear)",
          "15.75 (Extreme Fear)",
          "15.74 (Extreme Fear)",
          "15.77 (Extreme Fear)",
          "15.79 (Extreme Fear)",
          "15.82 (Extreme Fear)",
          "15.87 (Extreme Fear)",
          "15.87 (Extreme Fear)",
          "15.89 (Extreme Fear)",
          "15.88 (Extreme Fear)",
          "nan (nan)",
          "nan (nan)",
          "nan (nan)",
          "15.88 (Extreme Fear)",
          "nan (nan)",
          "nan (nan)"
         ],
         "type": "scatter",
         "x": [
          "2024-10-10T00:00:00.000000000",
          "2024-10-11T00:00:00.000000000",
          "2024-10-14T00:00:00.000000000",
          "2024-10-15T00:00:00.000000000",
          "2024-10-16T00:00:00.000000000",
          "2024-10-17T00:00:00.000000000",
          "2024-10-18T00:00:00.000000000",
          "2024-10-21T00:00:00.000000000",
          "2024-10-22T00:00:00.000000000",
          "2024-10-23T00:00:00.000000000",
          "2024-10-24T00:00:00.000000000",
          "2024-10-25T00:00:00.000000000",
          "2024-10-28T00:00:00.000000000",
          "2024-10-29T00:00:00.000000000",
          "2024-10-30T00:00:00.000000000",
          "2024-10-31T00:00:00.000000000",
          "2024-11-01T00:00:00.000000000",
          "2024-11-04T00:00:00.000000000",
          "2024-11-05T00:00:00.000000000",
          "2024-11-06T00:00:00.000000000",
          "2024-11-07T00:00:00.000000000",
          "2024-11-08T00:00:00.000000000",
          "2024-11-11T00:00:00.000000000",
          "2024-11-12T00:00:00.000000000",
          "2024-11-13T00:00:00.000000000",
          "2024-11-14T00:00:00.000000000",
          "2024-11-15T00:00:00.000000000",
          "2024-11-18T00:00:00.000000000",
          "2024-11-19T00:00:00.000000000",
          "2024-11-20T00:00:00.000000000",
          "2024-11-21T00:00:00.000000000",
          "2024-11-22T00:00:00.000000000",
          "2024-11-25T00:00:00.000000000",
          "2024-11-26T00:00:00.000000000",
          "2024-11-27T00:00:00.000000000",
          "2024-11-29T00:00:00.000000000",
          "2024-12-02T00:00:00.000000000",
          "2024-12-03T00:00:00.000000000",
          "2024-12-04T00:00:00.000000000",
          "2024-12-05T00:00:00.000000000",
          "2024-12-06T00:00:00.000000000",
          "2024-12-09T00:00:00.000000000",
          "2024-12-10T00:00:00.000000000",
          "2024-12-11T00:00:00.000000000",
          "2024-12-12T00:00:00.000000000",
          "2024-12-13T00:00:00.000000000",
          "2024-12-16T00:00:00.000000000",
          "2024-12-17T00:00:00.000000000",
          "2024-12-18T00:00:00.000000000",
          "2024-12-19T00:00:00.000000000",
          "2024-12-20T00:00:00.000000000",
          "2024-12-23T00:00:00.000000000",
          "2024-12-24T00:00:00.000000000",
          "2024-12-26T00:00:00.000000000",
          "2024-12-27T00:00:00.000000000",
          "2024-12-30T00:00:00.000000000",
          "2024-12-31T00:00:00.000000000",
          "2025-01-02T00:00:00.000000000",
          "2025-01-03T00:00:00.000000000",
          "2025-01-06T00:00:00.000000000",
          "2025-01-07T00:00:00.000000000",
          "2025-01-08T00:00:00.000000000",
          "2025-01-10T00:00:00.000000000",
          "2025-01-13T00:00:00.000000000",
          "2025-01-14T00:00:00.000000000",
          "2025-01-15T00:00:00.000000000",
          "2025-01-16T00:00:00.000000000",
          "2025-01-17T00:00:00.000000000",
          "2025-01-21T00:00:00.000000000",
          "2025-01-22T00:00:00.000000000",
          "2025-01-23T00:00:00.000000000",
          "2025-01-24T00:00:00.000000000",
          "2025-01-27T00:00:00.000000000",
          "2025-01-28T00:00:00.000000000",
          "2025-01-29T00:00:00.000000000",
          "2025-01-30T00:00:00.000000000",
          "2025-01-31T00:00:00.000000000",
          "2025-02-03T00:00:00.000000000",
          "2025-02-04T00:00:00.000000000",
          "2025-02-05T00:00:00.000000000",
          "2025-02-06T00:00:00.000000000",
          "2025-02-07T00:00:00.000000000",
          "2025-02-10T00:00:00.000000000",
          "2025-02-11T00:00:00.000000000",
          "2025-02-12T00:00:00.000000000",
          "2025-02-13T00:00:00.000000000",
          "2025-02-14T00:00:00.000000000",
          "2025-02-18T00:00:00.000000000",
          "2025-02-19T00:00:00.000000000",
          "2025-02-20T00:00:00.000000000",
          "2025-02-21T00:00:00.000000000",
          "2025-02-24T00:00:00.000000000",
          "2025-02-25T00:00:00.000000000",
          "2025-02-26T00:00:00.000000000",
          "2025-02-27T00:00:00.000000000",
          "2025-02-28T00:00:00.000000000",
          "2025-03-03T00:00:00.000000000",
          "2025-03-04T00:00:00.000000000",
          "2025-03-05T00:00:00.000000000",
          "2025-03-06T00:00:00.000000000",
          "2025-03-07T00:00:00.000000000",
          "2025-03-10T00:00:00.000000000",
          "2025-03-11T00:00:00.000000000",
          "2025-03-12T00:00:00.000000000",
          "2025-03-13T00:00:00.000000000",
          "2025-03-14T00:00:00.000000000",
          "2025-03-17T00:00:00.000000000",
          "2025-03-18T00:00:00.000000000",
          "2025-03-19T00:00:00.000000000",
          "2025-03-20T00:00:00.000000000",
          "2025-03-21T00:00:00.000000000",
          "2025-03-24T00:00:00.000000000",
          "2025-03-25T00:00:00.000000000",
          "2025-03-26T00:00:00.000000000",
          "2025-03-27T00:00:00.000000000",
          "2025-03-28T00:00:00.000000000",
          "2025-03-31T00:00:00.000000000",
          "2025-04-01T00:00:00.000000000",
          "2025-04-02T00:00:00.000000000",
          "2025-04-03T00:00:00.000000000",
          "2025-04-04T00:00:00.000000000",
          "2025-04-07T00:00:00.000000000",
          "2025-04-08T00:00:00.000000000",
          "2025-04-09T00:00:00.000000000",
          "2025-04-10T00:00:00.000000000",
          "2025-04-11T00:00:00.000000000",
          "2025-04-14T00:00:00.000000000",
          "2025-04-15T00:00:00.000000000",
          "2025-04-16T00:00:00.000000000",
          "2025-04-17T00:00:00.000000000",
          "2025-04-21T00:00:00.000000000",
          "2025-04-22T00:00:00.000000000",
          "2025-04-23T00:00:00.000000000",
          "2025-04-24T00:00:00.000000000",
          "2025-04-25T00:00:00.000000000",
          "2025-04-28T00:00:00.000000000",
          "2025-04-29T00:00:00.000000000",
          "2025-04-30T00:00:00.000000000",
          "2025-05-01T00:00:00.000000000",
          "2025-05-02T00:00:00.000000000",
          "2025-05-05T00:00:00.000000000",
          "2025-05-06T00:00:00.000000000",
          "2025-05-07T00:00:00.000000000",
          "2025-05-08T00:00:00.000000000",
          "2025-05-09T00:00:00.000000000",
          "2025-05-12T00:00:00.000000000",
          "2025-05-13T00:00:00.000000000",
          "2025-05-14T00:00:00.000000000",
          "2025-05-15T00:00:00.000000000",
          "2025-05-16T00:00:00.000000000",
          "2025-05-19T00:00:00.000000000",
          "2025-05-20T00:00:00.000000000",
          "2025-05-21T00:00:00.000000000",
          "2025-05-22T00:00:00.000000000",
          "2025-05-23T00:00:00.000000000",
          "2025-05-27T00:00:00.000000000",
          "2025-05-28T00:00:00.000000000",
          "2025-05-29T00:00:00.000000000",
          "2025-05-30T00:00:00.000000000",
          "2025-06-02T00:00:00.000000000",
          "2025-06-03T00:00:00.000000000",
          "2025-06-04T00:00:00.000000000",
          "2025-06-05T00:00:00.000000000",
          "2025-06-06T00:00:00.000000000",
          "2025-06-09T00:00:00.000000000",
          "2025-06-10T00:00:00.000000000",
          "2025-06-11T00:00:00.000000000",
          "2025-06-12T00:00:00.000000000",
          "2025-06-13T00:00:00.000000000",
          "2025-06-16T00:00:00.000000000",
          "2025-06-17T00:00:00.000000000",
          "2025-06-18T00:00:00.000000000",
          "2025-06-20T00:00:00.000000000",
          "2025-06-23T00:00:00.000000000",
          "2025-06-24T00:00:00.000000000",
          "2025-06-25T00:00:00.000000000",
          "2025-06-26T00:00:00.000000000",
          "2025-06-27T00:00:00.000000000",
          "2025-06-30T00:00:00.000000000",
          "2025-07-01T00:00:00.000000000",
          "2025-07-02T00:00:00.000000000",
          "2025-07-03T00:00:00.000000000",
          "2025-07-07T00:00:00.000000000",
          "2025-07-08T00:00:00.000000000",
          "2025-07-09T00:00:00.000000000",
          "2025-07-10T00:00:00.000000000",
          "2025-07-11T00:00:00.000000000",
          "2025-07-14T00:00:00.000000000",
          "2025-07-15T00:00:00.000000000",
          "2025-07-16T00:00:00.000000000",
          "2025-07-17T00:00:00.000000000",
          "2025-07-18T00:00:00.000000000",
          "2025-07-21T00:00:00.000000000",
          "2025-07-22T00:00:00.000000000",
          "2025-07-23T00:00:00.000000000",
          "2025-07-24T00:00:00.000000000",
          "2025-07-25T00:00:00.000000000",
          "2025-07-28T00:00:00.000000000",
          "2025-07-29T00:00:00.000000000",
          "2025-07-30T00:00:00.000000000",
          "2025-07-31T00:00:00.000000000",
          "2025-08-01T00:00:00.000000000",
          "2025-08-04T00:00:00.000000000",
          "2025-08-05T00:00:00.000000000",
          "2025-08-06T00:00:00.000000000",
          "2025-08-07T00:00:00.000000000",
          "2025-08-08T00:00:00.000000000",
          "2025-08-11T00:00:00.000000000",
          "2025-08-12T00:00:00.000000000",
          "2025-08-13T00:00:00.000000000",
          "2025-08-14T00:00:00.000000000",
          "2025-08-15T00:00:00.000000000",
          "2025-08-18T00:00:00.000000000",
          "2025-08-19T00:00:00.000000000",
          "2025-08-20T00:00:00.000000000",
          "2025-08-21T00:00:00.000000000",
          "2025-08-22T00:00:00.000000000",
          "2025-08-25T00:00:00.000000000",
          "2025-08-26T00:00:00.000000000",
          "2025-08-27T00:00:00.000000000",
          "2025-08-28T00:00:00.000000000",
          "2025-08-29T00:00:00.000000000",
          "2025-09-02T00:00:00.000000000",
          "2025-09-03T00:00:00.000000000",
          "2025-09-04T00:00:00.000000000",
          "2025-09-05T00:00:00.000000000",
          "2025-09-08T00:00:00.000000000",
          "2025-09-09T00:00:00.000000000",
          "2025-09-10T00:00:00.000000000",
          "2025-09-11T00:00:00.000000000",
          "2025-09-12T00:00:00.000000000",
          "2025-09-15T00:00:00.000000000",
          "2025-09-16T00:00:00.000000000",
          "2025-09-17T00:00:00.000000000",
          "2025-09-18T00:00:00.000000000",
          "2025-09-19T00:00:00.000000000",
          "2025-09-22T00:00:00.000000000",
          "2025-09-23T00:00:00.000000000",
          "2025-09-24T00:00:00.000000000",
          "2025-09-25T00:00:00.000000000",
          "2025-09-26T00:00:00.000000000",
          "2025-09-29T00:00:00.000000000",
          "2025-09-30T00:00:00.000000000",
          "2025-10-01T00:00:00.000000000",
          "2025-10-02T00:00:00.000000000",
          "2025-10-03T00:00:00.000000000",
          "2025-10-06T00:00:00.000000000",
          "2025-10-07T00:00:00.000000000",
          "2025-10-08T00:00:00.000000000",
          "2025-10-09T00:00:00.000000000",
          "2025-10-10T00:00:00.000000000",
          "2025-10-10T14:52:03.000000000",
          "2025-10-10T14:52:05.000000000",
          "2025-10-10T14:52:12.000000000",
          "2025-10-10T14:52:16.000000000",
          "2025-10-10T14:57:12.000000000",
          "2025-10-10T15:07:04.000000000"
         ],
         "y": {
          "bdata": "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",
          "dtype": "f8"
         }
        }
       ],
       "layout": {
        "template": {
         "data": {
          "bar": [
           {
            "error_x": {
             "color": "#2a3f5f"
            },
            "error_y": {
             "color": "#2a3f5f"
            },
            "marker": {
             "line": {
              "color": "white",
              "width": 0.5
             },
             "pattern": {
              "fillmode": "overlay",
              "size": 10,
              "solidity": 0.2
             }
            },
            "type": "bar"
           }
          ],
          "barpolar": [
           {
            "marker": {
             "line": {
              "color": "white",
              "width": 0.5
             },
             "pattern": {
              "fillmode": "overlay",
              "size": 10,
              "solidity": 0.2
             }
            },
            "type": "barpolar"
           }
          ],
          "carpet": [
           {
            "aaxis": {
             "endlinecolor": "#2a3f5f",
             "gridcolor": "#C8D4E3",
             "linecolor": "#C8D4E3",
             "minorgridcolor": "#C8D4E3",
             "startlinecolor": "#2a3f5f"
            },
            "baxis": {
             "endlinecolor": "#2a3f5f",
             "gridcolor": "#C8D4E3",
             "linecolor": "#C8D4E3",
             "minorgridcolor": "#C8D4E3",
             "startlinecolor": "#2a3f5f"
            },
            "type": "carpet"
           }
          ],
          "choropleth": [
           {
            "colorbar": {
             "outlinewidth": 0,
             "ticks": ""
            },
            "type": "choropleth"
           }
          ],
          "contour": [
           {
            "colorbar": {
             "outlinewidth": 0,
             "ticks": ""
            },
            "colorscale": [
             [
              0,
              "#0d0887"
             ],
             [
              0.1111111111111111,
              "#46039f"
             ],
             [
              0.2222222222222222,
              "#7201a8"
             ],
             [
              0.3333333333333333,
              "#9c179e"
             ],
             [
              0.4444444444444444,
              "#bd3786"
             ],
             [
              0.5555555555555556,
              "#d8576b"
             ],
             [
              0.6666666666666666,
              "#ed7953"
             ],
             [
              0.7777777777777778,
              "#fb9f3a"
             ],
             [
              0.8888888888888888,
              "#fdca26"
             ],
             [
              1,
              "#f0f921"
             ]
            ],
            "type": "contour"
           }
          ],
          "contourcarpet": [
           {
            "colorbar": {
             "outlinewidth": 0,
             "ticks": ""
            },
            "type": "contourcarpet"
           }
          ],
          "heatmap": [
           {
            "colorbar": {
             "outlinewidth": 0,
             "ticks": ""
            },
            "colorscale": [
             [
              0,
              "#0d0887"
             ],
             [
              0.1111111111111111,
              "#46039f"
             ],
             [
              0.2222222222222222,
              "#7201a8"
             ],
             [
              0.3333333333333333,
              "#9c179e"
             ],
             [
              0.4444444444444444,
              "#bd3786"
             ],
             [
              0.5555555555555556,
              "#d8576b"
             ],
             [
              0.6666666666666666,
              "#ed7953"
             ],
             [
              0.7777777777777778,
              "#fb9f3a"
             ],
             [
              0.8888888888888888,
              "#fdca26"
             ],
             [
              1,
              "#f0f921"
             ]
            ],
            "type": "heatmap"
           }
          ],
          "histogram": [
           {
            "marker": {
             "pattern": {
              "fillmode": "overlay",
              "size": 10,
              "solidity": 0.2
             }
            },
            "type": "histogram"
           }
          ],
          "histogram2d": [
           {
            "colorbar": {
             "outlinewidth": 0,
             "ticks": ""
            },
            "colorscale": [
             [
              0,
              "#0d0887"
             ],
             [
              0.1111111111111111,
              "#46039f"
             ],
             [
              0.2222222222222222,
              "#7201a8"
             ],
             [
              0.3333333333333333,
              "#9c179e"
             ],
             [
              0.4444444444444444,
              "#bd3786"
             ],
             [
              0.5555555555555556,
              "#d8576b"
             ],
             [
              0.6666666666666666,
              "#ed7953"
             ],
             [
              0.7777777777777778,
              "#fb9f3a"
             ],
             [
              0.8888888888888888,
              "#fdca26"
             ],
             [
              1,
              "#f0f921"
             ]
            ],
            "type": "histogram2d"
           }
          ],
          "histogram2dcontour": [
           {
            "colorbar": {
             "outlinewidth": 0,
             "ticks": ""
            },
            "colorscale": [
             [
              0,
              "#0d0887"
             ],
             [
              0.1111111111111111,
              "#46039f"
             ],
             [
              0.2222222222222222,
              "#7201a8"
             ],
             [
              0.3333333333333333,
              "#9c179e"
             ],
             [
              0.4444444444444444,
              "#bd3786"
             ],
             [
              0.5555555555555556,
              "#d8576b"
             ],
             [
              0.6666666666666666,
              "#ed7953"
             ],
             [
              0.7777777777777778,
              "#fb9f3a"
             ],
             [
              0.8888888888888888,
              "#fdca26"
             ],
             [
              1,
              "#f0f921"
             ]
            ],
            "type": "histogram2dcontour"
           }
          ],
          "mesh3d": [
           {
            "colorbar": {
             "outlinewidth": 0,
             "ticks": ""
            },
            "type": "mesh3d"
           }
          ],
          "parcoords": [
           {
            "line": {
             "colorbar": {
              "outlinewidth": 0,
              "ticks": ""
             }
            },
            "type": "parcoords"
           }
          ],
          "pie": [
           {
            "automargin": true,
            "type": "pie"
           }
          ],
          "scatter": [
           {
            "fillpattern": {
             "fillmode": "overlay",
             "size": 10,
             "solidity": 0.2
            },
            "type": "scatter"
           }
          ],
          "scatter3d": [
           {
            "line": {
             "colorbar": {
              "outlinewidth": 0,
              "ticks": ""
             }
            },
            "marker": {
             "colorbar": {
              "outlinewidth": 0,
              "ticks": ""
             }
            },
            "type": "scatter3d"
           }
          ],
          "scattercarpet": [
           {
            "marker": {
             "colorbar": {
              "outlinewidth": 0,
              "ticks": ""
             }
            },
            "type": "scattercarpet"
           }
          ],
          "scattergeo": [
           {
            "marker": {
             "colorbar": {
              "outlinewidth": 0,
              "ticks": ""
             }
            },
            "type": "scattergeo"
           }
          ],
          "scattergl": [
           {
            "marker": {
             "colorbar": {
              "outlinewidth": 0,
              "ticks": ""
             }
            },
            "type": "scattergl"
           }
          ],
          "scattermap": [
           {
            "marker": {
             "colorbar": {
              "outlinewidth": 0,
              "ticks": ""
             }
            },
            "type": "scattermap"
           }
          ],
          "scattermapbox": [
           {
            "marker": {
             "colorbar": {
              "outlinewidth": 0,
              "ticks": ""
             }
            },
            "type": "scattermapbox"
           }
          ],
          "scatterpolar": [
           {
            "marker": {
             "colorbar": {
              "outlinewidth": 0,
              "ticks": ""
             }
            },
            "type": "scatterpolar"
           }
          ],
          "scatterpolargl": [
           {
            "marker": {
             "colorbar": {
              "outlinewidth": 0,
              "ticks": ""
             }
            },
            "type": "scatterpolargl"
           }
          ],
          "scatterternary": [
           {
            "marker": {
             "colorbar": {
              "outlinewidth": 0,
              "ticks": ""
             }
            },
            "type": "scatterternary"
           }
          ],
          "surface": [
           {
            "colorbar": {
             "outlinewidth": 0,
             "ticks": ""
            },
            "colorscale": [
             [
              0,
              "#0d0887"
             ],
             [
              0.1111111111111111,
              "#46039f"
             ],
             [
              0.2222222222222222,
              "#7201a8"
             ],
             [
              0.3333333333333333,
              "#9c179e"
             ],
             [
              0.4444444444444444,
              "#bd3786"
             ],
             [
              0.5555555555555556,
              "#d8576b"
             ],
             [
              0.6666666666666666,
              "#ed7953"
             ],
             [
              0.7777777777777778,
              "#fb9f3a"
             ],
             [
              0.8888888888888888,
              "#fdca26"
             ],
             [
              1,
              "#f0f921"
             ]
            ],
            "type": "surface"
           }
          ],
          "table": [
           {
            "cells": {
             "fill": {
              "color": "#EBF0F8"
             },
             "line": {
              "color": "white"
             }
            },
            "header": {
             "fill": {
              "color": "#C8D4E3"
             },
             "line": {
              "color": "white"
             }
            },
            "type": "table"
           }
          ]
         },
         "layout": {
          "annotationdefaults": {
           "arrowcolor": "#2a3f5f",
           "arrowhead": 0,
           "arrowwidth": 1
          },
          "autotypenumbers": "strict",
          "coloraxis": {
           "colorbar": {
            "outlinewidth": 0,
            "ticks": ""
           }
          },
          "colorscale": {
           "diverging": [
            [
             0,
             "#8e0152"
            ],
            [
             0.1,
             "#c51b7d"
            ],
            [
             0.2,
             "#de77ae"
            ],
            [
             0.3,
             "#f1b6da"
            ],
            [
             0.4,
             "#fde0ef"
            ],
            [
             0.5,
             "#f7f7f7"
            ],
            [
             0.6,
             "#e6f5d0"
            ],
            [
             0.7,
             "#b8e186"
            ],
            [
             0.8,
             "#7fbc41"
            ],
            [
             0.9,
             "#4d9221"
            ],
            [
             1,
             "#276419"
            ]
           ],
           "sequential": [
            [
             0,
             "#0d0887"
            ],
            [
             0.1111111111111111,
             "#46039f"
            ],
            [
             0.2222222222222222,
             "#7201a8"
            ],
            [
             0.3333333333333333,
             "#9c179e"
            ],
            [
             0.4444444444444444,
             "#bd3786"
            ],
            [
             0.5555555555555556,
             "#d8576b"
            ],
            [
             0.6666666666666666,
             "#ed7953"
            ],
            [
             0.7777777777777778,
             "#fb9f3a"
            ],
            [
             0.8888888888888888,
             "#fdca26"
            ],
            [
             1,
             "#f0f921"
            ]
           ],
           "sequentialminus": [
            [
             0,
             "#0d0887"
            ],
            [
             0.1111111111111111,
             "#46039f"
            ],
            [
             0.2222222222222222,
             "#7201a8"
            ],
            [
             0.3333333333333333,
             "#9c179e"
            ],
            [
             0.4444444444444444,
             "#bd3786"
            ],
            [
             0.5555555555555556,
             "#d8576b"
            ],
            [
             0.6666666666666666,
             "#ed7953"
            ],
            [
             0.7777777777777778,
             "#fb9f3a"
            ],
            [
             0.8888888888888888,
             "#fdca26"
            ],
            [
             1,
             "#f0f921"
            ]
           ]
          },
          "colorway": [
           "#636efa",
           "#EF553B",
           "#00cc96",
           "#ab63fa",
           "#FFA15A",
           "#19d3f3",
           "#FF6692",
           "#B6E880",
           "#FF97FF",
           "#FECB52"
          ],
          "font": {
           "color": "#2a3f5f"
          },
          "geo": {
           "bgcolor": "white",
           "lakecolor": "white",
           "landcolor": "white",
           "showlakes": true,
           "showland": true,
           "subunitcolor": "#C8D4E3"
          },
          "hoverlabel": {
           "align": "left"
          },
          "hovermode": "closest",
          "mapbox": {
           "style": "light"
          },
          "paper_bgcolor": "white",
          "plot_bgcolor": "white",
          "polar": {
           "angularaxis": {
            "gridcolor": "#EBF0F8",
            "linecolor": "#EBF0F8",
            "ticks": ""
           },
           "bgcolor": "white",
           "radialaxis": {
            "gridcolor": "#EBF0F8",
            "linecolor": "#EBF0F8",
            "ticks": ""
           }
          },
          "scene": {
           "xaxis": {
            "backgroundcolor": "white",
            "gridcolor": "#DFE8F3",
            "gridwidth": 2,
            "linecolor": "#EBF0F8",
            "showbackground": true,
            "ticks": "",
            "zerolinecolor": "#EBF0F8"
           },
           "yaxis": {
            "backgroundcolor": "white",
            "gridcolor": "#DFE8F3",
            "gridwidth": 2,
            "linecolor": "#EBF0F8",
            "showbackground": true,
            "ticks": "",
            "zerolinecolor": "#EBF0F8"
           },
           "zaxis": {
            "backgroundcolor": "white",
            "gridcolor": "#DFE8F3",
            "gridwidth": 2,
            "linecolor": "#EBF0F8",
            "showbackground": true,
            "ticks": "",
            "zerolinecolor": "#EBF0F8"
           }
          },
          "shapedefaults": {
           "line": {
            "color": "#2a3f5f"
           }
          },
          "ternary": {
           "aaxis": {
            "gridcolor": "#DFE8F3",
            "linecolor": "#A2B1C6",
            "ticks": ""
           },
           "baxis": {
            "gridcolor": "#DFE8F3",
            "linecolor": "#A2B1C6",
            "ticks": ""
           },
           "bgcolor": "white",
           "caxis": {
            "gridcolor": "#DFE8F3",
            "linecolor": "#A2B1C6",
            "ticks": ""
           }
          },
          "title": {
           "x": 0.05
          },
          "xaxis": {
           "automargin": true,
           "gridcolor": "#EBF0F8",
           "linecolor": "#EBF0F8",
           "ticks": "",
           "title": {
            "standoff": 15
           },
           "zerolinecolor": "#EBF0F8",
           "zerolinewidth": 2
          },
          "yaxis": {
           "automargin": true,
           "gridcolor": "#EBF0F8",
           "linecolor": "#EBF0F8",
           "ticks": "",
           "title": {
            "standoff": 15
           },
           "zerolinecolor": "#EBF0F8",
           "zerolinewidth": 2
          }
         }
        },
        "title": {
         "text": "VIX 50-day Moving Average"
        },
        "xaxis": {
         "title": {
          "text": "Date"
         }
        },
        "yaxis": {
         "range": [
          14.95642,
          27.5772
         ],
         "title": {
          "text": "Score"
         }
        }
       }
      }
     },
     "metadata": {},
     "output_type": "display_data"
    },
    {
     "data": {
      "application/vnd.plotly.v1+json": {
       "config": {
        "plotlyServerURL": "https://plot.ly"
       },
       "data": [
        {
         "hoverinfo": "text+x",
         "line": {
          "color": "lightgray",
          "width": 2
         },
         "marker": {
          "color": [
           "darkgreen",
           "darkgreen",
           "darkgreen",
           "darkgreen",
           "darkgreen",
           "darkgreen",
           "darkgreen",
           "darkgreen",
           "darkgreen",
           "darkgreen",
           "darkgreen",
           "darkgreen",
           "darkgreen",
           "darkgreen",
           "darkgreen",
           "darkgreen",
           "red",
           "darkgreen",
           "darkgreen",
           "darkgreen",
           "darkgreen",
           "darkgreen",
           "darkgreen",
           "darkgreen",
           "green",
           "green",
           "green",
           "green",
           "green",
           "green",
           "green",
           "green",
           "green",
           "green",
           "darkgreen",
           "darkgreen",
           "darkgreen",
           "darkgreen",
           "darkgreen",
           "darkgreen",
           "darkgreen",
           "darkgreen",
           "darkgreen",
           "darkgreen",
           "darkgreen",
           "darkgreen",
           "red",
           "red",
           "gold",
           "darkgreen",
           "darkgreen",
           "darkgreen",
           "darkgreen",
           "darkgreen",
           "darkgreen",
           "darkgreen",
           "darkgreen",
           "darkgreen",
           "darkgreen",
           "darkgreen",
           "green",
           "green",
           "darkgreen",
           "green",
           "green",
           "green",
           "green",
           "green",
           "green",
           "green",
           "green",
           "green",
           "green",
           "darkgreen",
           "darkgreen",
           "darkgreen",
           "darkgreen",
           "green",
           "green",
           "green",
           "darkgreen",
           "darkgreen",
           "green",
           "green",
           "green",
           "green",
           "green",
           "green",
           "green",
           "green",
           "green",
           "darkgreen",
           "darkgreen",
           "darkgreen",
           "darkgreen",
           "darkgreen",
           "darkgreen",
           "darkgreen",
           "darkgreen",
           "gold",
           "gold",
           "gold",
           "gold",
           "gold",
           "gold",
           "gold",
           "gold",
           "gold",
           "green",
           "green",
           "green",
           "green",
           "gold",
           "gold",
           "gold",
           "gold",
           "green",
           "green",
           "green",
           "green",
           "darkgreen",
           "darkgreen",
           "darkgreen",
           "darkgreen",
           "darkgreen",
           "green",
           "green",
           "green",
           "green",
           "darkgreen",
           "green",
           "green",
           "green",
           "green",
           "gold",
           "gold",
           "green",
           "green",
           "green",
           "darkgreen",
           "red",
           "red",
           "red",
           "gold",
           "red",
           "red",
           "darkred",
           "darkred",
           "darkred",
           "darkred",
           "darkred",
           "darkred",
           "darkred",
           "darkred",
           "darkred",
           "darkred",
           "darkred",
           "darkred",
           "darkred",
           "darkred",
           "green",
           "green",
           "red",
           "red",
           "red",
           "red",
           "red",
           "red",
           "gold",
           "red",
           "red",
           "red",
           "red",
           "red",
           "red",
           "red",
           "red",
           "red",
           "red",
           "red",
           "darkgreen",
           "darkred",
           "darkred",
           "darkred",
           "darkred",
           "darkred",
           "darkred",
           "darkred",
           "darkred",
           "darkred",
           "darkred",
           "darkred",
           "darkred",
           "darkred",
           "darkred",
           "darkred",
           "darkred",
           "darkred",
           "darkred",
           "darkred",
           "darkred",
           "darkred",
           "darkred",
           "darkred",
           "darkred",
           "darkred",
           "darkred",
           "darkred",
           "darkred",
           "darkred",
           "darkred",
           "darkred",
           "darkred",
           "darkred",
           "darkred",
           "darkred",
           "darkred",
           "darkred",
           "darkred",
           "darkred",
           "darkred",
           "darkred",
           "darkred",
           "red",
           "gold",
           "darkred",
           "darkred",
           "darkred",
           "darkred",
           "darkred",
           "darkred",
           "darkred",
           "darkred",
           "darkred",
           "darkred",
           "darkred",
           "darkred",
           "darkred",
           "darkred",
           "darkred",
           "darkred",
           "darkred",
           "darkred",
           "darkred",
           "green",
           "darkred",
           "darkred",
           "darkred",
           "darkred",
           "darkred",
           null,
           null,
           null,
           "red",
           null,
           null,
           null
          ],
          "size": 8
         },
         "mode": "lines+markers",
         "text": [
          "1.60 (Extreme Greed)",
          "1.60 (Extreme Greed)",
          "1.59 (Extreme Greed)",
          "1.59 (Extreme Greed)",
          "1.61 (Extreme Greed)",
          "1.60 (Extreme Greed)",
          "1.58 (Extreme Greed)",
          "1.58 (Extreme Greed)",
          "1.54 (Extreme Greed)",
          "1.55 (Extreme Greed)",
          "1.55 (Extreme Greed)",
          "1.55 (Extreme Greed)",
          "1.54 (Extreme Greed)",
          "1.53 (Extreme Greed)",
          "1.54 (Extreme Greed)",
          "1.54 (Extreme Greed)",
          "1.38 (Fear)",
          "1.54 (Extreme Greed)",
          "1.54 (Extreme Greed)",
          "1.76 (Extreme Greed)",
          "1.51 (Extreme Greed)",
          "1.53 (Extreme Greed)",
          "1.54 (Extreme Greed)",
          "1.53 (Extreme Greed)",
          "1.50 (Greed)",
          "1.49 (Greed)",
          "1.48 (Greed)",
          "1.48 (Greed)",
          "1.50 (Greed)",
          "1.50 (Greed)",
          "1.49 (Greed)",
          "1.48 (Greed)",
          "1.48 (Greed)",
          "1.48 (Greed)",
          "1.52 (Extreme Greed)",
          "1.52 (Extreme Greed)",
          "1.54 (Extreme Greed)",
          "1.59 (Extreme Greed)",
          "1.57 (Extreme Greed)",
          "1.59 (Extreme Greed)",
          "1.58 (Extreme Greed)",
          "1.58 (Extreme Greed)",
          "1.57 (Extreme Greed)",
          "1.57 (Extreme Greed)",
          "1.56 (Extreme Greed)",
          "1.54 (Extreme Greed)",
          "1.41 (Fear)",
          "1.42 (Fear)",
          "1.43 (Neutral)",
          "1.58 (Extreme Greed)",
          "1.58 (Extreme Greed)",
          "1.58 (Extreme Greed)",
          "1.57 (Extreme Greed)",
          "1.57 (Extreme Greed)",
          "1.58 (Extreme Greed)",
          "1.56 (Extreme Greed)",
          "1.58 (Extreme Greed)",
          "1.56 (Extreme Greed)",
          "1.55 (Extreme Greed)",
          "1.53 (Extreme Greed)",
          "1.51 (Greed)",
          "1.49 (Greed)",
          "1.51 (Extreme Greed)",
          "1.50 (Greed)",
          "1.50 (Greed)",
          "1.50 (Greed)",
          "1.50 (Greed)",
          "1.50 (Greed)",
          "1.50 (Greed)",
          "1.50 (Greed)",
          "1.50 (Greed)",
          "1.50 (Greed)",
          "1.50 (Greed)",
          "1.53 (Extreme Greed)",
          "1.52 (Extreme Greed)",
          "1.51 (Extreme Greed)",
          "1.51 (Extreme Greed)",
          "1.50 (Greed)",
          "1.50 (Greed)",
          "1.51 (Greed)",
          "1.52 (Extreme Greed)",
          "1.51 (Extreme Greed)",
          "1.50 (Greed)",
          "1.50 (Greed)",
          "1.49 (Greed)",
          "1.48 (Greed)",
          "1.50 (Greed)",
          "1.51 (Greed)",
          "1.49 (Greed)",
          "1.50 (Greed)",
          "1.50 (Greed)",
          "1.52 (Extreme Greed)",
          "1.52 (Extreme Greed)",
          "1.55 (Extreme Greed)",
          "1.54 (Extreme Greed)",
          "1.53 (Extreme Greed)",
          "1.53 (Extreme Greed)",
          "1.53 (Extreme Greed)",
          "1.53 (Extreme Greed)",
          "1.44 (Neutral)",
          "1.45 (Neutral)",
          "1.44 (Neutral)",
          "1.47 (Neutral)",
          "1.46 (Neutral)",
          "1.46 (Neutral)",
          "1.46 (Neutral)",
          "1.46 (Neutral)",
          "1.46 (Neutral)",
          "1.47 (Greed)",
          "1.48 (Greed)",
          "1.48 (Greed)",
          "1.47 (Greed)",
          "1.43 (Neutral)",
          "1.44 (Neutral)",
          "1.44 (Neutral)",
          "1.44 (Neutral)",
          "1.49 (Greed)",
          "1.50 (Greed)",
          "1.49 (Greed)",
          "1.49 (Greed)",
          "1.55 (Extreme Greed)",
          "1.61 (Extreme Greed)",
          "1.61 (Extreme Greed)",
          "1.54 (Extreme Greed)",
          "1.53 (Extreme Greed)",
          "1.50 (Greed)",
          "1.49 (Greed)",
          "1.49 (Greed)",
          "1.49 (Greed)",
          "1.51 (Extreme Greed)",
          "1.48 (Greed)",
          "1.48 (Greed)",
          "1.48 (Greed)",
          "1.48 (Greed)",
          "1.44 (Neutral)",
          "1.46 (Neutral)",
          "1.47 (Greed)",
          "1.47 (Greed)",
          "1.47 (Greed)",
          "1.56 (Extreme Greed)",
          "1.41 (Fear)",
          "1.41 (Fear)",
          "1.42 (Fear)",
          "1.43 (Neutral)",
          "1.39 (Fear)",
          "1.39 (Fear)",
          "1.35 (Extreme Fear)",
          "1.34 (Extreme Fear)",
          "1.33 (Extreme Fear)",
          "1.36 (Extreme Fear)",
          "1.36 (Extreme Fear)",
          "1.37 (Extreme Fear)",
          "1.35 (Extreme Fear)",
          "1.33 (Extreme Fear)",
          "1.35 (Extreme Fear)",
          "1.35 (Extreme Fear)",
          "1.35 (Extreme Fear)",
          "1.36 (Extreme Fear)",
          "1.37 (Extreme Fear)",
          "1.38 (Extreme Fear)",
          "1.48 (Greed)",
          "1.47 (Greed)",
          "1.42 (Fear)",
          "1.41 (Fear)",
          "1.38 (Fear)",
          "1.39 (Fear)",
          "1.40 (Fear)",
          "1.40 (Fear)",
          "1.43 (Neutral)",
          "1.41 (Fear)",
          "1.39 (Fear)",
          "1.41 (Fear)",
          "1.41 (Fear)",
          "1.41 (Fear)",
          "1.40 (Fear)",
          "1.41 (Fear)",
          "1.40 (Fear)",
          "1.40 (Fear)",
          "1.39 (Fear)",
          "1.40 (Fear)",
          "1.52 (Extreme Greed)",
          "1.35 (Extreme Fear)",
          "1.34 (Extreme Fear)",
          "1.33 (Extreme Fear)",
          "1.33 (Extreme Fear)",
          "1.33 (Extreme Fear)",
          "1.33 (Extreme Fear)",
          "1.33 (Extreme Fear)",
          "1.33 (Extreme Fear)",
          "1.33 (Extreme Fear)",
          "1.33 (Extreme Fear)",
          "1.33 (Extreme Fear)",
          "1.33 (Extreme Fear)",
          "1.31 (Extreme Fear)",
          "1.31 (Extreme Fear)",
          "1.31 (Extreme Fear)",
          "1.31 (Extreme Fear)",
          "1.31 (Extreme Fear)",
          "1.31 (Extreme Fear)",
          "1.31 (Extreme Fear)",
          "1.31 (Extreme Fear)",
          "1.31 (Extreme Fear)",
          "1.31 (Extreme Fear)",
          "1.31 (Extreme Fear)",
          "1.31 (Extreme Fear)",
          "1.31 (Extreme Fear)",
          "1.31 (Extreme Fear)",
          "1.31 (Extreme Fear)",
          "1.31 (Extreme Fear)",
          "1.31 (Extreme Fear)",
          "1.31 (Extreme Fear)",
          "1.31 (Extreme Fear)",
          "1.31 (Extreme Fear)",
          "1.31 (Extreme Fear)",
          "1.31 (Extreme Fear)",
          "1.30 (Extreme Fear)",
          "1.29 (Extreme Fear)",
          "1.29 (Extreme Fear)",
          "1.28 (Extreme Fear)",
          "1.28 (Extreme Fear)",
          "1.28 (Extreme Fear)",
          "1.27 (Extreme Fear)",
          "1.28 (Extreme Fear)",
          "1.41 (Fear)",
          "1.43 (Neutral)",
          "1.35 (Extreme Fear)",
          "1.37 (Extreme Fear)",
          "1.36 (Extreme Fear)",
          "1.37 (Extreme Fear)",
          "1.38 (Extreme Fear)",
          "1.38 (Extreme Fear)",
          "1.37 (Extreme Fear)",
          "1.37 (Extreme Fear)",
          "1.37 (Extreme Fear)",
          "1.35 (Extreme Fear)",
          "1.35 (Extreme Fear)",
          "1.33 (Extreme Fear)",
          "1.34 (Extreme Fear)",
          "1.33 (Extreme Fear)",
          "1.34 (Extreme Fear)",
          "1.34 (Extreme Fear)",
          "1.34 (Extreme Fear)",
          "1.34 (Extreme Fear)",
          "1.36 (Extreme Fear)",
          "1.47 (Greed)",
          "1.36 (Extreme Fear)",
          "1.35 (Extreme Fear)",
          "1.36 (Extreme Fear)",
          "1.36 (Extreme Fear)",
          "1.37 (Extreme Fear)",
          "nan (nan)",
          "nan (nan)",
          "nan (nan)",
          "1.39 (Fear)",
          "nan (nan)",
          "nan (nan)",
          "nan (nan)"
         ],
         "type": "scatter",
         "x": [
          "2024-10-10T00:00:00.000000000",
          "2024-10-11T00:00:00.000000000",
          "2024-10-14T00:00:00.000000000",
          "2024-10-15T00:00:00.000000000",
          "2024-10-16T00:00:00.000000000",
          "2024-10-17T00:00:00.000000000",
          "2024-10-18T00:00:00.000000000",
          "2024-10-21T00:00:00.000000000",
          "2024-10-22T00:00:00.000000000",
          "2024-10-23T00:00:00.000000000",
          "2024-10-24T00:00:00.000000000",
          "2024-10-25T00:00:00.000000000",
          "2024-10-28T00:00:00.000000000",
          "2024-10-29T00:00:00.000000000",
          "2024-10-30T00:00:00.000000000",
          "2024-10-31T00:00:00.000000000",
          "2024-11-01T00:00:00.000000000",
          "2024-11-04T00:00:00.000000000",
          "2024-11-05T00:00:00.000000000",
          "2024-11-06T00:00:00.000000000",
          "2024-11-07T00:00:00.000000000",
          "2024-11-08T00:00:00.000000000",
          "2024-11-11T00:00:00.000000000",
          "2024-11-12T00:00:00.000000000",
          "2024-11-13T00:00:00.000000000",
          "2024-11-14T00:00:00.000000000",
          "2024-11-15T00:00:00.000000000",
          "2024-11-18T00:00:00.000000000",
          "2024-11-19T00:00:00.000000000",
          "2024-11-20T00:00:00.000000000",
          "2024-11-21T00:00:00.000000000",
          "2024-11-22T00:00:00.000000000",
          "2024-11-25T00:00:00.000000000",
          "2024-11-26T00:00:00.000000000",
          "2024-11-27T00:00:00.000000000",
          "2024-11-29T00:00:00.000000000",
          "2024-12-02T00:00:00.000000000",
          "2024-12-03T00:00:00.000000000",
          "2024-12-04T00:00:00.000000000",
          "2024-12-05T00:00:00.000000000",
          "2024-12-06T00:00:00.000000000",
          "2024-12-09T00:00:00.000000000",
          "2024-12-10T00:00:00.000000000",
          "2024-12-11T00:00:00.000000000",
          "2024-12-12T00:00:00.000000000",
          "2024-12-13T00:00:00.000000000",
          "2024-12-16T00:00:00.000000000",
          "2024-12-17T00:00:00.000000000",
          "2024-12-18T00:00:00.000000000",
          "2024-12-19T00:00:00.000000000",
          "2024-12-20T00:00:00.000000000",
          "2024-12-23T00:00:00.000000000",
          "2024-12-24T00:00:00.000000000",
          "2024-12-26T00:00:00.000000000",
          "2024-12-27T00:00:00.000000000",
          "2024-12-30T00:00:00.000000000",
          "2024-12-31T00:00:00.000000000",
          "2025-01-02T00:00:00.000000000",
          "2025-01-03T00:00:00.000000000",
          "2025-01-06T00:00:00.000000000",
          "2025-01-07T00:00:00.000000000",
          "2025-01-08T00:00:00.000000000",
          "2025-01-10T00:00:00.000000000",
          "2025-01-13T00:00:00.000000000",
          "2025-01-14T00:00:00.000000000",
          "2025-01-15T00:00:00.000000000",
          "2025-01-16T00:00:00.000000000",
          "2025-01-17T00:00:00.000000000",
          "2025-01-21T00:00:00.000000000",
          "2025-01-22T00:00:00.000000000",
          "2025-01-23T00:00:00.000000000",
          "2025-01-24T00:00:00.000000000",
          "2025-01-27T00:00:00.000000000",
          "2025-01-28T00:00:00.000000000",
          "2025-01-29T00:00:00.000000000",
          "2025-01-30T00:00:00.000000000",
          "2025-01-31T00:00:00.000000000",
          "2025-02-03T00:00:00.000000000",
          "2025-02-04T00:00:00.000000000",
          "2025-02-05T00:00:00.000000000",
          "2025-02-06T00:00:00.000000000",
          "2025-02-07T00:00:00.000000000",
          "2025-02-10T00:00:00.000000000",
          "2025-02-11T00:00:00.000000000",
          "2025-02-12T00:00:00.000000000",
          "2025-02-13T00:00:00.000000000",
          "2025-02-14T00:00:00.000000000",
          "2025-02-18T00:00:00.000000000",
          "2025-02-19T00:00:00.000000000",
          "2025-02-20T00:00:00.000000000",
          "2025-02-21T00:00:00.000000000",
          "2025-02-24T00:00:00.000000000",
          "2025-02-25T00:00:00.000000000",
          "2025-02-26T00:00:00.000000000",
          "2025-02-27T00:00:00.000000000",
          "2025-02-28T00:00:00.000000000",
          "2025-03-03T00:00:00.000000000",
          "2025-03-04T00:00:00.000000000",
          "2025-03-05T00:00:00.000000000",
          "2025-03-06T00:00:00.000000000",
          "2025-03-07T00:00:00.000000000",
          "2025-03-10T00:00:00.000000000",
          "2025-03-11T00:00:00.000000000",
          "2025-03-12T00:00:00.000000000",
          "2025-03-13T00:00:00.000000000",
          "2025-03-14T00:00:00.000000000",
          "2025-03-17T00:00:00.000000000",
          "2025-03-18T00:00:00.000000000",
          "2025-03-19T00:00:00.000000000",
          "2025-03-20T00:00:00.000000000",
          "2025-03-21T00:00:00.000000000",
          "2025-03-24T00:00:00.000000000",
          "2025-03-25T00:00:00.000000000",
          "2025-03-26T00:00:00.000000000",
          "2025-03-27T00:00:00.000000000",
          "2025-03-28T00:00:00.000000000",
          "2025-03-31T00:00:00.000000000",
          "2025-04-01T00:00:00.000000000",
          "2025-04-02T00:00:00.000000000",
          "2025-04-03T00:00:00.000000000",
          "2025-04-04T00:00:00.000000000",
          "2025-04-07T00:00:00.000000000",
          "2025-04-08T00:00:00.000000000",
          "2025-04-09T00:00:00.000000000",
          "2025-04-10T00:00:00.000000000",
          "2025-04-11T00:00:00.000000000",
          "2025-04-14T00:00:00.000000000",
          "2025-04-15T00:00:00.000000000",
          "2025-04-16T00:00:00.000000000",
          "2025-04-17T00:00:00.000000000",
          "2025-04-21T00:00:00.000000000",
          "2025-04-22T00:00:00.000000000",
          "2025-04-23T00:00:00.000000000",
          "2025-04-24T00:00:00.000000000",
          "2025-04-25T00:00:00.000000000",
          "2025-04-28T00:00:00.000000000",
          "2025-04-29T00:00:00.000000000",
          "2025-04-30T00:00:00.000000000",
          "2025-05-01T00:00:00.000000000",
          "2025-05-02T00:00:00.000000000",
          "2025-05-05T00:00:00.000000000",
          "2025-05-06T00:00:00.000000000",
          "2025-05-07T00:00:00.000000000",
          "2025-05-08T00:00:00.000000000",
          "2025-05-09T00:00:00.000000000",
          "2025-05-12T00:00:00.000000000",
          "2025-05-13T00:00:00.000000000",
          "2025-05-14T00:00:00.000000000",
          "2025-05-15T00:00:00.000000000",
          "2025-05-16T00:00:00.000000000",
          "2025-05-19T00:00:00.000000000",
          "2025-05-20T00:00:00.000000000",
          "2025-05-21T00:00:00.000000000",
          "2025-05-22T00:00:00.000000000",
          "2025-05-23T00:00:00.000000000",
          "2025-05-27T00:00:00.000000000",
          "2025-05-28T00:00:00.000000000",
          "2025-05-29T00:00:00.000000000",
          "2025-05-30T00:00:00.000000000",
          "2025-06-02T00:00:00.000000000",
          "2025-06-03T00:00:00.000000000",
          "2025-06-04T00:00:00.000000000",
          "2025-06-05T00:00:00.000000000",
          "2025-06-06T00:00:00.000000000",
          "2025-06-09T00:00:00.000000000",
          "2025-06-10T00:00:00.000000000",
          "2025-06-11T00:00:00.000000000",
          "2025-06-12T00:00:00.000000000",
          "2025-06-13T00:00:00.000000000",
          "2025-06-16T00:00:00.000000000",
          "2025-06-17T00:00:00.000000000",
          "2025-06-18T00:00:00.000000000",
          "2025-06-20T00:00:00.000000000",
          "2025-06-23T00:00:00.000000000",
          "2025-06-24T00:00:00.000000000",
          "2025-06-25T00:00:00.000000000",
          "2025-06-26T00:00:00.000000000",
          "2025-06-27T00:00:00.000000000",
          "2025-06-30T00:00:00.000000000",
          "2025-07-01T00:00:00.000000000",
          "2025-07-02T00:00:00.000000000",
          "2025-07-03T00:00:00.000000000",
          "2025-07-07T00:00:00.000000000",
          "2025-07-08T00:00:00.000000000",
          "2025-07-09T00:00:00.000000000",
          "2025-07-10T00:00:00.000000000",
          "2025-07-11T00:00:00.000000000",
          "2025-07-14T00:00:00.000000000",
          "2025-07-15T00:00:00.000000000",
          "2025-07-16T00:00:00.000000000",
          "2025-07-17T00:00:00.000000000",
          "2025-07-18T00:00:00.000000000",
          "2025-07-21T00:00:00.000000000",
          "2025-07-22T00:00:00.000000000",
          "2025-07-23T00:00:00.000000000",
          "2025-07-24T00:00:00.000000000",
          "2025-07-25T00:00:00.000000000",
          "2025-07-28T00:00:00.000000000",
          "2025-07-29T00:00:00.000000000",
          "2025-07-30T00:00:00.000000000",
          "2025-07-31T00:00:00.000000000",
          "2025-08-01T00:00:00.000000000",
          "2025-08-04T00:00:00.000000000",
          "2025-08-05T00:00:00.000000000",
          "2025-08-06T00:00:00.000000000",
          "2025-08-07T00:00:00.000000000",
          "2025-08-08T00:00:00.000000000",
          "2025-08-11T00:00:00.000000000",
          "2025-08-12T00:00:00.000000000",
          "2025-08-13T00:00:00.000000000",
          "2025-08-14T00:00:00.000000000",
          "2025-08-15T00:00:00.000000000",
          "2025-08-18T00:00:00.000000000",
          "2025-08-19T00:00:00.000000000",
          "2025-08-20T00:00:00.000000000",
          "2025-08-21T00:00:00.000000000",
          "2025-08-22T00:00:00.000000000",
          "2025-08-25T00:00:00.000000000",
          "2025-08-26T00:00:00.000000000",
          "2025-08-27T00:00:00.000000000",
          "2025-08-28T00:00:00.000000000",
          "2025-08-29T00:00:00.000000000",
          "2025-09-02T00:00:00.000000000",
          "2025-09-03T00:00:00.000000000",
          "2025-09-04T00:00:00.000000000",
          "2025-09-05T00:00:00.000000000",
          "2025-09-08T00:00:00.000000000",
          "2025-09-09T00:00:00.000000000",
          "2025-09-10T00:00:00.000000000",
          "2025-09-11T00:00:00.000000000",
          "2025-09-12T00:00:00.000000000",
          "2025-09-15T00:00:00.000000000",
          "2025-09-16T00:00:00.000000000",
          "2025-09-17T00:00:00.000000000",
          "2025-09-18T00:00:00.000000000",
          "2025-09-19T00:00:00.000000000",
          "2025-09-22T00:00:00.000000000",
          "2025-09-23T00:00:00.000000000",
          "2025-09-24T00:00:00.000000000",
          "2025-09-25T00:00:00.000000000",
          "2025-09-26T00:00:00.000000000",
          "2025-09-29T00:00:00.000000000",
          "2025-09-30T00:00:00.000000000",
          "2025-10-01T00:00:00.000000000",
          "2025-10-02T00:00:00.000000000",
          "2025-10-03T00:00:00.000000000",
          "2025-10-06T00:00:00.000000000",
          "2025-10-07T00:00:00.000000000",
          "2025-10-08T00:00:00.000000000",
          "2025-10-09T00:00:00.000000000",
          "2025-10-10T00:00:00.000000000",
          "2025-10-10T14:52:03.000000000",
          "2025-10-10T14:52:05.000000000",
          "2025-10-10T14:52:12.000000000",
          "2025-10-10T14:52:16.000000000",
          "2025-10-10T14:57:12.000000000",
          "2025-10-10T15:07:04.000000000"
         ],
         "y": {
          "bdata": "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",
          "dtype": "f8"
         }
        }
       ],
       "layout": {
        "template": {
         "data": {
          "bar": [
           {
            "error_x": {
             "color": "#2a3f5f"
            },
            "error_y": {
             "color": "#2a3f5f"
            },
            "marker": {
             "line": {
              "color": "white",
              "width": 0.5
             },
             "pattern": {
              "fillmode": "overlay",
              "size": 10,
              "solidity": 0.2
             }
            },
            "type": "bar"
           }
          ],
          "barpolar": [
           {
            "marker": {
             "line": {
              "color": "white",
              "width": 0.5
             },
             "pattern": {
              "fillmode": "overlay",
              "size": 10,
              "solidity": 0.2
             }
            },
            "type": "barpolar"
           }
          ],
          "carpet": [
           {
            "aaxis": {
             "endlinecolor": "#2a3f5f",
             "gridcolor": "#C8D4E3",
             "linecolor": "#C8D4E3",
             "minorgridcolor": "#C8D4E3",
             "startlinecolor": "#2a3f5f"
            },
            "baxis": {
             "endlinecolor": "#2a3f5f",
             "gridcolor": "#C8D4E3",
             "linecolor": "#C8D4E3",
             "minorgridcolor": "#C8D4E3",
             "startlinecolor": "#2a3f5f"
            },
            "type": "carpet"
           }
          ],
          "choropleth": [
           {
            "colorbar": {
             "outlinewidth": 0,
             "ticks": ""
            },
            "type": "choropleth"
           }
          ],
          "contour": [
           {
            "colorbar": {
             "outlinewidth": 0,
             "ticks": ""
            },
            "colorscale": [
             [
              0,
              "#0d0887"
             ],
             [
              0.1111111111111111,
              "#46039f"
             ],
             [
              0.2222222222222222,
              "#7201a8"
             ],
             [
              0.3333333333333333,
              "#9c179e"
             ],
             [
              0.4444444444444444,
              "#bd3786"
             ],
             [
              0.5555555555555556,
              "#d8576b"
             ],
             [
              0.6666666666666666,
              "#ed7953"
             ],
             [
              0.7777777777777778,
              "#fb9f3a"
             ],
             [
              0.8888888888888888,
              "#fdca26"
             ],
             [
              1,
              "#f0f921"
             ]
            ],
            "type": "contour"
           }
          ],
          "contourcarpet": [
           {
            "colorbar": {
             "outlinewidth": 0,
             "ticks": ""
            },
            "type": "contourcarpet"
           }
          ],
          "heatmap": [
           {
            "colorbar": {
             "outlinewidth": 0,
             "ticks": ""
            },
            "colorscale": [
             [
              0,
              "#0d0887"
             ],
             [
              0.1111111111111111,
              "#46039f"
             ],
             [
              0.2222222222222222,
              "#7201a8"
             ],
             [
              0.3333333333333333,
              "#9c179e"
             ],
             [
              0.4444444444444444,
              "#bd3786"
             ],
             [
              0.5555555555555556,
              "#d8576b"
             ],
             [
              0.6666666666666666,
              "#ed7953"
             ],
             [
              0.7777777777777778,
              "#fb9f3a"
             ],
             [
              0.8888888888888888,
              "#fdca26"
             ],
             [
              1,
              "#f0f921"
             ]
            ],
            "type": "heatmap"
           }
          ],
          "histogram": [
           {
            "marker": {
             "pattern": {
              "fillmode": "overlay",
              "size": 10,
              "solidity": 0.2
             }
            },
            "type": "histogram"
           }
          ],
          "histogram2d": [
           {
            "colorbar": {
             "outlinewidth": 0,
             "ticks": ""
            },
            "colorscale": [
             [
              0,
              "#0d0887"
             ],
             [
              0.1111111111111111,
              "#46039f"
             ],
             [
              0.2222222222222222,
              "#7201a8"
             ],
             [
              0.3333333333333333,
              "#9c179e"
             ],
             [
              0.4444444444444444,
              "#bd3786"
             ],
             [
              0.5555555555555556,
              "#d8576b"
             ],
             [
              0.6666666666666666,
              "#ed7953"
             ],
             [
              0.7777777777777778,
              "#fb9f3a"
             ],
             [
              0.8888888888888888,
              "#fdca26"
             ],
             [
              1,
              "#f0f921"
             ]
            ],
            "type": "histogram2d"
           }
          ],
          "histogram2dcontour": [
           {
            "colorbar": {
             "outlinewidth": 0,
             "ticks": ""
            },
            "colorscale": [
             [
              0,
              "#0d0887"
             ],
             [
              0.1111111111111111,
              "#46039f"
             ],
             [
              0.2222222222222222,
              "#7201a8"
             ],
             [
              0.3333333333333333,
              "#9c179e"
             ],
             [
              0.4444444444444444,
              "#bd3786"
             ],
             [
              0.5555555555555556,
              "#d8576b"
             ],
             [
              0.6666666666666666,
              "#ed7953"
             ],
             [
              0.7777777777777778,
              "#fb9f3a"
             ],
             [
              0.8888888888888888,
              "#fdca26"
             ],
             [
              1,
              "#f0f921"
             ]
            ],
            "type": "histogram2dcontour"
           }
          ],
          "mesh3d": [
           {
            "colorbar": {
             "outlinewidth": 0,
             "ticks": ""
            },
            "type": "mesh3d"
           }
          ],
          "parcoords": [
           {
            "line": {
             "colorbar": {
              "outlinewidth": 0,
              "ticks": ""
             }
            },
            "type": "parcoords"
           }
          ],
          "pie": [
           {
            "automargin": true,
            "type": "pie"
           }
          ],
          "scatter": [
           {
            "fillpattern": {
             "fillmode": "overlay",
             "size": 10,
             "solidity": 0.2
            },
            "type": "scatter"
           }
          ],
          "scatter3d": [
           {
            "line": {
             "colorbar": {
              "outlinewidth": 0,
              "ticks": ""
             }
            },
            "marker": {
             "colorbar": {
              "outlinewidth": 0,
              "ticks": ""
             }
            },
            "type": "scatter3d"
           }
          ],
          "scattercarpet": [
           {
            "marker": {
             "colorbar": {
              "outlinewidth": 0,
              "ticks": ""
             }
            },
            "type": "scattercarpet"
           }
          ],
          "scattergeo": [
           {
            "marker": {
             "colorbar": {
              "outlinewidth": 0,
              "ticks": ""
             }
            },
            "type": "scattergeo"
           }
          ],
          "scattergl": [
           {
            "marker": {
             "colorbar": {
              "outlinewidth": 0,
              "ticks": ""
             }
            },
            "type": "scattergl"
           }
          ],
          "scattermap": [
           {
            "marker": {
             "colorbar": {
              "outlinewidth": 0,
              "ticks": ""
             }
            },
            "type": "scattermap"
           }
          ],
          "scattermapbox": [
           {
            "marker": {
             "colorbar": {
              "outlinewidth": 0,
              "ticks": ""
             }
            },
            "type": "scattermapbox"
           }
          ],
          "scatterpolar": [
           {
            "marker": {
             "colorbar": {
              "outlinewidth": 0,
              "ticks": ""
             }
            },
            "type": "scatterpolar"
           }
          ],
          "scatterpolargl": [
           {
            "marker": {
             "colorbar": {
              "outlinewidth": 0,
              "ticks": ""
             }
            },
            "type": "scatterpolargl"
           }
          ],
          "scatterternary": [
           {
            "marker": {
             "colorbar": {
              "outlinewidth": 0,
              "ticks": ""
             }
            },
            "type": "scatterternary"
           }
          ],
          "surface": [
           {
            "colorbar": {
             "outlinewidth": 0,
             "ticks": ""
            },
            "colorscale": [
             [
              0,
              "#0d0887"
             ],
             [
              0.1111111111111111,
              "#46039f"
             ],
             [
              0.2222222222222222,
              "#7201a8"
             ],
             [
              0.3333333333333333,
              "#9c179e"
             ],
             [
              0.4444444444444444,
              "#bd3786"
             ],
             [
              0.5555555555555556,
              "#d8576b"
             ],
             [
              0.6666666666666666,
              "#ed7953"
             ],
             [
              0.7777777777777778,
              "#fb9f3a"
             ],
             [
              0.8888888888888888,
              "#fdca26"
             ],
             [
              1,
              "#f0f921"
             ]
            ],
            "type": "surface"
           }
          ],
          "table": [
           {
            "cells": {
             "fill": {
              "color": "#EBF0F8"
             },
             "line": {
              "color": "white"
             }
            },
            "header": {
             "fill": {
              "color": "#C8D4E3"
             },
             "line": {
              "color": "white"
             }
            },
            "type": "table"
           }
          ]
         },
         "layout": {
          "annotationdefaults": {
           "arrowcolor": "#2a3f5f",
           "arrowhead": 0,
           "arrowwidth": 1
          },
          "autotypenumbers": "strict",
          "coloraxis": {
           "colorbar": {
            "outlinewidth": 0,
            "ticks": ""
           }
          },
          "colorscale": {
           "diverging": [
            [
             0,
             "#8e0152"
            ],
            [
             0.1,
             "#c51b7d"
            ],
            [
             0.2,
             "#de77ae"
            ],
            [
             0.3,
             "#f1b6da"
            ],
            [
             0.4,
             "#fde0ef"
            ],
            [
             0.5,
             "#f7f7f7"
            ],
            [
             0.6,
             "#e6f5d0"
            ],
            [
             0.7,
             "#b8e186"
            ],
            [
             0.8,
             "#7fbc41"
            ],
            [
             0.9,
             "#4d9221"
            ],
            [
             1,
             "#276419"
            ]
           ],
           "sequential": [
            [
             0,
             "#0d0887"
            ],
            [
             0.1111111111111111,
             "#46039f"
            ],
            [
             0.2222222222222222,
             "#7201a8"
            ],
            [
             0.3333333333333333,
             "#9c179e"
            ],
            [
             0.4444444444444444,
             "#bd3786"
            ],
            [
             0.5555555555555556,
             "#d8576b"
            ],
            [
             0.6666666666666666,
             "#ed7953"
            ],
            [
             0.7777777777777778,
             "#fb9f3a"
            ],
            [
             0.8888888888888888,
             "#fdca26"
            ],
            [
             1,
             "#f0f921"
            ]
           ],
           "sequentialminus": [
            [
             0,
             "#0d0887"
            ],
            [
             0.1111111111111111,
             "#46039f"
            ],
            [
             0.2222222222222222,
             "#7201a8"
            ],
            [
             0.3333333333333333,
             "#9c179e"
            ],
            [
             0.4444444444444444,
             "#bd3786"
            ],
            [
             0.5555555555555556,
             "#d8576b"
            ],
            [
             0.6666666666666666,
             "#ed7953"
            ],
            [
             0.7777777777777778,
             "#fb9f3a"
            ],
            [
             0.8888888888888888,
             "#fdca26"
            ],
            [
             1,
             "#f0f921"
            ]
           ]
          },
          "colorway": [
           "#636efa",
           "#EF553B",
           "#00cc96",
           "#ab63fa",
           "#FFA15A",
           "#19d3f3",
           "#FF6692",
           "#B6E880",
           "#FF97FF",
           "#FECB52"
          ],
          "font": {
           "color": "#2a3f5f"
          },
          "geo": {
           "bgcolor": "white",
           "lakecolor": "white",
           "landcolor": "white",
           "showlakes": true,
           "showland": true,
           "subunitcolor": "#C8D4E3"
          },
          "hoverlabel": {
           "align": "left"
          },
          "hovermode": "closest",
          "mapbox": {
           "style": "light"
          },
          "paper_bgcolor": "white",
          "plot_bgcolor": "white",
          "polar": {
           "angularaxis": {
            "gridcolor": "#EBF0F8",
            "linecolor": "#EBF0F8",
            "ticks": ""
           },
           "bgcolor": "white",
           "radialaxis": {
            "gridcolor": "#EBF0F8",
            "linecolor": "#EBF0F8",
            "ticks": ""
           }
          },
          "scene": {
           "xaxis": {
            "backgroundcolor": "white",
            "gridcolor": "#DFE8F3",
            "gridwidth": 2,
            "linecolor": "#EBF0F8",
            "showbackground": true,
            "ticks": "",
            "zerolinecolor": "#EBF0F8"
           },
           "yaxis": {
            "backgroundcolor": "white",
            "gridcolor": "#DFE8F3",
            "gridwidth": 2,
            "linecolor": "#EBF0F8",
            "showbackground": true,
            "ticks": "",
            "zerolinecolor": "#EBF0F8"
           },
           "zaxis": {
            "backgroundcolor": "white",
            "gridcolor": "#DFE8F3",
            "gridwidth": 2,
            "linecolor": "#EBF0F8",
            "showbackground": true,
            "ticks": "",
            "zerolinecolor": "#EBF0F8"
           }
          },
          "shapedefaults": {
           "line": {
            "color": "#2a3f5f"
           }
          },
          "ternary": {
           "aaxis": {
            "gridcolor": "#DFE8F3",
            "linecolor": "#A2B1C6",
            "ticks": ""
           },
           "baxis": {
            "gridcolor": "#DFE8F3",
            "linecolor": "#A2B1C6",
            "ticks": ""
           },
           "bgcolor": "white",
           "caxis": {
            "gridcolor": "#DFE8F3",
            "linecolor": "#A2B1C6",
            "ticks": ""
           }
          },
          "title": {
           "x": 0.05
          },
          "xaxis": {
           "automargin": true,
           "gridcolor": "#EBF0F8",
           "linecolor": "#EBF0F8",
           "ticks": "",
           "title": {
            "standoff": 15
           },
           "zerolinecolor": "#EBF0F8",
           "zerolinewidth": 2
          },
          "yaxis": {
           "automargin": true,
           "gridcolor": "#EBF0F8",
           "linecolor": "#EBF0F8",
           "ticks": "",
           "title": {
            "standoff": 15
           },
           "zerolinecolor": "#EBF0F8",
           "zerolinewidth": 2
          }
         }
        },
        "title": {
         "text": "Junk Bond Demand"
        },
        "xaxis": {
         "title": {
          "text": "Date"
         }
        },
        "yaxis": {
         "range": [
          1.209846008989434,
          1.8468533758500003
         ],
         "title": {
          "text": "Score"
         }
        }
       }
      }
     },
     "metadata": {},
     "output_type": "display_data"
    },
    {
     "data": {
      "application/vnd.plotly.v1+json": {
       "config": {
        "plotlyServerURL": "https://plot.ly"
       },
       "data": [
        {
         "hoverinfo": "text+x",
         "line": {
          "color": "lightgray",
          "width": 2
         },
         "marker": {
          "color": [
           "darkgreen",
           "darkgreen",
           "darkgreen",
           "darkgreen",
           "green",
           "darkgreen",
           "darkgreen",
           "darkgreen",
           "darkgreen",
           "green",
           "darkgreen",
           "green",
           "darkgreen",
           "darkgreen",
           "darkgreen",
           "gold",
           "green",
           "gold",
           "gold",
           "darkgreen",
           "darkgreen",
           "green",
           "darkgreen",
           "darkgreen",
           "darkgreen",
           "green",
           "gold",
           "gold",
           "green",
           "green",
           "green",
           "green",
           "green",
           "green",
           "darkgreen",
           "green",
           "darkgreen",
           "green",
           "gold",
           "gold",
           "gold",
           "red",
           "red",
           "gold",
           "gold",
           "green",
           "green",
           "gold",
           "red",
           "red",
           "gold",
           "gold",
           "gold",
           "green",
           "gold",
           "red",
           "red",
           "red",
           "gold",
           "gold",
           "gold",
           "gold",
           "red",
           "red",
           "red",
           "red",
           "red",
           "gold",
           "green",
           "green",
           "gold",
           "gold",
           "red",
           "gold",
           "gold",
           "gold",
           "gold",
           "gold",
           "gold",
           "gold",
           "gold",
           "gold",
           "gold",
           "gold",
           "gold",
           "gold",
           "gold",
           "gold",
           "gold",
           "red",
           "darkred",
           "red",
           "darkred",
           "darkred",
           "darkred",
           "darkred",
           "darkred",
           "darkred",
           "darkred",
           "darkred",
           "darkred",
           "darkred",
           "darkred",
           "darkred",
           "darkred",
           "darkred",
           "darkred",
           "darkred",
           "darkred",
           "darkred",
           "darkred",
           "darkred",
           "darkred",
           "darkred",
           "darkred",
           "darkred",
           "darkred",
           "darkred",
           "darkred",
           "darkred",
           "darkred",
           "darkred",
           "darkred",
           "red",
           "darkred",
           "darkred",
           "darkred",
           "darkred",
           "darkred",
           "darkred",
           "darkred",
           "darkred",
           "darkred",
           "darkred",
           "red",
           "red",
           "red",
           "darkred",
           "darkgreen",
           "darkgreen",
           "darkgreen",
           "darkgreen",
           "green",
           "darkgreen",
           "darkgreen",
           "darkgreen",
           "darkgreen",
           "darkgreen",
           "darkgreen",
           "darkgreen",
           "darkgreen",
           "darkgreen",
           "darkgreen",
           "darkgreen",
           "darkgreen",
           "darkgreen",
           "darkgreen",
           "darkgreen",
           "green",
           "darkgreen",
           "darkgreen",
           "darkgreen",
           "darkgreen",
           "darkgreen",
           "green",
           "green",
           "gold",
           "gold",
           "red",
           "gold",
           "red",
           "gold",
           "gold",
           "gold",
           "gold",
           "gold",
           "gold",
           "green",
           "gold",
           "gold",
           "green",
           "darkgreen",
           "green",
           "green",
           "gold",
           "green",
           "green",
           "darkgreen",
           "green",
           "darkgreen",
           "darkgreen",
           "darkgreen",
           "darkgreen",
           "green",
           "darkgreen",
           "darkgreen",
           "green",
           "green",
           "green",
           "green",
           "gold",
           "red",
           "red",
           "red",
           "red",
           "red",
           "gold",
           "gold",
           "gold",
           "gold",
           "gold",
           "gold",
           "gold",
           "red",
           "red",
           "red",
           "red",
           "gold",
           "gold",
           "gold",
           "green",
           "gold",
           "gold",
           "gold",
           "gold",
           "red",
           "gold",
           "red",
           "red",
           "red",
           "gold",
           "gold",
           "gold",
           "gold",
           "gold",
           "gold",
           "green",
           "gold",
           "gold",
           "gold",
           "gold",
           "green",
           "green",
           "green",
           "green",
           "green",
           "green",
           "green",
           "green",
           "green",
           null,
           null,
           null,
           null,
           null,
           null,
           "gold"
          ],
          "size": 8
         },
         "mode": "lines+markers",
         "text": [
          "5.52 (Extreme Greed)",
          "6.20 (Extreme Greed)",
          "7.00 (Extreme Greed)",
          "5.57 (Extreme Greed)",
          "4.05 (Greed)",
          "4.77 (Extreme Greed)",
          "4.70 (Extreme Greed)",
          "5.12 (Extreme Greed)",
          "5.37 (Extreme Greed)",
          "4.16 (Greed)",
          "4.73 (Extreme Greed)",
          "4.17 (Greed)",
          "5.73 (Extreme Greed)",
          "5.53 (Extreme Greed)",
          "5.05 (Extreme Greed)",
          "1.25 (Neutral)",
          "3.11 (Greed)",
          "1.53 (Neutral)",
          "1.63 (Neutral)",
          "5.29 (Extreme Greed)",
          "4.72 (Extreme Greed)",
          "3.94 (Greed)",
          "5.61 (Extreme Greed)",
          "5.60 (Extreme Greed)",
          "5.20 (Extreme Greed)",
          "4.27 (Greed)",
          "2.33 (Neutral)",
          "2.51 (Neutral)",
          "3.35 (Greed)",
          "3.55 (Greed)",
          "3.93 (Greed)",
          "3.67 (Greed)",
          "2.79 (Greed)",
          "3.79 (Greed)",
          "5.07 (Extreme Greed)",
          "3.84 (Greed)",
          "5.20 (Extreme Greed)",
          "4.32 (Greed)",
          "0.98 (Neutral)",
          "0.84 (Neutral)",
          "0.48 (Neutral)",
          "-0.05 (Fear)",
          "-0.49 (Fear)",
          "0.44 (Neutral)",
          "0.95 (Neutral)",
          "2.76 (Greed)",
          "2.96 (Greed)",
          "2.01 (Neutral)",
          "-0.08 (Fear)",
          "-0.26 (Fear)",
          "0.20 (Neutral)",
          "2.12 (Neutral)",
          "2.39 (Neutral)",
          "2.98 (Greed)",
          "2.02 (Neutral)",
          "-0.20 (Fear)",
          "-0.72 (Fear)",
          "-1.20 (Fear)",
          "0.28 (Neutral)",
          "1.11 (Neutral)",
          "0.61 (Neutral)",
          "0.66 (Neutral)",
          "-1.12 (Fear)",
          "-0.67 (Fear)",
          "-1.01 (Fear)",
          "-0.66 (Fear)",
          "-0.29 (Fear)",
          "2.47 (Neutral)",
          "2.68 (Greed)",
          "2.79 (Greed)",
          "2.43 (Neutral)",
          "0.84 (Neutral)",
          "-1.09 (Fear)",
          "0.58 (Neutral)",
          "1.98 (Neutral)",
          "2.49 (Neutral)",
          "2.37 (Neutral)",
          "0.54 (Neutral)",
          "0.24 (Neutral)",
          "0.76 (Neutral)",
          "1.33 (Neutral)",
          "1.53 (Neutral)",
          "1.90 (Neutral)",
          "2.13 (Neutral)",
          "1.69 (Neutral)",
          "2.44 (Neutral)",
          "1.13 (Neutral)",
          "1.38 (Neutral)",
          "0.59 (Neutral)",
          "-0.83 (Fear)",
          "-2.65 (Extreme Fear)",
          "-1.30 (Fear)",
          "-3.40 (Extreme Fear)",
          "-3.35 (Extreme Fear)",
          "-5.07 (Extreme Fear)",
          "-3.73 (Extreme Fear)",
          "-5.11 (Extreme Fear)",
          "-6.36 (Extreme Fear)",
          "-4.55 (Extreme Fear)",
          "-6.69 (Extreme Fear)",
          "-5.53 (Extreme Fear)",
          "-9.36 (Extreme Fear)",
          "-10.12 (Extreme Fear)",
          "-9.75 (Extreme Fear)",
          "-11.59 (Extreme Fear)",
          "-8.93 (Extreme Fear)",
          "-9.18 (Extreme Fear)",
          "-10.58 (Extreme Fear)",
          "-9.34 (Extreme Fear)",
          "-7.48 (Extreme Fear)",
          "-6.75 (Extreme Fear)",
          "-3.22 (Extreme Fear)",
          "-2.94 (Extreme Fear)",
          "-2.37 (Extreme Fear)",
          "-3.55 (Extreme Fear)",
          "-4.57 (Extreme Fear)",
          "-3.37 (Extreme Fear)",
          "-4.69 (Extreme Fear)",
          "-2.30 (Extreme Fear)",
          "-8.66 (Extreme Fear)",
          "-11.50 (Extreme Fear)",
          "-10.09 (Extreme Fear)",
          "-11.69 (Extreme Fear)",
          "-1.22 (Fear)",
          "-6.34 (Extreme Fear)",
          "-4.62 (Extreme Fear)",
          "-3.20 (Extreme Fear)",
          "-4.46 (Extreme Fear)",
          "-6.65 (Extreme Fear)",
          "-6.33 (Extreme Fear)",
          "-10.15 (Extreme Fear)",
          "-7.99 (Extreme Fear)",
          "-5.80 (Extreme Fear)",
          "-4.13 (Extreme Fear)",
          "-1.01 (Fear)",
          "-1.74 (Fear)",
          "-1.76 (Fear)",
          "-2.43 (Extreme Fear)",
          "4.88 (Extreme Greed)",
          "14.09 (Extreme Greed)",
          "12.73 (Extreme Greed)",
          "12.75 (Extreme Greed)",
          "2.80 (Greed)",
          "7.39 (Extreme Greed)",
          "4.67 (Extreme Greed)",
          "8.70 (Extreme Greed)",
          "10.12 (Extreme Greed)",
          "13.47 (Extreme Greed)",
          "12.98 (Extreme Greed)",
          "15.83 (Extreme Greed)",
          "13.26 (Extreme Greed)",
          "11.30 (Extreme Greed)",
          "8.43 (Extreme Greed)",
          "7.68 (Extreme Greed)",
          "7.07 (Extreme Greed)",
          "8.48 (Extreme Greed)",
          "8.08 (Extreme Greed)",
          "6.75 (Extreme Greed)",
          "4.14 (Greed)",
          "5.82 (Extreme Greed)",
          "7.63 (Extreme Greed)",
          "6.71 (Extreme Greed)",
          "5.07 (Extreme Greed)",
          "7.08 (Extreme Greed)",
          "2.95 (Greed)",
          "2.56 (Greed)",
          "1.41 (Neutral)",
          "1.50 (Neutral)",
          "0.12 (Fear)",
          "0.89 (Neutral)",
          "-0.19 (Fear)",
          "0.72 (Neutral)",
          "0.68 (Neutral)",
          "2.36 (Neutral)",
          "1.45 (Neutral)",
          "1.82 (Neutral)",
          "2.28 (Neutral)",
          "3.41 (Greed)",
          "2.30 (Neutral)",
          "2.10 (Neutral)",
          "3.54 (Greed)",
          "4.87 (Extreme Greed)",
          "2.61 (Greed)",
          "2.76 (Greed)",
          "2.43 (Neutral)",
          "3.50 (Greed)",
          "3.62 (Greed)",
          "4.67 (Extreme Greed)",
          "3.63 (Greed)",
          "5.09 (Extreme Greed)",
          "5.82 (Extreme Greed)",
          "5.91 (Extreme Greed)",
          "4.99 (Extreme Greed)",
          "3.92 (Greed)",
          "5.16 (Extreme Greed)",
          "4.88 (Extreme Greed)",
          "4.34 (Greed)",
          "4.36 (Greed)",
          "3.00 (Greed)",
          "2.54 (Greed)",
          "0.92 (Neutral)",
          "-1.16 (Fear)",
          "0.16 (Fear)",
          "-0.33 (Fear)",
          "0.14 (Fear)",
          "0.08 (Fear)",
          "0.83 (Neutral)",
          "0.64 (Neutral)",
          "1.65 (Neutral)",
          "1.03 (Neutral)",
          "1.69 (Neutral)",
          "1.84 (Neutral)",
          "2.17 (Neutral)",
          "0.12 (Fear)",
          "-0.49 (Fear)",
          "-0.72 (Fear)",
          "0.03 (Fear)",
          "0.67 (Neutral)",
          "0.63 (Neutral)",
          "1.18 (Neutral)",
          "3.83 (Greed)",
          "2.19 (Neutral)",
          "2.15 (Neutral)",
          "1.53 (Neutral)",
          "1.90 (Neutral)",
          "0.13 (Fear)",
          "0.30 (Neutral)",
          "-0.33 (Fear)",
          "-0.29 (Fear)",
          "0.06 (Fear)",
          "0.34 (Neutral)",
          "0.65 (Neutral)",
          "0.94 (Neutral)",
          "1.51 (Neutral)",
          "2.39 (Neutral)",
          "1.93 (Neutral)",
          "2.85 (Greed)",
          "1.85 (Neutral)",
          "1.71 (Neutral)",
          "1.32 (Neutral)",
          "2.17 (Neutral)",
          "2.65 (Greed)",
          "3.15 (Greed)",
          "2.81 (Greed)",
          "3.56 (Greed)",
          "3.82 (Greed)",
          "4.03 (Greed)",
          "3.33 (Greed)",
          "3.25 (Greed)",
          "2.79 (Greed)",
          "nan (nan)",
          "nan (nan)",
          "nan (nan)",
          "nan (nan)",
          "nan (nan)",
          "nan (nan)",
          "1.25 (Neutral)"
         ],
         "type": "scatter",
         "x": [
          "2024-10-10T00:00:00.000000000",
          "2024-10-11T00:00:00.000000000",
          "2024-10-14T00:00:00.000000000",
          "2024-10-15T00:00:00.000000000",
          "2024-10-16T00:00:00.000000000",
          "2024-10-17T00:00:00.000000000",
          "2024-10-18T00:00:00.000000000",
          "2024-10-21T00:00:00.000000000",
          "2024-10-22T00:00:00.000000000",
          "2024-10-23T00:00:00.000000000",
          "2024-10-24T00:00:00.000000000",
          "2024-10-25T00:00:00.000000000",
          "2024-10-28T00:00:00.000000000",
          "2024-10-29T00:00:00.000000000",
          "2024-10-30T00:00:00.000000000",
          "2024-10-31T00:00:00.000000000",
          "2024-11-01T00:00:00.000000000",
          "2024-11-04T00:00:00.000000000",
          "2024-11-05T00:00:00.000000000",
          "2024-11-06T00:00:00.000000000",
          "2024-11-07T00:00:00.000000000",
          "2024-11-08T00:00:00.000000000",
          "2024-11-11T00:00:00.000000000",
          "2024-11-12T00:00:00.000000000",
          "2024-11-13T00:00:00.000000000",
          "2024-11-14T00:00:00.000000000",
          "2024-11-15T00:00:00.000000000",
          "2024-11-18T00:00:00.000000000",
          "2024-11-19T00:00:00.000000000",
          "2024-11-20T00:00:00.000000000",
          "2024-11-21T00:00:00.000000000",
          "2024-11-22T00:00:00.000000000",
          "2024-11-25T00:00:00.000000000",
          "2024-11-26T00:00:00.000000000",
          "2024-11-27T00:00:00.000000000",
          "2024-11-29T00:00:00.000000000",
          "2024-12-02T00:00:00.000000000",
          "2024-12-03T00:00:00.000000000",
          "2024-12-04T00:00:00.000000000",
          "2024-12-05T00:00:00.000000000",
          "2024-12-06T00:00:00.000000000",
          "2024-12-09T00:00:00.000000000",
          "2024-12-10T00:00:00.000000000",
          "2024-12-11T00:00:00.000000000",
          "2024-12-12T00:00:00.000000000",
          "2024-12-13T00:00:00.000000000",
          "2024-12-16T00:00:00.000000000",
          "2024-12-17T00:00:00.000000000",
          "2024-12-18T00:00:00.000000000",
          "2024-12-19T00:00:00.000000000",
          "2024-12-20T00:00:00.000000000",
          "2024-12-23T00:00:00.000000000",
          "2024-12-24T00:00:00.000000000",
          "2024-12-26T00:00:00.000000000",
          "2024-12-27T00:00:00.000000000",
          "2024-12-30T00:00:00.000000000",
          "2024-12-31T00:00:00.000000000",
          "2025-01-02T00:00:00.000000000",
          "2025-01-03T00:00:00.000000000",
          "2025-01-06T00:00:00.000000000",
          "2025-01-07T00:00:00.000000000",
          "2025-01-08T00:00:00.000000000",
          "2025-01-10T00:00:00.000000000",
          "2025-01-13T00:00:00.000000000",
          "2025-01-14T00:00:00.000000000",
          "2025-01-15T00:00:00.000000000",
          "2025-01-16T00:00:00.000000000",
          "2025-01-17T00:00:00.000000000",
          "2025-01-21T00:00:00.000000000",
          "2025-01-22T00:00:00.000000000",
          "2025-01-23T00:00:00.000000000",
          "2025-01-24T00:00:00.000000000",
          "2025-01-27T00:00:00.000000000",
          "2025-01-28T00:00:00.000000000",
          "2025-01-29T00:00:00.000000000",
          "2025-01-30T00:00:00.000000000",
          "2025-01-31T00:00:00.000000000",
          "2025-02-03T00:00:00.000000000",
          "2025-02-04T00:00:00.000000000",
          "2025-02-05T00:00:00.000000000",
          "2025-02-06T00:00:00.000000000",
          "2025-02-07T00:00:00.000000000",
          "2025-02-10T00:00:00.000000000",
          "2025-02-11T00:00:00.000000000",
          "2025-02-12T00:00:00.000000000",
          "2025-02-13T00:00:00.000000000",
          "2025-02-14T00:00:00.000000000",
          "2025-02-18T00:00:00.000000000",
          "2025-02-19T00:00:00.000000000",
          "2025-02-20T00:00:00.000000000",
          "2025-02-21T00:00:00.000000000",
          "2025-02-24T00:00:00.000000000",
          "2025-02-25T00:00:00.000000000",
          "2025-02-26T00:00:00.000000000",
          "2025-02-27T00:00:00.000000000",
          "2025-02-28T00:00:00.000000000",
          "2025-03-03T00:00:00.000000000",
          "2025-03-04T00:00:00.000000000",
          "2025-03-05T00:00:00.000000000",
          "2025-03-06T00:00:00.000000000",
          "2025-03-07T00:00:00.000000000",
          "2025-03-10T00:00:00.000000000",
          "2025-03-11T00:00:00.000000000",
          "2025-03-12T00:00:00.000000000",
          "2025-03-13T00:00:00.000000000",
          "2025-03-14T00:00:00.000000000",
          "2025-03-17T00:00:00.000000000",
          "2025-03-18T00:00:00.000000000",
          "2025-03-19T00:00:00.000000000",
          "2025-03-20T00:00:00.000000000",
          "2025-03-21T00:00:00.000000000",
          "2025-03-24T00:00:00.000000000",
          "2025-03-25T00:00:00.000000000",
          "2025-03-26T00:00:00.000000000",
          "2025-03-27T00:00:00.000000000",
          "2025-03-28T00:00:00.000000000",
          "2025-03-31T00:00:00.000000000",
          "2025-04-01T00:00:00.000000000",
          "2025-04-02T00:00:00.000000000",
          "2025-04-03T00:00:00.000000000",
          "2025-04-04T00:00:00.000000000",
          "2025-04-07T00:00:00.000000000",
          "2025-04-08T00:00:00.000000000",
          "2025-04-09T00:00:00.000000000",
          "2025-04-10T00:00:00.000000000",
          "2025-04-11T00:00:00.000000000",
          "2025-04-14T00:00:00.000000000",
          "2025-04-15T00:00:00.000000000",
          "2025-04-16T00:00:00.000000000",
          "2025-04-17T00:00:00.000000000",
          "2025-04-21T00:00:00.000000000",
          "2025-04-22T00:00:00.000000000",
          "2025-04-23T00:00:00.000000000",
          "2025-04-24T00:00:00.000000000",
          "2025-04-25T00:00:00.000000000",
          "2025-04-28T00:00:00.000000000",
          "2025-04-29T00:00:00.000000000",
          "2025-04-30T00:00:00.000000000",
          "2025-05-01T00:00:00.000000000",
          "2025-05-02T00:00:00.000000000",
          "2025-05-05T00:00:00.000000000",
          "2025-05-06T00:00:00.000000000",
          "2025-05-07T00:00:00.000000000",
          "2025-05-08T00:00:00.000000000",
          "2025-05-09T00:00:00.000000000",
          "2025-05-12T00:00:00.000000000",
          "2025-05-13T00:00:00.000000000",
          "2025-05-14T00:00:00.000000000",
          "2025-05-15T00:00:00.000000000",
          "2025-05-16T00:00:00.000000000",
          "2025-05-19T00:00:00.000000000",
          "2025-05-20T00:00:00.000000000",
          "2025-05-21T00:00:00.000000000",
          "2025-05-22T00:00:00.000000000",
          "2025-05-23T00:00:00.000000000",
          "2025-05-27T00:00:00.000000000",
          "2025-05-28T00:00:00.000000000",
          "2025-05-29T00:00:00.000000000",
          "2025-05-30T00:00:00.000000000",
          "2025-06-02T00:00:00.000000000",
          "2025-06-03T00:00:00.000000000",
          "2025-06-04T00:00:00.000000000",
          "2025-06-05T00:00:00.000000000",
          "2025-06-06T00:00:00.000000000",
          "2025-06-09T00:00:00.000000000",
          "2025-06-10T00:00:00.000000000",
          "2025-06-11T00:00:00.000000000",
          "2025-06-12T00:00:00.000000000",
          "2025-06-13T00:00:00.000000000",
          "2025-06-16T00:00:00.000000000",
          "2025-06-17T00:00:00.000000000",
          "2025-06-18T00:00:00.000000000",
          "2025-06-20T00:00:00.000000000",
          "2025-06-23T00:00:00.000000000",
          "2025-06-24T00:00:00.000000000",
          "2025-06-25T00:00:00.000000000",
          "2025-06-26T00:00:00.000000000",
          "2025-06-27T00:00:00.000000000",
          "2025-06-30T00:00:00.000000000",
          "2025-07-01T00:00:00.000000000",
          "2025-07-02T00:00:00.000000000",
          "2025-07-03T00:00:00.000000000",
          "2025-07-07T00:00:00.000000000",
          "2025-07-08T00:00:00.000000000",
          "2025-07-09T00:00:00.000000000",
          "2025-07-10T00:00:00.000000000",
          "2025-07-11T00:00:00.000000000",
          "2025-07-14T00:00:00.000000000",
          "2025-07-15T00:00:00.000000000",
          "2025-07-16T00:00:00.000000000",
          "2025-07-17T00:00:00.000000000",
          "2025-07-18T00:00:00.000000000",
          "2025-07-21T00:00:00.000000000",
          "2025-07-22T00:00:00.000000000",
          "2025-07-23T00:00:00.000000000",
          "2025-07-24T00:00:00.000000000",
          "2025-07-25T00:00:00.000000000",
          "2025-07-28T00:00:00.000000000",
          "2025-07-29T00:00:00.000000000",
          "2025-07-30T00:00:00.000000000",
          "2025-07-31T00:00:00.000000000",
          "2025-08-01T00:00:00.000000000",
          "2025-08-04T00:00:00.000000000",
          "2025-08-05T00:00:00.000000000",
          "2025-08-06T00:00:00.000000000",
          "2025-08-07T00:00:00.000000000",
          "2025-08-08T00:00:00.000000000",
          "2025-08-11T00:00:00.000000000",
          "2025-08-12T00:00:00.000000000",
          "2025-08-13T00:00:00.000000000",
          "2025-08-14T00:00:00.000000000",
          "2025-08-15T00:00:00.000000000",
          "2025-08-18T00:00:00.000000000",
          "2025-08-19T00:00:00.000000000",
          "2025-08-20T00:00:00.000000000",
          "2025-08-21T00:00:00.000000000",
          "2025-08-22T00:00:00.000000000",
          "2025-08-25T00:00:00.000000000",
          "2025-08-26T00:00:00.000000000",
          "2025-08-27T00:00:00.000000000",
          "2025-08-28T00:00:00.000000000",
          "2025-08-29T00:00:00.000000000",
          "2025-09-02T00:00:00.000000000",
          "2025-09-03T00:00:00.000000000",
          "2025-09-04T00:00:00.000000000",
          "2025-09-05T00:00:00.000000000",
          "2025-09-08T00:00:00.000000000",
          "2025-09-09T00:00:00.000000000",
          "2025-09-10T00:00:00.000000000",
          "2025-09-11T00:00:00.000000000",
          "2025-09-12T00:00:00.000000000",
          "2025-09-15T00:00:00.000000000",
          "2025-09-16T00:00:00.000000000",
          "2025-09-17T00:00:00.000000000",
          "2025-09-18T00:00:00.000000000",
          "2025-09-19T00:00:00.000000000",
          "2025-09-22T00:00:00.000000000",
          "2025-09-23T00:00:00.000000000",
          "2025-09-24T00:00:00.000000000",
          "2025-09-25T00:00:00.000000000",
          "2025-09-26T00:00:00.000000000",
          "2025-09-29T00:00:00.000000000",
          "2025-09-30T00:00:00.000000000",
          "2025-10-01T00:00:00.000000000",
          "2025-10-02T00:00:00.000000000",
          "2025-10-03T00:00:00.000000000",
          "2025-10-06T00:00:00.000000000",
          "2025-10-07T00:00:00.000000000",
          "2025-10-08T00:00:00.000000000",
          "2025-10-09T00:00:00.000000000",
          "2025-10-10T00:00:00.000000000",
          "2025-10-10T14:52:03.000000000",
          "2025-10-10T14:52:05.000000000",
          "2025-10-10T14:52:12.000000000",
          "2025-10-10T14:52:16.000000000",
          "2025-10-10T14:57:12.000000000",
          "2025-10-10T15:07:04.000000000"
         ],
         "y": {
          "bdata": "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",
          "dtype": "f8"
         }
        }
       ],
       "layout": {
        "template": {
         "data": {
          "bar": [
           {
            "error_x": {
             "color": "#2a3f5f"
            },
            "error_y": {
             "color": "#2a3f5f"
            },
            "marker": {
             "line": {
              "color": "white",
              "width": 0.5
             },
             "pattern": {
              "fillmode": "overlay",
              "size": 10,
              "solidity": 0.2
             }
            },
            "type": "bar"
           }
          ],
          "barpolar": [
           {
            "marker": {
             "line": {
              "color": "white",
              "width": 0.5
             },
             "pattern": {
              "fillmode": "overlay",
              "size": 10,
              "solidity": 0.2
             }
            },
            "type": "barpolar"
           }
          ],
          "carpet": [
           {
            "aaxis": {
             "endlinecolor": "#2a3f5f",
             "gridcolor": "#C8D4E3",
             "linecolor": "#C8D4E3",
             "minorgridcolor": "#C8D4E3",
             "startlinecolor": "#2a3f5f"
            },
            "baxis": {
             "endlinecolor": "#2a3f5f",
             "gridcolor": "#C8D4E3",
             "linecolor": "#C8D4E3",
             "minorgridcolor": "#C8D4E3",
             "startlinecolor": "#2a3f5f"
            },
            "type": "carpet"
           }
          ],
          "choropleth": [
           {
            "colorbar": {
             "outlinewidth": 0,
             "ticks": ""
            },
            "type": "choropleth"
           }
          ],
          "contour": [
           {
            "colorbar": {
             "outlinewidth": 0,
             "ticks": ""
            },
            "colorscale": [
             [
              0,
              "#0d0887"
             ],
             [
              0.1111111111111111,
              "#46039f"
             ],
             [
              0.2222222222222222,
              "#7201a8"
             ],
             [
              0.3333333333333333,
              "#9c179e"
             ],
             [
              0.4444444444444444,
              "#bd3786"
             ],
             [
              0.5555555555555556,
              "#d8576b"
             ],
             [
              0.6666666666666666,
              "#ed7953"
             ],
             [
              0.7777777777777778,
              "#fb9f3a"
             ],
             [
              0.8888888888888888,
              "#fdca26"
             ],
             [
              1,
              "#f0f921"
             ]
            ],
            "type": "contour"
           }
          ],
          "contourcarpet": [
           {
            "colorbar": {
             "outlinewidth": 0,
             "ticks": ""
            },
            "type": "contourcarpet"
           }
          ],
          "heatmap": [
           {
            "colorbar": {
             "outlinewidth": 0,
             "ticks": ""
            },
            "colorscale": [
             [
              0,
              "#0d0887"
             ],
             [
              0.1111111111111111,
              "#46039f"
             ],
             [
              0.2222222222222222,
              "#7201a8"
             ],
             [
              0.3333333333333333,
              "#9c179e"
             ],
             [
              0.4444444444444444,
              "#bd3786"
             ],
             [
              0.5555555555555556,
              "#d8576b"
             ],
             [
              0.6666666666666666,
              "#ed7953"
             ],
             [
              0.7777777777777778,
              "#fb9f3a"
             ],
             [
              0.8888888888888888,
              "#fdca26"
             ],
             [
              1,
              "#f0f921"
             ]
            ],
            "type": "heatmap"
           }
          ],
          "histogram": [
           {
            "marker": {
             "pattern": {
              "fillmode": "overlay",
              "size": 10,
              "solidity": 0.2
             }
            },
            "type": "histogram"
           }
          ],
          "histogram2d": [
           {
            "colorbar": {
             "outlinewidth": 0,
             "ticks": ""
            },
            "colorscale": [
             [
              0,
              "#0d0887"
             ],
             [
              0.1111111111111111,
              "#46039f"
             ],
             [
              0.2222222222222222,
              "#7201a8"
             ],
             [
              0.3333333333333333,
              "#9c179e"
             ],
             [
              0.4444444444444444,
              "#bd3786"
             ],
             [
              0.5555555555555556,
              "#d8576b"
             ],
             [
              0.6666666666666666,
              "#ed7953"
             ],
             [
              0.7777777777777778,
              "#fb9f3a"
             ],
             [
              0.8888888888888888,
              "#fdca26"
             ],
             [
              1,
              "#f0f921"
             ]
            ],
            "type": "histogram2d"
           }
          ],
          "histogram2dcontour": [
           {
            "colorbar": {
             "outlinewidth": 0,
             "ticks": ""
            },
            "colorscale": [
             [
              0,
              "#0d0887"
             ],
             [
              0.1111111111111111,
              "#46039f"
             ],
             [
              0.2222222222222222,
              "#7201a8"
             ],
             [
              0.3333333333333333,
              "#9c179e"
             ],
             [
              0.4444444444444444,
              "#bd3786"
             ],
             [
              0.5555555555555556,
              "#d8576b"
             ],
             [
              0.6666666666666666,
              "#ed7953"
             ],
             [
              0.7777777777777778,
              "#fb9f3a"
             ],
             [
              0.8888888888888888,
              "#fdca26"
             ],
             [
              1,
              "#f0f921"
             ]
            ],
            "type": "histogram2dcontour"
           }
          ],
          "mesh3d": [
           {
            "colorbar": {
             "outlinewidth": 0,
             "ticks": ""
            },
            "type": "mesh3d"
           }
          ],
          "parcoords": [
           {
            "line": {
             "colorbar": {
              "outlinewidth": 0,
              "ticks": ""
             }
            },
            "type": "parcoords"
           }
          ],
          "pie": [
           {
            "automargin": true,
            "type": "pie"
           }
          ],
          "scatter": [
           {
            "fillpattern": {
             "fillmode": "overlay",
             "size": 10,
             "solidity": 0.2
            },
            "type": "scatter"
           }
          ],
          "scatter3d": [
           {
            "line": {
             "colorbar": {
              "outlinewidth": 0,
              "ticks": ""
             }
            },
            "marker": {
             "colorbar": {
              "outlinewidth": 0,
              "ticks": ""
             }
            },
            "type": "scatter3d"
           }
          ],
          "scattercarpet": [
           {
            "marker": {
             "colorbar": {
              "outlinewidth": 0,
              "ticks": ""
             }
            },
            "type": "scattercarpet"
           }
          ],
          "scattergeo": [
           {
            "marker": {
             "colorbar": {
              "outlinewidth": 0,
              "ticks": ""
             }
            },
            "type": "scattergeo"
           }
          ],
          "scattergl": [
           {
            "marker": {
             "colorbar": {
              "outlinewidth": 0,
              "ticks": ""
             }
            },
            "type": "scattergl"
           }
          ],
          "scattermap": [
           {
            "marker": {
             "colorbar": {
              "outlinewidth": 0,
              "ticks": ""
             }
            },
            "type": "scattermap"
           }
          ],
          "scattermapbox": [
           {
            "marker": {
             "colorbar": {
              "outlinewidth": 0,
              "ticks": ""
             }
            },
            "type": "scattermapbox"
           }
          ],
          "scatterpolar": [
           {
            "marker": {
             "colorbar": {
              "outlinewidth": 0,
              "ticks": ""
             }
            },
            "type": "scatterpolar"
           }
          ],
          "scatterpolargl": [
           {
            "marker": {
             "colorbar": {
              "outlinewidth": 0,
              "ticks": ""
             }
            },
            "type": "scatterpolargl"
           }
          ],
          "scatterternary": [
           {
            "marker": {
             "colorbar": {
              "outlinewidth": 0,
              "ticks": ""
             }
            },
            "type": "scatterternary"
           }
          ],
          "surface": [
           {
            "colorbar": {
             "outlinewidth": 0,
             "ticks": ""
            },
            "colorscale": [
             [
              0,
              "#0d0887"
             ],
             [
              0.1111111111111111,
              "#46039f"
             ],
             [
              0.2222222222222222,
              "#7201a8"
             ],
             [
              0.3333333333333333,
              "#9c179e"
             ],
             [
              0.4444444444444444,
              "#bd3786"
             ],
             [
              0.5555555555555556,
              "#d8576b"
             ],
             [
              0.6666666666666666,
              "#ed7953"
             ],
             [
              0.7777777777777778,
              "#fb9f3a"
             ],
             [
              0.8888888888888888,
              "#fdca26"
             ],
             [
              1,
              "#f0f921"
             ]
            ],
            "type": "surface"
           }
          ],
          "table": [
           {
            "cells": {
             "fill": {
              "color": "#EBF0F8"
             },
             "line": {
              "color": "white"
             }
            },
            "header": {
             "fill": {
              "color": "#C8D4E3"
             },
             "line": {
              "color": "white"
             }
            },
            "type": "table"
           }
          ]
         },
         "layout": {
          "annotationdefaults": {
           "arrowcolor": "#2a3f5f",
           "arrowhead": 0,
           "arrowwidth": 1
          },
          "autotypenumbers": "strict",
          "coloraxis": {
           "colorbar": {
            "outlinewidth": 0,
            "ticks": ""
           }
          },
          "colorscale": {
           "diverging": [
            [
             0,
             "#8e0152"
            ],
            [
             0.1,
             "#c51b7d"
            ],
            [
             0.2,
             "#de77ae"
            ],
            [
             0.3,
             "#f1b6da"
            ],
            [
             0.4,
             "#fde0ef"
            ],
            [
             0.5,
             "#f7f7f7"
            ],
            [
             0.6,
             "#e6f5d0"
            ],
            [
             0.7,
             "#b8e186"
            ],
            [
             0.8,
             "#7fbc41"
            ],
            [
             0.9,
             "#4d9221"
            ],
            [
             1,
             "#276419"
            ]
           ],
           "sequential": [
            [
             0,
             "#0d0887"
            ],
            [
             0.1111111111111111,
             "#46039f"
            ],
            [
             0.2222222222222222,
             "#7201a8"
            ],
            [
             0.3333333333333333,
             "#9c179e"
            ],
            [
             0.4444444444444444,
             "#bd3786"
            ],
            [
             0.5555555555555556,
             "#d8576b"
            ],
            [
             0.6666666666666666,
             "#ed7953"
            ],
            [
             0.7777777777777778,
             "#fb9f3a"
            ],
            [
             0.8888888888888888,
             "#fdca26"
            ],
            [
             1,
             "#f0f921"
            ]
           ],
           "sequentialminus": [
            [
             0,
             "#0d0887"
            ],
            [
             0.1111111111111111,
             "#46039f"
            ],
            [
             0.2222222222222222,
             "#7201a8"
            ],
            [
             0.3333333333333333,
             "#9c179e"
            ],
            [
             0.4444444444444444,
             "#bd3786"
            ],
            [
             0.5555555555555556,
             "#d8576b"
            ],
            [
             0.6666666666666666,
             "#ed7953"
            ],
            [
             0.7777777777777778,
             "#fb9f3a"
            ],
            [
             0.8888888888888888,
             "#fdca26"
            ],
            [
             1,
             "#f0f921"
            ]
           ]
          },
          "colorway": [
           "#636efa",
           "#EF553B",
           "#00cc96",
           "#ab63fa",
           "#FFA15A",
           "#19d3f3",
           "#FF6692",
           "#B6E880",
           "#FF97FF",
           "#FECB52"
          ],
          "font": {
           "color": "#2a3f5f"
          },
          "geo": {
           "bgcolor": "white",
           "lakecolor": "white",
           "landcolor": "white",
           "showlakes": true,
           "showland": true,
           "subunitcolor": "#C8D4E3"
          },
          "hoverlabel": {
           "align": "left"
          },
          "hovermode": "closest",
          "mapbox": {
           "style": "light"
          },
          "paper_bgcolor": "white",
          "plot_bgcolor": "white",
          "polar": {
           "angularaxis": {
            "gridcolor": "#EBF0F8",
            "linecolor": "#EBF0F8",
            "ticks": ""
           },
           "bgcolor": "white",
           "radialaxis": {
            "gridcolor": "#EBF0F8",
            "linecolor": "#EBF0F8",
            "ticks": ""
           }
          },
          "scene": {
           "xaxis": {
            "backgroundcolor": "white",
            "gridcolor": "#DFE8F3",
            "gridwidth": 2,
            "linecolor": "#EBF0F8",
            "showbackground": true,
            "ticks": "",
            "zerolinecolor": "#EBF0F8"
           },
           "yaxis": {
            "backgroundcolor": "white",
            "gridcolor": "#DFE8F3",
            "gridwidth": 2,
            "linecolor": "#EBF0F8",
            "showbackground": true,
            "ticks": "",
            "zerolinecolor": "#EBF0F8"
           },
           "zaxis": {
            "backgroundcolor": "white",
            "gridcolor": "#DFE8F3",
            "gridwidth": 2,
            "linecolor": "#EBF0F8",
            "showbackground": true,
            "ticks": "",
            "zerolinecolor": "#EBF0F8"
           }
          },
          "shapedefaults": {
           "line": {
            "color": "#2a3f5f"
           }
          },
          "ternary": {
           "aaxis": {
            "gridcolor": "#DFE8F3",
            "linecolor": "#A2B1C6",
            "ticks": ""
           },
           "baxis": {
            "gridcolor": "#DFE8F3",
            "linecolor": "#A2B1C6",
            "ticks": ""
           },
           "bgcolor": "white",
           "caxis": {
            "gridcolor": "#DFE8F3",
            "linecolor": "#A2B1C6",
            "ticks": ""
           }
          },
          "title": {
           "x": 0.05
          },
          "xaxis": {
           "automargin": true,
           "gridcolor": "#EBF0F8",
           "linecolor": "#EBF0F8",
           "ticks": "",
           "title": {
            "standoff": 15
           },
           "zerolinecolor": "#EBF0F8",
           "zerolinewidth": 2
          },
          "yaxis": {
           "automargin": true,
           "gridcolor": "#EBF0F8",
           "linecolor": "#EBF0F8",
           "ticks": "",
           "title": {
            "standoff": 15
           },
           "zerolinecolor": "#EBF0F8",
           "zerolinewidth": 2
          }
         }
        },
        "title": {
         "text": "Safe Haven Demand"
        },
        "xaxis": {
         "title": {
          "text": "Date"
         }
        },
        "yaxis": {
         "range": [
          -11.108204402019442,
          16.624294576695178
         ],
         "title": {
          "text": "Score"
         }
        }
       }
      }
     },
     "metadata": {},
     "output_type": "display_data"
    }
   ],
   "source": [
    "for key, title in titles.items():\n",
    "    plot_data(df, key, title)"
   ]
  },
  {
   "cell_type": "code",
   "execution_count": 7,
   "id": "bd036f43",
   "metadata": {},
   "outputs": [
    {
     "ename": "TypeError",
     "evalue": "'Response' object is not subscriptable",
     "output_type": "error",
     "traceback": [
      "\u001b[1;31m---------------------------------------------------------------------------\u001b[0m",
      "\u001b[1;31mTypeError\u001b[0m                                 Traceback (most recent call last)",
      "Cell \u001b[1;32mIn[7], line 3\u001b[0m\n\u001b[0;32m      1\u001b[0m \u001b[38;5;66;03m# Loop para plotar todos\u001b[39;00m\n\u001b[0;32m      2\u001b[0m \u001b[38;5;28;01mfor\u001b[39;00m key, title \u001b[38;5;129;01min\u001b[39;00m titles\u001b[38;5;241m.\u001b[39mitems():\n\u001b[1;32m----> 3\u001b[0m     plot_data(response, key\u001b[38;5;241m=\u001b[39mkey, title\u001b[38;5;241m=\u001b[39mtitle)\n",
      "Cell \u001b[1;32mIn[5], line 12\u001b[0m, in \u001b[0;36mplot_data\u001b[1;34m(df, key, title)\u001b[0m\n\u001b[0;32m      4\u001b[0m \u001b[38;5;250m\u001b[39m\u001b[38;5;124;03m\"\"\"\u001b[39;00m\n\u001b[0;32m      5\u001b[0m \u001b[38;5;124;03mPlota uma métrica do DataFrame consolidado com cores por rating.\u001b[39;00m\n\u001b[0;32m      6\u001b[0m \u001b[38;5;124;03m\u001b[39;00m\n\u001b[1;32m   (...)\u001b[0m\n\u001b[0;32m      9\u001b[0m \u001b[38;5;124;03mtitle: título do gráfico\u001b[39;00m\n\u001b[0;32m     10\u001b[0m \u001b[38;5;124;03m\"\"\"\u001b[39;00m\n\u001b[0;32m     11\u001b[0m \u001b[38;5;66;03m# Preparar dados\u001b[39;00m\n\u001b[1;32m---> 12\u001b[0m df_plot \u001b[38;5;241m=\u001b[39m df[[key, \u001b[38;5;124mf\u001b[39m\u001b[38;5;124m\"\u001b[39m\u001b[38;5;132;01m{\u001b[39;00mkey\u001b[38;5;132;01m}\u001b[39;00m\u001b[38;5;124m_rating\u001b[39m\u001b[38;5;124m\"\u001b[39m]]\u001b[38;5;241m.\u001b[39mcopy()\n\u001b[0;32m     13\u001b[0m df_plot[\u001b[38;5;124m'\u001b[39m\u001b[38;5;124mcolor\u001b[39m\u001b[38;5;124m'\u001b[39m] \u001b[38;5;241m=\u001b[39m df_plot[\u001b[38;5;124mf\u001b[39m\u001b[38;5;124m\"\u001b[39m\u001b[38;5;132;01m{\u001b[39;00mkey\u001b[38;5;132;01m}\u001b[39;00m\u001b[38;5;124m_rating\u001b[39m\u001b[38;5;124m\"\u001b[39m]\u001b[38;5;241m.\u001b[39mmap({\n\u001b[0;32m     14\u001b[0m     \u001b[38;5;124m'\u001b[39m\u001b[38;5;124mExtreme Fear\u001b[39m\u001b[38;5;124m'\u001b[39m: \u001b[38;5;124m'\u001b[39m\u001b[38;5;124mdarkred\u001b[39m\u001b[38;5;124m'\u001b[39m,\n\u001b[0;32m     15\u001b[0m     \u001b[38;5;124m'\u001b[39m\u001b[38;5;124mFear\u001b[39m\u001b[38;5;124m'\u001b[39m: \u001b[38;5;124m'\u001b[39m\u001b[38;5;124mred\u001b[39m\u001b[38;5;124m'\u001b[39m,\n\u001b[1;32m   (...)\u001b[0m\n\u001b[0;32m     18\u001b[0m     \u001b[38;5;124m'\u001b[39m\u001b[38;5;124mExtreme Greed\u001b[39m\u001b[38;5;124m'\u001b[39m: \u001b[38;5;124m'\u001b[39m\u001b[38;5;124mdarkgreen\u001b[39m\u001b[38;5;124m'\u001b[39m\n\u001b[0;32m     19\u001b[0m })\n\u001b[0;32m     21\u001b[0m \u001b[38;5;66;03m# Criar figura\u001b[39;00m\n",
      "\u001b[1;31mTypeError\u001b[0m: 'Response' object is not subscriptable"
     ]
    }
   ],
   "source": [
    "\n",
    "\n",
    "# Loop para plotar todos\n",
    "for key, title in titles.items():\n",
    "    plot_data(response, key=key, title=title)\n"
   ]
  }
 ],
 "metadata": {
  "kernelspec": {
   "display_name": "base",
   "language": "python",
   "name": "python3"
  },
  "language_info": {
   "codemirror_mode": {
    "name": "ipython",
    "version": 3
   },
   "file_extension": ".py",
   "mimetype": "text/x-python",
   "name": "python",
   "nbconvert_exporter": "python",
   "pygments_lexer": "ipython3",
   "version": "3.11.5"
  }
 },
 "nbformat": 4,
 "nbformat_minor": 5
}
