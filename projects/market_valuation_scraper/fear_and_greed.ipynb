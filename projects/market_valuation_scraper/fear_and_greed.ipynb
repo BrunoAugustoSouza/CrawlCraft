{
 "cells": [
  {
   "cell_type": "code",
   "execution_count": 1,
   "id": "34f8d98d",
   "metadata": {},
   "outputs": [
    {
     "name": "stdout",
     "output_type": "stream",
     "text": [
      "{\n",
      "   \"score\": 32.5176470588235,\n",
      "   \"rating\": \"fear\",\n",
      "   \"timestamp\": \"2025-10-10T18:47:38+00:00\",\n",
      "   \"previous_close\": 49.0571428571429,\n",
      "   \"previous_1_week\": 53.6857142857143,\n",
      "   \"previous_1_month\": 49.8571428571429,\n",
      "   \"previous_1_year\": 70.28571428571429\n",
      "}\n"
     ]
    }
   ],
   "source": [
    "from data_extraction import fetch_api_response\n",
    "from data_processing import get_rating_with_std, get_rating_fixed\n",
    "from data_analysis import plot_data\n",
    "import json\n",
    "\n",
    "response = fetch_api_response()\n",
    "overview = response.json()['fear_and_greed']\n",
    "print(json.dumps(overview, indent=3))"
   ]
  },
  {
   "cell_type": "code",
   "execution_count": 2,
   "id": "b23fad07",
   "metadata": {},
   "outputs": [
    {
     "data": {
      "text/html": [
       "<div>\n",
       "<style scoped>\n",
       "    .dataframe tbody tr th:only-of-type {\n",
       "        vertical-align: middle;\n",
       "    }\n",
       "\n",
       "    .dataframe tbody tr th {\n",
       "        vertical-align: top;\n",
       "    }\n",
       "\n",
       "    .dataframe thead th {\n",
       "        text-align: right;\n",
       "    }\n",
       "</style>\n",
       "<table border=\"1\" class=\"dataframe\">\n",
       "  <thead>\n",
       "    <tr style=\"text-align: right;\">\n",
       "      <th></th>\n",
       "      <th>score</th>\n",
       "      <th>rating</th>\n",
       "      <th>timestamp</th>\n",
       "      <th>previous_close</th>\n",
       "      <th>previous_1_week</th>\n",
       "      <th>previous_1_month</th>\n",
       "      <th>previous_1_year</th>\n",
       "    </tr>\n",
       "  </thead>\n",
       "  <tbody>\n",
       "    <tr>\n",
       "      <th>0</th>\n",
       "      <td>32.517647</td>\n",
       "      <td>fear</td>\n",
       "      <td>2025-10-10T18:47:38+00:00</td>\n",
       "      <td>49.057143</td>\n",
       "      <td>53.685714</td>\n",
       "      <td>49.857143</td>\n",
       "      <td>70.285714</td>\n",
       "    </tr>\n",
       "  </tbody>\n",
       "</table>\n",
       "</div>"
      ],
      "text/plain": [
       "       score rating                  timestamp  previous_close  \\\n",
       "0  32.517647   fear  2025-10-10T18:47:38+00:00       49.057143   \n",
       "\n",
       "   previous_1_week  previous_1_month  previous_1_year  \n",
       "0        53.685714         49.857143        70.285714  "
      ]
     },
     "execution_count": 2,
     "metadata": {},
     "output_type": "execute_result"
    }
   ],
   "source": [
    "import pandas as pd\n",
    "\n",
    "df = pd.DataFrame(overview, index=[0])\n",
    "df"
   ]
  },
  {
   "cell_type": "code",
   "execution_count": 3,
   "id": "eb5954d2",
   "metadata": {},
   "outputs": [],
   "source": [
    "dfs = []\n",
    "\n",
    "titles = {\n",
    "    'fear_and_greed_historical': 'Fear & Greed Index Over Time',\n",
    "    'market_momentum_sp500': 'S&P 500 Market Momentum',\n",
    "    'market_momentum_sp125': 'S&P 125 Market Momentum',\n",
    "    'stock_price_strength': 'Stock Price Strength',\n",
    "    'stock_price_breadth': 'Stock Price Breadth',\n",
    "    'put_call_options': 'Put/Call Options Ratio',\n",
    "    'market_volatility_vix': 'Market Volatility (VIX)',\n",
    "    'market_volatility_vix_50': 'VIX 50-day Moving Average',\n",
    "    'junk_bond_demand': 'Junk Bond Demand',\n",
    "    'safe_haven_demand': 'Safe Haven Demand'\n",
    "}\n",
    "\n",
    "\n",
    "for key in titles:\n",
    "    data = response.json()[key]['data']\n",
    "    df_aux = pd.DataFrame(data)[['x', 'y']]\n",
    "    df_aux.rename(columns={'y': key}, inplace=True)\n",
    "    df_aux['date'] = pd.to_datetime(df_aux['x'], unit='ms')\n",
    "    df_aux.drop(columns=['x'], inplace=True)\n",
    "    df_aux.set_index('date', inplace=True)\n",
    "    dfs.append(df_aux)\n",
    "df = pd.concat(dfs, axis=1)\n",
    "df.sort_index(inplace=True)"
   ]
  },
  {
   "cell_type": "code",
   "execution_count": 4,
   "id": "96a1c497",
   "metadata": {},
   "outputs": [],
   "source": [
    "#calculations\n",
    "df['sp500_momentum'] = df['market_momentum_sp500'] - df['market_momentum_sp125']\n",
    "df['vix_momentum'] = df['market_volatility_vix'] - df['market_volatility_vix_50']\n",
    "\n",
    "calculation_titles = {\n",
    "    # 'fear_and_greed_historical': ['Fear & Greed Index Over Time', False], regra mais simples\n",
    "    'sp500_momentum': ['S&P 500 Market Momentum', False],\n",
    "    'vix_momentum': ['Market Volatility (VIX) Minus 50-day MA', True],\n",
    "    'safe_haven_demand': ['Safe Haven Demand', True],\n",
    "    'junk_bond_demand': ['Junk Bond Demand', True],\n",
    "    'put_call_options': ['Put/Call Options Ratio', True]\n",
    "}\n",
    "\n",
    "for key, title_and_is_inverted in calculation_titles.items():\n",
    "    title = title_and_is_inverted[0]\n",
    "    is_inverted = title_and_is_inverted[1]\n",
    "    mean = df[key].mean()\n",
    "    std = df[key].std()\n",
    "    df[f'{key}_rating'] = df[key].apply(lambda v: get_rating_with_std(v, mean, std, inverted=is_inverted))\n",
    "df['fear_and_greed_historical_rating'] = df['fear_and_greed_historical'].apply(lambda v: get_rating_fixed(v))"
   ]
  },
  {
   "cell_type": "code",
   "execution_count": 5,
   "id": "b748ff72",
   "metadata": {},
   "outputs": [
    {
     "data": {
      "application/vnd.plotly.v1+json": {
       "config": {
        "plotlyServerURL": "https://plot.ly"
       },
       "data": [
        {
         "hoverinfo": "text+x",
         "line": {
          "color": "lightgray",
          "width": 2
         },
         "marker": {
          "color": [
           "green",
           "green",
           "green",
           "green",
           "green",
           "green",
           "green",
           "green",
           "green",
           "green",
           "green",
           "green",
           "green",
           "green",
           "green",
           "red",
           "gold",
           "red",
           "red",
           "red",
           "green",
           "green",
           "green",
           "green",
           "green",
           "green",
           "gold",
           "gold",
           "gold",
           "gold",
           "green",
           "green",
           "green",
           "green",
           "green",
           "green",
           "green",
           "green",
           "green",
           "gold",
           "gold",
           "gold",
           "gold",
           "gold",
           "gold",
           "gold",
           "green",
           "gold",
           "red",
           "darkred",
           "red",
           "red",
           "red",
           "red",
           "red",
           "red",
           "red",
           "darkred",
           "red",
           "red",
           "red",
           "red",
           "red",
           "red",
           "red",
           "red",
           "red",
           "red",
           "red",
           "red",
           "red",
           "gold",
           "red",
           "red",
           "red",
           "gold",
           "red",
           "red",
           "red",
           "red",
           "red",
           "red",
           "red",
           "gold",
           "red",
           "gold",
           "red",
           "gold",
           "gold",
           "red",
           "red",
           "red",
           "darkred",
           "darkred",
           "darkred",
           "darkred",
           "darkred",
           "darkred",
           "darkred",
           "darkred",
           "darkred",
           "darkred",
           "darkred",
           "darkred",
           "darkred",
           "darkred",
           "darkred",
           "darkred",
           "darkred",
           "darkred",
           "darkred",
           "red",
           "red",
           "red",
           "red",
           "red",
           "darkred",
           "darkred",
           "darkred",
           "darkred",
           "darkred",
           "darkred",
           "darkred",
           "darkred",
           "darkred",
           "darkred",
           "darkred",
           "darkred",
           "darkred",
           "darkred",
           "darkred",
           "darkred",
           "darkred",
           "darkred",
           "red",
           "red",
           "red",
           "red",
           "red",
           "red",
           "gold",
           "gold",
           "gold",
           "green",
           "green",
           "green",
           "green",
           "green",
           "green",
           "green",
           "green",
           "green",
           "green",
           "green",
           "green",
           "green",
           "green",
           "green",
           "green",
           "green",
           "gold",
           "gold",
           "green",
           "green",
           "green",
           "green",
           "green",
           "green",
           "green",
           "green",
           "green",
           "gold",
           "gold",
           "green",
           "green",
           "green",
           "green",
           "green",
           "green",
           "green",
           "green",
           "darkgreen",
           "darkgreen",
           "green",
           "darkgreen",
           "darkgreen",
           "darkgreen",
           "darkgreen",
           "green",
           "green",
           "green",
           "green",
           "green",
           "green",
           "darkgreen",
           "darkgreen",
           "green",
           "green",
           "green",
           "green",
           "green",
           "gold",
           "green",
           "green",
           "green",
           "gold",
           "green",
           "green",
           "green",
           "green",
           "green",
           "green",
           "green",
           "green",
           "green",
           "green",
           "green",
           "green",
           "green",
           "green",
           "green",
           "green",
           "gold",
           "gold",
           "green",
           "gold",
           "gold",
           "gold",
           "gold",
           "gold",
           "gold",
           "green",
           "green",
           "green",
           "green",
           "green",
           "green",
           "green",
           "green",
           "gold",
           "gold",
           "gold",
           "gold",
           "gold",
           "gold",
           "gold",
           "green",
           "gold",
           "gold",
           "gold",
           "red",
           "darkgreen",
           "darkgreen",
           "darkgreen",
           "darkgreen",
           "darkgreen",
           "red"
          ],
          "size": 8
         },
         "mode": "lines+markers",
         "name": "Historical Fear & Greed Index",
         "text": [
          "70.29 (Greed)",
          "71.66 (Greed)",
          "74.23 (Greed)",
          "71.14 (Greed)",
          "69.03 (Greed)",
          "68.57 (Greed)",
          "72.43 (Greed)",
          "69.80 (Greed)",
          "70.37 (Greed)",
          "63.20 (Greed)",
          "62.94 (Greed)",
          "58.74 (Greed)",
          "60.86 (Greed)",
          "60.06 (Greed)",
          "57.20 (Greed)",
          "40.46 (Fear)",
          "50.49 (Neutral)",
          "42.43 (Fear)",
          "43.54 (Fear)",
          "44.00 (Fear)",
          "59.06 (Greed)",
          "59.43 (Greed)",
          "66.60 (Greed)",
          "66.71 (Greed)",
          "66.31 (Greed)",
          "60.31 (Greed)",
          "51.20 (Neutral)",
          "50.29 (Neutral)",
          "49.51 (Neutral)",
          "49.51 (Neutral)",
          "56.60 (Greed)",
          "60.71 (Greed)",
          "62.89 (Greed)",
          "65.91 (Greed)",
          "64.40 (Greed)",
          "65.00 (Greed)",
          "65.31 (Greed)",
          "59.57 (Greed)",
          "57.49 (Greed)",
          "54.91 (Neutral)",
          "52.14 (Neutral)",
          "49.26 (Neutral)",
          "46.97 (Neutral)",
          "49.20 (Neutral)",
          "47.11 (Neutral)",
          "49.11 (Neutral)",
          "56.06 (Greed)",
          "51.40 (Neutral)",
          "33.13 (Fear)",
          "19.51 (Extreme Fear)",
          "27.60 (Fear)",
          "30.14 (Fear)",
          "34.51 (Fear)",
          "34.17 (Fear)",
          "33.83 (Fear)",
          "28.60 (Fear)",
          "26.31 (Fear)",
          "24.31 (Extreme Fear)",
          "28.89 (Fear)",
          "33.77 (Fear)",
          "34.31 (Fear)",
          "31.91 (Fear)",
          "25.63 (Fear)",
          "25.34 (Fear)",
          "25.14 (Fear)",
          "27.43 (Fear)",
          "27.34 (Fear)",
          "36.03 (Fear)",
          "39.91 (Fear)",
          "41.63 (Fear)",
          "43.69 (Fear)",
          "45.80 (Neutral)",
          "37.97 (Fear)",
          "40.63 (Fear)",
          "42.40 (Fear)",
          "45.91 (Neutral)",
          "43.77 (Fear)",
          "37.40 (Fear)",
          "37.14 (Fear)",
          "38.63 (Fear)",
          "39.69 (Fear)",
          "38.37 (Fear)",
          "44.71 (Fear)",
          "45.40 (Neutral)",
          "41.37 (Fear)",
          "46.60 (Neutral)",
          "43.69 (Fear)",
          "46.80 (Neutral)",
          "47.63 (Neutral)",
          "44.23 (Fear)",
          "36.97 (Fear)",
          "29.54 (Fear)",
          "24.20 (Extreme Fear)",
          "21.26 (Extreme Fear)",
          "12.76 (Extreme Fear)",
          "20.66 (Extreme Fear)",
          "12.34 (Extreme Fear)",
          "11.04 (Extreme Fear)",
          "11.51 (Extreme Fear)",
          "17.20 (Extreme Fear)",
          "17.64 (Extreme Fear)",
          "17.07 (Extreme Fear)",
          "15.11 (Extreme Fear)",
          "15.91 (Extreme Fear)",
          "15.19 (Extreme Fear)",
          "22.06 (Extreme Fear)",
          "22.57 (Extreme Fear)",
          "22.23 (Extreme Fear)",
          "21.60 (Extreme Fear)",
          "21.69 (Extreme Fear)",
          "22.69 (Extreme Fear)",
          "25.40 (Fear)",
          "29.29 (Fear)",
          "28.89 (Fear)",
          "28.34 (Fear)",
          "26.37 (Fear)",
          "21.11 (Extreme Fear)",
          "19.57 (Extreme Fear)",
          "22.60 (Extreme Fear)",
          "12.14 (Extreme Fear)",
          "5.39 (Extreme Fear)",
          "4.00 (Extreme Fear)",
          "2.90 (Extreme Fear)",
          "9.50 (Extreme Fear)",
          "5.61 (Extreme Fear)",
          "8.39 (Extreme Fear)",
          "12.34 (Extreme Fear)",
          "13.11 (Extreme Fear)",
          "11.14 (Extreme Fear)",
          "16.06 (Extreme Fear)",
          "12.37 (Extreme Fear)",
          "13.60 (Extreme Fear)",
          "21.54 (Extreme Fear)",
          "24.09 (Extreme Fear)",
          "34.51 (Fear)",
          "32.14 (Fear)",
          "32.74 (Fear)",
          "32.37 (Fear)",
          "41.26 (Fear)",
          "38.29 (Fear)",
          "53.06 (Neutral)",
          "54.66 (Neutral)",
          "54.14 (Neutral)",
          "57.66 (Greed)",
          "60.03 (Greed)",
          "64.49 (Greed)",
          "68.20 (Greed)",
          "70.40 (Greed)",
          "69.14 (Greed)",
          "70.60 (Greed)",
          "69.74 (Greed)",
          "69.17 (Greed)",
          "66.23 (Greed)",
          "66.80 (Greed)",
          "64.09 (Greed)",
          "65.74 (Greed)",
          "64.74 (Greed)",
          "64.46 (Greed)",
          "61.91 (Greed)",
          "62.43 (Greed)",
          "54.57 (Neutral)",
          "54.89 (Neutral)",
          "57.97 (Greed)",
          "61.77 (Greed)",
          "63.43 (Greed)",
          "64.00 (Greed)",
          "64.20 (Greed)",
          "64.60 (Greed)",
          "59.54 (Greed)",
          "61.11 (Greed)",
          "57.43 (Greed)",
          "54.29 (Neutral)",
          "54.51 (Neutral)",
          "56.60 (Greed)",
          "57.89 (Greed)",
          "59.26 (Greed)",
          "63.00 (Greed)",
          "64.80 (Greed)",
          "69.23 (Greed)",
          "67.54 (Greed)",
          "63.71 (Greed)",
          "77.63 (Extreme Greed)",
          "75.09 (Extreme Greed)",
          "74.63 (Greed)",
          "75.91 (Extreme Greed)",
          "76.97 (Extreme Greed)",
          "75.26 (Extreme Greed)",
          "76.11 (Extreme Greed)",
          "73.49 (Greed)",
          "72.94 (Greed)",
          "74.17 (Greed)",
          "73.94 (Greed)",
          "73.29 (Greed)",
          "73.89 (Greed)",
          "76.37 (Extreme Greed)",
          "75.26 (Extreme Greed)",
          "74.66 (Greed)",
          "73.80 (Greed)",
          "70.63 (Greed)",
          "68.03 (Greed)",
          "63.71 (Greed)",
          "49.80 (Neutral)",
          "56.89 (Greed)",
          "55.03 (Greed)",
          "55.31 (Greed)",
          "54.71 (Neutral)",
          "58.37 (Greed)",
          "57.63 (Greed)",
          "62.26 (Greed)",
          "63.34 (Greed)",
          "63.26 (Greed)",
          "63.54 (Greed)",
          "64.20 (Greed)",
          "59.89 (Greed)",
          "55.91 (Greed)",
          "55.11 (Greed)",
          "61.66 (Greed)",
          "58.43 (Greed)",
          "60.86 (Greed)",
          "64.89 (Greed)",
          "65.69 (Greed)",
          "60.90 (Greed)",
          "52.20 (Neutral)",
          "51.60 (Neutral)",
          "55.54 (Greed)",
          "53.09 (Neutral)",
          "50.23 (Neutral)",
          "51.06 (Neutral)",
          "49.86 (Neutral)",
          "54.54 (Neutral)",
          "54.40 (Neutral)",
          "58.31 (Greed)",
          "57.46 (Greed)",
          "58.46 (Greed)",
          "61.06 (Greed)",
          "62.23 (Greed)",
          "62.29 (Greed)",
          "58.46 (Greed)",
          "55.29 (Greed)",
          "51.86 (Neutral)",
          "53.60 (Neutral)",
          "51.31 (Neutral)",
          "50.17 (Neutral)",
          "50.26 (Neutral)",
          "53.74 (Neutral)",
          "53.69 (Neutral)",
          "56.69 (Greed)",
          "50.40 (Neutral)",
          "52.14 (Neutral)",
          "46.63 (Neutral)",
          "32.52 (Fear)",
          "nan (Extreme Greed)",
          "nan (Extreme Greed)",
          "nan (Extreme Greed)",
          "nan (Extreme Greed)",
          "nan (Extreme Greed)",
          "32.52 (Fear)"
         ],
         "type": "scatter",
         "x": [
          "2024-10-10T00:00:00.000000000",
          "2024-10-11T00:00:00.000000000",
          "2024-10-14T00:00:00.000000000",
          "2024-10-15T00:00:00.000000000",
          "2024-10-16T00:00:00.000000000",
          "2024-10-17T00:00:00.000000000",
          "2024-10-18T00:00:00.000000000",
          "2024-10-21T00:00:00.000000000",
          "2024-10-22T00:00:00.000000000",
          "2024-10-23T00:00:00.000000000",
          "2024-10-24T00:00:00.000000000",
          "2024-10-25T00:00:00.000000000",
          "2024-10-28T00:00:00.000000000",
          "2024-10-29T00:00:00.000000000",
          "2024-10-30T00:00:00.000000000",
          "2024-10-31T00:00:00.000000000",
          "2024-11-01T00:00:00.000000000",
          "2024-11-04T00:00:00.000000000",
          "2024-11-05T00:00:00.000000000",
          "2024-11-06T00:00:00.000000000",
          "2024-11-07T00:00:00.000000000",
          "2024-11-08T00:00:00.000000000",
          "2024-11-11T00:00:00.000000000",
          "2024-11-12T00:00:00.000000000",
          "2024-11-13T00:00:00.000000000",
          "2024-11-14T00:00:00.000000000",
          "2024-11-15T00:00:00.000000000",
          "2024-11-18T00:00:00.000000000",
          "2024-11-19T00:00:00.000000000",
          "2024-11-20T00:00:00.000000000",
          "2024-11-21T00:00:00.000000000",
          "2024-11-22T00:00:00.000000000",
          "2024-11-25T00:00:00.000000000",
          "2024-11-26T00:00:00.000000000",
          "2024-11-27T00:00:00.000000000",
          "2024-11-29T00:00:00.000000000",
          "2024-12-02T00:00:00.000000000",
          "2024-12-03T00:00:00.000000000",
          "2024-12-04T00:00:00.000000000",
          "2024-12-05T00:00:00.000000000",
          "2024-12-06T00:00:00.000000000",
          "2024-12-09T00:00:00.000000000",
          "2024-12-10T00:00:00.000000000",
          "2024-12-11T00:00:00.000000000",
          "2024-12-12T00:00:00.000000000",
          "2024-12-13T00:00:00.000000000",
          "2024-12-16T00:00:00.000000000",
          "2024-12-17T00:00:00.000000000",
          "2024-12-18T00:00:00.000000000",
          "2024-12-19T00:00:00.000000000",
          "2024-12-20T00:00:00.000000000",
          "2024-12-23T00:00:00.000000000",
          "2024-12-24T00:00:00.000000000",
          "2024-12-26T00:00:00.000000000",
          "2024-12-27T00:00:00.000000000",
          "2024-12-30T00:00:00.000000000",
          "2024-12-31T00:00:00.000000000",
          "2025-01-02T00:00:00.000000000",
          "2025-01-03T00:00:00.000000000",
          "2025-01-06T00:00:00.000000000",
          "2025-01-07T00:00:00.000000000",
          "2025-01-08T00:00:00.000000000",
          "2025-01-10T00:00:00.000000000",
          "2025-01-13T00:00:00.000000000",
          "2025-01-14T00:00:00.000000000",
          "2025-01-15T00:00:00.000000000",
          "2025-01-16T00:00:00.000000000",
          "2025-01-17T00:00:00.000000000",
          "2025-01-21T00:00:00.000000000",
          "2025-01-22T00:00:00.000000000",
          "2025-01-23T00:00:00.000000000",
          "2025-01-24T00:00:00.000000000",
          "2025-01-27T00:00:00.000000000",
          "2025-01-28T00:00:00.000000000",
          "2025-01-29T00:00:00.000000000",
          "2025-01-30T00:00:00.000000000",
          "2025-01-31T00:00:00.000000000",
          "2025-02-03T00:00:00.000000000",
          "2025-02-04T00:00:00.000000000",
          "2025-02-05T00:00:00.000000000",
          "2025-02-06T00:00:00.000000000",
          "2025-02-07T00:00:00.000000000",
          "2025-02-10T00:00:00.000000000",
          "2025-02-11T00:00:00.000000000",
          "2025-02-12T00:00:00.000000000",
          "2025-02-13T00:00:00.000000000",
          "2025-02-14T00:00:00.000000000",
          "2025-02-18T00:00:00.000000000",
          "2025-02-19T00:00:00.000000000",
          "2025-02-20T00:00:00.000000000",
          "2025-02-21T00:00:00.000000000",
          "2025-02-24T00:00:00.000000000",
          "2025-02-25T00:00:00.000000000",
          "2025-02-26T00:00:00.000000000",
          "2025-02-27T00:00:00.000000000",
          "2025-02-28T00:00:00.000000000",
          "2025-03-03T00:00:00.000000000",
          "2025-03-04T00:00:00.000000000",
          "2025-03-05T00:00:00.000000000",
          "2025-03-06T00:00:00.000000000",
          "2025-03-07T00:00:00.000000000",
          "2025-03-10T00:00:00.000000000",
          "2025-03-11T00:00:00.000000000",
          "2025-03-12T00:00:00.000000000",
          "2025-03-13T00:00:00.000000000",
          "2025-03-14T00:00:00.000000000",
          "2025-03-17T00:00:00.000000000",
          "2025-03-18T00:00:00.000000000",
          "2025-03-19T00:00:00.000000000",
          "2025-03-20T00:00:00.000000000",
          "2025-03-21T00:00:00.000000000",
          "2025-03-24T00:00:00.000000000",
          "2025-03-25T00:00:00.000000000",
          "2025-03-26T00:00:00.000000000",
          "2025-03-27T00:00:00.000000000",
          "2025-03-28T00:00:00.000000000",
          "2025-03-31T00:00:00.000000000",
          "2025-04-01T00:00:00.000000000",
          "2025-04-02T00:00:00.000000000",
          "2025-04-03T00:00:00.000000000",
          "2025-04-04T00:00:00.000000000",
          "2025-04-07T00:00:00.000000000",
          "2025-04-08T00:00:00.000000000",
          "2025-04-09T00:00:00.000000000",
          "2025-04-10T00:00:00.000000000",
          "2025-04-11T00:00:00.000000000",
          "2025-04-14T00:00:00.000000000",
          "2025-04-15T00:00:00.000000000",
          "2025-04-16T00:00:00.000000000",
          "2025-04-17T00:00:00.000000000",
          "2025-04-21T00:00:00.000000000",
          "2025-04-22T00:00:00.000000000",
          "2025-04-23T00:00:00.000000000",
          "2025-04-24T00:00:00.000000000",
          "2025-04-25T00:00:00.000000000",
          "2025-04-28T00:00:00.000000000",
          "2025-04-29T00:00:00.000000000",
          "2025-04-30T00:00:00.000000000",
          "2025-05-01T00:00:00.000000000",
          "2025-05-02T00:00:00.000000000",
          "2025-05-05T00:00:00.000000000",
          "2025-05-06T00:00:00.000000000",
          "2025-05-07T00:00:00.000000000",
          "2025-05-08T00:00:00.000000000",
          "2025-05-09T00:00:00.000000000",
          "2025-05-12T00:00:00.000000000",
          "2025-05-13T00:00:00.000000000",
          "2025-05-14T00:00:00.000000000",
          "2025-05-15T00:00:00.000000000",
          "2025-05-16T00:00:00.000000000",
          "2025-05-19T00:00:00.000000000",
          "2025-05-20T00:00:00.000000000",
          "2025-05-21T00:00:00.000000000",
          "2025-05-22T00:00:00.000000000",
          "2025-05-23T00:00:00.000000000",
          "2025-05-27T00:00:00.000000000",
          "2025-05-28T00:00:00.000000000",
          "2025-05-29T00:00:00.000000000",
          "2025-05-30T00:00:00.000000000",
          "2025-06-02T00:00:00.000000000",
          "2025-06-03T00:00:00.000000000",
          "2025-06-04T00:00:00.000000000",
          "2025-06-05T00:00:00.000000000",
          "2025-06-06T00:00:00.000000000",
          "2025-06-09T00:00:00.000000000",
          "2025-06-10T00:00:00.000000000",
          "2025-06-11T00:00:00.000000000",
          "2025-06-12T00:00:00.000000000",
          "2025-06-13T00:00:00.000000000",
          "2025-06-16T00:00:00.000000000",
          "2025-06-17T00:00:00.000000000",
          "2025-06-18T00:00:00.000000000",
          "2025-06-20T00:00:00.000000000",
          "2025-06-23T00:00:00.000000000",
          "2025-06-24T00:00:00.000000000",
          "2025-06-25T00:00:00.000000000",
          "2025-06-26T00:00:00.000000000",
          "2025-06-27T00:00:00.000000000",
          "2025-06-30T00:00:00.000000000",
          "2025-07-01T00:00:00.000000000",
          "2025-07-02T00:00:00.000000000",
          "2025-07-03T00:00:00.000000000",
          "2025-07-07T00:00:00.000000000",
          "2025-07-08T00:00:00.000000000",
          "2025-07-09T00:00:00.000000000",
          "2025-07-10T00:00:00.000000000",
          "2025-07-11T00:00:00.000000000",
          "2025-07-14T00:00:00.000000000",
          "2025-07-15T00:00:00.000000000",
          "2025-07-16T00:00:00.000000000",
          "2025-07-17T00:00:00.000000000",
          "2025-07-18T00:00:00.000000000",
          "2025-07-21T00:00:00.000000000",
          "2025-07-22T00:00:00.000000000",
          "2025-07-23T00:00:00.000000000",
          "2025-07-24T00:00:00.000000000",
          "2025-07-25T00:00:00.000000000",
          "2025-07-28T00:00:00.000000000",
          "2025-07-29T00:00:00.000000000",
          "2025-07-30T00:00:00.000000000",
          "2025-07-31T00:00:00.000000000",
          "2025-08-01T00:00:00.000000000",
          "2025-08-04T00:00:00.000000000",
          "2025-08-05T00:00:00.000000000",
          "2025-08-06T00:00:00.000000000",
          "2025-08-07T00:00:00.000000000",
          "2025-08-08T00:00:00.000000000",
          "2025-08-11T00:00:00.000000000",
          "2025-08-12T00:00:00.000000000",
          "2025-08-13T00:00:00.000000000",
          "2025-08-14T00:00:00.000000000",
          "2025-08-15T00:00:00.000000000",
          "2025-08-18T00:00:00.000000000",
          "2025-08-19T00:00:00.000000000",
          "2025-08-20T00:00:00.000000000",
          "2025-08-21T00:00:00.000000000",
          "2025-08-22T00:00:00.000000000",
          "2025-08-25T00:00:00.000000000",
          "2025-08-26T00:00:00.000000000",
          "2025-08-27T00:00:00.000000000",
          "2025-08-28T00:00:00.000000000",
          "2025-08-29T00:00:00.000000000",
          "2025-09-02T00:00:00.000000000",
          "2025-09-03T00:00:00.000000000",
          "2025-09-04T00:00:00.000000000",
          "2025-09-05T00:00:00.000000000",
          "2025-09-08T00:00:00.000000000",
          "2025-09-09T00:00:00.000000000",
          "2025-09-10T00:00:00.000000000",
          "2025-09-11T00:00:00.000000000",
          "2025-09-12T00:00:00.000000000",
          "2025-09-15T00:00:00.000000000",
          "2025-09-16T00:00:00.000000000",
          "2025-09-17T00:00:00.000000000",
          "2025-09-18T00:00:00.000000000",
          "2025-09-19T00:00:00.000000000",
          "2025-09-22T00:00:00.000000000",
          "2025-09-23T00:00:00.000000000",
          "2025-09-24T00:00:00.000000000",
          "2025-09-25T00:00:00.000000000",
          "2025-09-26T00:00:00.000000000",
          "2025-09-29T00:00:00.000000000",
          "2025-09-30T00:00:00.000000000",
          "2025-10-01T00:00:00.000000000",
          "2025-10-02T00:00:00.000000000",
          "2025-10-03T00:00:00.000000000",
          "2025-10-06T00:00:00.000000000",
          "2025-10-07T00:00:00.000000000",
          "2025-10-08T00:00:00.000000000",
          "2025-10-09T00:00:00.000000000",
          "2025-10-10T00:00:00.000000000",
          "2025-10-10T18:32:31.000000000",
          "2025-10-10T18:32:34.000000000",
          "2025-10-10T18:32:37.000000000",
          "2025-10-10T18:32:41.000000000",
          "2025-10-10T18:37:40.000000000",
          "2025-10-10T18:47:38.000000000"
         ],
         "y": {
          "bdata": "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",
          "dtype": "f8"
         }
        }
       ],
       "layout": {
        "template": {
         "data": {
          "bar": [
           {
            "error_x": {
             "color": "#2a3f5f"
            },
            "error_y": {
             "color": "#2a3f5f"
            },
            "marker": {
             "line": {
              "color": "white",
              "width": 0.5
             },
             "pattern": {
              "fillmode": "overlay",
              "size": 10,
              "solidity": 0.2
             }
            },
            "type": "bar"
           }
          ],
          "barpolar": [
           {
            "marker": {
             "line": {
              "color": "white",
              "width": 0.5
             },
             "pattern": {
              "fillmode": "overlay",
              "size": 10,
              "solidity": 0.2
             }
            },
            "type": "barpolar"
           }
          ],
          "carpet": [
           {
            "aaxis": {
             "endlinecolor": "#2a3f5f",
             "gridcolor": "#C8D4E3",
             "linecolor": "#C8D4E3",
             "minorgridcolor": "#C8D4E3",
             "startlinecolor": "#2a3f5f"
            },
            "baxis": {
             "endlinecolor": "#2a3f5f",
             "gridcolor": "#C8D4E3",
             "linecolor": "#C8D4E3",
             "minorgridcolor": "#C8D4E3",
             "startlinecolor": "#2a3f5f"
            },
            "type": "carpet"
           }
          ],
          "choropleth": [
           {
            "colorbar": {
             "outlinewidth": 0,
             "ticks": ""
            },
            "type": "choropleth"
           }
          ],
          "contour": [
           {
            "colorbar": {
             "outlinewidth": 0,
             "ticks": ""
            },
            "colorscale": [
             [
              0,
              "#0d0887"
             ],
             [
              0.1111111111111111,
              "#46039f"
             ],
             [
              0.2222222222222222,
              "#7201a8"
             ],
             [
              0.3333333333333333,
              "#9c179e"
             ],
             [
              0.4444444444444444,
              "#bd3786"
             ],
             [
              0.5555555555555556,
              "#d8576b"
             ],
             [
              0.6666666666666666,
              "#ed7953"
             ],
             [
              0.7777777777777778,
              "#fb9f3a"
             ],
             [
              0.8888888888888888,
              "#fdca26"
             ],
             [
              1,
              "#f0f921"
             ]
            ],
            "type": "contour"
           }
          ],
          "contourcarpet": [
           {
            "colorbar": {
             "outlinewidth": 0,
             "ticks": ""
            },
            "type": "contourcarpet"
           }
          ],
          "heatmap": [
           {
            "colorbar": {
             "outlinewidth": 0,
             "ticks": ""
            },
            "colorscale": [
             [
              0,
              "#0d0887"
             ],
             [
              0.1111111111111111,
              "#46039f"
             ],
             [
              0.2222222222222222,
              "#7201a8"
             ],
             [
              0.3333333333333333,
              "#9c179e"
             ],
             [
              0.4444444444444444,
              "#bd3786"
             ],
             [
              0.5555555555555556,
              "#d8576b"
             ],
             [
              0.6666666666666666,
              "#ed7953"
             ],
             [
              0.7777777777777778,
              "#fb9f3a"
             ],
             [
              0.8888888888888888,
              "#fdca26"
             ],
             [
              1,
              "#f0f921"
             ]
            ],
            "type": "heatmap"
           }
          ],
          "histogram": [
           {
            "marker": {
             "pattern": {
              "fillmode": "overlay",
              "size": 10,
              "solidity": 0.2
             }
            },
            "type": "histogram"
           }
          ],
          "histogram2d": [
           {
            "colorbar": {
             "outlinewidth": 0,
             "ticks": ""
            },
            "colorscale": [
             [
              0,
              "#0d0887"
             ],
             [
              0.1111111111111111,
              "#46039f"
             ],
             [
              0.2222222222222222,
              "#7201a8"
             ],
             [
              0.3333333333333333,
              "#9c179e"
             ],
             [
              0.4444444444444444,
              "#bd3786"
             ],
             [
              0.5555555555555556,
              "#d8576b"
             ],
             [
              0.6666666666666666,
              "#ed7953"
             ],
             [
              0.7777777777777778,
              "#fb9f3a"
             ],
             [
              0.8888888888888888,
              "#fdca26"
             ],
             [
              1,
              "#f0f921"
             ]
            ],
            "type": "histogram2d"
           }
          ],
          "histogram2dcontour": [
           {
            "colorbar": {
             "outlinewidth": 0,
             "ticks": ""
            },
            "colorscale": [
             [
              0,
              "#0d0887"
             ],
             [
              0.1111111111111111,
              "#46039f"
             ],
             [
              0.2222222222222222,
              "#7201a8"
             ],
             [
              0.3333333333333333,
              "#9c179e"
             ],
             [
              0.4444444444444444,
              "#bd3786"
             ],
             [
              0.5555555555555556,
              "#d8576b"
             ],
             [
              0.6666666666666666,
              "#ed7953"
             ],
             [
              0.7777777777777778,
              "#fb9f3a"
             ],
             [
              0.8888888888888888,
              "#fdca26"
             ],
             [
              1,
              "#f0f921"
             ]
            ],
            "type": "histogram2dcontour"
           }
          ],
          "mesh3d": [
           {
            "colorbar": {
             "outlinewidth": 0,
             "ticks": ""
            },
            "type": "mesh3d"
           }
          ],
          "parcoords": [
           {
            "line": {
             "colorbar": {
              "outlinewidth": 0,
              "ticks": ""
             }
            },
            "type": "parcoords"
           }
          ],
          "pie": [
           {
            "automargin": true,
            "type": "pie"
           }
          ],
          "scatter": [
           {
            "fillpattern": {
             "fillmode": "overlay",
             "size": 10,
             "solidity": 0.2
            },
            "type": "scatter"
           }
          ],
          "scatter3d": [
           {
            "line": {
             "colorbar": {
              "outlinewidth": 0,
              "ticks": ""
             }
            },
            "marker": {
             "colorbar": {
              "outlinewidth": 0,
              "ticks": ""
             }
            },
            "type": "scatter3d"
           }
          ],
          "scattercarpet": [
           {
            "marker": {
             "colorbar": {
              "outlinewidth": 0,
              "ticks": ""
             }
            },
            "type": "scattercarpet"
           }
          ],
          "scattergeo": [
           {
            "marker": {
             "colorbar": {
              "outlinewidth": 0,
              "ticks": ""
             }
            },
            "type": "scattergeo"
           }
          ],
          "scattergl": [
           {
            "marker": {
             "colorbar": {
              "outlinewidth": 0,
              "ticks": ""
             }
            },
            "type": "scattergl"
           }
          ],
          "scattermap": [
           {
            "marker": {
             "colorbar": {
              "outlinewidth": 0,
              "ticks": ""
             }
            },
            "type": "scattermap"
           }
          ],
          "scattermapbox": [
           {
            "marker": {
             "colorbar": {
              "outlinewidth": 0,
              "ticks": ""
             }
            },
            "type": "scattermapbox"
           }
          ],
          "scatterpolar": [
           {
            "marker": {
             "colorbar": {
              "outlinewidth": 0,
              "ticks": ""
             }
            },
            "type": "scatterpolar"
           }
          ],
          "scatterpolargl": [
           {
            "marker": {
             "colorbar": {
              "outlinewidth": 0,
              "ticks": ""
             }
            },
            "type": "scatterpolargl"
           }
          ],
          "scatterternary": [
           {
            "marker": {
             "colorbar": {
              "outlinewidth": 0,
              "ticks": ""
             }
            },
            "type": "scatterternary"
           }
          ],
          "surface": [
           {
            "colorbar": {
             "outlinewidth": 0,
             "ticks": ""
            },
            "colorscale": [
             [
              0,
              "#0d0887"
             ],
             [
              0.1111111111111111,
              "#46039f"
             ],
             [
              0.2222222222222222,
              "#7201a8"
             ],
             [
              0.3333333333333333,
              "#9c179e"
             ],
             [
              0.4444444444444444,
              "#bd3786"
             ],
             [
              0.5555555555555556,
              "#d8576b"
             ],
             [
              0.6666666666666666,
              "#ed7953"
             ],
             [
              0.7777777777777778,
              "#fb9f3a"
             ],
             [
              0.8888888888888888,
              "#fdca26"
             ],
             [
              1,
              "#f0f921"
             ]
            ],
            "type": "surface"
           }
          ],
          "table": [
           {
            "cells": {
             "fill": {
              "color": "#EBF0F8"
             },
             "line": {
              "color": "white"
             }
            },
            "header": {
             "fill": {
              "color": "#C8D4E3"
             },
             "line": {
              "color": "white"
             }
            },
            "type": "table"
           }
          ]
         },
         "layout": {
          "annotationdefaults": {
           "arrowcolor": "#2a3f5f",
           "arrowhead": 0,
           "arrowwidth": 1
          },
          "autotypenumbers": "strict",
          "coloraxis": {
           "colorbar": {
            "outlinewidth": 0,
            "ticks": ""
           }
          },
          "colorscale": {
           "diverging": [
            [
             0,
             "#8e0152"
            ],
            [
             0.1,
             "#c51b7d"
            ],
            [
             0.2,
             "#de77ae"
            ],
            [
             0.3,
             "#f1b6da"
            ],
            [
             0.4,
             "#fde0ef"
            ],
            [
             0.5,
             "#f7f7f7"
            ],
            [
             0.6,
             "#e6f5d0"
            ],
            [
             0.7,
             "#b8e186"
            ],
            [
             0.8,
             "#7fbc41"
            ],
            [
             0.9,
             "#4d9221"
            ],
            [
             1,
             "#276419"
            ]
           ],
           "sequential": [
            [
             0,
             "#0d0887"
            ],
            [
             0.1111111111111111,
             "#46039f"
            ],
            [
             0.2222222222222222,
             "#7201a8"
            ],
            [
             0.3333333333333333,
             "#9c179e"
            ],
            [
             0.4444444444444444,
             "#bd3786"
            ],
            [
             0.5555555555555556,
             "#d8576b"
            ],
            [
             0.6666666666666666,
             "#ed7953"
            ],
            [
             0.7777777777777778,
             "#fb9f3a"
            ],
            [
             0.8888888888888888,
             "#fdca26"
            ],
            [
             1,
             "#f0f921"
            ]
           ],
           "sequentialminus": [
            [
             0,
             "#0d0887"
            ],
            [
             0.1111111111111111,
             "#46039f"
            ],
            [
             0.2222222222222222,
             "#7201a8"
            ],
            [
             0.3333333333333333,
             "#9c179e"
            ],
            [
             0.4444444444444444,
             "#bd3786"
            ],
            [
             0.5555555555555556,
             "#d8576b"
            ],
            [
             0.6666666666666666,
             "#ed7953"
            ],
            [
             0.7777777777777778,
             "#fb9f3a"
            ],
            [
             0.8888888888888888,
             "#fdca26"
            ],
            [
             1,
             "#f0f921"
            ]
           ]
          },
          "colorway": [
           "#636efa",
           "#EF553B",
           "#00cc96",
           "#ab63fa",
           "#FFA15A",
           "#19d3f3",
           "#FF6692",
           "#B6E880",
           "#FF97FF",
           "#FECB52"
          ],
          "font": {
           "color": "#2a3f5f"
          },
          "geo": {
           "bgcolor": "white",
           "lakecolor": "white",
           "landcolor": "white",
           "showlakes": true,
           "showland": true,
           "subunitcolor": "#C8D4E3"
          },
          "hoverlabel": {
           "align": "left"
          },
          "hovermode": "closest",
          "mapbox": {
           "style": "light"
          },
          "paper_bgcolor": "white",
          "plot_bgcolor": "white",
          "polar": {
           "angularaxis": {
            "gridcolor": "#EBF0F8",
            "linecolor": "#EBF0F8",
            "ticks": ""
           },
           "bgcolor": "white",
           "radialaxis": {
            "gridcolor": "#EBF0F8",
            "linecolor": "#EBF0F8",
            "ticks": ""
           }
          },
          "scene": {
           "xaxis": {
            "backgroundcolor": "white",
            "gridcolor": "#DFE8F3",
            "gridwidth": 2,
            "linecolor": "#EBF0F8",
            "showbackground": true,
            "ticks": "",
            "zerolinecolor": "#EBF0F8"
           },
           "yaxis": {
            "backgroundcolor": "white",
            "gridcolor": "#DFE8F3",
            "gridwidth": 2,
            "linecolor": "#EBF0F8",
            "showbackground": true,
            "ticks": "",
            "zerolinecolor": "#EBF0F8"
           },
           "zaxis": {
            "backgroundcolor": "white",
            "gridcolor": "#DFE8F3",
            "gridwidth": 2,
            "linecolor": "#EBF0F8",
            "showbackground": true,
            "ticks": "",
            "zerolinecolor": "#EBF0F8"
           }
          },
          "shapedefaults": {
           "line": {
            "color": "#2a3f5f"
           }
          },
          "ternary": {
           "aaxis": {
            "gridcolor": "#DFE8F3",
            "linecolor": "#A2B1C6",
            "ticks": ""
           },
           "baxis": {
            "gridcolor": "#DFE8F3",
            "linecolor": "#A2B1C6",
            "ticks": ""
           },
           "bgcolor": "white",
           "caxis": {
            "gridcolor": "#DFE8F3",
            "linecolor": "#A2B1C6",
            "ticks": ""
           }
          },
          "title": {
           "x": 0.05
          },
          "xaxis": {
           "automargin": true,
           "gridcolor": "#EBF0F8",
           "linecolor": "#EBF0F8",
           "ticks": "",
           "title": {
            "standoff": 15
           },
           "zerolinecolor": "#EBF0F8",
           "zerolinewidth": 2
          },
          "yaxis": {
           "automargin": true,
           "gridcolor": "#EBF0F8",
           "linecolor": "#EBF0F8",
           "ticks": "",
           "title": {
            "standoff": 15
           },
           "zerolinecolor": "#EBF0F8",
           "zerolinewidth": 2
          }
         }
        },
        "title": {
         "text": "Historical Fear & Greed Index"
        },
        "xaxis": {
         "title": {
          "text": "Date"
         }
        },
        "yaxis": {
         "range": [
          2.755,
          81.51000000000002
         ],
         "title": {
          "text": "Score"
         }
        }
       }
      }
     },
     "metadata": {},
     "output_type": "display_data"
    },
    {
     "data": {
      "application/vnd.plotly.v1+json": {
       "config": {
        "plotlyServerURL": "https://plot.ly"
       },
       "data": [
        {
         "hoverinfo": "text+x",
         "line": {
          "color": "lightgray",
          "width": 2
         },
         "marker": {
          "color": [
           "green",
           "green",
           "green",
           "green",
           "green",
           "green",
           "green",
           "green",
           "green",
           "green",
           "green",
           "green",
           "green",
           "green",
           "green",
           "gold",
           "gold",
           "gold",
           "gold",
           "green",
           "green",
           "darkgreen",
           "darkgreen",
           "green",
           "green",
           "green",
           "green",
           "green",
           "green",
           "green",
           "green",
           "green",
           "green",
           "green",
           "green",
           "green",
           "green",
           "green",
           "darkgreen",
           "green",
           "green",
           "green",
           "green",
           "green",
           "green",
           "green",
           "green",
           "green",
           "red",
           "red",
           "gold",
           "green",
           "green",
           "green",
           "gold",
           "gold",
           "red",
           "red",
           "gold",
           "gold",
           "red",
           "gold",
           "red",
           "red",
           "red",
           "gold",
           "gold",
           "gold",
           "green",
           "green",
           "green",
           "green",
           "gold",
           "green",
           "gold",
           "green",
           "gold",
           "gold",
           "gold",
           "gold",
           "green",
           "gold",
           "gold",
           "gold",
           "gold",
           "green",
           "green",
           "green",
           "green",
           "gold",
           "red",
           "red",
           "red",
           "red",
           "darkred",
           "red",
           "darkred",
           "darkred",
           "darkred",
           "darkred",
           "darkred",
           "darkred",
           "darkred",
           "darkred",
           "darkred",
           "darkred",
           "darkred",
           "darkred",
           "darkred",
           "darkred",
           "darkred",
           "darkred",
           "darkred",
           "darkred",
           "darkred",
           "darkred",
           "darkred",
           "darkred",
           "darkred",
           "darkred",
           "darkred",
           "darkred",
           "darkred",
           "darkred",
           "darkred",
           "darkred",
           "darkred",
           "darkred",
           "darkred",
           "darkred",
           "darkred",
           "darkred",
           "darkred",
           "darkred",
           "darkred",
           "darkred",
           "darkred",
           "darkred",
           "darkred",
           "darkred",
           "darkred",
           "darkred",
           "darkred",
           "darkred",
           "darkred",
           "red",
           "red",
           "red",
           "red",
           "red",
           "red",
           "red",
           "red",
           "red",
           "darkred",
           "red",
           "red",
           "red",
           "red",
           "red",
           "red",
           "red",
           "red",
           "gold",
           "gold",
           "gold",
           "gold",
           "gold",
           "red",
           "gold",
           "gold",
           "red",
           "red",
           "gold",
           "green",
           "green",
           "green",
           "green",
           "green",
           "green",
           "green",
           "darkgreen",
           "green",
           "green",
           "darkgreen",
           "darkgreen",
           "green",
           "darkgreen",
           "green",
           "green",
           "darkgreen",
           "darkgreen",
           "darkgreen",
           "darkgreen",
           "darkgreen",
           "darkgreen",
           "darkgreen",
           "darkgreen",
           "darkgreen",
           "darkgreen",
           "darkgreen",
           "green",
           "darkgreen",
           "green",
           "darkgreen",
           "darkgreen",
           "darkgreen",
           "darkgreen",
           "darkgreen",
           "darkgreen",
           "darkgreen",
           "darkgreen",
           "darkgreen",
           "darkgreen",
           "darkgreen",
           "darkgreen",
           "darkgreen",
           "darkgreen",
           "darkgreen",
           "darkgreen",
           "darkgreen",
           "darkgreen",
           "darkgreen",
           "darkgreen",
           "darkgreen",
           "darkgreen",
           "darkgreen",
           "darkgreen",
           "darkgreen",
           "darkgreen",
           "darkgreen",
           "darkgreen",
           "darkgreen",
           "darkgreen",
           "darkgreen",
           "darkgreen",
           "darkgreen",
           "darkgreen",
           "darkgreen",
           "darkgreen",
           "darkgreen",
           "darkgreen",
           "darkgreen",
           "darkgreen",
           "darkgreen",
           "darkgreen",
           "darkgreen",
           "darkgreen",
           "darkgreen",
           "darkgreen",
           "darkgreen",
           "darkgreen",
           "darkgreen",
           "darkgreen",
           "darkgreen",
           "darkgreen",
           "darkgreen"
          ],
          "size": 8
         },
         "mode": "lines+markers",
         "name": "S&P 500 Market Momentum",
         "text": [
          "5780.05 (Greed)",
          "5815.03 (Greed)",
          "5859.85 (Greed)",
          "5815.26 (Greed)",
          "5842.47 (Greed)",
          "5841.47 (Greed)",
          "5864.67 (Greed)",
          "5853.98 (Greed)",
          "5851.20 (Greed)",
          "5797.42 (Greed)",
          "5809.86 (Greed)",
          "5808.12 (Greed)",
          "5823.52 (Greed)",
          "5832.92 (Greed)",
          "5813.67 (Greed)",
          "5705.45 (Neutral)",
          "5728.80 (Neutral)",
          "5712.69 (Neutral)",
          "5782.76 (Neutral)",
          "5929.04 (Greed)",
          "5973.10 (Greed)",
          "5995.54 (Extreme Greed)",
          "6001.35 (Extreme Greed)",
          "5983.99 (Greed)",
          "5985.38 (Greed)",
          "5949.17 (Greed)",
          "5870.62 (Greed)",
          "5893.62 (Greed)",
          "5916.98 (Greed)",
          "5917.11 (Greed)",
          "5948.71 (Greed)",
          "5969.34 (Greed)",
          "5987.37 (Greed)",
          "6021.63 (Greed)",
          "5998.74 (Greed)",
          "6032.38 (Greed)",
          "6047.15 (Greed)",
          "6049.88 (Greed)",
          "6086.49 (Extreme Greed)",
          "6075.11 (Greed)",
          "6090.27 (Greed)",
          "6052.85 (Greed)",
          "6034.91 (Greed)",
          "6084.19 (Greed)",
          "6051.25 (Greed)",
          "6051.09 (Greed)",
          "6074.08 (Greed)",
          "6050.61 (Greed)",
          "5872.16 (Fear)",
          "5867.08 (Fear)",
          "5930.85 (Neutral)",
          "5974.07 (Greed)",
          "6040.04 (Greed)",
          "6037.59 (Greed)",
          "5970.84 (Neutral)",
          "5906.94 (Neutral)",
          "5881.63 (Fear)",
          "5868.55 (Fear)",
          "5942.47 (Neutral)",
          "5975.38 (Neutral)",
          "5909.03 (Fear)",
          "5918.25 (Neutral)",
          "5827.04 (Fear)",
          "5836.22 (Fear)",
          "5842.91 (Fear)",
          "5949.91 (Neutral)",
          "5937.34 (Neutral)",
          "5996.66 (Neutral)",
          "6049.24 (Greed)",
          "6086.37 (Greed)",
          "6118.71 (Greed)",
          "6101.24 (Greed)",
          "6012.28 (Neutral)",
          "6067.70 (Greed)",
          "6039.31 (Neutral)",
          "6071.17 (Greed)",
          "6040.53 (Neutral)",
          "5994.57 (Neutral)",
          "6037.88 (Neutral)",
          "6061.48 (Neutral)",
          "6083.57 (Greed)",
          "6025.99 (Neutral)",
          "6066.44 (Neutral)",
          "6068.50 (Neutral)",
          "6051.97 (Neutral)",
          "6115.07 (Greed)",
          "6114.63 (Greed)",
          "6129.58 (Greed)",
          "6144.15 (Greed)",
          "6117.52 (Neutral)",
          "6013.13 (Fear)",
          "5983.25 (Fear)",
          "5955.25 (Fear)",
          "5956.06 (Fear)",
          "5861.57 (Extreme Fear)",
          "5954.50 (Fear)",
          "5849.72 (Extreme Fear)",
          "5778.15 (Extreme Fear)",
          "5842.63 (Extreme Fear)",
          "5738.52 (Extreme Fear)",
          "5770.20 (Extreme Fear)",
          "5614.56 (Extreme Fear)",
          "5572.07 (Extreme Fear)",
          "5599.30 (Extreme Fear)",
          "5521.52 (Extreme Fear)",
          "5638.94 (Extreme Fear)",
          "5675.12 (Extreme Fear)",
          "5614.66 (Extreme Fear)",
          "5675.29 (Extreme Fear)",
          "5662.89 (Extreme Fear)",
          "5667.56 (Extreme Fear)",
          "5767.57 (Extreme Fear)",
          "5776.65 (Extreme Fear)",
          "5712.20 (Extreme Fear)",
          "5693.31 (Extreme Fear)",
          "5580.94 (Extreme Fear)",
          "5611.85 (Extreme Fear)",
          "5633.07 (Extreme Fear)",
          "5670.97 (Extreme Fear)",
          "5396.52 (Extreme Fear)",
          "5074.08 (Extreme Fear)",
          "5062.25 (Extreme Fear)",
          "4982.77 (Extreme Fear)",
          "5456.90 (Extreme Fear)",
          "5268.05 (Extreme Fear)",
          "5363.36 (Extreme Fear)",
          "5405.97 (Extreme Fear)",
          "5396.63 (Extreme Fear)",
          "5275.70 (Extreme Fear)",
          "5282.70 (Extreme Fear)",
          "5158.20 (Extreme Fear)",
          "5287.76 (Extreme Fear)",
          "5375.86 (Extreme Fear)",
          "5484.77 (Extreme Fear)",
          "5525.21 (Extreme Fear)",
          "5528.75 (Extreme Fear)",
          "5560.83 (Extreme Fear)",
          "5569.06 (Extreme Fear)",
          "5604.14 (Extreme Fear)",
          "5686.67 (Extreme Fear)",
          "5650.38 (Extreme Fear)",
          "5606.91 (Extreme Fear)",
          "5631.28 (Extreme Fear)",
          "5663.94 (Extreme Fear)",
          "5659.91 (Extreme Fear)",
          "5844.19 (Fear)",
          "5886.55 (Fear)",
          "5892.58 (Fear)",
          "5916.93 (Fear)",
          "5958.38 (Fear)",
          "5963.60 (Fear)",
          "5940.46 (Fear)",
          "5844.61 (Fear)",
          "5842.01 (Fear)",
          "5802.82 (Extreme Fear)",
          "5921.54 (Fear)",
          "5888.55 (Fear)",
          "5912.17 (Fear)",
          "5911.69 (Fear)",
          "5935.94 (Fear)",
          "5970.37 (Fear)",
          "5970.81 (Fear)",
          "5939.30 (Fear)",
          "6000.36 (Neutral)",
          "6005.88 (Neutral)",
          "6038.81 (Neutral)",
          "6022.24 (Neutral)",
          "6045.26 (Neutral)",
          "5976.97 (Fear)",
          "6033.11 (Neutral)",
          "5982.72 (Neutral)",
          "5980.87 (Fear)",
          "5967.84 (Fear)",
          "6025.17 (Neutral)",
          "6092.18 (Greed)",
          "6092.16 (Greed)",
          "6141.02 (Greed)",
          "6173.07 (Greed)",
          "6204.95 (Greed)",
          "6198.01 (Greed)",
          "6227.42 (Greed)",
          "6279.35 (Extreme Greed)",
          "6229.98 (Greed)",
          "6225.52 (Greed)",
          "6263.26 (Extreme Greed)",
          "6280.46 (Extreme Greed)",
          "6259.75 (Greed)",
          "6268.56 (Extreme Greed)",
          "6243.76 (Greed)",
          "6263.70 (Greed)",
          "6297.36 (Extreme Greed)",
          "6296.79 (Extreme Greed)",
          "6305.60 (Extreme Greed)",
          "6309.62 (Extreme Greed)",
          "6358.91 (Extreme Greed)",
          "6363.35 (Extreme Greed)",
          "6388.64 (Extreme Greed)",
          "6389.77 (Extreme Greed)",
          "6370.86 (Extreme Greed)",
          "6362.90 (Extreme Greed)",
          "6339.39 (Extreme Greed)",
          "6238.01 (Greed)",
          "6329.94 (Extreme Greed)",
          "6299.19 (Greed)",
          "6345.06 (Extreme Greed)",
          "6340.00 (Extreme Greed)",
          "6389.45 (Extreme Greed)",
          "6373.45 (Extreme Greed)",
          "6445.76 (Extreme Greed)",
          "6466.58 (Extreme Greed)",
          "6468.54 (Extreme Greed)",
          "6449.80 (Extreme Greed)",
          "6449.15 (Extreme Greed)",
          "6411.37 (Extreme Greed)",
          "6395.78 (Extreme Greed)",
          "6370.17 (Extreme Greed)",
          "6466.91 (Extreme Greed)",
          "6439.32 (Extreme Greed)",
          "6465.94 (Extreme Greed)",
          "6481.40 (Extreme Greed)",
          "6501.86 (Extreme Greed)",
          "6460.26 (Extreme Greed)",
          "6415.54 (Extreme Greed)",
          "6448.26 (Extreme Greed)",
          "6502.08 (Extreme Greed)",
          "6481.50 (Extreme Greed)",
          "6495.15 (Extreme Greed)",
          "6512.61 (Extreme Greed)",
          "6532.04 (Extreme Greed)",
          "6587.47 (Extreme Greed)",
          "6584.29 (Extreme Greed)",
          "6615.28 (Extreme Greed)",
          "6606.76 (Extreme Greed)",
          "6600.35 (Extreme Greed)",
          "6631.96 (Extreme Greed)",
          "6664.36 (Extreme Greed)",
          "6693.75 (Extreme Greed)",
          "6656.92 (Extreme Greed)",
          "6637.97 (Extreme Greed)",
          "6604.72 (Extreme Greed)",
          "6643.70 (Extreme Greed)",
          "6661.21 (Extreme Greed)",
          "6688.46 (Extreme Greed)",
          "6711.20 (Extreme Greed)",
          "6715.35 (Extreme Greed)",
          "6715.79 (Extreme Greed)",
          "6740.28 (Extreme Greed)",
          "6714.59 (Extreme Greed)",
          "6753.72 (Extreme Greed)",
          "6735.11 (Extreme Greed)",
          "6609.00 (Extreme Greed)",
          "nan (Extreme Greed)",
          "nan (Extreme Greed)",
          "nan (Extreme Greed)",
          "nan (Extreme Greed)",
          "6609.00 (Extreme Greed)",
          "nan (Extreme Greed)"
         ],
         "type": "scatter",
         "x": [
          "2024-10-10T00:00:00.000000000",
          "2024-10-11T00:00:00.000000000",
          "2024-10-14T00:00:00.000000000",
          "2024-10-15T00:00:00.000000000",
          "2024-10-16T00:00:00.000000000",
          "2024-10-17T00:00:00.000000000",
          "2024-10-18T00:00:00.000000000",
          "2024-10-21T00:00:00.000000000",
          "2024-10-22T00:00:00.000000000",
          "2024-10-23T00:00:00.000000000",
          "2024-10-24T00:00:00.000000000",
          "2024-10-25T00:00:00.000000000",
          "2024-10-28T00:00:00.000000000",
          "2024-10-29T00:00:00.000000000",
          "2024-10-30T00:00:00.000000000",
          "2024-10-31T00:00:00.000000000",
          "2024-11-01T00:00:00.000000000",
          "2024-11-04T00:00:00.000000000",
          "2024-11-05T00:00:00.000000000",
          "2024-11-06T00:00:00.000000000",
          "2024-11-07T00:00:00.000000000",
          "2024-11-08T00:00:00.000000000",
          "2024-11-11T00:00:00.000000000",
          "2024-11-12T00:00:00.000000000",
          "2024-11-13T00:00:00.000000000",
          "2024-11-14T00:00:00.000000000",
          "2024-11-15T00:00:00.000000000",
          "2024-11-18T00:00:00.000000000",
          "2024-11-19T00:00:00.000000000",
          "2024-11-20T00:00:00.000000000",
          "2024-11-21T00:00:00.000000000",
          "2024-11-22T00:00:00.000000000",
          "2024-11-25T00:00:00.000000000",
          "2024-11-26T00:00:00.000000000",
          "2024-11-27T00:00:00.000000000",
          "2024-11-29T00:00:00.000000000",
          "2024-12-02T00:00:00.000000000",
          "2024-12-03T00:00:00.000000000",
          "2024-12-04T00:00:00.000000000",
          "2024-12-05T00:00:00.000000000",
          "2024-12-06T00:00:00.000000000",
          "2024-12-09T00:00:00.000000000",
          "2024-12-10T00:00:00.000000000",
          "2024-12-11T00:00:00.000000000",
          "2024-12-12T00:00:00.000000000",
          "2024-12-13T00:00:00.000000000",
          "2024-12-16T00:00:00.000000000",
          "2024-12-17T00:00:00.000000000",
          "2024-12-18T00:00:00.000000000",
          "2024-12-19T00:00:00.000000000",
          "2024-12-20T00:00:00.000000000",
          "2024-12-23T00:00:00.000000000",
          "2024-12-24T00:00:00.000000000",
          "2024-12-26T00:00:00.000000000",
          "2024-12-27T00:00:00.000000000",
          "2024-12-30T00:00:00.000000000",
          "2024-12-31T00:00:00.000000000",
          "2025-01-02T00:00:00.000000000",
          "2025-01-03T00:00:00.000000000",
          "2025-01-06T00:00:00.000000000",
          "2025-01-07T00:00:00.000000000",
          "2025-01-08T00:00:00.000000000",
          "2025-01-10T00:00:00.000000000",
          "2025-01-13T00:00:00.000000000",
          "2025-01-14T00:00:00.000000000",
          "2025-01-15T00:00:00.000000000",
          "2025-01-16T00:00:00.000000000",
          "2025-01-17T00:00:00.000000000",
          "2025-01-21T00:00:00.000000000",
          "2025-01-22T00:00:00.000000000",
          "2025-01-23T00:00:00.000000000",
          "2025-01-24T00:00:00.000000000",
          "2025-01-27T00:00:00.000000000",
          "2025-01-28T00:00:00.000000000",
          "2025-01-29T00:00:00.000000000",
          "2025-01-30T00:00:00.000000000",
          "2025-01-31T00:00:00.000000000",
          "2025-02-03T00:00:00.000000000",
          "2025-02-04T00:00:00.000000000",
          "2025-02-05T00:00:00.000000000",
          "2025-02-06T00:00:00.000000000",
          "2025-02-07T00:00:00.000000000",
          "2025-02-10T00:00:00.000000000",
          "2025-02-11T00:00:00.000000000",
          "2025-02-12T00:00:00.000000000",
          "2025-02-13T00:00:00.000000000",
          "2025-02-14T00:00:00.000000000",
          "2025-02-18T00:00:00.000000000",
          "2025-02-19T00:00:00.000000000",
          "2025-02-20T00:00:00.000000000",
          "2025-02-21T00:00:00.000000000",
          "2025-02-24T00:00:00.000000000",
          "2025-02-25T00:00:00.000000000",
          "2025-02-26T00:00:00.000000000",
          "2025-02-27T00:00:00.000000000",
          "2025-02-28T00:00:00.000000000",
          "2025-03-03T00:00:00.000000000",
          "2025-03-04T00:00:00.000000000",
          "2025-03-05T00:00:00.000000000",
          "2025-03-06T00:00:00.000000000",
          "2025-03-07T00:00:00.000000000",
          "2025-03-10T00:00:00.000000000",
          "2025-03-11T00:00:00.000000000",
          "2025-03-12T00:00:00.000000000",
          "2025-03-13T00:00:00.000000000",
          "2025-03-14T00:00:00.000000000",
          "2025-03-17T00:00:00.000000000",
          "2025-03-18T00:00:00.000000000",
          "2025-03-19T00:00:00.000000000",
          "2025-03-20T00:00:00.000000000",
          "2025-03-21T00:00:00.000000000",
          "2025-03-24T00:00:00.000000000",
          "2025-03-25T00:00:00.000000000",
          "2025-03-26T00:00:00.000000000",
          "2025-03-27T00:00:00.000000000",
          "2025-03-28T00:00:00.000000000",
          "2025-03-31T00:00:00.000000000",
          "2025-04-01T00:00:00.000000000",
          "2025-04-02T00:00:00.000000000",
          "2025-04-03T00:00:00.000000000",
          "2025-04-04T00:00:00.000000000",
          "2025-04-07T00:00:00.000000000",
          "2025-04-08T00:00:00.000000000",
          "2025-04-09T00:00:00.000000000",
          "2025-04-10T00:00:00.000000000",
          "2025-04-11T00:00:00.000000000",
          "2025-04-14T00:00:00.000000000",
          "2025-04-15T00:00:00.000000000",
          "2025-04-16T00:00:00.000000000",
          "2025-04-17T00:00:00.000000000",
          "2025-04-21T00:00:00.000000000",
          "2025-04-22T00:00:00.000000000",
          "2025-04-23T00:00:00.000000000",
          "2025-04-24T00:00:00.000000000",
          "2025-04-25T00:00:00.000000000",
          "2025-04-28T00:00:00.000000000",
          "2025-04-29T00:00:00.000000000",
          "2025-04-30T00:00:00.000000000",
          "2025-05-01T00:00:00.000000000",
          "2025-05-02T00:00:00.000000000",
          "2025-05-05T00:00:00.000000000",
          "2025-05-06T00:00:00.000000000",
          "2025-05-07T00:00:00.000000000",
          "2025-05-08T00:00:00.000000000",
          "2025-05-09T00:00:00.000000000",
          "2025-05-12T00:00:00.000000000",
          "2025-05-13T00:00:00.000000000",
          "2025-05-14T00:00:00.000000000",
          "2025-05-15T00:00:00.000000000",
          "2025-05-16T00:00:00.000000000",
          "2025-05-19T00:00:00.000000000",
          "2025-05-20T00:00:00.000000000",
          "2025-05-21T00:00:00.000000000",
          "2025-05-22T00:00:00.000000000",
          "2025-05-23T00:00:00.000000000",
          "2025-05-27T00:00:00.000000000",
          "2025-05-28T00:00:00.000000000",
          "2025-05-29T00:00:00.000000000",
          "2025-05-30T00:00:00.000000000",
          "2025-06-02T00:00:00.000000000",
          "2025-06-03T00:00:00.000000000",
          "2025-06-04T00:00:00.000000000",
          "2025-06-05T00:00:00.000000000",
          "2025-06-06T00:00:00.000000000",
          "2025-06-09T00:00:00.000000000",
          "2025-06-10T00:00:00.000000000",
          "2025-06-11T00:00:00.000000000",
          "2025-06-12T00:00:00.000000000",
          "2025-06-13T00:00:00.000000000",
          "2025-06-16T00:00:00.000000000",
          "2025-06-17T00:00:00.000000000",
          "2025-06-18T00:00:00.000000000",
          "2025-06-20T00:00:00.000000000",
          "2025-06-23T00:00:00.000000000",
          "2025-06-24T00:00:00.000000000",
          "2025-06-25T00:00:00.000000000",
          "2025-06-26T00:00:00.000000000",
          "2025-06-27T00:00:00.000000000",
          "2025-06-30T00:00:00.000000000",
          "2025-07-01T00:00:00.000000000",
          "2025-07-02T00:00:00.000000000",
          "2025-07-03T00:00:00.000000000",
          "2025-07-07T00:00:00.000000000",
          "2025-07-08T00:00:00.000000000",
          "2025-07-09T00:00:00.000000000",
          "2025-07-10T00:00:00.000000000",
          "2025-07-11T00:00:00.000000000",
          "2025-07-14T00:00:00.000000000",
          "2025-07-15T00:00:00.000000000",
          "2025-07-16T00:00:00.000000000",
          "2025-07-17T00:00:00.000000000",
          "2025-07-18T00:00:00.000000000",
          "2025-07-21T00:00:00.000000000",
          "2025-07-22T00:00:00.000000000",
          "2025-07-23T00:00:00.000000000",
          "2025-07-24T00:00:00.000000000",
          "2025-07-25T00:00:00.000000000",
          "2025-07-28T00:00:00.000000000",
          "2025-07-29T00:00:00.000000000",
          "2025-07-30T00:00:00.000000000",
          "2025-07-31T00:00:00.000000000",
          "2025-08-01T00:00:00.000000000",
          "2025-08-04T00:00:00.000000000",
          "2025-08-05T00:00:00.000000000",
          "2025-08-06T00:00:00.000000000",
          "2025-08-07T00:00:00.000000000",
          "2025-08-08T00:00:00.000000000",
          "2025-08-11T00:00:00.000000000",
          "2025-08-12T00:00:00.000000000",
          "2025-08-13T00:00:00.000000000",
          "2025-08-14T00:00:00.000000000",
          "2025-08-15T00:00:00.000000000",
          "2025-08-18T00:00:00.000000000",
          "2025-08-19T00:00:00.000000000",
          "2025-08-20T00:00:00.000000000",
          "2025-08-21T00:00:00.000000000",
          "2025-08-22T00:00:00.000000000",
          "2025-08-25T00:00:00.000000000",
          "2025-08-26T00:00:00.000000000",
          "2025-08-27T00:00:00.000000000",
          "2025-08-28T00:00:00.000000000",
          "2025-08-29T00:00:00.000000000",
          "2025-09-02T00:00:00.000000000",
          "2025-09-03T00:00:00.000000000",
          "2025-09-04T00:00:00.000000000",
          "2025-09-05T00:00:00.000000000",
          "2025-09-08T00:00:00.000000000",
          "2025-09-09T00:00:00.000000000",
          "2025-09-10T00:00:00.000000000",
          "2025-09-11T00:00:00.000000000",
          "2025-09-12T00:00:00.000000000",
          "2025-09-15T00:00:00.000000000",
          "2025-09-16T00:00:00.000000000",
          "2025-09-17T00:00:00.000000000",
          "2025-09-18T00:00:00.000000000",
          "2025-09-19T00:00:00.000000000",
          "2025-09-22T00:00:00.000000000",
          "2025-09-23T00:00:00.000000000",
          "2025-09-24T00:00:00.000000000",
          "2025-09-25T00:00:00.000000000",
          "2025-09-26T00:00:00.000000000",
          "2025-09-29T00:00:00.000000000",
          "2025-09-30T00:00:00.000000000",
          "2025-10-01T00:00:00.000000000",
          "2025-10-02T00:00:00.000000000",
          "2025-10-03T00:00:00.000000000",
          "2025-10-06T00:00:00.000000000",
          "2025-10-07T00:00:00.000000000",
          "2025-10-08T00:00:00.000000000",
          "2025-10-09T00:00:00.000000000",
          "2025-10-10T00:00:00.000000000",
          "2025-10-10T18:32:31.000000000",
          "2025-10-10T18:32:34.000000000",
          "2025-10-10T18:32:37.000000000",
          "2025-10-10T18:32:41.000000000",
          "2025-10-10T18:37:40.000000000",
          "2025-10-10T18:47:38.000000000"
         ],
         "y": {
          "bdata": "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",
          "dtype": "f8"
         }
        },
        {
         "line": {
          "color": "orange",
          "width": 4
         },
         "mode": "lines",
         "name": "SP500 125 MA",
         "type": "scatter",
         "x": [
          "2024-10-10T00:00:00.000000000",
          "2024-10-11T00:00:00.000000000",
          "2024-10-14T00:00:00.000000000",
          "2024-10-15T00:00:00.000000000",
          "2024-10-16T00:00:00.000000000",
          "2024-10-17T00:00:00.000000000",
          "2024-10-18T00:00:00.000000000",
          "2024-10-21T00:00:00.000000000",
          "2024-10-22T00:00:00.000000000",
          "2024-10-23T00:00:00.000000000",
          "2024-10-24T00:00:00.000000000",
          "2024-10-25T00:00:00.000000000",
          "2024-10-28T00:00:00.000000000",
          "2024-10-29T00:00:00.000000000",
          "2024-10-30T00:00:00.000000000",
          "2024-10-31T00:00:00.000000000",
          "2024-11-01T00:00:00.000000000",
          "2024-11-04T00:00:00.000000000",
          "2024-11-05T00:00:00.000000000",
          "2024-11-06T00:00:00.000000000",
          "2024-11-07T00:00:00.000000000",
          "2024-11-08T00:00:00.000000000",
          "2024-11-11T00:00:00.000000000",
          "2024-11-12T00:00:00.000000000",
          "2024-11-13T00:00:00.000000000",
          "2024-11-14T00:00:00.000000000",
          "2024-11-15T00:00:00.000000000",
          "2024-11-18T00:00:00.000000000",
          "2024-11-19T00:00:00.000000000",
          "2024-11-20T00:00:00.000000000",
          "2024-11-21T00:00:00.000000000",
          "2024-11-22T00:00:00.000000000",
          "2024-11-25T00:00:00.000000000",
          "2024-11-26T00:00:00.000000000",
          "2024-11-27T00:00:00.000000000",
          "2024-11-29T00:00:00.000000000",
          "2024-12-02T00:00:00.000000000",
          "2024-12-03T00:00:00.000000000",
          "2024-12-04T00:00:00.000000000",
          "2024-12-05T00:00:00.000000000",
          "2024-12-06T00:00:00.000000000",
          "2024-12-09T00:00:00.000000000",
          "2024-12-10T00:00:00.000000000",
          "2024-12-11T00:00:00.000000000",
          "2024-12-12T00:00:00.000000000",
          "2024-12-13T00:00:00.000000000",
          "2024-12-16T00:00:00.000000000",
          "2024-12-17T00:00:00.000000000",
          "2024-12-18T00:00:00.000000000",
          "2024-12-19T00:00:00.000000000",
          "2024-12-20T00:00:00.000000000",
          "2024-12-23T00:00:00.000000000",
          "2024-12-24T00:00:00.000000000",
          "2024-12-26T00:00:00.000000000",
          "2024-12-27T00:00:00.000000000",
          "2024-12-30T00:00:00.000000000",
          "2024-12-31T00:00:00.000000000",
          "2025-01-02T00:00:00.000000000",
          "2025-01-03T00:00:00.000000000",
          "2025-01-06T00:00:00.000000000",
          "2025-01-07T00:00:00.000000000",
          "2025-01-08T00:00:00.000000000",
          "2025-01-10T00:00:00.000000000",
          "2025-01-13T00:00:00.000000000",
          "2025-01-14T00:00:00.000000000",
          "2025-01-15T00:00:00.000000000",
          "2025-01-16T00:00:00.000000000",
          "2025-01-17T00:00:00.000000000",
          "2025-01-21T00:00:00.000000000",
          "2025-01-22T00:00:00.000000000",
          "2025-01-23T00:00:00.000000000",
          "2025-01-24T00:00:00.000000000",
          "2025-01-27T00:00:00.000000000",
          "2025-01-28T00:00:00.000000000",
          "2025-01-29T00:00:00.000000000",
          "2025-01-30T00:00:00.000000000",
          "2025-01-31T00:00:00.000000000",
          "2025-02-03T00:00:00.000000000",
          "2025-02-04T00:00:00.000000000",
          "2025-02-05T00:00:00.000000000",
          "2025-02-06T00:00:00.000000000",
          "2025-02-07T00:00:00.000000000",
          "2025-02-10T00:00:00.000000000",
          "2025-02-11T00:00:00.000000000",
          "2025-02-12T00:00:00.000000000",
          "2025-02-13T00:00:00.000000000",
          "2025-02-14T00:00:00.000000000",
          "2025-02-18T00:00:00.000000000",
          "2025-02-19T00:00:00.000000000",
          "2025-02-20T00:00:00.000000000",
          "2025-02-21T00:00:00.000000000",
          "2025-02-24T00:00:00.000000000",
          "2025-02-25T00:00:00.000000000",
          "2025-02-26T00:00:00.000000000",
          "2025-02-27T00:00:00.000000000",
          "2025-02-28T00:00:00.000000000",
          "2025-03-03T00:00:00.000000000",
          "2025-03-04T00:00:00.000000000",
          "2025-03-05T00:00:00.000000000",
          "2025-03-06T00:00:00.000000000",
          "2025-03-07T00:00:00.000000000",
          "2025-03-10T00:00:00.000000000",
          "2025-03-11T00:00:00.000000000",
          "2025-03-12T00:00:00.000000000",
          "2025-03-13T00:00:00.000000000",
          "2025-03-14T00:00:00.000000000",
          "2025-03-17T00:00:00.000000000",
          "2025-03-18T00:00:00.000000000",
          "2025-03-19T00:00:00.000000000",
          "2025-03-20T00:00:00.000000000",
          "2025-03-21T00:00:00.000000000",
          "2025-03-24T00:00:00.000000000",
          "2025-03-25T00:00:00.000000000",
          "2025-03-26T00:00:00.000000000",
          "2025-03-27T00:00:00.000000000",
          "2025-03-28T00:00:00.000000000",
          "2025-03-31T00:00:00.000000000",
          "2025-04-01T00:00:00.000000000",
          "2025-04-02T00:00:00.000000000",
          "2025-04-03T00:00:00.000000000",
          "2025-04-04T00:00:00.000000000",
          "2025-04-07T00:00:00.000000000",
          "2025-04-08T00:00:00.000000000",
          "2025-04-09T00:00:00.000000000",
          "2025-04-10T00:00:00.000000000",
          "2025-04-11T00:00:00.000000000",
          "2025-04-14T00:00:00.000000000",
          "2025-04-15T00:00:00.000000000",
          "2025-04-16T00:00:00.000000000",
          "2025-04-17T00:00:00.000000000",
          "2025-04-21T00:00:00.000000000",
          "2025-04-22T00:00:00.000000000",
          "2025-04-23T00:00:00.000000000",
          "2025-04-24T00:00:00.000000000",
          "2025-04-25T00:00:00.000000000",
          "2025-04-28T00:00:00.000000000",
          "2025-04-29T00:00:00.000000000",
          "2025-04-30T00:00:00.000000000",
          "2025-05-01T00:00:00.000000000",
          "2025-05-02T00:00:00.000000000",
          "2025-05-05T00:00:00.000000000",
          "2025-05-06T00:00:00.000000000",
          "2025-05-07T00:00:00.000000000",
          "2025-05-08T00:00:00.000000000",
          "2025-05-09T00:00:00.000000000",
          "2025-05-12T00:00:00.000000000",
          "2025-05-13T00:00:00.000000000",
          "2025-05-14T00:00:00.000000000",
          "2025-05-15T00:00:00.000000000",
          "2025-05-16T00:00:00.000000000",
          "2025-05-19T00:00:00.000000000",
          "2025-05-20T00:00:00.000000000",
          "2025-05-21T00:00:00.000000000",
          "2025-05-22T00:00:00.000000000",
          "2025-05-23T00:00:00.000000000",
          "2025-05-27T00:00:00.000000000",
          "2025-05-28T00:00:00.000000000",
          "2025-05-29T00:00:00.000000000",
          "2025-05-30T00:00:00.000000000",
          "2025-06-02T00:00:00.000000000",
          "2025-06-03T00:00:00.000000000",
          "2025-06-04T00:00:00.000000000",
          "2025-06-05T00:00:00.000000000",
          "2025-06-06T00:00:00.000000000",
          "2025-06-09T00:00:00.000000000",
          "2025-06-10T00:00:00.000000000",
          "2025-06-11T00:00:00.000000000",
          "2025-06-12T00:00:00.000000000",
          "2025-06-13T00:00:00.000000000",
          "2025-06-16T00:00:00.000000000",
          "2025-06-17T00:00:00.000000000",
          "2025-06-18T00:00:00.000000000",
          "2025-06-20T00:00:00.000000000",
          "2025-06-23T00:00:00.000000000",
          "2025-06-24T00:00:00.000000000",
          "2025-06-25T00:00:00.000000000",
          "2025-06-26T00:00:00.000000000",
          "2025-06-27T00:00:00.000000000",
          "2025-06-30T00:00:00.000000000",
          "2025-07-01T00:00:00.000000000",
          "2025-07-02T00:00:00.000000000",
          "2025-07-03T00:00:00.000000000",
          "2025-07-07T00:00:00.000000000",
          "2025-07-08T00:00:00.000000000",
          "2025-07-09T00:00:00.000000000",
          "2025-07-10T00:00:00.000000000",
          "2025-07-11T00:00:00.000000000",
          "2025-07-14T00:00:00.000000000",
          "2025-07-15T00:00:00.000000000",
          "2025-07-16T00:00:00.000000000",
          "2025-07-17T00:00:00.000000000",
          "2025-07-18T00:00:00.000000000",
          "2025-07-21T00:00:00.000000000",
          "2025-07-22T00:00:00.000000000",
          "2025-07-23T00:00:00.000000000",
          "2025-07-24T00:00:00.000000000",
          "2025-07-25T00:00:00.000000000",
          "2025-07-28T00:00:00.000000000",
          "2025-07-29T00:00:00.000000000",
          "2025-07-30T00:00:00.000000000",
          "2025-07-31T00:00:00.000000000",
          "2025-08-01T00:00:00.000000000",
          "2025-08-04T00:00:00.000000000",
          "2025-08-05T00:00:00.000000000",
          "2025-08-06T00:00:00.000000000",
          "2025-08-07T00:00:00.000000000",
          "2025-08-08T00:00:00.000000000",
          "2025-08-11T00:00:00.000000000",
          "2025-08-12T00:00:00.000000000",
          "2025-08-13T00:00:00.000000000",
          "2025-08-14T00:00:00.000000000",
          "2025-08-15T00:00:00.000000000",
          "2025-08-18T00:00:00.000000000",
          "2025-08-19T00:00:00.000000000",
          "2025-08-20T00:00:00.000000000",
          "2025-08-21T00:00:00.000000000",
          "2025-08-22T00:00:00.000000000",
          "2025-08-25T00:00:00.000000000",
          "2025-08-26T00:00:00.000000000",
          "2025-08-27T00:00:00.000000000",
          "2025-08-28T00:00:00.000000000",
          "2025-08-29T00:00:00.000000000",
          "2025-09-02T00:00:00.000000000",
          "2025-09-03T00:00:00.000000000",
          "2025-09-04T00:00:00.000000000",
          "2025-09-05T00:00:00.000000000",
          "2025-09-08T00:00:00.000000000",
          "2025-09-09T00:00:00.000000000",
          "2025-09-10T00:00:00.000000000",
          "2025-09-11T00:00:00.000000000",
          "2025-09-12T00:00:00.000000000",
          "2025-09-15T00:00:00.000000000",
          "2025-09-16T00:00:00.000000000",
          "2025-09-17T00:00:00.000000000",
          "2025-09-18T00:00:00.000000000",
          "2025-09-19T00:00:00.000000000",
          "2025-09-22T00:00:00.000000000",
          "2025-09-23T00:00:00.000000000",
          "2025-09-24T00:00:00.000000000",
          "2025-09-25T00:00:00.000000000",
          "2025-09-26T00:00:00.000000000",
          "2025-09-29T00:00:00.000000000",
          "2025-09-30T00:00:00.000000000",
          "2025-10-01T00:00:00.000000000",
          "2025-10-02T00:00:00.000000000",
          "2025-10-03T00:00:00.000000000",
          "2025-10-06T00:00:00.000000000",
          "2025-10-07T00:00:00.000000000",
          "2025-10-08T00:00:00.000000000",
          "2025-10-09T00:00:00.000000000",
          "2025-10-10T00:00:00.000000000",
          "2025-10-10T18:32:31.000000000",
          "2025-10-10T18:32:34.000000000",
          "2025-10-10T18:32:37.000000000",
          "2025-10-10T18:32:41.000000000",
          "2025-10-10T18:37:40.000000000",
          "2025-10-10T18:47:38.000000000"
         ],
         "y": {
          "bdata": "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",
          "dtype": "f8"
         }
        }
       ],
       "layout": {
        "template": {
         "data": {
          "bar": [
           {
            "error_x": {
             "color": "#2a3f5f"
            },
            "error_y": {
             "color": "#2a3f5f"
            },
            "marker": {
             "line": {
              "color": "white",
              "width": 0.5
             },
             "pattern": {
              "fillmode": "overlay",
              "size": 10,
              "solidity": 0.2
             }
            },
            "type": "bar"
           }
          ],
          "barpolar": [
           {
            "marker": {
             "line": {
              "color": "white",
              "width": 0.5
             },
             "pattern": {
              "fillmode": "overlay",
              "size": 10,
              "solidity": 0.2
             }
            },
            "type": "barpolar"
           }
          ],
          "carpet": [
           {
            "aaxis": {
             "endlinecolor": "#2a3f5f",
             "gridcolor": "#C8D4E3",
             "linecolor": "#C8D4E3",
             "minorgridcolor": "#C8D4E3",
             "startlinecolor": "#2a3f5f"
            },
            "baxis": {
             "endlinecolor": "#2a3f5f",
             "gridcolor": "#C8D4E3",
             "linecolor": "#C8D4E3",
             "minorgridcolor": "#C8D4E3",
             "startlinecolor": "#2a3f5f"
            },
            "type": "carpet"
           }
          ],
          "choropleth": [
           {
            "colorbar": {
             "outlinewidth": 0,
             "ticks": ""
            },
            "type": "choropleth"
           }
          ],
          "contour": [
           {
            "colorbar": {
             "outlinewidth": 0,
             "ticks": ""
            },
            "colorscale": [
             [
              0,
              "#0d0887"
             ],
             [
              0.1111111111111111,
              "#46039f"
             ],
             [
              0.2222222222222222,
              "#7201a8"
             ],
             [
              0.3333333333333333,
              "#9c179e"
             ],
             [
              0.4444444444444444,
              "#bd3786"
             ],
             [
              0.5555555555555556,
              "#d8576b"
             ],
             [
              0.6666666666666666,
              "#ed7953"
             ],
             [
              0.7777777777777778,
              "#fb9f3a"
             ],
             [
              0.8888888888888888,
              "#fdca26"
             ],
             [
              1,
              "#f0f921"
             ]
            ],
            "type": "contour"
           }
          ],
          "contourcarpet": [
           {
            "colorbar": {
             "outlinewidth": 0,
             "ticks": ""
            },
            "type": "contourcarpet"
           }
          ],
          "heatmap": [
           {
            "colorbar": {
             "outlinewidth": 0,
             "ticks": ""
            },
            "colorscale": [
             [
              0,
              "#0d0887"
             ],
             [
              0.1111111111111111,
              "#46039f"
             ],
             [
              0.2222222222222222,
              "#7201a8"
             ],
             [
              0.3333333333333333,
              "#9c179e"
             ],
             [
              0.4444444444444444,
              "#bd3786"
             ],
             [
              0.5555555555555556,
              "#d8576b"
             ],
             [
              0.6666666666666666,
              "#ed7953"
             ],
             [
              0.7777777777777778,
              "#fb9f3a"
             ],
             [
              0.8888888888888888,
              "#fdca26"
             ],
             [
              1,
              "#f0f921"
             ]
            ],
            "type": "heatmap"
           }
          ],
          "histogram": [
           {
            "marker": {
             "pattern": {
              "fillmode": "overlay",
              "size": 10,
              "solidity": 0.2
             }
            },
            "type": "histogram"
           }
          ],
          "histogram2d": [
           {
            "colorbar": {
             "outlinewidth": 0,
             "ticks": ""
            },
            "colorscale": [
             [
              0,
              "#0d0887"
             ],
             [
              0.1111111111111111,
              "#46039f"
             ],
             [
              0.2222222222222222,
              "#7201a8"
             ],
             [
              0.3333333333333333,
              "#9c179e"
             ],
             [
              0.4444444444444444,
              "#bd3786"
             ],
             [
              0.5555555555555556,
              "#d8576b"
             ],
             [
              0.6666666666666666,
              "#ed7953"
             ],
             [
              0.7777777777777778,
              "#fb9f3a"
             ],
             [
              0.8888888888888888,
              "#fdca26"
             ],
             [
              1,
              "#f0f921"
             ]
            ],
            "type": "histogram2d"
           }
          ],
          "histogram2dcontour": [
           {
            "colorbar": {
             "outlinewidth": 0,
             "ticks": ""
            },
            "colorscale": [
             [
              0,
              "#0d0887"
             ],
             [
              0.1111111111111111,
              "#46039f"
             ],
             [
              0.2222222222222222,
              "#7201a8"
             ],
             [
              0.3333333333333333,
              "#9c179e"
             ],
             [
              0.4444444444444444,
              "#bd3786"
             ],
             [
              0.5555555555555556,
              "#d8576b"
             ],
             [
              0.6666666666666666,
              "#ed7953"
             ],
             [
              0.7777777777777778,
              "#fb9f3a"
             ],
             [
              0.8888888888888888,
              "#fdca26"
             ],
             [
              1,
              "#f0f921"
             ]
            ],
            "type": "histogram2dcontour"
           }
          ],
          "mesh3d": [
           {
            "colorbar": {
             "outlinewidth": 0,
             "ticks": ""
            },
            "type": "mesh3d"
           }
          ],
          "parcoords": [
           {
            "line": {
             "colorbar": {
              "outlinewidth": 0,
              "ticks": ""
             }
            },
            "type": "parcoords"
           }
          ],
          "pie": [
           {
            "automargin": true,
            "type": "pie"
           }
          ],
          "scatter": [
           {
            "fillpattern": {
             "fillmode": "overlay",
             "size": 10,
             "solidity": 0.2
            },
            "type": "scatter"
           }
          ],
          "scatter3d": [
           {
            "line": {
             "colorbar": {
              "outlinewidth": 0,
              "ticks": ""
             }
            },
            "marker": {
             "colorbar": {
              "outlinewidth": 0,
              "ticks": ""
             }
            },
            "type": "scatter3d"
           }
          ],
          "scattercarpet": [
           {
            "marker": {
             "colorbar": {
              "outlinewidth": 0,
              "ticks": ""
             }
            },
            "type": "scattercarpet"
           }
          ],
          "scattergeo": [
           {
            "marker": {
             "colorbar": {
              "outlinewidth": 0,
              "ticks": ""
             }
            },
            "type": "scattergeo"
           }
          ],
          "scattergl": [
           {
            "marker": {
             "colorbar": {
              "outlinewidth": 0,
              "ticks": ""
             }
            },
            "type": "scattergl"
           }
          ],
          "scattermap": [
           {
            "marker": {
             "colorbar": {
              "outlinewidth": 0,
              "ticks": ""
             }
            },
            "type": "scattermap"
           }
          ],
          "scattermapbox": [
           {
            "marker": {
             "colorbar": {
              "outlinewidth": 0,
              "ticks": ""
             }
            },
            "type": "scattermapbox"
           }
          ],
          "scatterpolar": [
           {
            "marker": {
             "colorbar": {
              "outlinewidth": 0,
              "ticks": ""
             }
            },
            "type": "scatterpolar"
           }
          ],
          "scatterpolargl": [
           {
            "marker": {
             "colorbar": {
              "outlinewidth": 0,
              "ticks": ""
             }
            },
            "type": "scatterpolargl"
           }
          ],
          "scatterternary": [
           {
            "marker": {
             "colorbar": {
              "outlinewidth": 0,
              "ticks": ""
             }
            },
            "type": "scatterternary"
           }
          ],
          "surface": [
           {
            "colorbar": {
             "outlinewidth": 0,
             "ticks": ""
            },
            "colorscale": [
             [
              0,
              "#0d0887"
             ],
             [
              0.1111111111111111,
              "#46039f"
             ],
             [
              0.2222222222222222,
              "#7201a8"
             ],
             [
              0.3333333333333333,
              "#9c179e"
             ],
             [
              0.4444444444444444,
              "#bd3786"
             ],
             [
              0.5555555555555556,
              "#d8576b"
             ],
             [
              0.6666666666666666,
              "#ed7953"
             ],
             [
              0.7777777777777778,
              "#fb9f3a"
             ],
             [
              0.8888888888888888,
              "#fdca26"
             ],
             [
              1,
              "#f0f921"
             ]
            ],
            "type": "surface"
           }
          ],
          "table": [
           {
            "cells": {
             "fill": {
              "color": "#EBF0F8"
             },
             "line": {
              "color": "white"
             }
            },
            "header": {
             "fill": {
              "color": "#C8D4E3"
             },
             "line": {
              "color": "white"
             }
            },
            "type": "table"
           }
          ]
         },
         "layout": {
          "annotationdefaults": {
           "arrowcolor": "#2a3f5f",
           "arrowhead": 0,
           "arrowwidth": 1
          },
          "autotypenumbers": "strict",
          "coloraxis": {
           "colorbar": {
            "outlinewidth": 0,
            "ticks": ""
           }
          },
          "colorscale": {
           "diverging": [
            [
             0,
             "#8e0152"
            ],
            [
             0.1,
             "#c51b7d"
            ],
            [
             0.2,
             "#de77ae"
            ],
            [
             0.3,
             "#f1b6da"
            ],
            [
             0.4,
             "#fde0ef"
            ],
            [
             0.5,
             "#f7f7f7"
            ],
            [
             0.6,
             "#e6f5d0"
            ],
            [
             0.7,
             "#b8e186"
            ],
            [
             0.8,
             "#7fbc41"
            ],
            [
             0.9,
             "#4d9221"
            ],
            [
             1,
             "#276419"
            ]
           ],
           "sequential": [
            [
             0,
             "#0d0887"
            ],
            [
             0.1111111111111111,
             "#46039f"
            ],
            [
             0.2222222222222222,
             "#7201a8"
            ],
            [
             0.3333333333333333,
             "#9c179e"
            ],
            [
             0.4444444444444444,
             "#bd3786"
            ],
            [
             0.5555555555555556,
             "#d8576b"
            ],
            [
             0.6666666666666666,
             "#ed7953"
            ],
            [
             0.7777777777777778,
             "#fb9f3a"
            ],
            [
             0.8888888888888888,
             "#fdca26"
            ],
            [
             1,
             "#f0f921"
            ]
           ],
           "sequentialminus": [
            [
             0,
             "#0d0887"
            ],
            [
             0.1111111111111111,
             "#46039f"
            ],
            [
             0.2222222222222222,
             "#7201a8"
            ],
            [
             0.3333333333333333,
             "#9c179e"
            ],
            [
             0.4444444444444444,
             "#bd3786"
            ],
            [
             0.5555555555555556,
             "#d8576b"
            ],
            [
             0.6666666666666666,
             "#ed7953"
            ],
            [
             0.7777777777777778,
             "#fb9f3a"
            ],
            [
             0.8888888888888888,
             "#fdca26"
            ],
            [
             1,
             "#f0f921"
            ]
           ]
          },
          "colorway": [
           "#636efa",
           "#EF553B",
           "#00cc96",
           "#ab63fa",
           "#FFA15A",
           "#19d3f3",
           "#FF6692",
           "#B6E880",
           "#FF97FF",
           "#FECB52"
          ],
          "font": {
           "color": "#2a3f5f"
          },
          "geo": {
           "bgcolor": "white",
           "lakecolor": "white",
           "landcolor": "white",
           "showlakes": true,
           "showland": true,
           "subunitcolor": "#C8D4E3"
          },
          "hoverlabel": {
           "align": "left"
          },
          "hovermode": "closest",
          "mapbox": {
           "style": "light"
          },
          "paper_bgcolor": "white",
          "plot_bgcolor": "white",
          "polar": {
           "angularaxis": {
            "gridcolor": "#EBF0F8",
            "linecolor": "#EBF0F8",
            "ticks": ""
           },
           "bgcolor": "white",
           "radialaxis": {
            "gridcolor": "#EBF0F8",
            "linecolor": "#EBF0F8",
            "ticks": ""
           }
          },
          "scene": {
           "xaxis": {
            "backgroundcolor": "white",
            "gridcolor": "#DFE8F3",
            "gridwidth": 2,
            "linecolor": "#EBF0F8",
            "showbackground": true,
            "ticks": "",
            "zerolinecolor": "#EBF0F8"
           },
           "yaxis": {
            "backgroundcolor": "white",
            "gridcolor": "#DFE8F3",
            "gridwidth": 2,
            "linecolor": "#EBF0F8",
            "showbackground": true,
            "ticks": "",
            "zerolinecolor": "#EBF0F8"
           },
           "zaxis": {
            "backgroundcolor": "white",
            "gridcolor": "#DFE8F3",
            "gridwidth": 2,
            "linecolor": "#EBF0F8",
            "showbackground": true,
            "ticks": "",
            "zerolinecolor": "#EBF0F8"
           }
          },
          "shapedefaults": {
           "line": {
            "color": "#2a3f5f"
           }
          },
          "ternary": {
           "aaxis": {
            "gridcolor": "#DFE8F3",
            "linecolor": "#A2B1C6",
            "ticks": ""
           },
           "baxis": {
            "gridcolor": "#DFE8F3",
            "linecolor": "#A2B1C6",
            "ticks": ""
           },
           "bgcolor": "white",
           "caxis": {
            "gridcolor": "#DFE8F3",
            "linecolor": "#A2B1C6",
            "ticks": ""
           }
          },
          "title": {
           "x": 0.05
          },
          "xaxis": {
           "automargin": true,
           "gridcolor": "#EBF0F8",
           "linecolor": "#EBF0F8",
           "ticks": "",
           "title": {
            "standoff": 15
           },
           "zerolinecolor": "#EBF0F8",
           "zerolinewidth": 2
          },
          "yaxis": {
           "automargin": true,
           "gridcolor": "#EBF0F8",
           "linecolor": "#EBF0F8",
           "ticks": "",
           "title": {
            "standoff": 15
           },
           "zerolinecolor": "#EBF0F8",
           "zerolinewidth": 2
          }
         }
        },
        "title": {
         "text": "S&P 500 Market Momentum"
        },
        "xaxis": {
         "title": {
          "text": "Date"
         }
        },
        "yaxis": {
         "range": [
          4733.6315,
          7091.406000000001
         ],
         "title": {
          "text": "Score"
         }
        }
       }
      }
     },
     "metadata": {},
     "output_type": "display_data"
    },
    {
     "data": {
      "application/vnd.plotly.v1+json": {
       "config": {
        "plotlyServerURL": "https://plot.ly"
       },
       "data": [
        {
         "hoverinfo": "text+x",
         "line": {
          "color": "lightgray",
          "width": 2
         },
         "marker": {
          "color": [
           "red",
           "red",
           "red",
           "red",
           "red",
           "red",
           "gold",
           "gold",
           "gold",
           "red",
           "red",
           "red",
           "red",
           "red",
           "red",
           "darkred",
           "darkred",
           "darkred",
           "red",
           "green",
           "darkgreen",
           "darkgreen",
           "darkgreen",
           "darkgreen",
           "darkgreen",
           "darkgreen",
           "green",
           "green",
           "green",
           "green",
           "green",
           "green",
           "green",
           "darkgreen",
           "darkgreen",
           "darkgreen",
           "darkgreen",
           "darkgreen",
           "darkgreen",
           "darkgreen",
           "darkgreen",
           "green",
           "green",
           "darkgreen",
           "green",
           "green",
           "green",
           "green",
           "darkred",
           "darkred",
           "red",
           "gold",
           "green",
           "green",
           "gold",
           "red",
           "red",
           "red",
           "gold",
           "gold",
           "red",
           "red",
           "red",
           "red",
           "red",
           "gold",
           "gold",
           "gold",
           "green",
           "green",
           "green",
           "green",
           "red",
           "gold",
           "red",
           "gold",
           "gold",
           "red",
           "red",
           "gold",
           "gold",
           "gold",
           "gold",
           "gold",
           "gold",
           "green",
           "green",
           "green",
           "green",
           "gold",
           "red",
           "red",
           "red",
           "red",
           "darkred",
           "red",
           "darkred",
           "darkred",
           "darkred",
           "darkred",
           "darkred",
           "darkred",
           "darkred",
           "darkred",
           "darkred",
           "darkred",
           "red",
           "red",
           "red",
           "red",
           "red",
           "green",
           "green",
           "gold",
           "gold",
           "red",
           "darkred",
           "red",
           "red",
           "darkred",
           "darkred",
           "darkred",
           "darkred",
           "darkred",
           "darkred",
           "darkred",
           "darkred",
           "darkred",
           "darkred",
           "darkred",
           "darkred",
           "darkred",
           "darkred",
           "red",
           "gold",
           "gold",
           "green",
           "green",
           "green",
           "green",
           "green",
           "green",
           "green",
           "darkgreen",
           "darkgreen",
           "darkgreen",
           "darkgreen",
           "darkgreen",
           "darkgreen",
           "darkgreen",
           "darkgreen",
           "darkgreen",
           "darkgreen",
           "darkgreen",
           "green",
           "darkgreen",
           "darkgreen",
           "darkgreen",
           "darkgreen",
           "darkgreen",
           "darkgreen",
           "darkgreen",
           "darkgreen",
           "darkgreen",
           "darkgreen",
           "darkgreen",
           "darkgreen",
           "darkgreen",
           "darkgreen",
           "darkgreen",
           "green",
           "green",
           "green",
           "green",
           "darkgreen",
           "darkgreen",
           "darkgreen",
           "darkgreen",
           "darkgreen",
           "darkgreen",
           "darkgreen",
           "green",
           "green",
           "green",
           "green",
           "green",
           "green",
           "green",
           "green",
           "green",
           "green",
           "green",
           "green",
           "green",
           "green",
           "green",
           "green",
           "green",
           "green",
           "green",
           "green",
           "red",
           "gold",
           "gold",
           "gold",
           "green",
           "green",
           "green",
           "green",
           "green",
           "green",
           "green",
           "green",
           "green",
           "green",
           "gold",
           "green",
           "green",
           "green",
           "green",
           "green",
           "green",
           "red",
           "gold",
           "gold",
           "green",
           "green",
           "green",
           "gold",
           "green",
           "green",
           "gold",
           "red",
           "gold",
           "gold",
           "gold",
           "gold",
           "red",
           "gold",
           "red",
           "gold",
           "gold",
           "red",
           "red",
           "red",
           "red",
           "red",
           "red",
           "gold",
           "red",
           "darkred",
           "darkred",
           "darkred",
           "darkred",
           "darkred",
           "darkred",
           "darkred"
          ],
          "size": 8
         },
         "mode": "lines+markers",
         "name": "Market Volatility (VIX) Minus 50-day MA",
         "text": [
          "20.93 (Fear)",
          "20.46 (Fear)",
          "19.70 (Fear)",
          "20.64 (Fear)",
          "19.58 (Fear)",
          "19.11 (Fear)",
          "18.03 (Neutral)",
          "18.37 (Neutral)",
          "18.20 (Neutral)",
          "19.24 (Fear)",
          "19.08 (Fear)",
          "20.33 (Fear)",
          "19.80 (Fear)",
          "19.34 (Fear)",
          "20.35 (Fear)",
          "23.16 (Extreme Fear)",
          "21.88 (Extreme Fear)",
          "21.98 (Extreme Fear)",
          "20.49 (Fear)",
          "16.27 (Greed)",
          "15.20 (Extreme Greed)",
          "14.94 (Extreme Greed)",
          "14.97 (Extreme Greed)",
          "14.71 (Extreme Greed)",
          "14.02 (Extreme Greed)",
          "14.31 (Extreme Greed)",
          "16.14 (Greed)",
          "15.58 (Greed)",
          "16.35 (Greed)",
          "17.16 (Greed)",
          "16.87 (Greed)",
          "15.24 (Greed)",
          "14.60 (Greed)",
          "14.10 (Extreme Greed)",
          "14.10 (Extreme Greed)",
          "13.51 (Extreme Greed)",
          "13.34 (Extreme Greed)",
          "13.30 (Extreme Greed)",
          "13.45 (Extreme Greed)",
          "13.54 (Extreme Greed)",
          "12.77 (Extreme Greed)",
          "14.19 (Greed)",
          "14.18 (Greed)",
          "13.58 (Extreme Greed)",
          "13.92 (Greed)",
          "13.81 (Greed)",
          "14.69 (Greed)",
          "15.87 (Greed)",
          "27.62 (Extreme Fear)",
          "24.09 (Extreme Fear)",
          "18.36 (Fear)",
          "16.78 (Neutral)",
          "14.27 (Greed)",
          "14.73 (Greed)",
          "15.95 (Neutral)",
          "17.40 (Fear)",
          "17.35 (Fear)",
          "17.93 (Fear)",
          "16.13 (Neutral)",
          "16.04 (Neutral)",
          "17.82 (Fear)",
          "17.70 (Fear)",
          "19.54 (Fear)",
          "19.19 (Fear)",
          "18.71 (Fear)",
          "16.12 (Neutral)",
          "16.60 (Neutral)",
          "15.97 (Neutral)",
          "15.06 (Greed)",
          "15.10 (Greed)",
          "15.02 (Greed)",
          "14.85 (Greed)",
          "17.90 (Fear)",
          "16.41 (Neutral)",
          "16.56 (Fear)",
          "15.84 (Neutral)",
          "16.43 (Neutral)",
          "18.62 (Fear)",
          "17.21 (Fear)",
          "15.77 (Neutral)",
          "15.50 (Neutral)",
          "16.54 (Neutral)",
          "15.81 (Neutral)",
          "16.02 (Neutral)",
          "15.89 (Neutral)",
          "15.10 (Greed)",
          "14.77 (Greed)",
          "15.35 (Greed)",
          "15.27 (Greed)",
          "15.66 (Neutral)",
          "18.21 (Fear)",
          "18.98 (Fear)",
          "19.43 (Fear)",
          "19.10 (Fear)",
          "21.13 (Extreme Fear)",
          "19.63 (Fear)",
          "22.78 (Extreme Fear)",
          "23.51 (Extreme Fear)",
          "21.93 (Extreme Fear)",
          "24.87 (Extreme Fear)",
          "23.37 (Extreme Fear)",
          "27.86 (Extreme Fear)",
          "26.92 (Extreme Fear)",
          "24.23 (Extreme Fear)",
          "24.66 (Extreme Fear)",
          "21.77 (Extreme Fear)",
          "20.51 (Fear)",
          "21.70 (Fear)",
          "19.90 (Fear)",
          "19.80 (Fear)",
          "19.28 (Fear)",
          "17.48 (Greed)",
          "17.15 (Greed)",
          "18.33 (Neutral)",
          "18.69 (Neutral)",
          "21.65 (Fear)",
          "22.28 (Extreme Fear)",
          "21.77 (Fear)",
          "21.51 (Fear)",
          "30.02 (Extreme Fear)",
          "45.31 (Extreme Fear)",
          "46.98 (Extreme Fear)",
          "52.33 (Extreme Fear)",
          "33.62 (Extreme Fear)",
          "40.72 (Extreme Fear)",
          "37.56 (Extreme Fear)",
          "30.89 (Extreme Fear)",
          "30.12 (Extreme Fear)",
          "32.64 (Extreme Fear)",
          "29.65 (Extreme Fear)",
          "33.82 (Extreme Fear)",
          "30.57 (Extreme Fear)",
          "28.45 (Extreme Fear)",
          "26.47 (Fear)",
          "24.84 (Neutral)",
          "25.15 (Neutral)",
          "24.17 (Greed)",
          "24.70 (Greed)",
          "24.60 (Greed)",
          "22.68 (Greed)",
          "23.64 (Greed)",
          "24.76 (Greed)",
          "23.55 (Greed)",
          "22.48 (Extreme Greed)",
          "21.90 (Extreme Greed)",
          "18.39 (Extreme Greed)",
          "18.22 (Extreme Greed)",
          "18.62 (Extreme Greed)",
          "17.83 (Extreme Greed)",
          "17.24 (Extreme Greed)",
          "18.14 (Extreme Greed)",
          "18.09 (Extreme Greed)",
          "20.87 (Extreme Greed)",
          "20.28 (Extreme Greed)",
          "22.29 (Greed)",
          "18.96 (Extreme Greed)",
          "19.31 (Extreme Greed)",
          "19.18 (Extreme Greed)",
          "18.57 (Extreme Greed)",
          "18.36 (Extreme Greed)",
          "17.69 (Extreme Greed)",
          "17.61 (Extreme Greed)",
          "18.48 (Extreme Greed)",
          "16.77 (Extreme Greed)",
          "17.16 (Extreme Greed)",
          "16.95 (Extreme Greed)",
          "17.26 (Extreme Greed)",
          "18.02 (Extreme Greed)",
          "20.82 (Extreme Greed)",
          "19.11 (Extreme Greed)",
          "21.60 (Greed)",
          "20.14 (Greed)",
          "20.62 (Greed)",
          "19.83 (Greed)",
          "17.48 (Extreme Greed)",
          "16.76 (Extreme Greed)",
          "16.59 (Extreme Greed)",
          "16.32 (Extreme Greed)",
          "16.73 (Extreme Greed)",
          "16.83 (Extreme Greed)",
          "16.64 (Extreme Greed)",
          "16.38 (Greed)",
          "17.79 (Greed)",
          "16.81 (Greed)",
          "15.94 (Greed)",
          "15.78 (Greed)",
          "16.40 (Greed)",
          "17.20 (Greed)",
          "17.38 (Greed)",
          "17.16 (Greed)",
          "16.52 (Greed)",
          "16.41 (Greed)",
          "16.65 (Greed)",
          "16.50 (Greed)",
          "15.37 (Greed)",
          "15.39 (Greed)",
          "14.93 (Greed)",
          "15.03 (Greed)",
          "15.98 (Greed)",
          "15.48 (Greed)",
          "16.72 (Greed)",
          "20.38 (Fear)",
          "17.52 (Neutral)",
          "17.85 (Neutral)",
          "16.77 (Neutral)",
          "16.57 (Greed)",
          "15.15 (Greed)",
          "16.25 (Greed)",
          "14.73 (Greed)",
          "14.49 (Greed)",
          "14.83 (Greed)",
          "15.09 (Greed)",
          "14.99 (Greed)",
          "15.57 (Greed)",
          "15.69 (Greed)",
          "16.60 (Neutral)",
          "14.22 (Greed)",
          "14.79 (Greed)",
          "14.62 (Greed)",
          "14.85 (Greed)",
          "14.43 (Greed)",
          "15.36 (Greed)",
          "17.17 (Fear)",
          "16.35 (Neutral)",
          "15.30 (Neutral)",
          "15.18 (Greed)",
          "15.11 (Greed)",
          "15.04 (Greed)",
          "15.35 (Neutral)",
          "14.71 (Greed)",
          "14.76 (Greed)",
          "15.69 (Neutral)",
          "16.36 (Fear)",
          "15.72 (Neutral)",
          "15.70 (Neutral)",
          "15.45 (Neutral)",
          "16.10 (Neutral)",
          "16.64 (Fear)",
          "16.18 (Neutral)",
          "16.74 (Fear)",
          "15.29 (Neutral)",
          "16.12 (Neutral)",
          "16.28 (Fear)",
          "16.29 (Fear)",
          "16.63 (Fear)",
          "16.65 (Fear)",
          "16.37 (Fear)",
          "17.24 (Fear)",
          "16.30 (Neutral)",
          "16.43 (Fear)",
          "20.54 (Extreme Fear)",
          "20.54 (Extreme Fear)",
          "nan (Extreme Fear)",
          "nan (Extreme Fear)",
          "nan (Extreme Fear)",
          "nan (Extreme Fear)",
          "nan (Extreme Fear)"
         ],
         "type": "scatter",
         "x": [
          "2024-10-10T00:00:00.000000000",
          "2024-10-11T00:00:00.000000000",
          "2024-10-14T00:00:00.000000000",
          "2024-10-15T00:00:00.000000000",
          "2024-10-16T00:00:00.000000000",
          "2024-10-17T00:00:00.000000000",
          "2024-10-18T00:00:00.000000000",
          "2024-10-21T00:00:00.000000000",
          "2024-10-22T00:00:00.000000000",
          "2024-10-23T00:00:00.000000000",
          "2024-10-24T00:00:00.000000000",
          "2024-10-25T00:00:00.000000000",
          "2024-10-28T00:00:00.000000000",
          "2024-10-29T00:00:00.000000000",
          "2024-10-30T00:00:00.000000000",
          "2024-10-31T00:00:00.000000000",
          "2024-11-01T00:00:00.000000000",
          "2024-11-04T00:00:00.000000000",
          "2024-11-05T00:00:00.000000000",
          "2024-11-06T00:00:00.000000000",
          "2024-11-07T00:00:00.000000000",
          "2024-11-08T00:00:00.000000000",
          "2024-11-11T00:00:00.000000000",
          "2024-11-12T00:00:00.000000000",
          "2024-11-13T00:00:00.000000000",
          "2024-11-14T00:00:00.000000000",
          "2024-11-15T00:00:00.000000000",
          "2024-11-18T00:00:00.000000000",
          "2024-11-19T00:00:00.000000000",
          "2024-11-20T00:00:00.000000000",
          "2024-11-21T00:00:00.000000000",
          "2024-11-22T00:00:00.000000000",
          "2024-11-25T00:00:00.000000000",
          "2024-11-26T00:00:00.000000000",
          "2024-11-27T00:00:00.000000000",
          "2024-11-29T00:00:00.000000000",
          "2024-12-02T00:00:00.000000000",
          "2024-12-03T00:00:00.000000000",
          "2024-12-04T00:00:00.000000000",
          "2024-12-05T00:00:00.000000000",
          "2024-12-06T00:00:00.000000000",
          "2024-12-09T00:00:00.000000000",
          "2024-12-10T00:00:00.000000000",
          "2024-12-11T00:00:00.000000000",
          "2024-12-12T00:00:00.000000000",
          "2024-12-13T00:00:00.000000000",
          "2024-12-16T00:00:00.000000000",
          "2024-12-17T00:00:00.000000000",
          "2024-12-18T00:00:00.000000000",
          "2024-12-19T00:00:00.000000000",
          "2024-12-20T00:00:00.000000000",
          "2024-12-23T00:00:00.000000000",
          "2024-12-24T00:00:00.000000000",
          "2024-12-26T00:00:00.000000000",
          "2024-12-27T00:00:00.000000000",
          "2024-12-30T00:00:00.000000000",
          "2024-12-31T00:00:00.000000000",
          "2025-01-02T00:00:00.000000000",
          "2025-01-03T00:00:00.000000000",
          "2025-01-06T00:00:00.000000000",
          "2025-01-07T00:00:00.000000000",
          "2025-01-08T00:00:00.000000000",
          "2025-01-10T00:00:00.000000000",
          "2025-01-13T00:00:00.000000000",
          "2025-01-14T00:00:00.000000000",
          "2025-01-15T00:00:00.000000000",
          "2025-01-16T00:00:00.000000000",
          "2025-01-17T00:00:00.000000000",
          "2025-01-21T00:00:00.000000000",
          "2025-01-22T00:00:00.000000000",
          "2025-01-23T00:00:00.000000000",
          "2025-01-24T00:00:00.000000000",
          "2025-01-27T00:00:00.000000000",
          "2025-01-28T00:00:00.000000000",
          "2025-01-29T00:00:00.000000000",
          "2025-01-30T00:00:00.000000000",
          "2025-01-31T00:00:00.000000000",
          "2025-02-03T00:00:00.000000000",
          "2025-02-04T00:00:00.000000000",
          "2025-02-05T00:00:00.000000000",
          "2025-02-06T00:00:00.000000000",
          "2025-02-07T00:00:00.000000000",
          "2025-02-10T00:00:00.000000000",
          "2025-02-11T00:00:00.000000000",
          "2025-02-12T00:00:00.000000000",
          "2025-02-13T00:00:00.000000000",
          "2025-02-14T00:00:00.000000000",
          "2025-02-18T00:00:00.000000000",
          "2025-02-19T00:00:00.000000000",
          "2025-02-20T00:00:00.000000000",
          "2025-02-21T00:00:00.000000000",
          "2025-02-24T00:00:00.000000000",
          "2025-02-25T00:00:00.000000000",
          "2025-02-26T00:00:00.000000000",
          "2025-02-27T00:00:00.000000000",
          "2025-02-28T00:00:00.000000000",
          "2025-03-03T00:00:00.000000000",
          "2025-03-04T00:00:00.000000000",
          "2025-03-05T00:00:00.000000000",
          "2025-03-06T00:00:00.000000000",
          "2025-03-07T00:00:00.000000000",
          "2025-03-10T00:00:00.000000000",
          "2025-03-11T00:00:00.000000000",
          "2025-03-12T00:00:00.000000000",
          "2025-03-13T00:00:00.000000000",
          "2025-03-14T00:00:00.000000000",
          "2025-03-17T00:00:00.000000000",
          "2025-03-18T00:00:00.000000000",
          "2025-03-19T00:00:00.000000000",
          "2025-03-20T00:00:00.000000000",
          "2025-03-21T00:00:00.000000000",
          "2025-03-24T00:00:00.000000000",
          "2025-03-25T00:00:00.000000000",
          "2025-03-26T00:00:00.000000000",
          "2025-03-27T00:00:00.000000000",
          "2025-03-28T00:00:00.000000000",
          "2025-03-31T00:00:00.000000000",
          "2025-04-01T00:00:00.000000000",
          "2025-04-02T00:00:00.000000000",
          "2025-04-03T00:00:00.000000000",
          "2025-04-04T00:00:00.000000000",
          "2025-04-07T00:00:00.000000000",
          "2025-04-08T00:00:00.000000000",
          "2025-04-09T00:00:00.000000000",
          "2025-04-10T00:00:00.000000000",
          "2025-04-11T00:00:00.000000000",
          "2025-04-14T00:00:00.000000000",
          "2025-04-15T00:00:00.000000000",
          "2025-04-16T00:00:00.000000000",
          "2025-04-17T00:00:00.000000000",
          "2025-04-21T00:00:00.000000000",
          "2025-04-22T00:00:00.000000000",
          "2025-04-23T00:00:00.000000000",
          "2025-04-24T00:00:00.000000000",
          "2025-04-25T00:00:00.000000000",
          "2025-04-28T00:00:00.000000000",
          "2025-04-29T00:00:00.000000000",
          "2025-04-30T00:00:00.000000000",
          "2025-05-01T00:00:00.000000000",
          "2025-05-02T00:00:00.000000000",
          "2025-05-05T00:00:00.000000000",
          "2025-05-06T00:00:00.000000000",
          "2025-05-07T00:00:00.000000000",
          "2025-05-08T00:00:00.000000000",
          "2025-05-09T00:00:00.000000000",
          "2025-05-12T00:00:00.000000000",
          "2025-05-13T00:00:00.000000000",
          "2025-05-14T00:00:00.000000000",
          "2025-05-15T00:00:00.000000000",
          "2025-05-16T00:00:00.000000000",
          "2025-05-19T00:00:00.000000000",
          "2025-05-20T00:00:00.000000000",
          "2025-05-21T00:00:00.000000000",
          "2025-05-22T00:00:00.000000000",
          "2025-05-23T00:00:00.000000000",
          "2025-05-27T00:00:00.000000000",
          "2025-05-28T00:00:00.000000000",
          "2025-05-29T00:00:00.000000000",
          "2025-05-30T00:00:00.000000000",
          "2025-06-02T00:00:00.000000000",
          "2025-06-03T00:00:00.000000000",
          "2025-06-04T00:00:00.000000000",
          "2025-06-05T00:00:00.000000000",
          "2025-06-06T00:00:00.000000000",
          "2025-06-09T00:00:00.000000000",
          "2025-06-10T00:00:00.000000000",
          "2025-06-11T00:00:00.000000000",
          "2025-06-12T00:00:00.000000000",
          "2025-06-13T00:00:00.000000000",
          "2025-06-16T00:00:00.000000000",
          "2025-06-17T00:00:00.000000000",
          "2025-06-18T00:00:00.000000000",
          "2025-06-20T00:00:00.000000000",
          "2025-06-23T00:00:00.000000000",
          "2025-06-24T00:00:00.000000000",
          "2025-06-25T00:00:00.000000000",
          "2025-06-26T00:00:00.000000000",
          "2025-06-27T00:00:00.000000000",
          "2025-06-30T00:00:00.000000000",
          "2025-07-01T00:00:00.000000000",
          "2025-07-02T00:00:00.000000000",
          "2025-07-03T00:00:00.000000000",
          "2025-07-07T00:00:00.000000000",
          "2025-07-08T00:00:00.000000000",
          "2025-07-09T00:00:00.000000000",
          "2025-07-10T00:00:00.000000000",
          "2025-07-11T00:00:00.000000000",
          "2025-07-14T00:00:00.000000000",
          "2025-07-15T00:00:00.000000000",
          "2025-07-16T00:00:00.000000000",
          "2025-07-17T00:00:00.000000000",
          "2025-07-18T00:00:00.000000000",
          "2025-07-21T00:00:00.000000000",
          "2025-07-22T00:00:00.000000000",
          "2025-07-23T00:00:00.000000000",
          "2025-07-24T00:00:00.000000000",
          "2025-07-25T00:00:00.000000000",
          "2025-07-28T00:00:00.000000000",
          "2025-07-29T00:00:00.000000000",
          "2025-07-30T00:00:00.000000000",
          "2025-07-31T00:00:00.000000000",
          "2025-08-01T00:00:00.000000000",
          "2025-08-04T00:00:00.000000000",
          "2025-08-05T00:00:00.000000000",
          "2025-08-06T00:00:00.000000000",
          "2025-08-07T00:00:00.000000000",
          "2025-08-08T00:00:00.000000000",
          "2025-08-11T00:00:00.000000000",
          "2025-08-12T00:00:00.000000000",
          "2025-08-13T00:00:00.000000000",
          "2025-08-14T00:00:00.000000000",
          "2025-08-15T00:00:00.000000000",
          "2025-08-18T00:00:00.000000000",
          "2025-08-19T00:00:00.000000000",
          "2025-08-20T00:00:00.000000000",
          "2025-08-21T00:00:00.000000000",
          "2025-08-22T00:00:00.000000000",
          "2025-08-25T00:00:00.000000000",
          "2025-08-26T00:00:00.000000000",
          "2025-08-27T00:00:00.000000000",
          "2025-08-28T00:00:00.000000000",
          "2025-08-29T00:00:00.000000000",
          "2025-09-02T00:00:00.000000000",
          "2025-09-03T00:00:00.000000000",
          "2025-09-04T00:00:00.000000000",
          "2025-09-05T00:00:00.000000000",
          "2025-09-08T00:00:00.000000000",
          "2025-09-09T00:00:00.000000000",
          "2025-09-10T00:00:00.000000000",
          "2025-09-11T00:00:00.000000000",
          "2025-09-12T00:00:00.000000000",
          "2025-09-15T00:00:00.000000000",
          "2025-09-16T00:00:00.000000000",
          "2025-09-17T00:00:00.000000000",
          "2025-09-18T00:00:00.000000000",
          "2025-09-19T00:00:00.000000000",
          "2025-09-22T00:00:00.000000000",
          "2025-09-23T00:00:00.000000000",
          "2025-09-24T00:00:00.000000000",
          "2025-09-25T00:00:00.000000000",
          "2025-09-26T00:00:00.000000000",
          "2025-09-29T00:00:00.000000000",
          "2025-09-30T00:00:00.000000000",
          "2025-10-01T00:00:00.000000000",
          "2025-10-02T00:00:00.000000000",
          "2025-10-03T00:00:00.000000000",
          "2025-10-06T00:00:00.000000000",
          "2025-10-07T00:00:00.000000000",
          "2025-10-08T00:00:00.000000000",
          "2025-10-09T00:00:00.000000000",
          "2025-10-10T00:00:00.000000000",
          "2025-10-10T18:32:31.000000000",
          "2025-10-10T18:32:34.000000000",
          "2025-10-10T18:32:37.000000000",
          "2025-10-10T18:32:41.000000000",
          "2025-10-10T18:37:40.000000000",
          "2025-10-10T18:47:38.000000000"
         ],
         "y": {
          "bdata": "rkfhehTuNED2KFyPwnU0QDMzMzMzszNApHA9CtejNEAUrkfhepQzQFyPwvUoHDNASOF6FK4HMkAfhetRuF4yQDMzMzMzMzJAPQrXo3A9M0AUrkfhehQzQBSuR+F6VDRAzczMzMzMM0DXo3A9ClczQJqZmZmZWTRAKVyPwvUoN0DhehSuR+E1QHsUrkfh+jVAPQrXo3B9NECF61G4HkUwQGZmZmZmZi5A4XoUrkfhLUBxPQrXo/AtQOxRuB6Fay1ACtejcD0KLEAfhetRuJ4sQKRwPQrXIzBAKVyPwvUoL0CamZmZmVkwQClcj8L1KDFAH4XrUbjeMEB7FK5H4XouQDMzMzMzMy1AMzMzMzMzLEAzMzMzMzMsQIXrUbgeBStArkfhehSuKkCamZmZmZkqQGZmZmZm5ipAFK5H4XoUK0AK16NwPYopQOF6FK5HYSxAXI/C9ShcLEApXI/C9SgrQNejcD0K1ytAH4XrUbieK0DhehSuR2EtQD0K16NwvS9AH4XrUbieO0DXo3A9Chc4QFyPwvUoXDJASOF6FK7HMEAK16NwPYosQPYoXI/CdS1AZmZmZmbmL0BmZmZmZmYxQJqZmZmZWTFArkfhehTuMUDhehSuRyEwQArXo3A9CjBAUrgehevRMUAzMzMzM7MxQArXo3A9ijNAcT0K16MwM0D2KFyPwrUyQB+F61G4HjBAmpmZmZmZMEBxPQrXo/AvQB+F61G4Hi5AMzMzMzMzLkAK16NwPQouQDMzMzMzsy1AZmZmZmbmMUApXI/C9WgwQI/C9ShcjzBArkfhehSuL0CuR+F6FG4wQB+F61G4njJA9ihcj8I1MUAK16NwPYovQAAAAAAAAC9ACtejcD2KMEAfhetRuJ4vQIXrUbgeBTBASOF6FK7HL0AzMzMzMzMuQArXo3A9ii1AMzMzMzOzLkAK16NwPYouQFK4HoXrUS9A9ihcj8I1MkB7FK5H4foyQK5H4XoUbjNAmpmZmZkZM0DhehSuRyE1QOF6FK5HoTNASOF6FK7HNkDD9Shcj4I3QK5H4XoU7jVAH4XrUbjeOEAfhetRuF43QFyPwvUo3DtA7FG4HoXrOkB7FK5H4To4QClcj8L1qDhAhetRuB7FNUDD9Shcj4I0QDMzMzMzszVAZmZmZmbmM0DNzMzMzMwzQEjhehSuRzNAexSuR+F6MUBmZmZmZiYxQBSuR+F6VDJAcT0K16OwMkBmZmZmZqY1QEjhehSuRzZAhetRuB7FNUDD9Shcj4I1QIXrUbgeBT5ASOF6FK6nRkA9CtejcH1HQArXo3A9KkpAj8L1KFzPQEBcj8L1KFxEQEjhehSux0JApHA9CtfjPkAfhetRuB4+QFK4HoXrUUBAZmZmZmamPUApXI/C9ehAQFK4HoXrkT5AMzMzMzNzPEC4HoXrUXg6QNejcD0K1zhAZmZmZmYmOUDsUbgehSs4QDMzMzMzszhAmpmZmZmZOECuR+F6FK42QKRwPQrXozdAw/UoXI/COEDNzMzMzIw3QHsUrkfhejZAZmZmZmbmNUCkcD0K12MyQLgehetRODJAH4XrUbieMkAUrkfhetQxQD0K16NwPTFApHA9CtcjMkDXo3A9ChcyQB+F61G43jRASOF6FK5HNEAK16NwPUo2QPYoXI/C9TJAj8L1KFxPM0CuR+F6FC4zQFK4HoXrkTJAXI/C9ShcMkBxPQrXo7AxQFyPwvUonDFAexSuR+F6MkCF61G4HsUwQClcj8L1KDFAMzMzMzPzMEDD9Shcj0IxQIXrUbgeBTJAUrgehevRNEBcj8L1KBwzQJqZmZmZmTVApHA9CtcjNEAfhetRuJ40QBSuR+F61DNAexSuR+F6MUDD9Shcj8IwQNejcD0KlzBAUrgehetRMEB7FK5H4bowQBSuR+F61DBApHA9CtejMEDhehSuR2EwQArXo3A9yjFAj8L1KFzPMEDhehSuR+EvQI/C9Shcjy9AZmZmZmZmMEAzMzMzMzMxQOF6FK5HYTFAKVyPwvUoMUCF61G4HoUwQClcj8L1aDBAZmZmZmamMEAAAAAAAIAwQD0K16NwvS5ASOF6FK7HLkBcj8L1KNwtQI/C9ShcDy5A9ihcj8L1L0D2KFyPwvUuQLgehetRuDBA4XoUrkdhNECF61G4HoUxQJqZmZmZ2TFAhetRuB7FMEBSuB6F65EwQM3MzMzMTC5AAAAAAABAMED2KFyPwnUtQHsUrkfh+ixAKVyPwvWoLUCuR+F6FC4uQHsUrkfh+i1ApHA9CtcjL0DhehSuR2EvQJqZmZmZmTBAcT0K16NwLEAUrkfhepQtQD0K16NwPS1AMzMzMzOzLUBcj8L1KNwsQLgehetRuC5A7FG4HoUrMUCamZmZmVkwQJqZmZmZmS5AXI/C9ShcLkC4HoXrUTguQBSuR+F6FC5AMzMzMzOzLkDsUbgehWstQIXrUbgehS1A4XoUrkdhL0Bcj8L1KFwwQHE9CtejcC9AZmZmZmZmL0BmZmZmZuYuQJqZmZmZGTBApHA9CtejMECuR+F6FC4wQD0K16NwvTBAFK5H4XqULkAfhetRuB4wQEjhehSuRzBACtejcD1KMEDhehSuR6EwQGZmZmZmpjBAH4XrUbheMEA9CtejcD0xQM3MzMzMTDBArkfhehRuMEAK16NwPYo0QArXo3A9ijRAAAAAAAAA+H8AAAAAAAD4fwAAAAAAAPh/AAAAAAAA+H8AAAAAAAD4fw==",
          "dtype": "f8"
         }
        },
        {
         "line": {
          "color": "orange",
          "width": 4
         },
         "mode": "lines",
         "name": "VIX 50 MA",
         "type": "scatter",
         "x": [
          "2024-10-10T00:00:00.000000000",
          "2024-10-11T00:00:00.000000000",
          "2024-10-14T00:00:00.000000000",
          "2024-10-15T00:00:00.000000000",
          "2024-10-16T00:00:00.000000000",
          "2024-10-17T00:00:00.000000000",
          "2024-10-18T00:00:00.000000000",
          "2024-10-21T00:00:00.000000000",
          "2024-10-22T00:00:00.000000000",
          "2024-10-23T00:00:00.000000000",
          "2024-10-24T00:00:00.000000000",
          "2024-10-25T00:00:00.000000000",
          "2024-10-28T00:00:00.000000000",
          "2024-10-29T00:00:00.000000000",
          "2024-10-30T00:00:00.000000000",
          "2024-10-31T00:00:00.000000000",
          "2024-11-01T00:00:00.000000000",
          "2024-11-04T00:00:00.000000000",
          "2024-11-05T00:00:00.000000000",
          "2024-11-06T00:00:00.000000000",
          "2024-11-07T00:00:00.000000000",
          "2024-11-08T00:00:00.000000000",
          "2024-11-11T00:00:00.000000000",
          "2024-11-12T00:00:00.000000000",
          "2024-11-13T00:00:00.000000000",
          "2024-11-14T00:00:00.000000000",
          "2024-11-15T00:00:00.000000000",
          "2024-11-18T00:00:00.000000000",
          "2024-11-19T00:00:00.000000000",
          "2024-11-20T00:00:00.000000000",
          "2024-11-21T00:00:00.000000000",
          "2024-11-22T00:00:00.000000000",
          "2024-11-25T00:00:00.000000000",
          "2024-11-26T00:00:00.000000000",
          "2024-11-27T00:00:00.000000000",
          "2024-11-29T00:00:00.000000000",
          "2024-12-02T00:00:00.000000000",
          "2024-12-03T00:00:00.000000000",
          "2024-12-04T00:00:00.000000000",
          "2024-12-05T00:00:00.000000000",
          "2024-12-06T00:00:00.000000000",
          "2024-12-09T00:00:00.000000000",
          "2024-12-10T00:00:00.000000000",
          "2024-12-11T00:00:00.000000000",
          "2024-12-12T00:00:00.000000000",
          "2024-12-13T00:00:00.000000000",
          "2024-12-16T00:00:00.000000000",
          "2024-12-17T00:00:00.000000000",
          "2024-12-18T00:00:00.000000000",
          "2024-12-19T00:00:00.000000000",
          "2024-12-20T00:00:00.000000000",
          "2024-12-23T00:00:00.000000000",
          "2024-12-24T00:00:00.000000000",
          "2024-12-26T00:00:00.000000000",
          "2024-12-27T00:00:00.000000000",
          "2024-12-30T00:00:00.000000000",
          "2024-12-31T00:00:00.000000000",
          "2025-01-02T00:00:00.000000000",
          "2025-01-03T00:00:00.000000000",
          "2025-01-06T00:00:00.000000000",
          "2025-01-07T00:00:00.000000000",
          "2025-01-08T00:00:00.000000000",
          "2025-01-10T00:00:00.000000000",
          "2025-01-13T00:00:00.000000000",
          "2025-01-14T00:00:00.000000000",
          "2025-01-15T00:00:00.000000000",
          "2025-01-16T00:00:00.000000000",
          "2025-01-17T00:00:00.000000000",
          "2025-01-21T00:00:00.000000000",
          "2025-01-22T00:00:00.000000000",
          "2025-01-23T00:00:00.000000000",
          "2025-01-24T00:00:00.000000000",
          "2025-01-27T00:00:00.000000000",
          "2025-01-28T00:00:00.000000000",
          "2025-01-29T00:00:00.000000000",
          "2025-01-30T00:00:00.000000000",
          "2025-01-31T00:00:00.000000000",
          "2025-02-03T00:00:00.000000000",
          "2025-02-04T00:00:00.000000000",
          "2025-02-05T00:00:00.000000000",
          "2025-02-06T00:00:00.000000000",
          "2025-02-07T00:00:00.000000000",
          "2025-02-10T00:00:00.000000000",
          "2025-02-11T00:00:00.000000000",
          "2025-02-12T00:00:00.000000000",
          "2025-02-13T00:00:00.000000000",
          "2025-02-14T00:00:00.000000000",
          "2025-02-18T00:00:00.000000000",
          "2025-02-19T00:00:00.000000000",
          "2025-02-20T00:00:00.000000000",
          "2025-02-21T00:00:00.000000000",
          "2025-02-24T00:00:00.000000000",
          "2025-02-25T00:00:00.000000000",
          "2025-02-26T00:00:00.000000000",
          "2025-02-27T00:00:00.000000000",
          "2025-02-28T00:00:00.000000000",
          "2025-03-03T00:00:00.000000000",
          "2025-03-04T00:00:00.000000000",
          "2025-03-05T00:00:00.000000000",
          "2025-03-06T00:00:00.000000000",
          "2025-03-07T00:00:00.000000000",
          "2025-03-10T00:00:00.000000000",
          "2025-03-11T00:00:00.000000000",
          "2025-03-12T00:00:00.000000000",
          "2025-03-13T00:00:00.000000000",
          "2025-03-14T00:00:00.000000000",
          "2025-03-17T00:00:00.000000000",
          "2025-03-18T00:00:00.000000000",
          "2025-03-19T00:00:00.000000000",
          "2025-03-20T00:00:00.000000000",
          "2025-03-21T00:00:00.000000000",
          "2025-03-24T00:00:00.000000000",
          "2025-03-25T00:00:00.000000000",
          "2025-03-26T00:00:00.000000000",
          "2025-03-27T00:00:00.000000000",
          "2025-03-28T00:00:00.000000000",
          "2025-03-31T00:00:00.000000000",
          "2025-04-01T00:00:00.000000000",
          "2025-04-02T00:00:00.000000000",
          "2025-04-03T00:00:00.000000000",
          "2025-04-04T00:00:00.000000000",
          "2025-04-07T00:00:00.000000000",
          "2025-04-08T00:00:00.000000000",
          "2025-04-09T00:00:00.000000000",
          "2025-04-10T00:00:00.000000000",
          "2025-04-11T00:00:00.000000000",
          "2025-04-14T00:00:00.000000000",
          "2025-04-15T00:00:00.000000000",
          "2025-04-16T00:00:00.000000000",
          "2025-04-17T00:00:00.000000000",
          "2025-04-21T00:00:00.000000000",
          "2025-04-22T00:00:00.000000000",
          "2025-04-23T00:00:00.000000000",
          "2025-04-24T00:00:00.000000000",
          "2025-04-25T00:00:00.000000000",
          "2025-04-28T00:00:00.000000000",
          "2025-04-29T00:00:00.000000000",
          "2025-04-30T00:00:00.000000000",
          "2025-05-01T00:00:00.000000000",
          "2025-05-02T00:00:00.000000000",
          "2025-05-05T00:00:00.000000000",
          "2025-05-06T00:00:00.000000000",
          "2025-05-07T00:00:00.000000000",
          "2025-05-08T00:00:00.000000000",
          "2025-05-09T00:00:00.000000000",
          "2025-05-12T00:00:00.000000000",
          "2025-05-13T00:00:00.000000000",
          "2025-05-14T00:00:00.000000000",
          "2025-05-15T00:00:00.000000000",
          "2025-05-16T00:00:00.000000000",
          "2025-05-19T00:00:00.000000000",
          "2025-05-20T00:00:00.000000000",
          "2025-05-21T00:00:00.000000000",
          "2025-05-22T00:00:00.000000000",
          "2025-05-23T00:00:00.000000000",
          "2025-05-27T00:00:00.000000000",
          "2025-05-28T00:00:00.000000000",
          "2025-05-29T00:00:00.000000000",
          "2025-05-30T00:00:00.000000000",
          "2025-06-02T00:00:00.000000000",
          "2025-06-03T00:00:00.000000000",
          "2025-06-04T00:00:00.000000000",
          "2025-06-05T00:00:00.000000000",
          "2025-06-06T00:00:00.000000000",
          "2025-06-09T00:00:00.000000000",
          "2025-06-10T00:00:00.000000000",
          "2025-06-11T00:00:00.000000000",
          "2025-06-12T00:00:00.000000000",
          "2025-06-13T00:00:00.000000000",
          "2025-06-16T00:00:00.000000000",
          "2025-06-17T00:00:00.000000000",
          "2025-06-18T00:00:00.000000000",
          "2025-06-20T00:00:00.000000000",
          "2025-06-23T00:00:00.000000000",
          "2025-06-24T00:00:00.000000000",
          "2025-06-25T00:00:00.000000000",
          "2025-06-26T00:00:00.000000000",
          "2025-06-27T00:00:00.000000000",
          "2025-06-30T00:00:00.000000000",
          "2025-07-01T00:00:00.000000000",
          "2025-07-02T00:00:00.000000000",
          "2025-07-03T00:00:00.000000000",
          "2025-07-07T00:00:00.000000000",
          "2025-07-08T00:00:00.000000000",
          "2025-07-09T00:00:00.000000000",
          "2025-07-10T00:00:00.000000000",
          "2025-07-11T00:00:00.000000000",
          "2025-07-14T00:00:00.000000000",
          "2025-07-15T00:00:00.000000000",
          "2025-07-16T00:00:00.000000000",
          "2025-07-17T00:00:00.000000000",
          "2025-07-18T00:00:00.000000000",
          "2025-07-21T00:00:00.000000000",
          "2025-07-22T00:00:00.000000000",
          "2025-07-23T00:00:00.000000000",
          "2025-07-24T00:00:00.000000000",
          "2025-07-25T00:00:00.000000000",
          "2025-07-28T00:00:00.000000000",
          "2025-07-29T00:00:00.000000000",
          "2025-07-30T00:00:00.000000000",
          "2025-07-31T00:00:00.000000000",
          "2025-08-01T00:00:00.000000000",
          "2025-08-04T00:00:00.000000000",
          "2025-08-05T00:00:00.000000000",
          "2025-08-06T00:00:00.000000000",
          "2025-08-07T00:00:00.000000000",
          "2025-08-08T00:00:00.000000000",
          "2025-08-11T00:00:00.000000000",
          "2025-08-12T00:00:00.000000000",
          "2025-08-13T00:00:00.000000000",
          "2025-08-14T00:00:00.000000000",
          "2025-08-15T00:00:00.000000000",
          "2025-08-18T00:00:00.000000000",
          "2025-08-19T00:00:00.000000000",
          "2025-08-20T00:00:00.000000000",
          "2025-08-21T00:00:00.000000000",
          "2025-08-22T00:00:00.000000000",
          "2025-08-25T00:00:00.000000000",
          "2025-08-26T00:00:00.000000000",
          "2025-08-27T00:00:00.000000000",
          "2025-08-28T00:00:00.000000000",
          "2025-08-29T00:00:00.000000000",
          "2025-09-02T00:00:00.000000000",
          "2025-09-03T00:00:00.000000000",
          "2025-09-04T00:00:00.000000000",
          "2025-09-05T00:00:00.000000000",
          "2025-09-08T00:00:00.000000000",
          "2025-09-09T00:00:00.000000000",
          "2025-09-10T00:00:00.000000000",
          "2025-09-11T00:00:00.000000000",
          "2025-09-12T00:00:00.000000000",
          "2025-09-15T00:00:00.000000000",
          "2025-09-16T00:00:00.000000000",
          "2025-09-17T00:00:00.000000000",
          "2025-09-18T00:00:00.000000000",
          "2025-09-19T00:00:00.000000000",
          "2025-09-22T00:00:00.000000000",
          "2025-09-23T00:00:00.000000000",
          "2025-09-24T00:00:00.000000000",
          "2025-09-25T00:00:00.000000000",
          "2025-09-26T00:00:00.000000000",
          "2025-09-29T00:00:00.000000000",
          "2025-09-30T00:00:00.000000000",
          "2025-10-01T00:00:00.000000000",
          "2025-10-02T00:00:00.000000000",
          "2025-10-03T00:00:00.000000000",
          "2025-10-06T00:00:00.000000000",
          "2025-10-07T00:00:00.000000000",
          "2025-10-08T00:00:00.000000000",
          "2025-10-09T00:00:00.000000000",
          "2025-10-10T00:00:00.000000000",
          "2025-10-10T18:32:31.000000000",
          "2025-10-10T18:32:34.000000000",
          "2025-10-10T18:32:37.000000000",
          "2025-10-10T18:32:41.000000000",
          "2025-10-10T18:37:40.000000000",
          "2025-10-10T18:47:38.000000000"
         ],
         "y": {
          "bdata": "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",
          "dtype": "f8"
         }
        }
       ],
       "layout": {
        "template": {
         "data": {
          "bar": [
           {
            "error_x": {
             "color": "#2a3f5f"
            },
            "error_y": {
             "color": "#2a3f5f"
            },
            "marker": {
             "line": {
              "color": "white",
              "width": 0.5
             },
             "pattern": {
              "fillmode": "overlay",
              "size": 10,
              "solidity": 0.2
             }
            },
            "type": "bar"
           }
          ],
          "barpolar": [
           {
            "marker": {
             "line": {
              "color": "white",
              "width": 0.5
             },
             "pattern": {
              "fillmode": "overlay",
              "size": 10,
              "solidity": 0.2
             }
            },
            "type": "barpolar"
           }
          ],
          "carpet": [
           {
            "aaxis": {
             "endlinecolor": "#2a3f5f",
             "gridcolor": "#C8D4E3",
             "linecolor": "#C8D4E3",
             "minorgridcolor": "#C8D4E3",
             "startlinecolor": "#2a3f5f"
            },
            "baxis": {
             "endlinecolor": "#2a3f5f",
             "gridcolor": "#C8D4E3",
             "linecolor": "#C8D4E3",
             "minorgridcolor": "#C8D4E3",
             "startlinecolor": "#2a3f5f"
            },
            "type": "carpet"
           }
          ],
          "choropleth": [
           {
            "colorbar": {
             "outlinewidth": 0,
             "ticks": ""
            },
            "type": "choropleth"
           }
          ],
          "contour": [
           {
            "colorbar": {
             "outlinewidth": 0,
             "ticks": ""
            },
            "colorscale": [
             [
              0,
              "#0d0887"
             ],
             [
              0.1111111111111111,
              "#46039f"
             ],
             [
              0.2222222222222222,
              "#7201a8"
             ],
             [
              0.3333333333333333,
              "#9c179e"
             ],
             [
              0.4444444444444444,
              "#bd3786"
             ],
             [
              0.5555555555555556,
              "#d8576b"
             ],
             [
              0.6666666666666666,
              "#ed7953"
             ],
             [
              0.7777777777777778,
              "#fb9f3a"
             ],
             [
              0.8888888888888888,
              "#fdca26"
             ],
             [
              1,
              "#f0f921"
             ]
            ],
            "type": "contour"
           }
          ],
          "contourcarpet": [
           {
            "colorbar": {
             "outlinewidth": 0,
             "ticks": ""
            },
            "type": "contourcarpet"
           }
          ],
          "heatmap": [
           {
            "colorbar": {
             "outlinewidth": 0,
             "ticks": ""
            },
            "colorscale": [
             [
              0,
              "#0d0887"
             ],
             [
              0.1111111111111111,
              "#46039f"
             ],
             [
              0.2222222222222222,
              "#7201a8"
             ],
             [
              0.3333333333333333,
              "#9c179e"
             ],
             [
              0.4444444444444444,
              "#bd3786"
             ],
             [
              0.5555555555555556,
              "#d8576b"
             ],
             [
              0.6666666666666666,
              "#ed7953"
             ],
             [
              0.7777777777777778,
              "#fb9f3a"
             ],
             [
              0.8888888888888888,
              "#fdca26"
             ],
             [
              1,
              "#f0f921"
             ]
            ],
            "type": "heatmap"
           }
          ],
          "histogram": [
           {
            "marker": {
             "pattern": {
              "fillmode": "overlay",
              "size": 10,
              "solidity": 0.2
             }
            },
            "type": "histogram"
           }
          ],
          "histogram2d": [
           {
            "colorbar": {
             "outlinewidth": 0,
             "ticks": ""
            },
            "colorscale": [
             [
              0,
              "#0d0887"
             ],
             [
              0.1111111111111111,
              "#46039f"
             ],
             [
              0.2222222222222222,
              "#7201a8"
             ],
             [
              0.3333333333333333,
              "#9c179e"
             ],
             [
              0.4444444444444444,
              "#bd3786"
             ],
             [
              0.5555555555555556,
              "#d8576b"
             ],
             [
              0.6666666666666666,
              "#ed7953"
             ],
             [
              0.7777777777777778,
              "#fb9f3a"
             ],
             [
              0.8888888888888888,
              "#fdca26"
             ],
             [
              1,
              "#f0f921"
             ]
            ],
            "type": "histogram2d"
           }
          ],
          "histogram2dcontour": [
           {
            "colorbar": {
             "outlinewidth": 0,
             "ticks": ""
            },
            "colorscale": [
             [
              0,
              "#0d0887"
             ],
             [
              0.1111111111111111,
              "#46039f"
             ],
             [
              0.2222222222222222,
              "#7201a8"
             ],
             [
              0.3333333333333333,
              "#9c179e"
             ],
             [
              0.4444444444444444,
              "#bd3786"
             ],
             [
              0.5555555555555556,
              "#d8576b"
             ],
             [
              0.6666666666666666,
              "#ed7953"
             ],
             [
              0.7777777777777778,
              "#fb9f3a"
             ],
             [
              0.8888888888888888,
              "#fdca26"
             ],
             [
              1,
              "#f0f921"
             ]
            ],
            "type": "histogram2dcontour"
           }
          ],
          "mesh3d": [
           {
            "colorbar": {
             "outlinewidth": 0,
             "ticks": ""
            },
            "type": "mesh3d"
           }
          ],
          "parcoords": [
           {
            "line": {
             "colorbar": {
              "outlinewidth": 0,
              "ticks": ""
             }
            },
            "type": "parcoords"
           }
          ],
          "pie": [
           {
            "automargin": true,
            "type": "pie"
           }
          ],
          "scatter": [
           {
            "fillpattern": {
             "fillmode": "overlay",
             "size": 10,
             "solidity": 0.2
            },
            "type": "scatter"
           }
          ],
          "scatter3d": [
           {
            "line": {
             "colorbar": {
              "outlinewidth": 0,
              "ticks": ""
             }
            },
            "marker": {
             "colorbar": {
              "outlinewidth": 0,
              "ticks": ""
             }
            },
            "type": "scatter3d"
           }
          ],
          "scattercarpet": [
           {
            "marker": {
             "colorbar": {
              "outlinewidth": 0,
              "ticks": ""
             }
            },
            "type": "scattercarpet"
           }
          ],
          "scattergeo": [
           {
            "marker": {
             "colorbar": {
              "outlinewidth": 0,
              "ticks": ""
             }
            },
            "type": "scattergeo"
           }
          ],
          "scattergl": [
           {
            "marker": {
             "colorbar": {
              "outlinewidth": 0,
              "ticks": ""
             }
            },
            "type": "scattergl"
           }
          ],
          "scattermap": [
           {
            "marker": {
             "colorbar": {
              "outlinewidth": 0,
              "ticks": ""
             }
            },
            "type": "scattermap"
           }
          ],
          "scattermapbox": [
           {
            "marker": {
             "colorbar": {
              "outlinewidth": 0,
              "ticks": ""
             }
            },
            "type": "scattermapbox"
           }
          ],
          "scatterpolar": [
           {
            "marker": {
             "colorbar": {
              "outlinewidth": 0,
              "ticks": ""
             }
            },
            "type": "scatterpolar"
           }
          ],
          "scatterpolargl": [
           {
            "marker": {
             "colorbar": {
              "outlinewidth": 0,
              "ticks": ""
             }
            },
            "type": "scatterpolargl"
           }
          ],
          "scatterternary": [
           {
            "marker": {
             "colorbar": {
              "outlinewidth": 0,
              "ticks": ""
             }
            },
            "type": "scatterternary"
           }
          ],
          "surface": [
           {
            "colorbar": {
             "outlinewidth": 0,
             "ticks": ""
            },
            "colorscale": [
             [
              0,
              "#0d0887"
             ],
             [
              0.1111111111111111,
              "#46039f"
             ],
             [
              0.2222222222222222,
              "#7201a8"
             ],
             [
              0.3333333333333333,
              "#9c179e"
             ],
             [
              0.4444444444444444,
              "#bd3786"
             ],
             [
              0.5555555555555556,
              "#d8576b"
             ],
             [
              0.6666666666666666,
              "#ed7953"
             ],
             [
              0.7777777777777778,
              "#fb9f3a"
             ],
             [
              0.8888888888888888,
              "#fdca26"
             ],
             [
              1,
              "#f0f921"
             ]
            ],
            "type": "surface"
           }
          ],
          "table": [
           {
            "cells": {
             "fill": {
              "color": "#EBF0F8"
             },
             "line": {
              "color": "white"
             }
            },
            "header": {
             "fill": {
              "color": "#C8D4E3"
             },
             "line": {
              "color": "white"
             }
            },
            "type": "table"
           }
          ]
         },
         "layout": {
          "annotationdefaults": {
           "arrowcolor": "#2a3f5f",
           "arrowhead": 0,
           "arrowwidth": 1
          },
          "autotypenumbers": "strict",
          "coloraxis": {
           "colorbar": {
            "outlinewidth": 0,
            "ticks": ""
           }
          },
          "colorscale": {
           "diverging": [
            [
             0,
             "#8e0152"
            ],
            [
             0.1,
             "#c51b7d"
            ],
            [
             0.2,
             "#de77ae"
            ],
            [
             0.3,
             "#f1b6da"
            ],
            [
             0.4,
             "#fde0ef"
            ],
            [
             0.5,
             "#f7f7f7"
            ],
            [
             0.6,
             "#e6f5d0"
            ],
            [
             0.7,
             "#b8e186"
            ],
            [
             0.8,
             "#7fbc41"
            ],
            [
             0.9,
             "#4d9221"
            ],
            [
             1,
             "#276419"
            ]
           ],
           "sequential": [
            [
             0,
             "#0d0887"
            ],
            [
             0.1111111111111111,
             "#46039f"
            ],
            [
             0.2222222222222222,
             "#7201a8"
            ],
            [
             0.3333333333333333,
             "#9c179e"
            ],
            [
             0.4444444444444444,
             "#bd3786"
            ],
            [
             0.5555555555555556,
             "#d8576b"
            ],
            [
             0.6666666666666666,
             "#ed7953"
            ],
            [
             0.7777777777777778,
             "#fb9f3a"
            ],
            [
             0.8888888888888888,
             "#fdca26"
            ],
            [
             1,
             "#f0f921"
            ]
           ],
           "sequentialminus": [
            [
             0,
             "#0d0887"
            ],
            [
             0.1111111111111111,
             "#46039f"
            ],
            [
             0.2222222222222222,
             "#7201a8"
            ],
            [
             0.3333333333333333,
             "#9c179e"
            ],
            [
             0.4444444444444444,
             "#bd3786"
            ],
            [
             0.5555555555555556,
             "#d8576b"
            ],
            [
             0.6666666666666666,
             "#ed7953"
            ],
            [
             0.7777777777777778,
             "#fb9f3a"
            ],
            [
             0.8888888888888888,
             "#fdca26"
            ],
            [
             1,
             "#f0f921"
            ]
           ]
          },
          "colorway": [
           "#636efa",
           "#EF553B",
           "#00cc96",
           "#ab63fa",
           "#FFA15A",
           "#19d3f3",
           "#FF6692",
           "#B6E880",
           "#FF97FF",
           "#FECB52"
          ],
          "font": {
           "color": "#2a3f5f"
          },
          "geo": {
           "bgcolor": "white",
           "lakecolor": "white",
           "landcolor": "white",
           "showlakes": true,
           "showland": true,
           "subunitcolor": "#C8D4E3"
          },
          "hoverlabel": {
           "align": "left"
          },
          "hovermode": "closest",
          "mapbox": {
           "style": "light"
          },
          "paper_bgcolor": "white",
          "plot_bgcolor": "white",
          "polar": {
           "angularaxis": {
            "gridcolor": "#EBF0F8",
            "linecolor": "#EBF0F8",
            "ticks": ""
           },
           "bgcolor": "white",
           "radialaxis": {
            "gridcolor": "#EBF0F8",
            "linecolor": "#EBF0F8",
            "ticks": ""
           }
          },
          "scene": {
           "xaxis": {
            "backgroundcolor": "white",
            "gridcolor": "#DFE8F3",
            "gridwidth": 2,
            "linecolor": "#EBF0F8",
            "showbackground": true,
            "ticks": "",
            "zerolinecolor": "#EBF0F8"
           },
           "yaxis": {
            "backgroundcolor": "white",
            "gridcolor": "#DFE8F3",
            "gridwidth": 2,
            "linecolor": "#EBF0F8",
            "showbackground": true,
            "ticks": "",
            "zerolinecolor": "#EBF0F8"
           },
           "zaxis": {
            "backgroundcolor": "white",
            "gridcolor": "#DFE8F3",
            "gridwidth": 2,
            "linecolor": "#EBF0F8",
            "showbackground": true,
            "ticks": "",
            "zerolinecolor": "#EBF0F8"
           }
          },
          "shapedefaults": {
           "line": {
            "color": "#2a3f5f"
           }
          },
          "ternary": {
           "aaxis": {
            "gridcolor": "#DFE8F3",
            "linecolor": "#A2B1C6",
            "ticks": ""
           },
           "baxis": {
            "gridcolor": "#DFE8F3",
            "linecolor": "#A2B1C6",
            "ticks": ""
           },
           "bgcolor": "white",
           "caxis": {
            "gridcolor": "#DFE8F3",
            "linecolor": "#A2B1C6",
            "ticks": ""
           }
          },
          "title": {
           "x": 0.05
          },
          "xaxis": {
           "automargin": true,
           "gridcolor": "#EBF0F8",
           "linecolor": "#EBF0F8",
           "ticks": "",
           "title": {
            "standoff": 15
           },
           "zerolinecolor": "#EBF0F8",
           "zerolinewidth": 2
          },
          "yaxis": {
           "automargin": true,
           "gridcolor": "#EBF0F8",
           "linecolor": "#EBF0F8",
           "ticks": "",
           "title": {
            "standoff": 15
           },
           "zerolinecolor": "#EBF0F8",
           "zerolinewidth": 2
          }
         }
        },
        "title": {
         "text": "Market Volatility (VIX) Minus 50-day MA"
        },
        "xaxis": {
         "title": {
          "text": "Date"
         }
        },
        "yaxis": {
         "range": [
          12.131499999999999,
          54.9465
         ],
         "title": {
          "text": "Score"
         }
        }
       }
      }
     },
     "metadata": {},
     "output_type": "display_data"
    },
    {
     "data": {
      "application/vnd.plotly.v1+json": {
       "config": {
        "plotlyServerURL": "https://plot.ly"
       },
       "data": [
        {
         "hoverinfo": "text+x",
         "line": {
          "color": "lightgray",
          "width": 2
         },
         "marker": {
          "color": [
           "darkred",
           "darkred",
           "darkred",
           "darkred",
           "red",
           "darkred",
           "darkred",
           "darkred",
           "darkred",
           "red",
           "darkred",
           "red",
           "darkred",
           "darkred",
           "darkred",
           "gold",
           "red",
           "gold",
           "gold",
           "darkred",
           "darkred",
           "red",
           "darkred",
           "darkred",
           "darkred",
           "red",
           "red",
           "red",
           "red",
           "red",
           "red",
           "red",
           "red",
           "red",
           "darkred",
           "red",
           "darkred",
           "red",
           "gold",
           "gold",
           "green",
           "green",
           "green",
           "green",
           "gold",
           "red",
           "red",
           "red",
           "green",
           "green",
           "green",
           "red",
           "red",
           "red",
           "red",
           "green",
           "green",
           "green",
           "green",
           "gold",
           "green",
           "green",
           "green",
           "green",
           "green",
           "green",
           "green",
           "red",
           "red",
           "red",
           "red",
           "gold",
           "green",
           "green",
           "red",
           "red",
           "red",
           "green",
           "green",
           "green",
           "gold",
           "gold",
           "gold",
           "red",
           "gold",
           "red",
           "gold",
           "gold",
           "green",
           "green",
           "darkgreen",
           "green",
           "darkgreen",
           "darkgreen",
           "darkgreen",
           "darkgreen",
           "darkgreen",
           "darkgreen",
           "darkgreen",
           "darkgreen",
           "darkgreen",
           "darkgreen",
           "darkgreen",
           "darkgreen",
           "darkgreen",
           "darkgreen",
           "darkgreen",
           "darkgreen",
           "darkgreen",
           "darkgreen",
           "darkgreen",
           "darkgreen",
           "darkgreen",
           "darkgreen",
           "darkgreen",
           "darkgreen",
           "darkgreen",
           "darkgreen",
           "darkgreen",
           "darkgreen",
           "darkgreen",
           "darkgreen",
           "darkgreen",
           "green",
           "darkgreen",
           "darkgreen",
           "darkgreen",
           "darkgreen",
           "darkgreen",
           "darkgreen",
           "darkgreen",
           "darkgreen",
           "darkgreen",
           "darkgreen",
           "green",
           "green",
           "green",
           "darkgreen",
           "darkred",
           "darkred",
           "darkred",
           "darkred",
           "red",
           "darkred",
           "darkred",
           "darkred",
           "darkred",
           "darkred",
           "darkred",
           "darkred",
           "darkred",
           "darkred",
           "darkred",
           "darkred",
           "darkred",
           "darkred",
           "darkred",
           "darkred",
           "red",
           "darkred",
           "darkred",
           "darkred",
           "darkred",
           "darkred",
           "red",
           "red",
           "gold",
           "gold",
           "green",
           "gold",
           "green",
           "green",
           "green",
           "red",
           "gold",
           "gold",
           "red",
           "red",
           "red",
           "red",
           "red",
           "darkred",
           "red",
           "red",
           "red",
           "red",
           "red",
           "darkred",
           "red",
           "darkred",
           "darkred",
           "darkred",
           "darkred",
           "red",
           "darkred",
           "darkred",
           "red",
           "red",
           "red",
           "red",
           "gold",
           "green",
           "green",
           "green",
           "green",
           "green",
           "gold",
           "green",
           "gold",
           "gold",
           "gold",
           "gold",
           "red",
           "green",
           "green",
           "green",
           "green",
           "green",
           "green",
           "gold",
           "red",
           "red",
           "red",
           "gold",
           "gold",
           "green",
           "green",
           "green",
           "green",
           "green",
           "green",
           "green",
           "gold",
           "gold",
           "red",
           "gold",
           "red",
           "gold",
           "gold",
           "gold",
           "red",
           "red",
           "red",
           "red",
           "red",
           "red",
           "red",
           "red",
           "red",
           "red",
           "darkred",
           "darkred",
           "darkred",
           "darkred",
           "darkred",
           "darkred",
           "green"
          ],
          "size": 8
         },
         "mode": "lines+markers",
         "name": "Safe Haven Demand",
         "text": [
          "5.52 (Extreme Fear)",
          "6.20 (Extreme Fear)",
          "7.00 (Extreme Fear)",
          "5.57 (Extreme Fear)",
          "4.05 (Fear)",
          "4.77 (Extreme Fear)",
          "4.70 (Extreme Fear)",
          "5.12 (Extreme Fear)",
          "5.37 (Extreme Fear)",
          "4.16 (Fear)",
          "4.73 (Extreme Fear)",
          "4.17 (Fear)",
          "5.73 (Extreme Fear)",
          "5.53 (Extreme Fear)",
          "5.05 (Extreme Fear)",
          "1.25 (Neutral)",
          "3.11 (Fear)",
          "1.53 (Neutral)",
          "1.63 (Neutral)",
          "5.29 (Extreme Fear)",
          "4.72 (Extreme Fear)",
          "3.94 (Fear)",
          "5.61 (Extreme Fear)",
          "5.60 (Extreme Fear)",
          "5.20 (Extreme Fear)",
          "4.27 (Fear)",
          "2.33 (Fear)",
          "2.51 (Fear)",
          "3.35 (Fear)",
          "3.55 (Fear)",
          "3.93 (Fear)",
          "3.67 (Fear)",
          "2.79 (Fear)",
          "3.79 (Fear)",
          "5.07 (Extreme Fear)",
          "3.84 (Fear)",
          "5.20 (Extreme Fear)",
          "4.32 (Fear)",
          "0.98 (Neutral)",
          "0.84 (Neutral)",
          "0.48 (Greed)",
          "-0.05 (Greed)",
          "-0.49 (Greed)",
          "0.44 (Greed)",
          "0.95 (Neutral)",
          "2.76 (Fear)",
          "2.96 (Fear)",
          "2.01 (Fear)",
          "-0.08 (Greed)",
          "-0.26 (Greed)",
          "0.20 (Greed)",
          "2.12 (Fear)",
          "2.39 (Fear)",
          "2.98 (Fear)",
          "2.02 (Fear)",
          "-0.20 (Greed)",
          "-0.72 (Greed)",
          "-1.20 (Greed)",
          "0.28 (Greed)",
          "1.11 (Neutral)",
          "0.61 (Greed)",
          "0.66 (Greed)",
          "-1.12 (Greed)",
          "-0.67 (Greed)",
          "-1.01 (Greed)",
          "-0.66 (Greed)",
          "-0.29 (Greed)",
          "2.47 (Fear)",
          "2.68 (Fear)",
          "2.79 (Fear)",
          "2.43 (Fear)",
          "0.84 (Neutral)",
          "-1.09 (Greed)",
          "0.58 (Greed)",
          "1.98 (Fear)",
          "2.49 (Fear)",
          "2.37 (Fear)",
          "0.54 (Greed)",
          "0.24 (Greed)",
          "0.76 (Greed)",
          "1.33 (Neutral)",
          "1.53 (Neutral)",
          "1.90 (Neutral)",
          "2.13 (Fear)",
          "1.69 (Neutral)",
          "2.44 (Fear)",
          "1.13 (Neutral)",
          "1.38 (Neutral)",
          "0.59 (Greed)",
          "-0.83 (Greed)",
          "-2.65 (Extreme Greed)",
          "-1.30 (Greed)",
          "-3.40 (Extreme Greed)",
          "-3.35 (Extreme Greed)",
          "-5.07 (Extreme Greed)",
          "-3.73 (Extreme Greed)",
          "-5.11 (Extreme Greed)",
          "-6.36 (Extreme Greed)",
          "-4.55 (Extreme Greed)",
          "-6.69 (Extreme Greed)",
          "-5.53 (Extreme Greed)",
          "-9.36 (Extreme Greed)",
          "-10.12 (Extreme Greed)",
          "-9.75 (Extreme Greed)",
          "-11.59 (Extreme Greed)",
          "-8.93 (Extreme Greed)",
          "-9.18 (Extreme Greed)",
          "-10.58 (Extreme Greed)",
          "-9.34 (Extreme Greed)",
          "-7.48 (Extreme Greed)",
          "-6.75 (Extreme Greed)",
          "-3.22 (Extreme Greed)",
          "-2.94 (Extreme Greed)",
          "-2.37 (Extreme Greed)",
          "-3.55 (Extreme Greed)",
          "-4.57 (Extreme Greed)",
          "-3.37 (Extreme Greed)",
          "-4.69 (Extreme Greed)",
          "-2.30 (Extreme Greed)",
          "-8.66 (Extreme Greed)",
          "-11.50 (Extreme Greed)",
          "-10.09 (Extreme Greed)",
          "-11.69 (Extreme Greed)",
          "-1.22 (Greed)",
          "-6.34 (Extreme Greed)",
          "-4.62 (Extreme Greed)",
          "-3.20 (Extreme Greed)",
          "-4.46 (Extreme Greed)",
          "-6.65 (Extreme Greed)",
          "-6.33 (Extreme Greed)",
          "-10.15 (Extreme Greed)",
          "-7.99 (Extreme Greed)",
          "-5.80 (Extreme Greed)",
          "-4.13 (Extreme Greed)",
          "-1.01 (Greed)",
          "-1.74 (Greed)",
          "-1.76 (Greed)",
          "-2.43 (Extreme Greed)",
          "4.88 (Extreme Fear)",
          "14.09 (Extreme Fear)",
          "12.73 (Extreme Fear)",
          "12.75 (Extreme Fear)",
          "2.80 (Fear)",
          "7.39 (Extreme Fear)",
          "4.67 (Extreme Fear)",
          "8.70 (Extreme Fear)",
          "10.12 (Extreme Fear)",
          "13.47 (Extreme Fear)",
          "12.98 (Extreme Fear)",
          "15.83 (Extreme Fear)",
          "13.26 (Extreme Fear)",
          "11.30 (Extreme Fear)",
          "8.43 (Extreme Fear)",
          "7.68 (Extreme Fear)",
          "7.07 (Extreme Fear)",
          "8.48 (Extreme Fear)",
          "8.08 (Extreme Fear)",
          "6.75 (Extreme Fear)",
          "4.14 (Fear)",
          "5.82 (Extreme Fear)",
          "7.63 (Extreme Fear)",
          "6.71 (Extreme Fear)",
          "5.07 (Extreme Fear)",
          "7.08 (Extreme Fear)",
          "2.95 (Fear)",
          "2.56 (Fear)",
          "1.41 (Neutral)",
          "1.50 (Neutral)",
          "0.12 (Greed)",
          "0.89 (Neutral)",
          "-0.19 (Greed)",
          "0.72 (Greed)",
          "0.68 (Greed)",
          "2.36 (Fear)",
          "1.45 (Neutral)",
          "1.82 (Neutral)",
          "2.28 (Fear)",
          "3.41 (Fear)",
          "2.30 (Fear)",
          "2.10 (Fear)",
          "3.54 (Fear)",
          "4.87 (Extreme Fear)",
          "2.61 (Fear)",
          "2.76 (Fear)",
          "2.43 (Fear)",
          "3.50 (Fear)",
          "3.62 (Fear)",
          "4.67 (Extreme Fear)",
          "3.63 (Fear)",
          "5.09 (Extreme Fear)",
          "5.82 (Extreme Fear)",
          "5.91 (Extreme Fear)",
          "4.99 (Extreme Fear)",
          "3.92 (Fear)",
          "5.16 (Extreme Fear)",
          "4.88 (Extreme Fear)",
          "4.34 (Fear)",
          "4.36 (Fear)",
          "3.00 (Fear)",
          "2.54 (Fear)",
          "0.92 (Neutral)",
          "-1.16 (Greed)",
          "0.16 (Greed)",
          "-0.33 (Greed)",
          "0.14 (Greed)",
          "0.08 (Greed)",
          "0.83 (Neutral)",
          "0.64 (Greed)",
          "1.65 (Neutral)",
          "1.03 (Neutral)",
          "1.69 (Neutral)",
          "1.84 (Neutral)",
          "2.17 (Fear)",
          "0.12 (Greed)",
          "-0.49 (Greed)",
          "-0.72 (Greed)",
          "0.03 (Greed)",
          "0.67 (Greed)",
          "0.63 (Greed)",
          "1.18 (Neutral)",
          "3.83 (Fear)",
          "2.19 (Fear)",
          "2.15 (Fear)",
          "1.53 (Neutral)",
          "1.90 (Neutral)",
          "0.13 (Greed)",
          "0.30 (Greed)",
          "-0.33 (Greed)",
          "-0.29 (Greed)",
          "0.06 (Greed)",
          "0.34 (Greed)",
          "0.65 (Greed)",
          "0.94 (Neutral)",
          "1.51 (Neutral)",
          "2.39 (Fear)",
          "1.93 (Neutral)",
          "2.85 (Fear)",
          "1.85 (Neutral)",
          "1.71 (Neutral)",
          "1.32 (Neutral)",
          "2.17 (Fear)",
          "2.65 (Fear)",
          "3.15 (Fear)",
          "2.81 (Fear)",
          "3.56 (Fear)",
          "3.82 (Fear)",
          "4.03 (Fear)",
          "3.33 (Fear)",
          "3.25 (Fear)",
          "2.79 (Fear)",
          "nan (Extreme Fear)",
          "nan (Extreme Fear)",
          "nan (Extreme Fear)",
          "nan (Extreme Fear)",
          "nan (Extreme Fear)",
          "nan (Extreme Fear)",
          "-0.26 (Greed)"
         ],
         "type": "scatter",
         "x": [
          "2024-10-10T00:00:00.000000000",
          "2024-10-11T00:00:00.000000000",
          "2024-10-14T00:00:00.000000000",
          "2024-10-15T00:00:00.000000000",
          "2024-10-16T00:00:00.000000000",
          "2024-10-17T00:00:00.000000000",
          "2024-10-18T00:00:00.000000000",
          "2024-10-21T00:00:00.000000000",
          "2024-10-22T00:00:00.000000000",
          "2024-10-23T00:00:00.000000000",
          "2024-10-24T00:00:00.000000000",
          "2024-10-25T00:00:00.000000000",
          "2024-10-28T00:00:00.000000000",
          "2024-10-29T00:00:00.000000000",
          "2024-10-30T00:00:00.000000000",
          "2024-10-31T00:00:00.000000000",
          "2024-11-01T00:00:00.000000000",
          "2024-11-04T00:00:00.000000000",
          "2024-11-05T00:00:00.000000000",
          "2024-11-06T00:00:00.000000000",
          "2024-11-07T00:00:00.000000000",
          "2024-11-08T00:00:00.000000000",
          "2024-11-11T00:00:00.000000000",
          "2024-11-12T00:00:00.000000000",
          "2024-11-13T00:00:00.000000000",
          "2024-11-14T00:00:00.000000000",
          "2024-11-15T00:00:00.000000000",
          "2024-11-18T00:00:00.000000000",
          "2024-11-19T00:00:00.000000000",
          "2024-11-20T00:00:00.000000000",
          "2024-11-21T00:00:00.000000000",
          "2024-11-22T00:00:00.000000000",
          "2024-11-25T00:00:00.000000000",
          "2024-11-26T00:00:00.000000000",
          "2024-11-27T00:00:00.000000000",
          "2024-11-29T00:00:00.000000000",
          "2024-12-02T00:00:00.000000000",
          "2024-12-03T00:00:00.000000000",
          "2024-12-04T00:00:00.000000000",
          "2024-12-05T00:00:00.000000000",
          "2024-12-06T00:00:00.000000000",
          "2024-12-09T00:00:00.000000000",
          "2024-12-10T00:00:00.000000000",
          "2024-12-11T00:00:00.000000000",
          "2024-12-12T00:00:00.000000000",
          "2024-12-13T00:00:00.000000000",
          "2024-12-16T00:00:00.000000000",
          "2024-12-17T00:00:00.000000000",
          "2024-12-18T00:00:00.000000000",
          "2024-12-19T00:00:00.000000000",
          "2024-12-20T00:00:00.000000000",
          "2024-12-23T00:00:00.000000000",
          "2024-12-24T00:00:00.000000000",
          "2024-12-26T00:00:00.000000000",
          "2024-12-27T00:00:00.000000000",
          "2024-12-30T00:00:00.000000000",
          "2024-12-31T00:00:00.000000000",
          "2025-01-02T00:00:00.000000000",
          "2025-01-03T00:00:00.000000000",
          "2025-01-06T00:00:00.000000000",
          "2025-01-07T00:00:00.000000000",
          "2025-01-08T00:00:00.000000000",
          "2025-01-10T00:00:00.000000000",
          "2025-01-13T00:00:00.000000000",
          "2025-01-14T00:00:00.000000000",
          "2025-01-15T00:00:00.000000000",
          "2025-01-16T00:00:00.000000000",
          "2025-01-17T00:00:00.000000000",
          "2025-01-21T00:00:00.000000000",
          "2025-01-22T00:00:00.000000000",
          "2025-01-23T00:00:00.000000000",
          "2025-01-24T00:00:00.000000000",
          "2025-01-27T00:00:00.000000000",
          "2025-01-28T00:00:00.000000000",
          "2025-01-29T00:00:00.000000000",
          "2025-01-30T00:00:00.000000000",
          "2025-01-31T00:00:00.000000000",
          "2025-02-03T00:00:00.000000000",
          "2025-02-04T00:00:00.000000000",
          "2025-02-05T00:00:00.000000000",
          "2025-02-06T00:00:00.000000000",
          "2025-02-07T00:00:00.000000000",
          "2025-02-10T00:00:00.000000000",
          "2025-02-11T00:00:00.000000000",
          "2025-02-12T00:00:00.000000000",
          "2025-02-13T00:00:00.000000000",
          "2025-02-14T00:00:00.000000000",
          "2025-02-18T00:00:00.000000000",
          "2025-02-19T00:00:00.000000000",
          "2025-02-20T00:00:00.000000000",
          "2025-02-21T00:00:00.000000000",
          "2025-02-24T00:00:00.000000000",
          "2025-02-25T00:00:00.000000000",
          "2025-02-26T00:00:00.000000000",
          "2025-02-27T00:00:00.000000000",
          "2025-02-28T00:00:00.000000000",
          "2025-03-03T00:00:00.000000000",
          "2025-03-04T00:00:00.000000000",
          "2025-03-05T00:00:00.000000000",
          "2025-03-06T00:00:00.000000000",
          "2025-03-07T00:00:00.000000000",
          "2025-03-10T00:00:00.000000000",
          "2025-03-11T00:00:00.000000000",
          "2025-03-12T00:00:00.000000000",
          "2025-03-13T00:00:00.000000000",
          "2025-03-14T00:00:00.000000000",
          "2025-03-17T00:00:00.000000000",
          "2025-03-18T00:00:00.000000000",
          "2025-03-19T00:00:00.000000000",
          "2025-03-20T00:00:00.000000000",
          "2025-03-21T00:00:00.000000000",
          "2025-03-24T00:00:00.000000000",
          "2025-03-25T00:00:00.000000000",
          "2025-03-26T00:00:00.000000000",
          "2025-03-27T00:00:00.000000000",
          "2025-03-28T00:00:00.000000000",
          "2025-03-31T00:00:00.000000000",
          "2025-04-01T00:00:00.000000000",
          "2025-04-02T00:00:00.000000000",
          "2025-04-03T00:00:00.000000000",
          "2025-04-04T00:00:00.000000000",
          "2025-04-07T00:00:00.000000000",
          "2025-04-08T00:00:00.000000000",
          "2025-04-09T00:00:00.000000000",
          "2025-04-10T00:00:00.000000000",
          "2025-04-11T00:00:00.000000000",
          "2025-04-14T00:00:00.000000000",
          "2025-04-15T00:00:00.000000000",
          "2025-04-16T00:00:00.000000000",
          "2025-04-17T00:00:00.000000000",
          "2025-04-21T00:00:00.000000000",
          "2025-04-22T00:00:00.000000000",
          "2025-04-23T00:00:00.000000000",
          "2025-04-24T00:00:00.000000000",
          "2025-04-25T00:00:00.000000000",
          "2025-04-28T00:00:00.000000000",
          "2025-04-29T00:00:00.000000000",
          "2025-04-30T00:00:00.000000000",
          "2025-05-01T00:00:00.000000000",
          "2025-05-02T00:00:00.000000000",
          "2025-05-05T00:00:00.000000000",
          "2025-05-06T00:00:00.000000000",
          "2025-05-07T00:00:00.000000000",
          "2025-05-08T00:00:00.000000000",
          "2025-05-09T00:00:00.000000000",
          "2025-05-12T00:00:00.000000000",
          "2025-05-13T00:00:00.000000000",
          "2025-05-14T00:00:00.000000000",
          "2025-05-15T00:00:00.000000000",
          "2025-05-16T00:00:00.000000000",
          "2025-05-19T00:00:00.000000000",
          "2025-05-20T00:00:00.000000000",
          "2025-05-21T00:00:00.000000000",
          "2025-05-22T00:00:00.000000000",
          "2025-05-23T00:00:00.000000000",
          "2025-05-27T00:00:00.000000000",
          "2025-05-28T00:00:00.000000000",
          "2025-05-29T00:00:00.000000000",
          "2025-05-30T00:00:00.000000000",
          "2025-06-02T00:00:00.000000000",
          "2025-06-03T00:00:00.000000000",
          "2025-06-04T00:00:00.000000000",
          "2025-06-05T00:00:00.000000000",
          "2025-06-06T00:00:00.000000000",
          "2025-06-09T00:00:00.000000000",
          "2025-06-10T00:00:00.000000000",
          "2025-06-11T00:00:00.000000000",
          "2025-06-12T00:00:00.000000000",
          "2025-06-13T00:00:00.000000000",
          "2025-06-16T00:00:00.000000000",
          "2025-06-17T00:00:00.000000000",
          "2025-06-18T00:00:00.000000000",
          "2025-06-20T00:00:00.000000000",
          "2025-06-23T00:00:00.000000000",
          "2025-06-24T00:00:00.000000000",
          "2025-06-25T00:00:00.000000000",
          "2025-06-26T00:00:00.000000000",
          "2025-06-27T00:00:00.000000000",
          "2025-06-30T00:00:00.000000000",
          "2025-07-01T00:00:00.000000000",
          "2025-07-02T00:00:00.000000000",
          "2025-07-03T00:00:00.000000000",
          "2025-07-07T00:00:00.000000000",
          "2025-07-08T00:00:00.000000000",
          "2025-07-09T00:00:00.000000000",
          "2025-07-10T00:00:00.000000000",
          "2025-07-11T00:00:00.000000000",
          "2025-07-14T00:00:00.000000000",
          "2025-07-15T00:00:00.000000000",
          "2025-07-16T00:00:00.000000000",
          "2025-07-17T00:00:00.000000000",
          "2025-07-18T00:00:00.000000000",
          "2025-07-21T00:00:00.000000000",
          "2025-07-22T00:00:00.000000000",
          "2025-07-23T00:00:00.000000000",
          "2025-07-24T00:00:00.000000000",
          "2025-07-25T00:00:00.000000000",
          "2025-07-28T00:00:00.000000000",
          "2025-07-29T00:00:00.000000000",
          "2025-07-30T00:00:00.000000000",
          "2025-07-31T00:00:00.000000000",
          "2025-08-01T00:00:00.000000000",
          "2025-08-04T00:00:00.000000000",
          "2025-08-05T00:00:00.000000000",
          "2025-08-06T00:00:00.000000000",
          "2025-08-07T00:00:00.000000000",
          "2025-08-08T00:00:00.000000000",
          "2025-08-11T00:00:00.000000000",
          "2025-08-12T00:00:00.000000000",
          "2025-08-13T00:00:00.000000000",
          "2025-08-14T00:00:00.000000000",
          "2025-08-15T00:00:00.000000000",
          "2025-08-18T00:00:00.000000000",
          "2025-08-19T00:00:00.000000000",
          "2025-08-20T00:00:00.000000000",
          "2025-08-21T00:00:00.000000000",
          "2025-08-22T00:00:00.000000000",
          "2025-08-25T00:00:00.000000000",
          "2025-08-26T00:00:00.000000000",
          "2025-08-27T00:00:00.000000000",
          "2025-08-28T00:00:00.000000000",
          "2025-08-29T00:00:00.000000000",
          "2025-09-02T00:00:00.000000000",
          "2025-09-03T00:00:00.000000000",
          "2025-09-04T00:00:00.000000000",
          "2025-09-05T00:00:00.000000000",
          "2025-09-08T00:00:00.000000000",
          "2025-09-09T00:00:00.000000000",
          "2025-09-10T00:00:00.000000000",
          "2025-09-11T00:00:00.000000000",
          "2025-09-12T00:00:00.000000000",
          "2025-09-15T00:00:00.000000000",
          "2025-09-16T00:00:00.000000000",
          "2025-09-17T00:00:00.000000000",
          "2025-09-18T00:00:00.000000000",
          "2025-09-19T00:00:00.000000000",
          "2025-09-22T00:00:00.000000000",
          "2025-09-23T00:00:00.000000000",
          "2025-09-24T00:00:00.000000000",
          "2025-09-25T00:00:00.000000000",
          "2025-09-26T00:00:00.000000000",
          "2025-09-29T00:00:00.000000000",
          "2025-09-30T00:00:00.000000000",
          "2025-10-01T00:00:00.000000000",
          "2025-10-02T00:00:00.000000000",
          "2025-10-03T00:00:00.000000000",
          "2025-10-06T00:00:00.000000000",
          "2025-10-07T00:00:00.000000000",
          "2025-10-08T00:00:00.000000000",
          "2025-10-09T00:00:00.000000000",
          "2025-10-10T00:00:00.000000000",
          "2025-10-10T18:32:31.000000000",
          "2025-10-10T18:32:34.000000000",
          "2025-10-10T18:32:37.000000000",
          "2025-10-10T18:32:41.000000000",
          "2025-10-10T18:37:40.000000000",
          "2025-10-10T18:47:38.000000000"
         ],
         "y": {
          "bdata": "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",
          "dtype": "f8"
         }
        }
       ],
       "layout": {
        "template": {
         "data": {
          "bar": [
           {
            "error_x": {
             "color": "#2a3f5f"
            },
            "error_y": {
             "color": "#2a3f5f"
            },
            "marker": {
             "line": {
              "color": "white",
              "width": 0.5
             },
             "pattern": {
              "fillmode": "overlay",
              "size": 10,
              "solidity": 0.2
             }
            },
            "type": "bar"
           }
          ],
          "barpolar": [
           {
            "marker": {
             "line": {
              "color": "white",
              "width": 0.5
             },
             "pattern": {
              "fillmode": "overlay",
              "size": 10,
              "solidity": 0.2
             }
            },
            "type": "barpolar"
           }
          ],
          "carpet": [
           {
            "aaxis": {
             "endlinecolor": "#2a3f5f",
             "gridcolor": "#C8D4E3",
             "linecolor": "#C8D4E3",
             "minorgridcolor": "#C8D4E3",
             "startlinecolor": "#2a3f5f"
            },
            "baxis": {
             "endlinecolor": "#2a3f5f",
             "gridcolor": "#C8D4E3",
             "linecolor": "#C8D4E3",
             "minorgridcolor": "#C8D4E3",
             "startlinecolor": "#2a3f5f"
            },
            "type": "carpet"
           }
          ],
          "choropleth": [
           {
            "colorbar": {
             "outlinewidth": 0,
             "ticks": ""
            },
            "type": "choropleth"
           }
          ],
          "contour": [
           {
            "colorbar": {
             "outlinewidth": 0,
             "ticks": ""
            },
            "colorscale": [
             [
              0,
              "#0d0887"
             ],
             [
              0.1111111111111111,
              "#46039f"
             ],
             [
              0.2222222222222222,
              "#7201a8"
             ],
             [
              0.3333333333333333,
              "#9c179e"
             ],
             [
              0.4444444444444444,
              "#bd3786"
             ],
             [
              0.5555555555555556,
              "#d8576b"
             ],
             [
              0.6666666666666666,
              "#ed7953"
             ],
             [
              0.7777777777777778,
              "#fb9f3a"
             ],
             [
              0.8888888888888888,
              "#fdca26"
             ],
             [
              1,
              "#f0f921"
             ]
            ],
            "type": "contour"
           }
          ],
          "contourcarpet": [
           {
            "colorbar": {
             "outlinewidth": 0,
             "ticks": ""
            },
            "type": "contourcarpet"
           }
          ],
          "heatmap": [
           {
            "colorbar": {
             "outlinewidth": 0,
             "ticks": ""
            },
            "colorscale": [
             [
              0,
              "#0d0887"
             ],
             [
              0.1111111111111111,
              "#46039f"
             ],
             [
              0.2222222222222222,
              "#7201a8"
             ],
             [
              0.3333333333333333,
              "#9c179e"
             ],
             [
              0.4444444444444444,
              "#bd3786"
             ],
             [
              0.5555555555555556,
              "#d8576b"
             ],
             [
              0.6666666666666666,
              "#ed7953"
             ],
             [
              0.7777777777777778,
              "#fb9f3a"
             ],
             [
              0.8888888888888888,
              "#fdca26"
             ],
             [
              1,
              "#f0f921"
             ]
            ],
            "type": "heatmap"
           }
          ],
          "histogram": [
           {
            "marker": {
             "pattern": {
              "fillmode": "overlay",
              "size": 10,
              "solidity": 0.2
             }
            },
            "type": "histogram"
           }
          ],
          "histogram2d": [
           {
            "colorbar": {
             "outlinewidth": 0,
             "ticks": ""
            },
            "colorscale": [
             [
              0,
              "#0d0887"
             ],
             [
              0.1111111111111111,
              "#46039f"
             ],
             [
              0.2222222222222222,
              "#7201a8"
             ],
             [
              0.3333333333333333,
              "#9c179e"
             ],
             [
              0.4444444444444444,
              "#bd3786"
             ],
             [
              0.5555555555555556,
              "#d8576b"
             ],
             [
              0.6666666666666666,
              "#ed7953"
             ],
             [
              0.7777777777777778,
              "#fb9f3a"
             ],
             [
              0.8888888888888888,
              "#fdca26"
             ],
             [
              1,
              "#f0f921"
             ]
            ],
            "type": "histogram2d"
           }
          ],
          "histogram2dcontour": [
           {
            "colorbar": {
             "outlinewidth": 0,
             "ticks": ""
            },
            "colorscale": [
             [
              0,
              "#0d0887"
             ],
             [
              0.1111111111111111,
              "#46039f"
             ],
             [
              0.2222222222222222,
              "#7201a8"
             ],
             [
              0.3333333333333333,
              "#9c179e"
             ],
             [
              0.4444444444444444,
              "#bd3786"
             ],
             [
              0.5555555555555556,
              "#d8576b"
             ],
             [
              0.6666666666666666,
              "#ed7953"
             ],
             [
              0.7777777777777778,
              "#fb9f3a"
             ],
             [
              0.8888888888888888,
              "#fdca26"
             ],
             [
              1,
              "#f0f921"
             ]
            ],
            "type": "histogram2dcontour"
           }
          ],
          "mesh3d": [
           {
            "colorbar": {
             "outlinewidth": 0,
             "ticks": ""
            },
            "type": "mesh3d"
           }
          ],
          "parcoords": [
           {
            "line": {
             "colorbar": {
              "outlinewidth": 0,
              "ticks": ""
             }
            },
            "type": "parcoords"
           }
          ],
          "pie": [
           {
            "automargin": true,
            "type": "pie"
           }
          ],
          "scatter": [
           {
            "fillpattern": {
             "fillmode": "overlay",
             "size": 10,
             "solidity": 0.2
            },
            "type": "scatter"
           }
          ],
          "scatter3d": [
           {
            "line": {
             "colorbar": {
              "outlinewidth": 0,
              "ticks": ""
             }
            },
            "marker": {
             "colorbar": {
              "outlinewidth": 0,
              "ticks": ""
             }
            },
            "type": "scatter3d"
           }
          ],
          "scattercarpet": [
           {
            "marker": {
             "colorbar": {
              "outlinewidth": 0,
              "ticks": ""
             }
            },
            "type": "scattercarpet"
           }
          ],
          "scattergeo": [
           {
            "marker": {
             "colorbar": {
              "outlinewidth": 0,
              "ticks": ""
             }
            },
            "type": "scattergeo"
           }
          ],
          "scattergl": [
           {
            "marker": {
             "colorbar": {
              "outlinewidth": 0,
              "ticks": ""
             }
            },
            "type": "scattergl"
           }
          ],
          "scattermap": [
           {
            "marker": {
             "colorbar": {
              "outlinewidth": 0,
              "ticks": ""
             }
            },
            "type": "scattermap"
           }
          ],
          "scattermapbox": [
           {
            "marker": {
             "colorbar": {
              "outlinewidth": 0,
              "ticks": ""
             }
            },
            "type": "scattermapbox"
           }
          ],
          "scatterpolar": [
           {
            "marker": {
             "colorbar": {
              "outlinewidth": 0,
              "ticks": ""
             }
            },
            "type": "scatterpolar"
           }
          ],
          "scatterpolargl": [
           {
            "marker": {
             "colorbar": {
              "outlinewidth": 0,
              "ticks": ""
             }
            },
            "type": "scatterpolargl"
           }
          ],
          "scatterternary": [
           {
            "marker": {
             "colorbar": {
              "outlinewidth": 0,
              "ticks": ""
             }
            },
            "type": "scatterternary"
           }
          ],
          "surface": [
           {
            "colorbar": {
             "outlinewidth": 0,
             "ticks": ""
            },
            "colorscale": [
             [
              0,
              "#0d0887"
             ],
             [
              0.1111111111111111,
              "#46039f"
             ],
             [
              0.2222222222222222,
              "#7201a8"
             ],
             [
              0.3333333333333333,
              "#9c179e"
             ],
             [
              0.4444444444444444,
              "#bd3786"
             ],
             [
              0.5555555555555556,
              "#d8576b"
             ],
             [
              0.6666666666666666,
              "#ed7953"
             ],
             [
              0.7777777777777778,
              "#fb9f3a"
             ],
             [
              0.8888888888888888,
              "#fdca26"
             ],
             [
              1,
              "#f0f921"
             ]
            ],
            "type": "surface"
           }
          ],
          "table": [
           {
            "cells": {
             "fill": {
              "color": "#EBF0F8"
             },
             "line": {
              "color": "white"
             }
            },
            "header": {
             "fill": {
              "color": "#C8D4E3"
             },
             "line": {
              "color": "white"
             }
            },
            "type": "table"
           }
          ]
         },
         "layout": {
          "annotationdefaults": {
           "arrowcolor": "#2a3f5f",
           "arrowhead": 0,
           "arrowwidth": 1
          },
          "autotypenumbers": "strict",
          "coloraxis": {
           "colorbar": {
            "outlinewidth": 0,
            "ticks": ""
           }
          },
          "colorscale": {
           "diverging": [
            [
             0,
             "#8e0152"
            ],
            [
             0.1,
             "#c51b7d"
            ],
            [
             0.2,
             "#de77ae"
            ],
            [
             0.3,
             "#f1b6da"
            ],
            [
             0.4,
             "#fde0ef"
            ],
            [
             0.5,
             "#f7f7f7"
            ],
            [
             0.6,
             "#e6f5d0"
            ],
            [
             0.7,
             "#b8e186"
            ],
            [
             0.8,
             "#7fbc41"
            ],
            [
             0.9,
             "#4d9221"
            ],
            [
             1,
             "#276419"
            ]
           ],
           "sequential": [
            [
             0,
             "#0d0887"
            ],
            [
             0.1111111111111111,
             "#46039f"
            ],
            [
             0.2222222222222222,
             "#7201a8"
            ],
            [
             0.3333333333333333,
             "#9c179e"
            ],
            [
             0.4444444444444444,
             "#bd3786"
            ],
            [
             0.5555555555555556,
             "#d8576b"
            ],
            [
             0.6666666666666666,
             "#ed7953"
            ],
            [
             0.7777777777777778,
             "#fb9f3a"
            ],
            [
             0.8888888888888888,
             "#fdca26"
            ],
            [
             1,
             "#f0f921"
            ]
           ],
           "sequentialminus": [
            [
             0,
             "#0d0887"
            ],
            [
             0.1111111111111111,
             "#46039f"
            ],
            [
             0.2222222222222222,
             "#7201a8"
            ],
            [
             0.3333333333333333,
             "#9c179e"
            ],
            [
             0.4444444444444444,
             "#bd3786"
            ],
            [
             0.5555555555555556,
             "#d8576b"
            ],
            [
             0.6666666666666666,
             "#ed7953"
            ],
            [
             0.7777777777777778,
             "#fb9f3a"
            ],
            [
             0.8888888888888888,
             "#fdca26"
            ],
            [
             1,
             "#f0f921"
            ]
           ]
          },
          "colorway": [
           "#636efa",
           "#EF553B",
           "#00cc96",
           "#ab63fa",
           "#FFA15A",
           "#19d3f3",
           "#FF6692",
           "#B6E880",
           "#FF97FF",
           "#FECB52"
          ],
          "font": {
           "color": "#2a3f5f"
          },
          "geo": {
           "bgcolor": "white",
           "lakecolor": "white",
           "landcolor": "white",
           "showlakes": true,
           "showland": true,
           "subunitcolor": "#C8D4E3"
          },
          "hoverlabel": {
           "align": "left"
          },
          "hovermode": "closest",
          "mapbox": {
           "style": "light"
          },
          "paper_bgcolor": "white",
          "plot_bgcolor": "white",
          "polar": {
           "angularaxis": {
            "gridcolor": "#EBF0F8",
            "linecolor": "#EBF0F8",
            "ticks": ""
           },
           "bgcolor": "white",
           "radialaxis": {
            "gridcolor": "#EBF0F8",
            "linecolor": "#EBF0F8",
            "ticks": ""
           }
          },
          "scene": {
           "xaxis": {
            "backgroundcolor": "white",
            "gridcolor": "#DFE8F3",
            "gridwidth": 2,
            "linecolor": "#EBF0F8",
            "showbackground": true,
            "ticks": "",
            "zerolinecolor": "#EBF0F8"
           },
           "yaxis": {
            "backgroundcolor": "white",
            "gridcolor": "#DFE8F3",
            "gridwidth": 2,
            "linecolor": "#EBF0F8",
            "showbackground": true,
            "ticks": "",
            "zerolinecolor": "#EBF0F8"
           },
           "zaxis": {
            "backgroundcolor": "white",
            "gridcolor": "#DFE8F3",
            "gridwidth": 2,
            "linecolor": "#EBF0F8",
            "showbackground": true,
            "ticks": "",
            "zerolinecolor": "#EBF0F8"
           }
          },
          "shapedefaults": {
           "line": {
            "color": "#2a3f5f"
           }
          },
          "ternary": {
           "aaxis": {
            "gridcolor": "#DFE8F3",
            "linecolor": "#A2B1C6",
            "ticks": ""
           },
           "baxis": {
            "gridcolor": "#DFE8F3",
            "linecolor": "#A2B1C6",
            "ticks": ""
           },
           "bgcolor": "white",
           "caxis": {
            "gridcolor": "#DFE8F3",
            "linecolor": "#A2B1C6",
            "ticks": ""
           }
          },
          "title": {
           "x": 0.05
          },
          "xaxis": {
           "automargin": true,
           "gridcolor": "#EBF0F8",
           "linecolor": "#EBF0F8",
           "ticks": "",
           "title": {
            "standoff": 15
           },
           "zerolinecolor": "#EBF0F8",
           "zerolinewidth": 2
          },
          "yaxis": {
           "automargin": true,
           "gridcolor": "#EBF0F8",
           "linecolor": "#EBF0F8",
           "ticks": "",
           "title": {
            "standoff": 15
           },
           "zerolinecolor": "#EBF0F8",
           "zerolinewidth": 2
          }
         }
        },
        "title": {
         "text": "Safe Haven Demand"
        },
        "xaxis": {
         "title": {
          "text": "Date"
         }
        },
        "yaxis": {
         "range": [
          -11.108204402019442,
          16.624294576695178
         ],
         "title": {
          "text": "Score"
         }
        }
       }
      }
     },
     "metadata": {},
     "output_type": "display_data"
    },
    {
     "data": {
      "application/vnd.plotly.v1+json": {
       "config": {
        "plotlyServerURL": "https://plot.ly"
       },
       "data": [
        {
         "hoverinfo": "text+x",
         "line": {
          "color": "lightgray",
          "width": 2
         },
         "marker": {
          "color": [
           "darkred",
           "darkred",
           "darkred",
           "darkred",
           "darkred",
           "darkred",
           "darkred",
           "darkred",
           "darkred",
           "darkred",
           "darkred",
           "darkred",
           "darkred",
           "darkred",
           "darkred",
           "darkred",
           "green",
           "darkred",
           "darkred",
           "darkred",
           "darkred",
           "darkred",
           "darkred",
           "darkred",
           "red",
           "red",
           "red",
           "red",
           "red",
           "red",
           "red",
           "red",
           "red",
           "red",
           "darkred",
           "darkred",
           "darkred",
           "darkred",
           "darkred",
           "darkred",
           "darkred",
           "darkred",
           "darkred",
           "darkred",
           "darkred",
           "darkred",
           "green",
           "green",
           "green",
           "darkred",
           "darkred",
           "darkred",
           "darkred",
           "darkred",
           "darkred",
           "darkred",
           "darkred",
           "darkred",
           "darkred",
           "darkred",
           "red",
           "red",
           "darkred",
           "red",
           "red",
           "red",
           "red",
           "red",
           "red",
           "red",
           "red",
           "red",
           "red",
           "darkred",
           "darkred",
           "darkred",
           "darkred",
           "red",
           "red",
           "red",
           "darkred",
           "darkred",
           "red",
           "red",
           "red",
           "red",
           "red",
           "red",
           "red",
           "red",
           "red",
           "darkred",
           "darkred",
           "darkred",
           "darkred",
           "darkred",
           "darkred",
           "darkred",
           "darkred",
           "gold",
           "gold",
           "gold",
           "red",
           "gold",
           "gold",
           "gold",
           "gold",
           "red",
           "red",
           "red",
           "red",
           "red",
           "green",
           "gold",
           "gold",
           "gold",
           "red",
           "red",
           "red",
           "red",
           "darkred",
           "darkred",
           "darkred",
           "darkred",
           "darkred",
           "red",
           "red",
           "red",
           "red",
           "darkred",
           "red",
           "red",
           "red",
           "red",
           "gold",
           "red",
           "red",
           "red",
           "red",
           "darkred",
           "green",
           "green",
           "green",
           "green",
           "green",
           "green",
           "darkgreen",
           "darkgreen",
           "darkgreen",
           "darkgreen",
           "darkgreen",
           "darkgreen",
           "darkgreen",
           "darkgreen",
           "darkgreen",
           "darkgreen",
           "darkgreen",
           "darkgreen",
           "darkgreen",
           "darkgreen",
           "red",
           "red",
           "green",
           "green",
           "green",
           "green",
           "green",
           "green",
           "green",
           "green",
           "green",
           "green",
           "green",
           "green",
           "green",
           "green",
           "green",
           "green",
           "green",
           "green",
           "darkred",
           "darkgreen",
           "darkgreen",
           "darkgreen",
           "darkgreen",
           "darkgreen",
           "darkgreen",
           "darkgreen",
           "darkgreen",
           "darkgreen",
           "darkgreen",
           "darkgreen",
           "darkgreen",
           "darkgreen",
           "darkgreen",
           "darkgreen",
           "darkgreen",
           "darkgreen",
           "darkgreen",
           "darkgreen",
           "darkgreen",
           "darkgreen",
           "darkgreen",
           "darkgreen",
           "darkgreen",
           "darkgreen",
           "darkgreen",
           "darkgreen",
           "darkgreen",
           "darkgreen",
           "darkgreen",
           "darkgreen",
           "darkgreen",
           "darkgreen",
           "darkgreen",
           "darkgreen",
           "darkgreen",
           "darkgreen",
           "darkgreen",
           "darkgreen",
           "darkgreen",
           "darkgreen",
           "darkgreen",
           "green",
           "green",
           "darkgreen",
           "darkgreen",
           "darkgreen",
           "darkgreen",
           "darkgreen",
           "darkgreen",
           "darkgreen",
           "darkgreen",
           "darkgreen",
           "darkgreen",
           "darkgreen",
           "darkgreen",
           "darkgreen",
           "darkgreen",
           "darkgreen",
           "darkgreen",
           "darkgreen",
           "darkgreen",
           "darkgreen",
           "red",
           "darkgreen",
           "darkgreen",
           "darkgreen",
           "darkgreen",
           "darkgreen",
           "darkred",
           "darkred",
           "darkred",
           "darkred",
           "green",
           "darkred",
           "darkred"
          ],
          "size": 8
         },
         "mode": "lines+markers",
         "name": "Junk Bond Demand",
         "text": [
          "1.60 (Extreme Fear)",
          "1.60 (Extreme Fear)",
          "1.59 (Extreme Fear)",
          "1.59 (Extreme Fear)",
          "1.61 (Extreme Fear)",
          "1.60 (Extreme Fear)",
          "1.58 (Extreme Fear)",
          "1.58 (Extreme Fear)",
          "1.54 (Extreme Fear)",
          "1.55 (Extreme Fear)",
          "1.55 (Extreme Fear)",
          "1.55 (Extreme Fear)",
          "1.54 (Extreme Fear)",
          "1.53 (Extreme Fear)",
          "1.54 (Extreme Fear)",
          "1.54 (Extreme Fear)",
          "1.38 (Greed)",
          "1.54 (Extreme Fear)",
          "1.54 (Extreme Fear)",
          "1.76 (Extreme Fear)",
          "1.51 (Extreme Fear)",
          "1.53 (Extreme Fear)",
          "1.54 (Extreme Fear)",
          "1.53 (Extreme Fear)",
          "1.50 (Fear)",
          "1.49 (Fear)",
          "1.48 (Fear)",
          "1.48 (Fear)",
          "1.50 (Fear)",
          "1.50 (Fear)",
          "1.49 (Fear)",
          "1.48 (Fear)",
          "1.48 (Fear)",
          "1.48 (Fear)",
          "1.52 (Extreme Fear)",
          "1.52 (Extreme Fear)",
          "1.54 (Extreme Fear)",
          "1.59 (Extreme Fear)",
          "1.57 (Extreme Fear)",
          "1.59 (Extreme Fear)",
          "1.58 (Extreme Fear)",
          "1.58 (Extreme Fear)",
          "1.57 (Extreme Fear)",
          "1.57 (Extreme Fear)",
          "1.56 (Extreme Fear)",
          "1.54 (Extreme Fear)",
          "1.41 (Greed)",
          "1.42 (Greed)",
          "1.43 (Greed)",
          "1.58 (Extreme Fear)",
          "1.58 (Extreme Fear)",
          "1.58 (Extreme Fear)",
          "1.57 (Extreme Fear)",
          "1.57 (Extreme Fear)",
          "1.58 (Extreme Fear)",
          "1.56 (Extreme Fear)",
          "1.58 (Extreme Fear)",
          "1.56 (Extreme Fear)",
          "1.55 (Extreme Fear)",
          "1.53 (Extreme Fear)",
          "1.51 (Fear)",
          "1.49 (Fear)",
          "1.51 (Extreme Fear)",
          "1.50 (Fear)",
          "1.50 (Fear)",
          "1.50 (Fear)",
          "1.50 (Fear)",
          "1.50 (Fear)",
          "1.50 (Fear)",
          "1.50 (Fear)",
          "1.50 (Fear)",
          "1.50 (Fear)",
          "1.50 (Fear)",
          "1.53 (Extreme Fear)",
          "1.52 (Extreme Fear)",
          "1.51 (Extreme Fear)",
          "1.51 (Extreme Fear)",
          "1.50 (Fear)",
          "1.50 (Fear)",
          "1.51 (Fear)",
          "1.52 (Extreme Fear)",
          "1.51 (Extreme Fear)",
          "1.50 (Fear)",
          "1.50 (Fear)",
          "1.49 (Fear)",
          "1.48 (Fear)",
          "1.50 (Fear)",
          "1.51 (Fear)",
          "1.49 (Fear)",
          "1.50 (Fear)",
          "1.50 (Fear)",
          "1.52 (Extreme Fear)",
          "1.52 (Extreme Fear)",
          "1.55 (Extreme Fear)",
          "1.54 (Extreme Fear)",
          "1.53 (Extreme Fear)",
          "1.53 (Extreme Fear)",
          "1.53 (Extreme Fear)",
          "1.53 (Extreme Fear)",
          "1.44 (Neutral)",
          "1.45 (Neutral)",
          "1.44 (Neutral)",
          "1.47 (Fear)",
          "1.46 (Neutral)",
          "1.46 (Neutral)",
          "1.46 (Neutral)",
          "1.46 (Neutral)",
          "1.46 (Fear)",
          "1.47 (Fear)",
          "1.48 (Fear)",
          "1.48 (Fear)",
          "1.47 (Fear)",
          "1.43 (Greed)",
          "1.44 (Neutral)",
          "1.44 (Neutral)",
          "1.44 (Neutral)",
          "1.49 (Fear)",
          "1.50 (Fear)",
          "1.49 (Fear)",
          "1.49 (Fear)",
          "1.55 (Extreme Fear)",
          "1.61 (Extreme Fear)",
          "1.61 (Extreme Fear)",
          "1.54 (Extreme Fear)",
          "1.53 (Extreme Fear)",
          "1.50 (Fear)",
          "1.49 (Fear)",
          "1.49 (Fear)",
          "1.49 (Fear)",
          "1.51 (Extreme Fear)",
          "1.48 (Fear)",
          "1.48 (Fear)",
          "1.48 (Fear)",
          "1.48 (Fear)",
          "1.44 (Neutral)",
          "1.46 (Fear)",
          "1.47 (Fear)",
          "1.47 (Fear)",
          "1.47 (Fear)",
          "1.56 (Extreme Fear)",
          "1.41 (Greed)",
          "1.41 (Greed)",
          "1.42 (Greed)",
          "1.43 (Greed)",
          "1.39 (Greed)",
          "1.39 (Greed)",
          "1.35 (Extreme Greed)",
          "1.34 (Extreme Greed)",
          "1.33 (Extreme Greed)",
          "1.36 (Extreme Greed)",
          "1.36 (Extreme Greed)",
          "1.37 (Extreme Greed)",
          "1.35 (Extreme Greed)",
          "1.33 (Extreme Greed)",
          "1.35 (Extreme Greed)",
          "1.35 (Extreme Greed)",
          "1.35 (Extreme Greed)",
          "1.36 (Extreme Greed)",
          "1.37 (Extreme Greed)",
          "1.38 (Extreme Greed)",
          "1.48 (Fear)",
          "1.47 (Fear)",
          "1.42 (Greed)",
          "1.41 (Greed)",
          "1.38 (Greed)",
          "1.39 (Greed)",
          "1.40 (Greed)",
          "1.40 (Greed)",
          "1.43 (Greed)",
          "1.41 (Greed)",
          "1.39 (Greed)",
          "1.41 (Greed)",
          "1.41 (Greed)",
          "1.41 (Greed)",
          "1.40 (Greed)",
          "1.41 (Greed)",
          "1.40 (Greed)",
          "1.40 (Greed)",
          "1.39 (Greed)",
          "1.40 (Greed)",
          "1.52 (Extreme Fear)",
          "1.35 (Extreme Greed)",
          "1.34 (Extreme Greed)",
          "1.33 (Extreme Greed)",
          "1.33 (Extreme Greed)",
          "1.33 (Extreme Greed)",
          "1.33 (Extreme Greed)",
          "1.33 (Extreme Greed)",
          "1.33 (Extreme Greed)",
          "1.33 (Extreme Greed)",
          "1.33 (Extreme Greed)",
          "1.33 (Extreme Greed)",
          "1.33 (Extreme Greed)",
          "1.31 (Extreme Greed)",
          "1.31 (Extreme Greed)",
          "1.31 (Extreme Greed)",
          "1.31 (Extreme Greed)",
          "1.31 (Extreme Greed)",
          "1.31 (Extreme Greed)",
          "1.31 (Extreme Greed)",
          "1.31 (Extreme Greed)",
          "1.31 (Extreme Greed)",
          "1.31 (Extreme Greed)",
          "1.31 (Extreme Greed)",
          "1.31 (Extreme Greed)",
          "1.31 (Extreme Greed)",
          "1.31 (Extreme Greed)",
          "1.31 (Extreme Greed)",
          "1.31 (Extreme Greed)",
          "1.31 (Extreme Greed)",
          "1.31 (Extreme Greed)",
          "1.31 (Extreme Greed)",
          "1.31 (Extreme Greed)",
          "1.31 (Extreme Greed)",
          "1.31 (Extreme Greed)",
          "1.30 (Extreme Greed)",
          "1.29 (Extreme Greed)",
          "1.29 (Extreme Greed)",
          "1.28 (Extreme Greed)",
          "1.28 (Extreme Greed)",
          "1.28 (Extreme Greed)",
          "1.27 (Extreme Greed)",
          "1.28 (Extreme Greed)",
          "1.41 (Greed)",
          "1.43 (Greed)",
          "1.35 (Extreme Greed)",
          "1.37 (Extreme Greed)",
          "1.36 (Extreme Greed)",
          "1.37 (Extreme Greed)",
          "1.38 (Extreme Greed)",
          "1.38 (Extreme Greed)",
          "1.37 (Extreme Greed)",
          "1.37 (Extreme Greed)",
          "1.37 (Extreme Greed)",
          "1.35 (Extreme Greed)",
          "1.35 (Extreme Greed)",
          "1.33 (Extreme Greed)",
          "1.34 (Extreme Greed)",
          "1.33 (Extreme Greed)",
          "1.34 (Extreme Greed)",
          "1.34 (Extreme Greed)",
          "1.34 (Extreme Greed)",
          "1.34 (Extreme Greed)",
          "1.36 (Extreme Greed)",
          "1.47 (Fear)",
          "1.36 (Extreme Greed)",
          "1.35 (Extreme Greed)",
          "1.36 (Extreme Greed)",
          "1.36 (Extreme Greed)",
          "1.37 (Extreme Greed)",
          "nan (Extreme Fear)",
          "nan (Extreme Fear)",
          "nan (Extreme Fear)",
          "nan (Extreme Fear)",
          "1.41 (Greed)",
          "nan (Extreme Fear)",
          "nan (Extreme Fear)"
         ],
         "type": "scatter",
         "x": [
          "2024-10-10T00:00:00.000000000",
          "2024-10-11T00:00:00.000000000",
          "2024-10-14T00:00:00.000000000",
          "2024-10-15T00:00:00.000000000",
          "2024-10-16T00:00:00.000000000",
          "2024-10-17T00:00:00.000000000",
          "2024-10-18T00:00:00.000000000",
          "2024-10-21T00:00:00.000000000",
          "2024-10-22T00:00:00.000000000",
          "2024-10-23T00:00:00.000000000",
          "2024-10-24T00:00:00.000000000",
          "2024-10-25T00:00:00.000000000",
          "2024-10-28T00:00:00.000000000",
          "2024-10-29T00:00:00.000000000",
          "2024-10-30T00:00:00.000000000",
          "2024-10-31T00:00:00.000000000",
          "2024-11-01T00:00:00.000000000",
          "2024-11-04T00:00:00.000000000",
          "2024-11-05T00:00:00.000000000",
          "2024-11-06T00:00:00.000000000",
          "2024-11-07T00:00:00.000000000",
          "2024-11-08T00:00:00.000000000",
          "2024-11-11T00:00:00.000000000",
          "2024-11-12T00:00:00.000000000",
          "2024-11-13T00:00:00.000000000",
          "2024-11-14T00:00:00.000000000",
          "2024-11-15T00:00:00.000000000",
          "2024-11-18T00:00:00.000000000",
          "2024-11-19T00:00:00.000000000",
          "2024-11-20T00:00:00.000000000",
          "2024-11-21T00:00:00.000000000",
          "2024-11-22T00:00:00.000000000",
          "2024-11-25T00:00:00.000000000",
          "2024-11-26T00:00:00.000000000",
          "2024-11-27T00:00:00.000000000",
          "2024-11-29T00:00:00.000000000",
          "2024-12-02T00:00:00.000000000",
          "2024-12-03T00:00:00.000000000",
          "2024-12-04T00:00:00.000000000",
          "2024-12-05T00:00:00.000000000",
          "2024-12-06T00:00:00.000000000",
          "2024-12-09T00:00:00.000000000",
          "2024-12-10T00:00:00.000000000",
          "2024-12-11T00:00:00.000000000",
          "2024-12-12T00:00:00.000000000",
          "2024-12-13T00:00:00.000000000",
          "2024-12-16T00:00:00.000000000",
          "2024-12-17T00:00:00.000000000",
          "2024-12-18T00:00:00.000000000",
          "2024-12-19T00:00:00.000000000",
          "2024-12-20T00:00:00.000000000",
          "2024-12-23T00:00:00.000000000",
          "2024-12-24T00:00:00.000000000",
          "2024-12-26T00:00:00.000000000",
          "2024-12-27T00:00:00.000000000",
          "2024-12-30T00:00:00.000000000",
          "2024-12-31T00:00:00.000000000",
          "2025-01-02T00:00:00.000000000",
          "2025-01-03T00:00:00.000000000",
          "2025-01-06T00:00:00.000000000",
          "2025-01-07T00:00:00.000000000",
          "2025-01-08T00:00:00.000000000",
          "2025-01-10T00:00:00.000000000",
          "2025-01-13T00:00:00.000000000",
          "2025-01-14T00:00:00.000000000",
          "2025-01-15T00:00:00.000000000",
          "2025-01-16T00:00:00.000000000",
          "2025-01-17T00:00:00.000000000",
          "2025-01-21T00:00:00.000000000",
          "2025-01-22T00:00:00.000000000",
          "2025-01-23T00:00:00.000000000",
          "2025-01-24T00:00:00.000000000",
          "2025-01-27T00:00:00.000000000",
          "2025-01-28T00:00:00.000000000",
          "2025-01-29T00:00:00.000000000",
          "2025-01-30T00:00:00.000000000",
          "2025-01-31T00:00:00.000000000",
          "2025-02-03T00:00:00.000000000",
          "2025-02-04T00:00:00.000000000",
          "2025-02-05T00:00:00.000000000",
          "2025-02-06T00:00:00.000000000",
          "2025-02-07T00:00:00.000000000",
          "2025-02-10T00:00:00.000000000",
          "2025-02-11T00:00:00.000000000",
          "2025-02-12T00:00:00.000000000",
          "2025-02-13T00:00:00.000000000",
          "2025-02-14T00:00:00.000000000",
          "2025-02-18T00:00:00.000000000",
          "2025-02-19T00:00:00.000000000",
          "2025-02-20T00:00:00.000000000",
          "2025-02-21T00:00:00.000000000",
          "2025-02-24T00:00:00.000000000",
          "2025-02-25T00:00:00.000000000",
          "2025-02-26T00:00:00.000000000",
          "2025-02-27T00:00:00.000000000",
          "2025-02-28T00:00:00.000000000",
          "2025-03-03T00:00:00.000000000",
          "2025-03-04T00:00:00.000000000",
          "2025-03-05T00:00:00.000000000",
          "2025-03-06T00:00:00.000000000",
          "2025-03-07T00:00:00.000000000",
          "2025-03-10T00:00:00.000000000",
          "2025-03-11T00:00:00.000000000",
          "2025-03-12T00:00:00.000000000",
          "2025-03-13T00:00:00.000000000",
          "2025-03-14T00:00:00.000000000",
          "2025-03-17T00:00:00.000000000",
          "2025-03-18T00:00:00.000000000",
          "2025-03-19T00:00:00.000000000",
          "2025-03-20T00:00:00.000000000",
          "2025-03-21T00:00:00.000000000",
          "2025-03-24T00:00:00.000000000",
          "2025-03-25T00:00:00.000000000",
          "2025-03-26T00:00:00.000000000",
          "2025-03-27T00:00:00.000000000",
          "2025-03-28T00:00:00.000000000",
          "2025-03-31T00:00:00.000000000",
          "2025-04-01T00:00:00.000000000",
          "2025-04-02T00:00:00.000000000",
          "2025-04-03T00:00:00.000000000",
          "2025-04-04T00:00:00.000000000",
          "2025-04-07T00:00:00.000000000",
          "2025-04-08T00:00:00.000000000",
          "2025-04-09T00:00:00.000000000",
          "2025-04-10T00:00:00.000000000",
          "2025-04-11T00:00:00.000000000",
          "2025-04-14T00:00:00.000000000",
          "2025-04-15T00:00:00.000000000",
          "2025-04-16T00:00:00.000000000",
          "2025-04-17T00:00:00.000000000",
          "2025-04-21T00:00:00.000000000",
          "2025-04-22T00:00:00.000000000",
          "2025-04-23T00:00:00.000000000",
          "2025-04-24T00:00:00.000000000",
          "2025-04-25T00:00:00.000000000",
          "2025-04-28T00:00:00.000000000",
          "2025-04-29T00:00:00.000000000",
          "2025-04-30T00:00:00.000000000",
          "2025-05-01T00:00:00.000000000",
          "2025-05-02T00:00:00.000000000",
          "2025-05-05T00:00:00.000000000",
          "2025-05-06T00:00:00.000000000",
          "2025-05-07T00:00:00.000000000",
          "2025-05-08T00:00:00.000000000",
          "2025-05-09T00:00:00.000000000",
          "2025-05-12T00:00:00.000000000",
          "2025-05-13T00:00:00.000000000",
          "2025-05-14T00:00:00.000000000",
          "2025-05-15T00:00:00.000000000",
          "2025-05-16T00:00:00.000000000",
          "2025-05-19T00:00:00.000000000",
          "2025-05-20T00:00:00.000000000",
          "2025-05-21T00:00:00.000000000",
          "2025-05-22T00:00:00.000000000",
          "2025-05-23T00:00:00.000000000",
          "2025-05-27T00:00:00.000000000",
          "2025-05-28T00:00:00.000000000",
          "2025-05-29T00:00:00.000000000",
          "2025-05-30T00:00:00.000000000",
          "2025-06-02T00:00:00.000000000",
          "2025-06-03T00:00:00.000000000",
          "2025-06-04T00:00:00.000000000",
          "2025-06-05T00:00:00.000000000",
          "2025-06-06T00:00:00.000000000",
          "2025-06-09T00:00:00.000000000",
          "2025-06-10T00:00:00.000000000",
          "2025-06-11T00:00:00.000000000",
          "2025-06-12T00:00:00.000000000",
          "2025-06-13T00:00:00.000000000",
          "2025-06-16T00:00:00.000000000",
          "2025-06-17T00:00:00.000000000",
          "2025-06-18T00:00:00.000000000",
          "2025-06-20T00:00:00.000000000",
          "2025-06-23T00:00:00.000000000",
          "2025-06-24T00:00:00.000000000",
          "2025-06-25T00:00:00.000000000",
          "2025-06-26T00:00:00.000000000",
          "2025-06-27T00:00:00.000000000",
          "2025-06-30T00:00:00.000000000",
          "2025-07-01T00:00:00.000000000",
          "2025-07-02T00:00:00.000000000",
          "2025-07-03T00:00:00.000000000",
          "2025-07-07T00:00:00.000000000",
          "2025-07-08T00:00:00.000000000",
          "2025-07-09T00:00:00.000000000",
          "2025-07-10T00:00:00.000000000",
          "2025-07-11T00:00:00.000000000",
          "2025-07-14T00:00:00.000000000",
          "2025-07-15T00:00:00.000000000",
          "2025-07-16T00:00:00.000000000",
          "2025-07-17T00:00:00.000000000",
          "2025-07-18T00:00:00.000000000",
          "2025-07-21T00:00:00.000000000",
          "2025-07-22T00:00:00.000000000",
          "2025-07-23T00:00:00.000000000",
          "2025-07-24T00:00:00.000000000",
          "2025-07-25T00:00:00.000000000",
          "2025-07-28T00:00:00.000000000",
          "2025-07-29T00:00:00.000000000",
          "2025-07-30T00:00:00.000000000",
          "2025-07-31T00:00:00.000000000",
          "2025-08-01T00:00:00.000000000",
          "2025-08-04T00:00:00.000000000",
          "2025-08-05T00:00:00.000000000",
          "2025-08-06T00:00:00.000000000",
          "2025-08-07T00:00:00.000000000",
          "2025-08-08T00:00:00.000000000",
          "2025-08-11T00:00:00.000000000",
          "2025-08-12T00:00:00.000000000",
          "2025-08-13T00:00:00.000000000",
          "2025-08-14T00:00:00.000000000",
          "2025-08-15T00:00:00.000000000",
          "2025-08-18T00:00:00.000000000",
          "2025-08-19T00:00:00.000000000",
          "2025-08-20T00:00:00.000000000",
          "2025-08-21T00:00:00.000000000",
          "2025-08-22T00:00:00.000000000",
          "2025-08-25T00:00:00.000000000",
          "2025-08-26T00:00:00.000000000",
          "2025-08-27T00:00:00.000000000",
          "2025-08-28T00:00:00.000000000",
          "2025-08-29T00:00:00.000000000",
          "2025-09-02T00:00:00.000000000",
          "2025-09-03T00:00:00.000000000",
          "2025-09-04T00:00:00.000000000",
          "2025-09-05T00:00:00.000000000",
          "2025-09-08T00:00:00.000000000",
          "2025-09-09T00:00:00.000000000",
          "2025-09-10T00:00:00.000000000",
          "2025-09-11T00:00:00.000000000",
          "2025-09-12T00:00:00.000000000",
          "2025-09-15T00:00:00.000000000",
          "2025-09-16T00:00:00.000000000",
          "2025-09-17T00:00:00.000000000",
          "2025-09-18T00:00:00.000000000",
          "2025-09-19T00:00:00.000000000",
          "2025-09-22T00:00:00.000000000",
          "2025-09-23T00:00:00.000000000",
          "2025-09-24T00:00:00.000000000",
          "2025-09-25T00:00:00.000000000",
          "2025-09-26T00:00:00.000000000",
          "2025-09-29T00:00:00.000000000",
          "2025-09-30T00:00:00.000000000",
          "2025-10-01T00:00:00.000000000",
          "2025-10-02T00:00:00.000000000",
          "2025-10-03T00:00:00.000000000",
          "2025-10-06T00:00:00.000000000",
          "2025-10-07T00:00:00.000000000",
          "2025-10-08T00:00:00.000000000",
          "2025-10-09T00:00:00.000000000",
          "2025-10-10T00:00:00.000000000",
          "2025-10-10T18:32:31.000000000",
          "2025-10-10T18:32:34.000000000",
          "2025-10-10T18:32:37.000000000",
          "2025-10-10T18:32:41.000000000",
          "2025-10-10T18:37:40.000000000",
          "2025-10-10T18:47:38.000000000"
         ],
         "y": {
          "bdata": "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",
          "dtype": "f8"
         }
        }
       ],
       "layout": {
        "template": {
         "data": {
          "bar": [
           {
            "error_x": {
             "color": "#2a3f5f"
            },
            "error_y": {
             "color": "#2a3f5f"
            },
            "marker": {
             "line": {
              "color": "white",
              "width": 0.5
             },
             "pattern": {
              "fillmode": "overlay",
              "size": 10,
              "solidity": 0.2
             }
            },
            "type": "bar"
           }
          ],
          "barpolar": [
           {
            "marker": {
             "line": {
              "color": "white",
              "width": 0.5
             },
             "pattern": {
              "fillmode": "overlay",
              "size": 10,
              "solidity": 0.2
             }
            },
            "type": "barpolar"
           }
          ],
          "carpet": [
           {
            "aaxis": {
             "endlinecolor": "#2a3f5f",
             "gridcolor": "#C8D4E3",
             "linecolor": "#C8D4E3",
             "minorgridcolor": "#C8D4E3",
             "startlinecolor": "#2a3f5f"
            },
            "baxis": {
             "endlinecolor": "#2a3f5f",
             "gridcolor": "#C8D4E3",
             "linecolor": "#C8D4E3",
             "minorgridcolor": "#C8D4E3",
             "startlinecolor": "#2a3f5f"
            },
            "type": "carpet"
           }
          ],
          "choropleth": [
           {
            "colorbar": {
             "outlinewidth": 0,
             "ticks": ""
            },
            "type": "choropleth"
           }
          ],
          "contour": [
           {
            "colorbar": {
             "outlinewidth": 0,
             "ticks": ""
            },
            "colorscale": [
             [
              0,
              "#0d0887"
             ],
             [
              0.1111111111111111,
              "#46039f"
             ],
             [
              0.2222222222222222,
              "#7201a8"
             ],
             [
              0.3333333333333333,
              "#9c179e"
             ],
             [
              0.4444444444444444,
              "#bd3786"
             ],
             [
              0.5555555555555556,
              "#d8576b"
             ],
             [
              0.6666666666666666,
              "#ed7953"
             ],
             [
              0.7777777777777778,
              "#fb9f3a"
             ],
             [
              0.8888888888888888,
              "#fdca26"
             ],
             [
              1,
              "#f0f921"
             ]
            ],
            "type": "contour"
           }
          ],
          "contourcarpet": [
           {
            "colorbar": {
             "outlinewidth": 0,
             "ticks": ""
            },
            "type": "contourcarpet"
           }
          ],
          "heatmap": [
           {
            "colorbar": {
             "outlinewidth": 0,
             "ticks": ""
            },
            "colorscale": [
             [
              0,
              "#0d0887"
             ],
             [
              0.1111111111111111,
              "#46039f"
             ],
             [
              0.2222222222222222,
              "#7201a8"
             ],
             [
              0.3333333333333333,
              "#9c179e"
             ],
             [
              0.4444444444444444,
              "#bd3786"
             ],
             [
              0.5555555555555556,
              "#d8576b"
             ],
             [
              0.6666666666666666,
              "#ed7953"
             ],
             [
              0.7777777777777778,
              "#fb9f3a"
             ],
             [
              0.8888888888888888,
              "#fdca26"
             ],
             [
              1,
              "#f0f921"
             ]
            ],
            "type": "heatmap"
           }
          ],
          "histogram": [
           {
            "marker": {
             "pattern": {
              "fillmode": "overlay",
              "size": 10,
              "solidity": 0.2
             }
            },
            "type": "histogram"
           }
          ],
          "histogram2d": [
           {
            "colorbar": {
             "outlinewidth": 0,
             "ticks": ""
            },
            "colorscale": [
             [
              0,
              "#0d0887"
             ],
             [
              0.1111111111111111,
              "#46039f"
             ],
             [
              0.2222222222222222,
              "#7201a8"
             ],
             [
              0.3333333333333333,
              "#9c179e"
             ],
             [
              0.4444444444444444,
              "#bd3786"
             ],
             [
              0.5555555555555556,
              "#d8576b"
             ],
             [
              0.6666666666666666,
              "#ed7953"
             ],
             [
              0.7777777777777778,
              "#fb9f3a"
             ],
             [
              0.8888888888888888,
              "#fdca26"
             ],
             [
              1,
              "#f0f921"
             ]
            ],
            "type": "histogram2d"
           }
          ],
          "histogram2dcontour": [
           {
            "colorbar": {
             "outlinewidth": 0,
             "ticks": ""
            },
            "colorscale": [
             [
              0,
              "#0d0887"
             ],
             [
              0.1111111111111111,
              "#46039f"
             ],
             [
              0.2222222222222222,
              "#7201a8"
             ],
             [
              0.3333333333333333,
              "#9c179e"
             ],
             [
              0.4444444444444444,
              "#bd3786"
             ],
             [
              0.5555555555555556,
              "#d8576b"
             ],
             [
              0.6666666666666666,
              "#ed7953"
             ],
             [
              0.7777777777777778,
              "#fb9f3a"
             ],
             [
              0.8888888888888888,
              "#fdca26"
             ],
             [
              1,
              "#f0f921"
             ]
            ],
            "type": "histogram2dcontour"
           }
          ],
          "mesh3d": [
           {
            "colorbar": {
             "outlinewidth": 0,
             "ticks": ""
            },
            "type": "mesh3d"
           }
          ],
          "parcoords": [
           {
            "line": {
             "colorbar": {
              "outlinewidth": 0,
              "ticks": ""
             }
            },
            "type": "parcoords"
           }
          ],
          "pie": [
           {
            "automargin": true,
            "type": "pie"
           }
          ],
          "scatter": [
           {
            "fillpattern": {
             "fillmode": "overlay",
             "size": 10,
             "solidity": 0.2
            },
            "type": "scatter"
           }
          ],
          "scatter3d": [
           {
            "line": {
             "colorbar": {
              "outlinewidth": 0,
              "ticks": ""
             }
            },
            "marker": {
             "colorbar": {
              "outlinewidth": 0,
              "ticks": ""
             }
            },
            "type": "scatter3d"
           }
          ],
          "scattercarpet": [
           {
            "marker": {
             "colorbar": {
              "outlinewidth": 0,
              "ticks": ""
             }
            },
            "type": "scattercarpet"
           }
          ],
          "scattergeo": [
           {
            "marker": {
             "colorbar": {
              "outlinewidth": 0,
              "ticks": ""
             }
            },
            "type": "scattergeo"
           }
          ],
          "scattergl": [
           {
            "marker": {
             "colorbar": {
              "outlinewidth": 0,
              "ticks": ""
             }
            },
            "type": "scattergl"
           }
          ],
          "scattermap": [
           {
            "marker": {
             "colorbar": {
              "outlinewidth": 0,
              "ticks": ""
             }
            },
            "type": "scattermap"
           }
          ],
          "scattermapbox": [
           {
            "marker": {
             "colorbar": {
              "outlinewidth": 0,
              "ticks": ""
             }
            },
            "type": "scattermapbox"
           }
          ],
          "scatterpolar": [
           {
            "marker": {
             "colorbar": {
              "outlinewidth": 0,
              "ticks": ""
             }
            },
            "type": "scatterpolar"
           }
          ],
          "scatterpolargl": [
           {
            "marker": {
             "colorbar": {
              "outlinewidth": 0,
              "ticks": ""
             }
            },
            "type": "scatterpolargl"
           }
          ],
          "scatterternary": [
           {
            "marker": {
             "colorbar": {
              "outlinewidth": 0,
              "ticks": ""
             }
            },
            "type": "scatterternary"
           }
          ],
          "surface": [
           {
            "colorbar": {
             "outlinewidth": 0,
             "ticks": ""
            },
            "colorscale": [
             [
              0,
              "#0d0887"
             ],
             [
              0.1111111111111111,
              "#46039f"
             ],
             [
              0.2222222222222222,
              "#7201a8"
             ],
             [
              0.3333333333333333,
              "#9c179e"
             ],
             [
              0.4444444444444444,
              "#bd3786"
             ],
             [
              0.5555555555555556,
              "#d8576b"
             ],
             [
              0.6666666666666666,
              "#ed7953"
             ],
             [
              0.7777777777777778,
              "#fb9f3a"
             ],
             [
              0.8888888888888888,
              "#fdca26"
             ],
             [
              1,
              "#f0f921"
             ]
            ],
            "type": "surface"
           }
          ],
          "table": [
           {
            "cells": {
             "fill": {
              "color": "#EBF0F8"
             },
             "line": {
              "color": "white"
             }
            },
            "header": {
             "fill": {
              "color": "#C8D4E3"
             },
             "line": {
              "color": "white"
             }
            },
            "type": "table"
           }
          ]
         },
         "layout": {
          "annotationdefaults": {
           "arrowcolor": "#2a3f5f",
           "arrowhead": 0,
           "arrowwidth": 1
          },
          "autotypenumbers": "strict",
          "coloraxis": {
           "colorbar": {
            "outlinewidth": 0,
            "ticks": ""
           }
          },
          "colorscale": {
           "diverging": [
            [
             0,
             "#8e0152"
            ],
            [
             0.1,
             "#c51b7d"
            ],
            [
             0.2,
             "#de77ae"
            ],
            [
             0.3,
             "#f1b6da"
            ],
            [
             0.4,
             "#fde0ef"
            ],
            [
             0.5,
             "#f7f7f7"
            ],
            [
             0.6,
             "#e6f5d0"
            ],
            [
             0.7,
             "#b8e186"
            ],
            [
             0.8,
             "#7fbc41"
            ],
            [
             0.9,
             "#4d9221"
            ],
            [
             1,
             "#276419"
            ]
           ],
           "sequential": [
            [
             0,
             "#0d0887"
            ],
            [
             0.1111111111111111,
             "#46039f"
            ],
            [
             0.2222222222222222,
             "#7201a8"
            ],
            [
             0.3333333333333333,
             "#9c179e"
            ],
            [
             0.4444444444444444,
             "#bd3786"
            ],
            [
             0.5555555555555556,
             "#d8576b"
            ],
            [
             0.6666666666666666,
             "#ed7953"
            ],
            [
             0.7777777777777778,
             "#fb9f3a"
            ],
            [
             0.8888888888888888,
             "#fdca26"
            ],
            [
             1,
             "#f0f921"
            ]
           ],
           "sequentialminus": [
            [
             0,
             "#0d0887"
            ],
            [
             0.1111111111111111,
             "#46039f"
            ],
            [
             0.2222222222222222,
             "#7201a8"
            ],
            [
             0.3333333333333333,
             "#9c179e"
            ],
            [
             0.4444444444444444,
             "#bd3786"
            ],
            [
             0.5555555555555556,
             "#d8576b"
            ],
            [
             0.6666666666666666,
             "#ed7953"
            ],
            [
             0.7777777777777778,
             "#fb9f3a"
            ],
            [
             0.8888888888888888,
             "#fdca26"
            ],
            [
             1,
             "#f0f921"
            ]
           ]
          },
          "colorway": [
           "#636efa",
           "#EF553B",
           "#00cc96",
           "#ab63fa",
           "#FFA15A",
           "#19d3f3",
           "#FF6692",
           "#B6E880",
           "#FF97FF",
           "#FECB52"
          ],
          "font": {
           "color": "#2a3f5f"
          },
          "geo": {
           "bgcolor": "white",
           "lakecolor": "white",
           "landcolor": "white",
           "showlakes": true,
           "showland": true,
           "subunitcolor": "#C8D4E3"
          },
          "hoverlabel": {
           "align": "left"
          },
          "hovermode": "closest",
          "mapbox": {
           "style": "light"
          },
          "paper_bgcolor": "white",
          "plot_bgcolor": "white",
          "polar": {
           "angularaxis": {
            "gridcolor": "#EBF0F8",
            "linecolor": "#EBF0F8",
            "ticks": ""
           },
           "bgcolor": "white",
           "radialaxis": {
            "gridcolor": "#EBF0F8",
            "linecolor": "#EBF0F8",
            "ticks": ""
           }
          },
          "scene": {
           "xaxis": {
            "backgroundcolor": "white",
            "gridcolor": "#DFE8F3",
            "gridwidth": 2,
            "linecolor": "#EBF0F8",
            "showbackground": true,
            "ticks": "",
            "zerolinecolor": "#EBF0F8"
           },
           "yaxis": {
            "backgroundcolor": "white",
            "gridcolor": "#DFE8F3",
            "gridwidth": 2,
            "linecolor": "#EBF0F8",
            "showbackground": true,
            "ticks": "",
            "zerolinecolor": "#EBF0F8"
           },
           "zaxis": {
            "backgroundcolor": "white",
            "gridcolor": "#DFE8F3",
            "gridwidth": 2,
            "linecolor": "#EBF0F8",
            "showbackground": true,
            "ticks": "",
            "zerolinecolor": "#EBF0F8"
           }
          },
          "shapedefaults": {
           "line": {
            "color": "#2a3f5f"
           }
          },
          "ternary": {
           "aaxis": {
            "gridcolor": "#DFE8F3",
            "linecolor": "#A2B1C6",
            "ticks": ""
           },
           "baxis": {
            "gridcolor": "#DFE8F3",
            "linecolor": "#A2B1C6",
            "ticks": ""
           },
           "bgcolor": "white",
           "caxis": {
            "gridcolor": "#DFE8F3",
            "linecolor": "#A2B1C6",
            "ticks": ""
           }
          },
          "title": {
           "x": 0.05
          },
          "xaxis": {
           "automargin": true,
           "gridcolor": "#EBF0F8",
           "linecolor": "#EBF0F8",
           "ticks": "",
           "title": {
            "standoff": 15
           },
           "zerolinecolor": "#EBF0F8",
           "zerolinewidth": 2
          },
          "yaxis": {
           "automargin": true,
           "gridcolor": "#EBF0F8",
           "linecolor": "#EBF0F8",
           "ticks": "",
           "title": {
            "standoff": 15
           },
           "zerolinecolor": "#EBF0F8",
           "zerolinewidth": 2
          }
         }
        },
        "title": {
         "text": "Junk Bond Demand"
        },
        "xaxis": {
         "title": {
          "text": "Date"
         }
        },
        "yaxis": {
         "range": [
          1.209846008989434,
          1.8468533758500003
         ],
         "title": {
          "text": "Score"
         }
        }
       }
      }
     },
     "metadata": {},
     "output_type": "display_data"
    },
    {
     "data": {
      "application/vnd.plotly.v1+json": {
       "config": {
        "plotlyServerURL": "https://plot.ly"
       },
       "data": [
        {
         "hoverinfo": "text+x",
         "line": {
          "color": "lightgray",
          "width": 2
         },
         "marker": {
          "color": [
           "red",
           "gold",
           "gold",
           "gold",
           "green",
           "green",
           "green",
           "green",
           "green",
           "gold",
           "gold",
           "red",
           "red",
           "gold",
           "gold",
           "red",
           "red",
           "red",
           "darkred",
           "red",
           "red",
           "gold",
           "green",
           "darkgreen",
           "darkgreen",
           "green",
           "green",
           "gold",
           "red",
           "red",
           "green",
           "darkgreen",
           "darkgreen",
           "darkgreen",
           "darkgreen",
           "darkgreen",
           "darkgreen",
           "darkgreen",
           "darkgreen",
           "darkgreen",
           "darkgreen",
           "darkgreen",
           "darkgreen",
           "darkgreen",
           "darkgreen",
           "darkgreen",
           "darkgreen",
           "darkgreen",
           "darkgreen",
           "green",
           "gold",
           "red",
           "gold",
           "gold",
           "green",
           "green",
           "green",
           "green",
           "green",
           "green",
           "green",
           "gold",
           "gold",
           "red",
           "red",
           "red",
           "darkred",
           "red",
           "green",
           "green",
           "green",
           "darkgreen",
           "green",
           "green",
           "green",
           "green",
           "green",
           "green",
           "gold",
           "green",
           "green",
           "green",
           "green",
           "green",
           "green",
           "green",
           "green",
           "darkgreen",
           "darkgreen",
           "darkgreen",
           "darkgreen",
           "green",
           "red",
           "red",
           "darkred",
           "darkred",
           "darkred",
           "darkred",
           "darkred",
           "darkred",
           "darkred",
           "darkred",
           "darkred",
           "darkred",
           "darkred",
           "darkred",
           "darkred",
           "darkred",
           "darkred",
           "darkred",
           "darkred",
           "darkred",
           "darkred",
           "darkred",
           "darkred",
           "darkred",
           "darkred",
           "darkred",
           "darkred",
           "darkred",
           "darkred",
           "darkred",
           "darkred",
           "darkred",
           "darkred",
           "darkred",
           "darkred",
           "darkred",
           "darkred",
           "darkred",
           "darkred",
           "darkred",
           "darkred",
           "darkred",
           "darkred",
           "darkred",
           "darkred",
           "darkred",
           "darkred",
           "darkred",
           "darkred",
           "darkred",
           "darkred",
           "red",
           "red",
           "gold",
           "green",
           "green",
           "green",
           "green",
           "green",
           "green",
           "gold",
           "green",
           "red",
           "gold",
           "gold",
           "gold",
           "gold",
           "gold",
           "gold",
           "gold",
           "red",
           "red",
           "green",
           "green",
           "green",
           "green",
           "darkgreen",
           "green",
           "gold",
           "red",
           "red",
           "red",
           "red",
           "gold",
           "green",
           "green",
           "darkgreen",
           "darkgreen",
           "darkgreen",
           "darkgreen",
           "darkgreen",
           "darkgreen",
           "darkgreen",
           "darkgreen",
           "darkgreen",
           "darkgreen",
           "darkgreen",
           "darkgreen",
           "green",
           "darkgreen",
           "darkgreen",
           "darkgreen",
           "darkgreen",
           "darkgreen",
           "green",
           "green",
           "green",
           "green",
           "green",
           "gold",
           "red",
           "red",
           "red",
           "red",
           "gold",
           "green",
           "green",
           "green",
           "green",
           "darkgreen",
           "darkgreen",
           "darkgreen",
           "green",
           "darkred",
           "green",
           "green",
           "green",
           "green",
           "darkgreen",
           "darkgreen",
           "green",
           "green",
           "green",
           "green",
           "green",
           "green",
           "green",
           "green",
           "darkgreen",
           "darkgreen",
           "darkgreen",
           "darkgreen",
           "darkgreen",
           "darkgreen",
           "darkgreen",
           "darkgreen",
           "darkgreen",
           "darkgreen",
           "darkgreen",
           "darkgreen",
           "darkgreen",
           "darkgreen",
           "darkgreen",
           "darkgreen",
           "darkgreen",
           "darkgreen",
           "darkgreen",
           "darkgreen",
           "darkred",
           "darkred",
           "darkred",
           "darkgreen",
           "darkred",
           "darkred",
           "darkred"
          ],
          "size": 8
         },
         "mode": "lines+markers",
         "name": "Put/Call Options Ratio",
         "text": [
          "0.72 (Fear)",
          "0.70 (Neutral)",
          "0.70 (Neutral)",
          "0.70 (Neutral)",
          "0.68 (Greed)",
          "0.68 (Greed)",
          "0.66 (Greed)",
          "0.69 (Greed)",
          "0.69 (Greed)",
          "0.70 (Neutral)",
          "0.69 (Neutral)",
          "0.72 (Fear)",
          "0.71 (Fear)",
          "0.71 (Neutral)",
          "0.71 (Neutral)",
          "0.71 (Fear)",
          "0.72 (Fear)",
          "0.74 (Fear)",
          "0.76 (Extreme Fear)",
          "0.75 (Fear)",
          "0.73 (Fear)",
          "0.70 (Neutral)",
          "0.65 (Greed)",
          "0.62 (Extreme Greed)",
          "0.61 (Extreme Greed)",
          "0.67 (Greed)",
          "0.69 (Greed)",
          "0.70 (Neutral)",
          "0.71 (Fear)",
          "0.72 (Fear)",
          "0.67 (Greed)",
          "0.64 (Extreme Greed)",
          "0.62 (Extreme Greed)",
          "0.63 (Extreme Greed)",
          "0.64 (Extreme Greed)",
          "0.61 (Extreme Greed)",
          "0.62 (Extreme Greed)",
          "0.64 (Extreme Greed)",
          "0.63 (Extreme Greed)",
          "0.61 (Extreme Greed)",
          "0.63 (Extreme Greed)",
          "0.63 (Extreme Greed)",
          "0.62 (Extreme Greed)",
          "0.62 (Extreme Greed)",
          "0.63 (Extreme Greed)",
          "0.64 (Extreme Greed)",
          "0.62 (Extreme Greed)",
          "0.63 (Extreme Greed)",
          "0.64 (Extreme Greed)",
          "0.69 (Greed)",
          "0.69 (Neutral)",
          "0.72 (Fear)",
          "0.70 (Neutral)",
          "0.69 (Neutral)",
          "0.65 (Greed)",
          "0.66 (Greed)",
          "0.65 (Greed)",
          "0.68 (Greed)",
          "0.67 (Greed)",
          "0.66 (Greed)",
          "0.65 (Greed)",
          "0.69 (Neutral)",
          "0.71 (Neutral)",
          "0.74 (Fear)",
          "0.74 (Fear)",
          "0.75 (Fear)",
          "0.76 (Extreme Fear)",
          "0.72 (Fear)",
          "0.69 (Greed)",
          "0.68 (Greed)",
          "0.68 (Greed)",
          "0.63 (Extreme Greed)",
          "0.65 (Greed)",
          "0.64 (Greed)",
          "0.65 (Greed)",
          "0.65 (Greed)",
          "0.66 (Greed)",
          "0.68 (Greed)",
          "0.69 (Neutral)",
          "0.68 (Greed)",
          "0.68 (Greed)",
          "0.68 (Greed)",
          "0.65 (Greed)",
          "0.66 (Greed)",
          "0.67 (Greed)",
          "0.67 (Greed)",
          "0.65 (Greed)",
          "0.64 (Extreme Greed)",
          "0.63 (Extreme Greed)",
          "0.62 (Extreme Greed)",
          "0.64 (Extreme Greed)",
          "0.69 (Greed)",
          "0.73 (Fear)",
          "0.74 (Fear)",
          "0.78 (Extreme Fear)",
          "0.80 (Extreme Fear)",
          "0.81 (Extreme Fear)",
          "0.82 (Extreme Fear)",
          "0.83 (Extreme Fear)",
          "0.82 (Extreme Fear)",
          "0.81 (Extreme Fear)",
          "0.81 (Extreme Fear)",
          "0.80 (Extreme Fear)",
          "0.82 (Extreme Fear)",
          "0.83 (Extreme Fear)",
          "0.83 (Extreme Fear)",
          "0.82 (Extreme Fear)",
          "0.80 (Extreme Fear)",
          "0.78 (Extreme Fear)",
          "0.78 (Extreme Fear)",
          "0.78 (Extreme Fear)",
          "0.76 (Extreme Fear)",
          "0.77 (Extreme Fear)",
          "0.78 (Extreme Fear)",
          "0.76 (Extreme Fear)",
          "0.79 (Extreme Fear)",
          "0.84 (Extreme Fear)",
          "0.85 (Extreme Fear)",
          "0.86 (Extreme Fear)",
          "0.91 (Extreme Fear)",
          "0.95 (Extreme Fear)",
          "0.95 (Extreme Fear)",
          "0.99 (Extreme Fear)",
          "1.00 (Extreme Fear)",
          "0.99 (Extreme Fear)",
          "0.92 (Extreme Fear)",
          "0.89 (Extreme Fear)",
          "0.86 (Extreme Fear)",
          "0.90 (Extreme Fear)",
          "0.86 (Extreme Fear)",
          "0.90 (Extreme Fear)",
          "0.88 (Extreme Fear)",
          "0.86 (Extreme Fear)",
          "0.82 (Extreme Fear)",
          "0.80 (Extreme Fear)",
          "0.78 (Extreme Fear)",
          "0.79 (Extreme Fear)",
          "0.80 (Extreme Fear)",
          "0.78 (Extreme Fear)",
          "0.78 (Extreme Fear)",
          "0.79 (Extreme Fear)",
          "0.79 (Extreme Fear)",
          "0.75 (Extreme Fear)",
          "0.74 (Fear)",
          "0.73 (Fear)",
          "0.70 (Neutral)",
          "0.67 (Greed)",
          "0.65 (Greed)",
          "0.67 (Greed)",
          "0.66 (Greed)",
          "0.67 (Greed)",
          "0.67 (Greed)",
          "0.70 (Neutral)",
          "0.69 (Greed)",
          "0.72 (Fear)",
          "0.70 (Neutral)",
          "0.71 (Neutral)",
          "0.70 (Neutral)",
          "0.71 (Neutral)",
          "0.70 (Neutral)",
          "0.71 (Neutral)",
          "0.71 (Neutral)",
          "0.72 (Fear)",
          "0.71 (Fear)",
          "0.69 (Greed)",
          "0.68 (Greed)",
          "0.66 (Greed)",
          "0.66 (Greed)",
          "0.64 (Extreme Greed)",
          "0.66 (Greed)",
          "0.71 (Neutral)",
          "0.73 (Fear)",
          "0.72 (Fear)",
          "0.75 (Fear)",
          "0.75 (Fear)",
          "0.70 (Neutral)",
          "0.69 (Greed)",
          "0.68 (Greed)",
          "0.64 (Extreme Greed)",
          "0.62 (Extreme Greed)",
          "0.62 (Extreme Greed)",
          "0.61 (Extreme Greed)",
          "0.62 (Extreme Greed)",
          "0.63 (Extreme Greed)",
          "0.63 (Extreme Greed)",
          "0.63 (Extreme Greed)",
          "0.64 (Extreme Greed)",
          "0.63 (Extreme Greed)",
          "0.63 (Extreme Greed)",
          "0.64 (Extreme Greed)",
          "0.64 (Greed)",
          "0.64 (Extreme Greed)",
          "0.64 (Extreme Greed)",
          "0.63 (Extreme Greed)",
          "0.63 (Extreme Greed)",
          "0.64 (Extreme Greed)",
          "0.65 (Greed)",
          "0.65 (Greed)",
          "0.65 (Greed)",
          "0.66 (Greed)",
          "0.68 (Greed)",
          "0.71 (Neutral)",
          "0.73 (Fear)",
          "0.74 (Fear)",
          "0.74 (Fear)",
          "0.73 (Fear)",
          "0.70 (Neutral)",
          "0.68 (Greed)",
          "0.67 (Greed)",
          "0.65 (Greed)",
          "0.66 (Greed)",
          "0.64 (Extreme Greed)",
          "0.63 (Extreme Greed)",
          "0.63 (Extreme Greed)",
          "0.67 (Greed)",
          "nan (Extreme Fear)",
          "0.66 (Greed)",
          "0.67 (Greed)",
          "0.67 (Greed)",
          "0.66 (Greed)",
          "0.64 (Extreme Greed)",
          "0.64 (Extreme Greed)",
          "0.65 (Greed)",
          "0.65 (Greed)",
          "0.67 (Greed)",
          "0.67 (Greed)",
          "0.68 (Greed)",
          "0.67 (Greed)",
          "0.66 (Greed)",
          "0.65 (Greed)",
          "0.63 (Extreme Greed)",
          "0.60 (Extreme Greed)",
          "0.58 (Extreme Greed)",
          "0.59 (Extreme Greed)",
          "0.57 (Extreme Greed)",
          "0.57 (Extreme Greed)",
          "0.58 (Extreme Greed)",
          "0.59 (Extreme Greed)",
          "0.59 (Extreme Greed)",
          "0.61 (Extreme Greed)",
          "0.63 (Extreme Greed)",
          "0.63 (Extreme Greed)",
          "0.63 (Extreme Greed)",
          "0.62 (Extreme Greed)",
          "0.60 (Extreme Greed)",
          "0.59 (Extreme Greed)",
          "0.59 (Extreme Greed)",
          "0.58 (Extreme Greed)",
          "0.58 (Extreme Greed)",
          "0.59 (Extreme Greed)",
          "nan (Extreme Fear)",
          "nan (Extreme Fear)",
          "nan (Extreme Fear)",
          "0.60 (Extreme Greed)",
          "nan (Extreme Fear)",
          "nan (Extreme Fear)",
          "nan (Extreme Fear)"
         ],
         "type": "scatter",
         "x": [
          "2024-10-10T00:00:00.000000000",
          "2024-10-11T00:00:00.000000000",
          "2024-10-14T00:00:00.000000000",
          "2024-10-15T00:00:00.000000000",
          "2024-10-16T00:00:00.000000000",
          "2024-10-17T00:00:00.000000000",
          "2024-10-18T00:00:00.000000000",
          "2024-10-21T00:00:00.000000000",
          "2024-10-22T00:00:00.000000000",
          "2024-10-23T00:00:00.000000000",
          "2024-10-24T00:00:00.000000000",
          "2024-10-25T00:00:00.000000000",
          "2024-10-28T00:00:00.000000000",
          "2024-10-29T00:00:00.000000000",
          "2024-10-30T00:00:00.000000000",
          "2024-10-31T00:00:00.000000000",
          "2024-11-01T00:00:00.000000000",
          "2024-11-04T00:00:00.000000000",
          "2024-11-05T00:00:00.000000000",
          "2024-11-06T00:00:00.000000000",
          "2024-11-07T00:00:00.000000000",
          "2024-11-08T00:00:00.000000000",
          "2024-11-11T00:00:00.000000000",
          "2024-11-12T00:00:00.000000000",
          "2024-11-13T00:00:00.000000000",
          "2024-11-14T00:00:00.000000000",
          "2024-11-15T00:00:00.000000000",
          "2024-11-18T00:00:00.000000000",
          "2024-11-19T00:00:00.000000000",
          "2024-11-20T00:00:00.000000000",
          "2024-11-21T00:00:00.000000000",
          "2024-11-22T00:00:00.000000000",
          "2024-11-25T00:00:00.000000000",
          "2024-11-26T00:00:00.000000000",
          "2024-11-27T00:00:00.000000000",
          "2024-11-29T00:00:00.000000000",
          "2024-12-02T00:00:00.000000000",
          "2024-12-03T00:00:00.000000000",
          "2024-12-04T00:00:00.000000000",
          "2024-12-05T00:00:00.000000000",
          "2024-12-06T00:00:00.000000000",
          "2024-12-09T00:00:00.000000000",
          "2024-12-10T00:00:00.000000000",
          "2024-12-11T00:00:00.000000000",
          "2024-12-12T00:00:00.000000000",
          "2024-12-13T00:00:00.000000000",
          "2024-12-16T00:00:00.000000000",
          "2024-12-17T00:00:00.000000000",
          "2024-12-18T00:00:00.000000000",
          "2024-12-19T00:00:00.000000000",
          "2024-12-20T00:00:00.000000000",
          "2024-12-23T00:00:00.000000000",
          "2024-12-24T00:00:00.000000000",
          "2024-12-26T00:00:00.000000000",
          "2024-12-27T00:00:00.000000000",
          "2024-12-30T00:00:00.000000000",
          "2024-12-31T00:00:00.000000000",
          "2025-01-02T00:00:00.000000000",
          "2025-01-03T00:00:00.000000000",
          "2025-01-06T00:00:00.000000000",
          "2025-01-07T00:00:00.000000000",
          "2025-01-08T00:00:00.000000000",
          "2025-01-10T00:00:00.000000000",
          "2025-01-13T00:00:00.000000000",
          "2025-01-14T00:00:00.000000000",
          "2025-01-15T00:00:00.000000000",
          "2025-01-16T00:00:00.000000000",
          "2025-01-17T00:00:00.000000000",
          "2025-01-21T00:00:00.000000000",
          "2025-01-22T00:00:00.000000000",
          "2025-01-23T00:00:00.000000000",
          "2025-01-24T00:00:00.000000000",
          "2025-01-27T00:00:00.000000000",
          "2025-01-28T00:00:00.000000000",
          "2025-01-29T00:00:00.000000000",
          "2025-01-30T00:00:00.000000000",
          "2025-01-31T00:00:00.000000000",
          "2025-02-03T00:00:00.000000000",
          "2025-02-04T00:00:00.000000000",
          "2025-02-05T00:00:00.000000000",
          "2025-02-06T00:00:00.000000000",
          "2025-02-07T00:00:00.000000000",
          "2025-02-10T00:00:00.000000000",
          "2025-02-11T00:00:00.000000000",
          "2025-02-12T00:00:00.000000000",
          "2025-02-13T00:00:00.000000000",
          "2025-02-14T00:00:00.000000000",
          "2025-02-18T00:00:00.000000000",
          "2025-02-19T00:00:00.000000000",
          "2025-02-20T00:00:00.000000000",
          "2025-02-21T00:00:00.000000000",
          "2025-02-24T00:00:00.000000000",
          "2025-02-25T00:00:00.000000000",
          "2025-02-26T00:00:00.000000000",
          "2025-02-27T00:00:00.000000000",
          "2025-02-28T00:00:00.000000000",
          "2025-03-03T00:00:00.000000000",
          "2025-03-04T00:00:00.000000000",
          "2025-03-05T00:00:00.000000000",
          "2025-03-06T00:00:00.000000000",
          "2025-03-07T00:00:00.000000000",
          "2025-03-10T00:00:00.000000000",
          "2025-03-11T00:00:00.000000000",
          "2025-03-12T00:00:00.000000000",
          "2025-03-13T00:00:00.000000000",
          "2025-03-14T00:00:00.000000000",
          "2025-03-17T00:00:00.000000000",
          "2025-03-18T00:00:00.000000000",
          "2025-03-19T00:00:00.000000000",
          "2025-03-20T00:00:00.000000000",
          "2025-03-21T00:00:00.000000000",
          "2025-03-24T00:00:00.000000000",
          "2025-03-25T00:00:00.000000000",
          "2025-03-26T00:00:00.000000000",
          "2025-03-27T00:00:00.000000000",
          "2025-03-28T00:00:00.000000000",
          "2025-03-31T00:00:00.000000000",
          "2025-04-01T00:00:00.000000000",
          "2025-04-02T00:00:00.000000000",
          "2025-04-03T00:00:00.000000000",
          "2025-04-04T00:00:00.000000000",
          "2025-04-07T00:00:00.000000000",
          "2025-04-08T00:00:00.000000000",
          "2025-04-09T00:00:00.000000000",
          "2025-04-10T00:00:00.000000000",
          "2025-04-11T00:00:00.000000000",
          "2025-04-14T00:00:00.000000000",
          "2025-04-15T00:00:00.000000000",
          "2025-04-16T00:00:00.000000000",
          "2025-04-17T00:00:00.000000000",
          "2025-04-21T00:00:00.000000000",
          "2025-04-22T00:00:00.000000000",
          "2025-04-23T00:00:00.000000000",
          "2025-04-24T00:00:00.000000000",
          "2025-04-25T00:00:00.000000000",
          "2025-04-28T00:00:00.000000000",
          "2025-04-29T00:00:00.000000000",
          "2025-04-30T00:00:00.000000000",
          "2025-05-01T00:00:00.000000000",
          "2025-05-02T00:00:00.000000000",
          "2025-05-05T00:00:00.000000000",
          "2025-05-06T00:00:00.000000000",
          "2025-05-07T00:00:00.000000000",
          "2025-05-08T00:00:00.000000000",
          "2025-05-09T00:00:00.000000000",
          "2025-05-12T00:00:00.000000000",
          "2025-05-13T00:00:00.000000000",
          "2025-05-14T00:00:00.000000000",
          "2025-05-15T00:00:00.000000000",
          "2025-05-16T00:00:00.000000000",
          "2025-05-19T00:00:00.000000000",
          "2025-05-20T00:00:00.000000000",
          "2025-05-21T00:00:00.000000000",
          "2025-05-22T00:00:00.000000000",
          "2025-05-23T00:00:00.000000000",
          "2025-05-27T00:00:00.000000000",
          "2025-05-28T00:00:00.000000000",
          "2025-05-29T00:00:00.000000000",
          "2025-05-30T00:00:00.000000000",
          "2025-06-02T00:00:00.000000000",
          "2025-06-03T00:00:00.000000000",
          "2025-06-04T00:00:00.000000000",
          "2025-06-05T00:00:00.000000000",
          "2025-06-06T00:00:00.000000000",
          "2025-06-09T00:00:00.000000000",
          "2025-06-10T00:00:00.000000000",
          "2025-06-11T00:00:00.000000000",
          "2025-06-12T00:00:00.000000000",
          "2025-06-13T00:00:00.000000000",
          "2025-06-16T00:00:00.000000000",
          "2025-06-17T00:00:00.000000000",
          "2025-06-18T00:00:00.000000000",
          "2025-06-20T00:00:00.000000000",
          "2025-06-23T00:00:00.000000000",
          "2025-06-24T00:00:00.000000000",
          "2025-06-25T00:00:00.000000000",
          "2025-06-26T00:00:00.000000000",
          "2025-06-27T00:00:00.000000000",
          "2025-06-30T00:00:00.000000000",
          "2025-07-01T00:00:00.000000000",
          "2025-07-02T00:00:00.000000000",
          "2025-07-03T00:00:00.000000000",
          "2025-07-07T00:00:00.000000000",
          "2025-07-08T00:00:00.000000000",
          "2025-07-09T00:00:00.000000000",
          "2025-07-10T00:00:00.000000000",
          "2025-07-11T00:00:00.000000000",
          "2025-07-14T00:00:00.000000000",
          "2025-07-15T00:00:00.000000000",
          "2025-07-16T00:00:00.000000000",
          "2025-07-17T00:00:00.000000000",
          "2025-07-18T00:00:00.000000000",
          "2025-07-21T00:00:00.000000000",
          "2025-07-22T00:00:00.000000000",
          "2025-07-23T00:00:00.000000000",
          "2025-07-24T00:00:00.000000000",
          "2025-07-25T00:00:00.000000000",
          "2025-07-28T00:00:00.000000000",
          "2025-07-29T00:00:00.000000000",
          "2025-07-30T00:00:00.000000000",
          "2025-07-31T00:00:00.000000000",
          "2025-08-01T00:00:00.000000000",
          "2025-08-04T00:00:00.000000000",
          "2025-08-05T00:00:00.000000000",
          "2025-08-06T00:00:00.000000000",
          "2025-08-07T00:00:00.000000000",
          "2025-08-08T00:00:00.000000000",
          "2025-08-11T00:00:00.000000000",
          "2025-08-12T00:00:00.000000000",
          "2025-08-13T00:00:00.000000000",
          "2025-08-14T00:00:00.000000000",
          "2025-08-15T00:00:00.000000000",
          "2025-08-18T00:00:00.000000000",
          "2025-08-19T00:00:00.000000000",
          "2025-08-20T00:00:00.000000000",
          "2025-08-21T00:00:00.000000000",
          "2025-08-22T00:00:00.000000000",
          "2025-08-25T00:00:00.000000000",
          "2025-08-26T00:00:00.000000000",
          "2025-08-27T00:00:00.000000000",
          "2025-08-28T00:00:00.000000000",
          "2025-08-29T00:00:00.000000000",
          "2025-09-02T00:00:00.000000000",
          "2025-09-03T00:00:00.000000000",
          "2025-09-04T00:00:00.000000000",
          "2025-09-05T00:00:00.000000000",
          "2025-09-08T00:00:00.000000000",
          "2025-09-09T00:00:00.000000000",
          "2025-09-10T00:00:00.000000000",
          "2025-09-11T00:00:00.000000000",
          "2025-09-12T00:00:00.000000000",
          "2025-09-15T00:00:00.000000000",
          "2025-09-16T00:00:00.000000000",
          "2025-09-17T00:00:00.000000000",
          "2025-09-18T00:00:00.000000000",
          "2025-09-19T00:00:00.000000000",
          "2025-09-22T00:00:00.000000000",
          "2025-09-23T00:00:00.000000000",
          "2025-09-24T00:00:00.000000000",
          "2025-09-25T00:00:00.000000000",
          "2025-09-26T00:00:00.000000000",
          "2025-09-29T00:00:00.000000000",
          "2025-09-30T00:00:00.000000000",
          "2025-10-01T00:00:00.000000000",
          "2025-10-02T00:00:00.000000000",
          "2025-10-03T00:00:00.000000000",
          "2025-10-06T00:00:00.000000000",
          "2025-10-07T00:00:00.000000000",
          "2025-10-08T00:00:00.000000000",
          "2025-10-09T00:00:00.000000000",
          "2025-10-10T00:00:00.000000000",
          "2025-10-10T18:32:31.000000000",
          "2025-10-10T18:32:34.000000000",
          "2025-10-10T18:32:37.000000000",
          "2025-10-10T18:32:41.000000000",
          "2025-10-10T18:37:40.000000000",
          "2025-10-10T18:47:38.000000000"
         ],
         "y": {
          "bdata": "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",
          "dtype": "f8"
         }
        }
       ],
       "layout": {
        "template": {
         "data": {
          "bar": [
           {
            "error_x": {
             "color": "#2a3f5f"
            },
            "error_y": {
             "color": "#2a3f5f"
            },
            "marker": {
             "line": {
              "color": "white",
              "width": 0.5
             },
             "pattern": {
              "fillmode": "overlay",
              "size": 10,
              "solidity": 0.2
             }
            },
            "type": "bar"
           }
          ],
          "barpolar": [
           {
            "marker": {
             "line": {
              "color": "white",
              "width": 0.5
             },
             "pattern": {
              "fillmode": "overlay",
              "size": 10,
              "solidity": 0.2
             }
            },
            "type": "barpolar"
           }
          ],
          "carpet": [
           {
            "aaxis": {
             "endlinecolor": "#2a3f5f",
             "gridcolor": "#C8D4E3",
             "linecolor": "#C8D4E3",
             "minorgridcolor": "#C8D4E3",
             "startlinecolor": "#2a3f5f"
            },
            "baxis": {
             "endlinecolor": "#2a3f5f",
             "gridcolor": "#C8D4E3",
             "linecolor": "#C8D4E3",
             "minorgridcolor": "#C8D4E3",
             "startlinecolor": "#2a3f5f"
            },
            "type": "carpet"
           }
          ],
          "choropleth": [
           {
            "colorbar": {
             "outlinewidth": 0,
             "ticks": ""
            },
            "type": "choropleth"
           }
          ],
          "contour": [
           {
            "colorbar": {
             "outlinewidth": 0,
             "ticks": ""
            },
            "colorscale": [
             [
              0,
              "#0d0887"
             ],
             [
              0.1111111111111111,
              "#46039f"
             ],
             [
              0.2222222222222222,
              "#7201a8"
             ],
             [
              0.3333333333333333,
              "#9c179e"
             ],
             [
              0.4444444444444444,
              "#bd3786"
             ],
             [
              0.5555555555555556,
              "#d8576b"
             ],
             [
              0.6666666666666666,
              "#ed7953"
             ],
             [
              0.7777777777777778,
              "#fb9f3a"
             ],
             [
              0.8888888888888888,
              "#fdca26"
             ],
             [
              1,
              "#f0f921"
             ]
            ],
            "type": "contour"
           }
          ],
          "contourcarpet": [
           {
            "colorbar": {
             "outlinewidth": 0,
             "ticks": ""
            },
            "type": "contourcarpet"
           }
          ],
          "heatmap": [
           {
            "colorbar": {
             "outlinewidth": 0,
             "ticks": ""
            },
            "colorscale": [
             [
              0,
              "#0d0887"
             ],
             [
              0.1111111111111111,
              "#46039f"
             ],
             [
              0.2222222222222222,
              "#7201a8"
             ],
             [
              0.3333333333333333,
              "#9c179e"
             ],
             [
              0.4444444444444444,
              "#bd3786"
             ],
             [
              0.5555555555555556,
              "#d8576b"
             ],
             [
              0.6666666666666666,
              "#ed7953"
             ],
             [
              0.7777777777777778,
              "#fb9f3a"
             ],
             [
              0.8888888888888888,
              "#fdca26"
             ],
             [
              1,
              "#f0f921"
             ]
            ],
            "type": "heatmap"
           }
          ],
          "histogram": [
           {
            "marker": {
             "pattern": {
              "fillmode": "overlay",
              "size": 10,
              "solidity": 0.2
             }
            },
            "type": "histogram"
           }
          ],
          "histogram2d": [
           {
            "colorbar": {
             "outlinewidth": 0,
             "ticks": ""
            },
            "colorscale": [
             [
              0,
              "#0d0887"
             ],
             [
              0.1111111111111111,
              "#46039f"
             ],
             [
              0.2222222222222222,
              "#7201a8"
             ],
             [
              0.3333333333333333,
              "#9c179e"
             ],
             [
              0.4444444444444444,
              "#bd3786"
             ],
             [
              0.5555555555555556,
              "#d8576b"
             ],
             [
              0.6666666666666666,
              "#ed7953"
             ],
             [
              0.7777777777777778,
              "#fb9f3a"
             ],
             [
              0.8888888888888888,
              "#fdca26"
             ],
             [
              1,
              "#f0f921"
             ]
            ],
            "type": "histogram2d"
           }
          ],
          "histogram2dcontour": [
           {
            "colorbar": {
             "outlinewidth": 0,
             "ticks": ""
            },
            "colorscale": [
             [
              0,
              "#0d0887"
             ],
             [
              0.1111111111111111,
              "#46039f"
             ],
             [
              0.2222222222222222,
              "#7201a8"
             ],
             [
              0.3333333333333333,
              "#9c179e"
             ],
             [
              0.4444444444444444,
              "#bd3786"
             ],
             [
              0.5555555555555556,
              "#d8576b"
             ],
             [
              0.6666666666666666,
              "#ed7953"
             ],
             [
              0.7777777777777778,
              "#fb9f3a"
             ],
             [
              0.8888888888888888,
              "#fdca26"
             ],
             [
              1,
              "#f0f921"
             ]
            ],
            "type": "histogram2dcontour"
           }
          ],
          "mesh3d": [
           {
            "colorbar": {
             "outlinewidth": 0,
             "ticks": ""
            },
            "type": "mesh3d"
           }
          ],
          "parcoords": [
           {
            "line": {
             "colorbar": {
              "outlinewidth": 0,
              "ticks": ""
             }
            },
            "type": "parcoords"
           }
          ],
          "pie": [
           {
            "automargin": true,
            "type": "pie"
           }
          ],
          "scatter": [
           {
            "fillpattern": {
             "fillmode": "overlay",
             "size": 10,
             "solidity": 0.2
            },
            "type": "scatter"
           }
          ],
          "scatter3d": [
           {
            "line": {
             "colorbar": {
              "outlinewidth": 0,
              "ticks": ""
             }
            },
            "marker": {
             "colorbar": {
              "outlinewidth": 0,
              "ticks": ""
             }
            },
            "type": "scatter3d"
           }
          ],
          "scattercarpet": [
           {
            "marker": {
             "colorbar": {
              "outlinewidth": 0,
              "ticks": ""
             }
            },
            "type": "scattercarpet"
           }
          ],
          "scattergeo": [
           {
            "marker": {
             "colorbar": {
              "outlinewidth": 0,
              "ticks": ""
             }
            },
            "type": "scattergeo"
           }
          ],
          "scattergl": [
           {
            "marker": {
             "colorbar": {
              "outlinewidth": 0,
              "ticks": ""
             }
            },
            "type": "scattergl"
           }
          ],
          "scattermap": [
           {
            "marker": {
             "colorbar": {
              "outlinewidth": 0,
              "ticks": ""
             }
            },
            "type": "scattermap"
           }
          ],
          "scattermapbox": [
           {
            "marker": {
             "colorbar": {
              "outlinewidth": 0,
              "ticks": ""
             }
            },
            "type": "scattermapbox"
           }
          ],
          "scatterpolar": [
           {
            "marker": {
             "colorbar": {
              "outlinewidth": 0,
              "ticks": ""
             }
            },
            "type": "scatterpolar"
           }
          ],
          "scatterpolargl": [
           {
            "marker": {
             "colorbar": {
              "outlinewidth": 0,
              "ticks": ""
             }
            },
            "type": "scatterpolargl"
           }
          ],
          "scatterternary": [
           {
            "marker": {
             "colorbar": {
              "outlinewidth": 0,
              "ticks": ""
             }
            },
            "type": "scatterternary"
           }
          ],
          "surface": [
           {
            "colorbar": {
             "outlinewidth": 0,
             "ticks": ""
            },
            "colorscale": [
             [
              0,
              "#0d0887"
             ],
             [
              0.1111111111111111,
              "#46039f"
             ],
             [
              0.2222222222222222,
              "#7201a8"
             ],
             [
              0.3333333333333333,
              "#9c179e"
             ],
             [
              0.4444444444444444,
              "#bd3786"
             ],
             [
              0.5555555555555556,
              "#d8576b"
             ],
             [
              0.6666666666666666,
              "#ed7953"
             ],
             [
              0.7777777777777778,
              "#fb9f3a"
             ],
             [
              0.8888888888888888,
              "#fdca26"
             ],
             [
              1,
              "#f0f921"
             ]
            ],
            "type": "surface"
           }
          ],
          "table": [
           {
            "cells": {
             "fill": {
              "color": "#EBF0F8"
             },
             "line": {
              "color": "white"
             }
            },
            "header": {
             "fill": {
              "color": "#C8D4E3"
             },
             "line": {
              "color": "white"
             }
            },
            "type": "table"
           }
          ]
         },
         "layout": {
          "annotationdefaults": {
           "arrowcolor": "#2a3f5f",
           "arrowhead": 0,
           "arrowwidth": 1
          },
          "autotypenumbers": "strict",
          "coloraxis": {
           "colorbar": {
            "outlinewidth": 0,
            "ticks": ""
           }
          },
          "colorscale": {
           "diverging": [
            [
             0,
             "#8e0152"
            ],
            [
             0.1,
             "#c51b7d"
            ],
            [
             0.2,
             "#de77ae"
            ],
            [
             0.3,
             "#f1b6da"
            ],
            [
             0.4,
             "#fde0ef"
            ],
            [
             0.5,
             "#f7f7f7"
            ],
            [
             0.6,
             "#e6f5d0"
            ],
            [
             0.7,
             "#b8e186"
            ],
            [
             0.8,
             "#7fbc41"
            ],
            [
             0.9,
             "#4d9221"
            ],
            [
             1,
             "#276419"
            ]
           ],
           "sequential": [
            [
             0,
             "#0d0887"
            ],
            [
             0.1111111111111111,
             "#46039f"
            ],
            [
             0.2222222222222222,
             "#7201a8"
            ],
            [
             0.3333333333333333,
             "#9c179e"
            ],
            [
             0.4444444444444444,
             "#bd3786"
            ],
            [
             0.5555555555555556,
             "#d8576b"
            ],
            [
             0.6666666666666666,
             "#ed7953"
            ],
            [
             0.7777777777777778,
             "#fb9f3a"
            ],
            [
             0.8888888888888888,
             "#fdca26"
            ],
            [
             1,
             "#f0f921"
            ]
           ],
           "sequentialminus": [
            [
             0,
             "#0d0887"
            ],
            [
             0.1111111111111111,
             "#46039f"
            ],
            [
             0.2222222222222222,
             "#7201a8"
            ],
            [
             0.3333333333333333,
             "#9c179e"
            ],
            [
             0.4444444444444444,
             "#bd3786"
            ],
            [
             0.5555555555555556,
             "#d8576b"
            ],
            [
             0.6666666666666666,
             "#ed7953"
            ],
            [
             0.7777777777777778,
             "#fb9f3a"
            ],
            [
             0.8888888888888888,
             "#fdca26"
            ],
            [
             1,
             "#f0f921"
            ]
           ]
          },
          "colorway": [
           "#636efa",
           "#EF553B",
           "#00cc96",
           "#ab63fa",
           "#FFA15A",
           "#19d3f3",
           "#FF6692",
           "#B6E880",
           "#FF97FF",
           "#FECB52"
          ],
          "font": {
           "color": "#2a3f5f"
          },
          "geo": {
           "bgcolor": "white",
           "lakecolor": "white",
           "landcolor": "white",
           "showlakes": true,
           "showland": true,
           "subunitcolor": "#C8D4E3"
          },
          "hoverlabel": {
           "align": "left"
          },
          "hovermode": "closest",
          "mapbox": {
           "style": "light"
          },
          "paper_bgcolor": "white",
          "plot_bgcolor": "white",
          "polar": {
           "angularaxis": {
            "gridcolor": "#EBF0F8",
            "linecolor": "#EBF0F8",
            "ticks": ""
           },
           "bgcolor": "white",
           "radialaxis": {
            "gridcolor": "#EBF0F8",
            "linecolor": "#EBF0F8",
            "ticks": ""
           }
          },
          "scene": {
           "xaxis": {
            "backgroundcolor": "white",
            "gridcolor": "#DFE8F3",
            "gridwidth": 2,
            "linecolor": "#EBF0F8",
            "showbackground": true,
            "ticks": "",
            "zerolinecolor": "#EBF0F8"
           },
           "yaxis": {
            "backgroundcolor": "white",
            "gridcolor": "#DFE8F3",
            "gridwidth": 2,
            "linecolor": "#EBF0F8",
            "showbackground": true,
            "ticks": "",
            "zerolinecolor": "#EBF0F8"
           },
           "zaxis": {
            "backgroundcolor": "white",
            "gridcolor": "#DFE8F3",
            "gridwidth": 2,
            "linecolor": "#EBF0F8",
            "showbackground": true,
            "ticks": "",
            "zerolinecolor": "#EBF0F8"
           }
          },
          "shapedefaults": {
           "line": {
            "color": "#2a3f5f"
           }
          },
          "ternary": {
           "aaxis": {
            "gridcolor": "#DFE8F3",
            "linecolor": "#A2B1C6",
            "ticks": ""
           },
           "baxis": {
            "gridcolor": "#DFE8F3",
            "linecolor": "#A2B1C6",
            "ticks": ""
           },
           "bgcolor": "white",
           "caxis": {
            "gridcolor": "#DFE8F3",
            "linecolor": "#A2B1C6",
            "ticks": ""
           }
          },
          "title": {
           "x": 0.05
          },
          "xaxis": {
           "automargin": true,
           "gridcolor": "#EBF0F8",
           "linecolor": "#EBF0F8",
           "ticks": "",
           "title": {
            "standoff": 15
           },
           "zerolinecolor": "#EBF0F8",
           "zerolinewidth": 2
          },
          "yaxis": {
           "automargin": true,
           "gridcolor": "#EBF0F8",
           "linecolor": "#EBF0F8",
           "ticks": "",
           "title": {
            "standoff": 15
           },
           "zerolinecolor": "#EBF0F8",
           "zerolinewidth": 2
          }
         }
        },
        "title": {
         "text": "Put/Call Options Ratio"
        },
        "xaxis": {
         "title": {
          "text": "Date"
         }
        },
        "yaxis": {
         "range": [
          0.5403248778154851,
          1.0467843598608138
         ],
         "title": {
          "text": "Score"
         }
        }
       }
      }
     },
     "metadata": {},
     "output_type": "display_data"
    }
   ],
   "source": [
    "#plot\n",
    "graph_data = [\n",
    "    # 'fear_and_greed_historical': ['Fear & Greed Index Over Time', False], regra mais simples\n",
    "    ['fear_and_greed_historical', 'Historical Fear & Greed Index', 'fear_and_greed_historical_rating', None, None],\n",
    "    ['market_momentum_sp500', 'S&P 500 Market Momentum', 'sp500_momentum_rating', 'market_momentum_sp125', 'SP500 125 MA'],\n",
    "    ['market_volatility_vix', 'Market Volatility (VIX) Minus 50-day MA', 'vix_momentum_rating', 'market_volatility_vix_50', 'VIX 50 MA'],\n",
    "    ['safe_haven_demand', 'Safe Haven Demand', 'safe_haven_demand_rating', None, None],\n",
    "    ['junk_bond_demand', 'Junk Bond Demand', 'junk_bond_demand_rating', None, None],\n",
    "    ['put_call_options', 'Put/Call Options Ratio', 'put_call_options_rating', None, None]\n",
    "]\n",
    "\n",
    "for data in graph_data:\n",
    "    plot_data(df, key=data[0], title=data[1], rating_key=data[2], complementary_key=data[3], title_comp_key=data[4])"
   ]
  }
 ],
 "metadata": {
  "kernelspec": {
   "display_name": "base",
   "language": "python",
   "name": "python3"
  },
  "language_info": {
   "codemirror_mode": {
    "name": "ipython",
    "version": 3
   },
   "file_extension": ".py",
   "mimetype": "text/x-python",
   "name": "python",
   "nbconvert_exporter": "python",
   "pygments_lexer": "ipython3",
   "version": "3.11.5"
  }
 },
 "nbformat": 4,
 "nbformat_minor": 5
}
